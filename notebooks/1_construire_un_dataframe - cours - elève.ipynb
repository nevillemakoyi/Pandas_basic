{
 "cells": [
  {
   "cell_type": "markdown",
   "id": "c1620952",
   "metadata": {},
   "source": [
    "<h1> Créer et consulter une série Pandas </h1>\n",
    "\n",
    "\n",
    "<b> Qu'est-ce qu'une série Pandas ? </b>\n",
    "\n",
    "Une série Pandas est un tableau unidimensionnel étiqueté capable de contenir des données de tout type (entier, chaîne, flottant, objets Python, etc.). \n",
    "La série est l'une des structures de données de base de Pandas."
   ]
  },
  {
   "cell_type": "code",
   "execution_count": 26,
   "id": "08dd8819",
   "metadata": {},
   "outputs": [],
   "source": [
    "import pandas as pd"
   ]
  },
  {
   "cell_type": "markdown",
   "id": "a67bceb5",
   "metadata": {},
   "source": [
    "Créer une série Pandas à partir d'une liste"
   ]
  },
  {
   "cell_type": "code",
   "execution_count": 27,
   "id": "587c4bf8",
   "metadata": {},
   "outputs": [
    {
     "name": "stdout",
     "output_type": "stream",
     "text": [
      "0    10\n",
      "1    20\n",
      "2    30\n",
      "3    40\n",
      "4    50\n",
      "dtype: int64\n"
     ]
    }
   ],
   "source": [
    "liste_exemple = [10, 20, 30, 40, 50]\n",
    "serie_exemple =pd.Series(liste_exemple)\n",
    "print(serie_exemple)"
   ]
  },
  {
   "cell_type": "markdown",
   "id": "c3503a2a",
   "metadata": {},
   "source": [
    "Accéder à un élément d'une série Pandas"
   ]
  },
  {
   "cell_type": "code",
   "execution_count": 28,
   "id": "64e99768",
   "metadata": {},
   "outputs": [
    {
     "data": {
      "text/plain": [
       "10"
      ]
     },
     "execution_count": 28,
     "metadata": {},
     "output_type": "execute_result"
    }
   ],
   "source": [
    "serie_exemple[0]"
   ]
  },
  {
   "cell_type": "markdown",
   "id": "e735b21b",
   "metadata": {},
   "source": [
    "Créer une série Pandas avec un index personnalisé"
   ]
  },
  {
   "cell_type": "code",
   "execution_count": 29,
   "id": "50d68309",
   "metadata": {},
   "outputs": [
    {
     "name": "stdout",
     "output_type": "stream",
     "text": [
      "a    10\n",
      "b    20\n",
      "c    30\n",
      "d    40\n",
      "e    50\n",
      "dtype: int64\n"
     ]
    }
   ],
   "source": [
    "index_personnalise = ['a', 'b', 'c', 'd', 'e']\n",
    "serie_exemple = pd.Series(liste_exemple, index= index_personnalise)\n",
    "print(serie_exemple)"
   ]
  },
  {
   "cell_type": "markdown",
   "id": "a9f30610",
   "metadata": {},
   "source": [
    "Accéder à un élément d'une série avec un index personnalisé"
   ]
  },
  {
   "cell_type": "code",
   "execution_count": 30,
   "id": "e69ff3f7",
   "metadata": {},
   "outputs": [
    {
     "data": {
      "text/plain": [
       "10"
      ]
     },
     "execution_count": 30,
     "metadata": {},
     "output_type": "execute_result"
    }
   ],
   "source": [
    "serie_exemple['a']"
   ]
  },
  {
   "cell_type": "markdown",
   "id": "8ba7a54e",
   "metadata": {},
   "source": [
    "Exemple avec des données de ventes pour un produit"
   ]
  },
  {
   "cell_type": "code",
   "execution_count": 31,
   "id": "fa8a6045",
   "metadata": {},
   "outputs": [
    {
     "name": "stdout",
     "output_type": "stream",
     "text": [
      "     Ventes\n",
      "Jan     150\n",
      "Fev     200\n",
      "Mar     250\n",
      "Avr     300\n",
      "Mai     350\n",
      "Jun     400\n"
     ]
    }
   ],
   "source": [
    "ventes_produit = [150, 200, 250, 300, 350, 400]\n",
    "mois = ['Jan', 'Fev', 'Mar', 'Avr', 'Mai', 'Jun']\n",
    "\n",
    "sales_df = pd.DataFrame(ventes_produit, index=mois, columns=['Ventes'])\n",
    "print(sales_df)"
   ]
  },
  {
   "cell_type": "markdown",
   "id": "9ead3e74",
   "metadata": {},
   "source": [
    "<h1> Créer un dataframe pandas à partir de liste ou d'un dictionnaire </h1>\n",
    "\n",
    "<b> Qu'est-ce qu'un dataframe ? </b>\n",
    "\n",
    "Un DataFrame est une structure de données bidimensionnelle, potentiellement hétérogène, avec des axes étiquetés (lignes et colonnes). <br>\n",
    "Pensez à un DataFrame comme à une table SQL, ou à un tableau Excel.\n",
    "\n",
    "<b> Créer un dataframe à partir d'un dictionnaire </b>"
   ]
  },
  {
   "cell_type": "code",
   "execution_count": 32,
   "id": "88d40504",
   "metadata": {},
   "outputs": [
    {
     "name": "stdout",
     "output_type": "stream",
     "text": [
      "     Fruit  Ventes\n",
      "0   Pommes     100\n",
      "1  Oranges     150\n",
      "2  Bananes     200\n",
      "3  Fraises     250\n"
     ]
    }
   ],
   "source": [
    "import pandas as pd\n",
    "\n",
    "data = {\n",
    "    'Fruit': ['Pommes', 'Oranges', 'Bananes', 'Fraises'],\n",
    "    'Ventes': [100, 150, 200, 250,]\n",
    "}\n",
    "df = pd.DataFrame(data)\n",
    "print(df) "
   ]
  },
  {
   "cell_type": "code",
   "execution_count": 33,
   "id": "c4f95d85",
   "metadata": {},
   "outputs": [
    {
     "name": "stdout",
     "output_type": "stream",
     "text": [
      "     Fruit  Ventes  Stock\n",
      "0   Pommes     100    NaN\n",
      "1  Oranges     150    NaN\n",
      "2  Bananes     200   50.0\n",
      "3  Fraises     250    NaN\n"
     ]
    }
   ],
   "source": [
    "data_varie = [\n",
    "    {'Fruit': 'Pommes', 'Ventes': 100},\n",
    "    {'Fruit': 'Oranges', 'Ventes': 150},\n",
    "    {'Fruit': 'Bananes', 'Ventes': 200, 'Stock': 50},\n",
    "    {'Fruit': 'Fraises', 'Ventes': 250}\n",
    "]\n",
    "\n",
    "df_ventes_varie = pd.DataFrame(data_varie)\n",
    "print(df_ventes_varie)"
   ]
  },
  {
   "cell_type": "markdown",
   "id": "f68a5d49",
   "metadata": {},
   "source": [
    "<b> Créer un dataFrame à partir de listes </b>"
   ]
  },
  {
   "cell_type": "code",
   "execution_count": 34,
   "id": "11d37151",
   "metadata": {},
   "outputs": [],
   "source": [
    "ventes_produit_A = [150, 200, 250, 300, 350, 400]\n",
    "ventes_produit_B = [100, 150, 200, 250, 300, 350]\n",
    "ventes_produit_C = [50, 100, 150, 200, 250, 300]\n",
    "\n",
    "# Création des séries Pandas pour chaque produit\n",
    "mois = ['Jan', 'Fev', 'Mar', 'Avr', 'Mai', 'Jun']"
   ]
  },
  {
   "cell_type": "code",
   "execution_count": 35,
   "id": "9eb3d6a8",
   "metadata": {},
   "outputs": [
    {
     "data": {
      "text/plain": [
       "[('Jan', 150, 100, 50),\n",
       " ('Fev', 200, 150, 100),\n",
       " ('Mar', 250, 200, 150),\n",
       " ('Avr', 300, 250, 200),\n",
       " ('Mai', 350, 300, 250),\n",
       " ('Jun', 400, 350, 300)]"
      ]
     },
     "execution_count": 35,
     "metadata": {},
     "output_type": "execute_result"
    }
   ],
   "source": [
    "list(zip(mois,ventes_produit_A,ventes_produit_B,ventes_produit_C))"
   ]
  },
  {
   "cell_type": "code",
   "execution_count": 36,
   "id": "641ee977",
   "metadata": {},
   "outputs": [
    {
     "data": {
      "application/vnd.microsoft.datawrangler.viewer.v0+json": {
       "columns": [
        {
         "name": "mois",
         "rawType": "object",
         "type": "string"
        },
        {
         "name": "produit A",
         "rawType": "int64",
         "type": "integer"
        },
        {
         "name": "produit B",
         "rawType": "int64",
         "type": "integer"
        },
        {
         "name": "produit C",
         "rawType": "int64",
         "type": "integer"
        }
       ],
       "ref": "a8944b08-23fd-4ce4-9695-787dd56af0ac",
       "rows": [
        [
         "Jan",
         "150",
         "100",
         "50"
        ],
        [
         "Fev",
         "200",
         "150",
         "100"
        ],
        [
         "Mar",
         "250",
         "200",
         "150"
        ],
        [
         "Avr",
         "300",
         "250",
         "200"
        ],
        [
         "Mai",
         "350",
         "300",
         "250"
        ],
        [
         "Jun",
         "400",
         "350",
         "300"
        ]
       ],
       "shape": {
        "columns": 3,
        "rows": 6
       }
      },
      "text/html": [
       "<div>\n",
       "<style scoped>\n",
       "    .dataframe tbody tr th:only-of-type {\n",
       "        vertical-align: middle;\n",
       "    }\n",
       "\n",
       "    .dataframe tbody tr th {\n",
       "        vertical-align: top;\n",
       "    }\n",
       "\n",
       "    .dataframe thead th {\n",
       "        text-align: right;\n",
       "    }\n",
       "</style>\n",
       "<table border=\"1\" class=\"dataframe\">\n",
       "  <thead>\n",
       "    <tr style=\"text-align: right;\">\n",
       "      <th></th>\n",
       "      <th>produit A</th>\n",
       "      <th>produit B</th>\n",
       "      <th>produit C</th>\n",
       "    </tr>\n",
       "    <tr>\n",
       "      <th>mois</th>\n",
       "      <th></th>\n",
       "      <th></th>\n",
       "      <th></th>\n",
       "    </tr>\n",
       "  </thead>\n",
       "  <tbody>\n",
       "    <tr>\n",
       "      <th>Jan</th>\n",
       "      <td>150</td>\n",
       "      <td>100</td>\n",
       "      <td>50</td>\n",
       "    </tr>\n",
       "    <tr>\n",
       "      <th>Fev</th>\n",
       "      <td>200</td>\n",
       "      <td>150</td>\n",
       "      <td>100</td>\n",
       "    </tr>\n",
       "    <tr>\n",
       "      <th>Mar</th>\n",
       "      <td>250</td>\n",
       "      <td>200</td>\n",
       "      <td>150</td>\n",
       "    </tr>\n",
       "    <tr>\n",
       "      <th>Avr</th>\n",
       "      <td>300</td>\n",
       "      <td>250</td>\n",
       "      <td>200</td>\n",
       "    </tr>\n",
       "    <tr>\n",
       "      <th>Mai</th>\n",
       "      <td>350</td>\n",
       "      <td>300</td>\n",
       "      <td>250</td>\n",
       "    </tr>\n",
       "    <tr>\n",
       "      <th>Jun</th>\n",
       "      <td>400</td>\n",
       "      <td>350</td>\n",
       "      <td>300</td>\n",
       "    </tr>\n",
       "  </tbody>\n",
       "</table>\n",
       "</div>"
      ],
      "text/plain": [
       "      produit A  produit B  produit C\n",
       "mois                                 \n",
       "Jan         150        100         50\n",
       "Fev         200        150        100\n",
       "Mar         250        200        150\n",
       "Avr         300        250        200\n",
       "Mai         350        300        250\n",
       "Jun         400        350        300"
      ]
     },
     "execution_count": 36,
     "metadata": {},
     "output_type": "execute_result"
    }
   ],
   "source": [
    "df_ventes = pd.DataFrame(list(zip(mois,ventes_produit_A,ventes_produit_B,ventes_produit_C)), columns=['mois','produit A','produit B', 'produit C'])\n",
    "df_ventes.set_index('mois')"
   ]
  },
  {
   "cell_type": "markdown",
   "id": "e4cb658e",
   "metadata": {},
   "source": [
    "<h1> Gestion de l'index dans un dataframe </h1>\n",
    "\n",
    "Imaginons que nous ayons un DataFrame représentant les ventes mensuelles de différents produits"
   ]
  },
  {
   "cell_type": "code",
   "execution_count": 37,
   "id": "6f48de1f",
   "metadata": {},
   "outputs": [
    {
     "data": {
      "application/vnd.microsoft.datawrangler.viewer.v0+json": {
       "columns": [
        {
         "name": "Mois",
         "rawType": "object",
         "type": "string"
        },
        {
         "name": "Produit A",
         "rawType": "int64",
         "type": "integer"
        },
        {
         "name": "Produit B",
         "rawType": "int64",
         "type": "integer"
        }
       ],
       "ref": "1ffd124c-dd29-4ac2-8c3b-0c0a8a6e34d5",
       "rows": [
        [
         "Janvier",
         "100",
         "90"
        ],
        [
         "Février",
         "150",
         "120"
        ],
        [
         "Mars",
         "200",
         "150"
        ],
        [
         "Avril",
         "250",
         "180"
        ]
       ],
       "shape": {
        "columns": 2,
        "rows": 4
       }
      },
      "text/html": [
       "<div>\n",
       "<style scoped>\n",
       "    .dataframe tbody tr th:only-of-type {\n",
       "        vertical-align: middle;\n",
       "    }\n",
       "\n",
       "    .dataframe tbody tr th {\n",
       "        vertical-align: top;\n",
       "    }\n",
       "\n",
       "    .dataframe thead th {\n",
       "        text-align: right;\n",
       "    }\n",
       "</style>\n",
       "<table border=\"1\" class=\"dataframe\">\n",
       "  <thead>\n",
       "    <tr style=\"text-align: right;\">\n",
       "      <th></th>\n",
       "      <th>Produit A</th>\n",
       "      <th>Produit B</th>\n",
       "    </tr>\n",
       "    <tr>\n",
       "      <th>Mois</th>\n",
       "      <th></th>\n",
       "      <th></th>\n",
       "    </tr>\n",
       "  </thead>\n",
       "  <tbody>\n",
       "    <tr>\n",
       "      <th>Janvier</th>\n",
       "      <td>100</td>\n",
       "      <td>90</td>\n",
       "    </tr>\n",
       "    <tr>\n",
       "      <th>Février</th>\n",
       "      <td>150</td>\n",
       "      <td>120</td>\n",
       "    </tr>\n",
       "    <tr>\n",
       "      <th>Mars</th>\n",
       "      <td>200</td>\n",
       "      <td>150</td>\n",
       "    </tr>\n",
       "    <tr>\n",
       "      <th>Avril</th>\n",
       "      <td>250</td>\n",
       "      <td>180</td>\n",
       "    </tr>\n",
       "  </tbody>\n",
       "</table>\n",
       "</div>"
      ],
      "text/plain": [
       "         Produit A  Produit B\n",
       "Mois                         \n",
       "Janvier        100         90\n",
       "Février        150        120\n",
       "Mars           200        150\n",
       "Avril          250        180"
      ]
     },
     "execution_count": 37,
     "metadata": {},
     "output_type": "execute_result"
    }
   ],
   "source": [
    "import pandas as pd\n",
    "\n",
    "data = {\n",
    "    'Mois': ['Janvier', 'Février', 'Mars', 'Avril'],\n",
    "    'Produit A': [100, 150, 200, 250],\n",
    "    'Produit B': [90, 120, 150, 180]\n",
    "}\n",
    "\n",
    "df_ventes = pd.DataFrame(data)\n",
    "df_ventes = df_ventes.set_index('Mois')\n",
    "df_ventes\n"
   ]
  },
  {
   "cell_type": "markdown",
   "id": "233c55c7",
   "metadata": {},
   "source": [
    "Lorsque nous créons un DataFrame, Pandas attribue automatiquement un index numérique à chaque ligne."
   ]
  },
  {
   "cell_type": "code",
   "execution_count": 38,
   "id": "6ec96f6e",
   "metadata": {},
   "outputs": [
    {
     "data": {
      "application/vnd.microsoft.datawrangler.viewer.v0+json": {
       "columns": [
        {
         "name": "Mois",
         "rawType": "object",
         "type": "string"
        },
        {
         "name": "Produit A",
         "rawType": "int64",
         "type": "integer"
        },
        {
         "name": "Produit B",
         "rawType": "int64",
         "type": "integer"
        }
       ],
       "ref": "7376c374-fc26-48e1-b20d-eef809dc0d43",
       "rows": [
        [
         "Janvier",
         "100",
         "90"
        ],
        [
         "Février",
         "150",
         "120"
        ],
        [
         "Mars",
         "200",
         "150"
        ],
        [
         "Avril",
         "250",
         "180"
        ]
       ],
       "shape": {
        "columns": 2,
        "rows": 4
       }
      },
      "text/html": [
       "<div>\n",
       "<style scoped>\n",
       "    .dataframe tbody tr th:only-of-type {\n",
       "        vertical-align: middle;\n",
       "    }\n",
       "\n",
       "    .dataframe tbody tr th {\n",
       "        vertical-align: top;\n",
       "    }\n",
       "\n",
       "    .dataframe thead th {\n",
       "        text-align: right;\n",
       "    }\n",
       "</style>\n",
       "<table border=\"1\" class=\"dataframe\">\n",
       "  <thead>\n",
       "    <tr style=\"text-align: right;\">\n",
       "      <th></th>\n",
       "      <th>Produit A</th>\n",
       "      <th>Produit B</th>\n",
       "    </tr>\n",
       "    <tr>\n",
       "      <th>Mois</th>\n",
       "      <th></th>\n",
       "      <th></th>\n",
       "    </tr>\n",
       "  </thead>\n",
       "  <tbody>\n",
       "    <tr>\n",
       "      <th>Janvier</th>\n",
       "      <td>100</td>\n",
       "      <td>90</td>\n",
       "    </tr>\n",
       "    <tr>\n",
       "      <th>Février</th>\n",
       "      <td>150</td>\n",
       "      <td>120</td>\n",
       "    </tr>\n",
       "    <tr>\n",
       "      <th>Mars</th>\n",
       "      <td>200</td>\n",
       "      <td>150</td>\n",
       "    </tr>\n",
       "    <tr>\n",
       "      <th>Avril</th>\n",
       "      <td>250</td>\n",
       "      <td>180</td>\n",
       "    </tr>\n",
       "  </tbody>\n",
       "</table>\n",
       "</div>"
      ],
      "text/plain": [
       "         Produit A  Produit B\n",
       "Mois                         \n",
       "Janvier        100         90\n",
       "Février        150        120\n",
       "Mars           200        150\n",
       "Avril          250        180"
      ]
     },
     "execution_count": 38,
     "metadata": {},
     "output_type": "execute_result"
    }
   ],
   "source": [
    "df_ventes"
   ]
  },
  {
   "cell_type": "code",
   "execution_count": 39,
   "id": "e686438a",
   "metadata": {},
   "outputs": [
    {
     "data": {
      "application/vnd.microsoft.datawrangler.viewer.v0+json": {
       "columns": [
        {
         "name": "Mois",
         "rawType": "object",
         "type": "string"
        },
        {
         "name": "Produit A",
         "rawType": "int64",
         "type": "integer"
        }
       ],
       "ref": "42c16987-d525-4a9c-87d4-2c5247d33ab5",
       "rows": [
        [
         "Janvier",
         "100"
        ]
       ],
       "shape": {
        "columns": 1,
        "rows": 1
       }
      },
      "text/html": [
       "<div>\n",
       "<style scoped>\n",
       "    .dataframe tbody tr th:only-of-type {\n",
       "        vertical-align: middle;\n",
       "    }\n",
       "\n",
       "    .dataframe tbody tr th {\n",
       "        vertical-align: top;\n",
       "    }\n",
       "\n",
       "    .dataframe thead th {\n",
       "        text-align: right;\n",
       "    }\n",
       "</style>\n",
       "<table border=\"1\" class=\"dataframe\">\n",
       "  <thead>\n",
       "    <tr style=\"text-align: right;\">\n",
       "      <th></th>\n",
       "      <th>Produit A</th>\n",
       "    </tr>\n",
       "    <tr>\n",
       "      <th>Mois</th>\n",
       "      <th></th>\n",
       "    </tr>\n",
       "  </thead>\n",
       "  <tbody>\n",
       "    <tr>\n",
       "      <th>Janvier</th>\n",
       "      <td>100</td>\n",
       "    </tr>\n",
       "  </tbody>\n",
       "</table>\n",
       "</div>"
      ],
      "text/plain": [
       "         Produit A\n",
       "Mois              \n",
       "Janvier        100"
      ]
     },
     "execution_count": 39,
     "metadata": {},
     "output_type": "execute_result"
    }
   ],
   "source": [
    "df_ventes.loc[['Janvier'], ['Produit A']]"
   ]
  },
  {
   "cell_type": "markdown",
   "id": "abfec51e",
   "metadata": {},
   "source": [
    "Dans notre cas, il serait logique d'utiliser les mois comme index."
   ]
  },
  {
   "cell_type": "code",
   "execution_count": 40,
   "id": "7866d7a7",
   "metadata": {},
   "outputs": [
    {
     "data": {
      "application/vnd.microsoft.datawrangler.viewer.v0+json": {
       "columns": [
        {
         "name": "Mois",
         "rawType": "object",
         "type": "string"
        },
        {
         "name": "Produit A",
         "rawType": "int64",
         "type": "integer"
        },
        {
         "name": "Produit B",
         "rawType": "int64",
         "type": "integer"
        }
       ],
       "ref": "1673cb3f-9d58-4505-897a-902777add291",
       "rows": [
        [
         "Janvier",
         "100",
         "90"
        ],
        [
         "Février",
         "150",
         "120"
        ],
        [
         "Mars",
         "200",
         "150"
        ],
        [
         "Avril",
         "250",
         "180"
        ]
       ],
       "shape": {
        "columns": 2,
        "rows": 4
       }
      },
      "text/html": [
       "<div>\n",
       "<style scoped>\n",
       "    .dataframe tbody tr th:only-of-type {\n",
       "        vertical-align: middle;\n",
       "    }\n",
       "\n",
       "    .dataframe tbody tr th {\n",
       "        vertical-align: top;\n",
       "    }\n",
       "\n",
       "    .dataframe thead th {\n",
       "        text-align: right;\n",
       "    }\n",
       "</style>\n",
       "<table border=\"1\" class=\"dataframe\">\n",
       "  <thead>\n",
       "    <tr style=\"text-align: right;\">\n",
       "      <th></th>\n",
       "      <th>Produit A</th>\n",
       "      <th>Produit B</th>\n",
       "    </tr>\n",
       "    <tr>\n",
       "      <th>Mois</th>\n",
       "      <th></th>\n",
       "      <th></th>\n",
       "    </tr>\n",
       "  </thead>\n",
       "  <tbody>\n",
       "    <tr>\n",
       "      <th>Janvier</th>\n",
       "      <td>100</td>\n",
       "      <td>90</td>\n",
       "    </tr>\n",
       "    <tr>\n",
       "      <th>Février</th>\n",
       "      <td>150</td>\n",
       "      <td>120</td>\n",
       "    </tr>\n",
       "    <tr>\n",
       "      <th>Mars</th>\n",
       "      <td>200</td>\n",
       "      <td>150</td>\n",
       "    </tr>\n",
       "    <tr>\n",
       "      <th>Avril</th>\n",
       "      <td>250</td>\n",
       "      <td>180</td>\n",
       "    </tr>\n",
       "  </tbody>\n",
       "</table>\n",
       "</div>"
      ],
      "text/plain": [
       "         Produit A  Produit B\n",
       "Mois                         \n",
       "Janvier        100         90\n",
       "Février        150        120\n",
       "Mars           200        150\n",
       "Avril          250        180"
      ]
     },
     "execution_count": 40,
     "metadata": {},
     "output_type": "execute_result"
    }
   ],
   "source": [
    "df_ventes"
   ]
  },
  {
   "cell_type": "code",
   "execution_count": 42,
   "id": "673853bd",
   "metadata": {},
   "outputs": [
    {
     "data": {
      "application/vnd.microsoft.datawrangler.viewer.v0+json": {
       "columns": [
        {
         "name": "index",
         "rawType": "int64",
         "type": "integer"
        },
        {
         "name": "Fruit",
         "rawType": "object",
         "type": "string"
        },
        {
         "name": "Ventes",
         "rawType": "int64",
         "type": "integer"
        }
       ],
       "ref": "6d02624a-09d8-43f1-a896-b85e42f11970",
       "rows": [
        [
         "0",
         "Pommes",
         "100"
        ],
        [
         "1",
         "Oranges",
         "150"
        ],
        [
         "2",
         "Bananes",
         "200"
        ],
        [
         "3",
         "Fraises",
         "250"
        ]
       ],
       "shape": {
        "columns": 2,
        "rows": 4
       }
      },
      "text/html": [
       "<div>\n",
       "<style scoped>\n",
       "    .dataframe tbody tr th:only-of-type {\n",
       "        vertical-align: middle;\n",
       "    }\n",
       "\n",
       "    .dataframe tbody tr th {\n",
       "        vertical-align: top;\n",
       "    }\n",
       "\n",
       "    .dataframe thead th {\n",
       "        text-align: right;\n",
       "    }\n",
       "</style>\n",
       "<table border=\"1\" class=\"dataframe\">\n",
       "  <thead>\n",
       "    <tr style=\"text-align: right;\">\n",
       "      <th></th>\n",
       "      <th>Fruit</th>\n",
       "      <th>Ventes</th>\n",
       "    </tr>\n",
       "  </thead>\n",
       "  <tbody>\n",
       "    <tr>\n",
       "      <th>0</th>\n",
       "      <td>Pommes</td>\n",
       "      <td>100</td>\n",
       "    </tr>\n",
       "    <tr>\n",
       "      <th>1</th>\n",
       "      <td>Oranges</td>\n",
       "      <td>150</td>\n",
       "    </tr>\n",
       "    <tr>\n",
       "      <th>2</th>\n",
       "      <td>Bananes</td>\n",
       "      <td>200</td>\n",
       "    </tr>\n",
       "    <tr>\n",
       "      <th>3</th>\n",
       "      <td>Fraises</td>\n",
       "      <td>250</td>\n",
       "    </tr>\n",
       "  </tbody>\n",
       "</table>\n",
       "</div>"
      ],
      "text/plain": [
       "     Fruit  Ventes\n",
       "0   Pommes     100\n",
       "1  Oranges     150\n",
       "2  Bananes     200\n",
       "3  Fraises     250"
      ]
     },
     "execution_count": 42,
     "metadata": {},
     "output_type": "execute_result"
    }
   ],
   "source": [
    "df"
   ]
  },
  {
   "cell_type": "code",
   "execution_count": null,
   "id": "d6564735",
   "metadata": {},
   "outputs": [],
   "source": []
  },
  {
   "cell_type": "markdown",
   "id": "c1d29b5a",
   "metadata": {},
   "source": [
    "Si nécessaire, nous pouvons réinitialiser l'index à sa forme numérique par défaut"
   ]
  },
  {
   "cell_type": "code",
   "execution_count": null,
   "id": "ddd0368c",
   "metadata": {},
   "outputs": [
    {
     "data": {
      "text/plain": [
       "pandas.core.frame.DataFrame"
      ]
     },
     "execution_count": 16,
     "metadata": {},
     "output_type": "execute_result"
    }
   ],
   "source": [
    "type(df_ventes)"
   ]
  },
  {
   "cell_type": "markdown",
   "id": "9dc5ff7d",
   "metadata": {},
   "source": [
    "Il est également possible de spécifier l'index personnalisé dès la création du dataframe"
   ]
  },
  {
   "cell_type": "code",
   "execution_count": null,
   "id": "654de387",
   "metadata": {},
   "outputs": [],
   "source": [
    "data = {\n",
    "    'Produit A': [100, 150, 200, 250],\n",
    "    'Produit B': [90, 120, 150, 180]\n",
    "}\n",
    "\n",
    "mois = ['Janvier', 'Février', 'Mars', 'Avril']\n",
    "\n",
    "df_ventes = df_ventes.reset_index()"
   ]
  },
  {
   "cell_type": "code",
   "execution_count": null,
   "id": "ebbdfc4b",
   "metadata": {},
   "outputs": [
    {
     "data": {
      "application/vnd.microsoft.datawrangler.viewer.v0+json": {
       "columns": [
        {
         "name": "index",
         "rawType": "int64",
         "type": "integer"
        },
        {
         "name": "Mois",
         "rawType": "object",
         "type": "string"
        },
        {
         "name": "Produit A",
         "rawType": "int64",
         "type": "integer"
        },
        {
         "name": "Produit B",
         "rawType": "int64",
         "type": "integer"
        }
       ],
       "ref": "6dd84c3a-551e-4e11-8ea5-754548630a81",
       "rows": [
        [
         "0",
         "Janvier",
         "100",
         "90"
        ],
        [
         "1",
         "Février",
         "150",
         "120"
        ],
        [
         "2",
         "Mars",
         "200",
         "150"
        ],
        [
         "3",
         "Avril",
         "250",
         "180"
        ]
       ],
       "shape": {
        "columns": 3,
        "rows": 4
       }
      },
      "text/html": [
       "<div>\n",
       "<style scoped>\n",
       "    .dataframe tbody tr th:only-of-type {\n",
       "        vertical-align: middle;\n",
       "    }\n",
       "\n",
       "    .dataframe tbody tr th {\n",
       "        vertical-align: top;\n",
       "    }\n",
       "\n",
       "    .dataframe thead th {\n",
       "        text-align: right;\n",
       "    }\n",
       "</style>\n",
       "<table border=\"1\" class=\"dataframe\">\n",
       "  <thead>\n",
       "    <tr style=\"text-align: right;\">\n",
       "      <th></th>\n",
       "      <th>Mois</th>\n",
       "      <th>Produit A</th>\n",
       "      <th>Produit B</th>\n",
       "    </tr>\n",
       "  </thead>\n",
       "  <tbody>\n",
       "    <tr>\n",
       "      <th>0</th>\n",
       "      <td>Janvier</td>\n",
       "      <td>100</td>\n",
       "      <td>90</td>\n",
       "    </tr>\n",
       "    <tr>\n",
       "      <th>1</th>\n",
       "      <td>Février</td>\n",
       "      <td>150</td>\n",
       "      <td>120</td>\n",
       "    </tr>\n",
       "    <tr>\n",
       "      <th>2</th>\n",
       "      <td>Mars</td>\n",
       "      <td>200</td>\n",
       "      <td>150</td>\n",
       "    </tr>\n",
       "    <tr>\n",
       "      <th>3</th>\n",
       "      <td>Avril</td>\n",
       "      <td>250</td>\n",
       "      <td>180</td>\n",
       "    </tr>\n",
       "  </tbody>\n",
       "</table>\n",
       "</div>"
      ],
      "text/plain": [
       "      Mois  Produit A  Produit B\n",
       "0  Janvier        100         90\n",
       "1  Février        150        120\n",
       "2     Mars        200        150\n",
       "3    Avril        250        180"
      ]
     },
     "execution_count": 18,
     "metadata": {},
     "output_type": "execute_result"
    }
   ],
   "source": [
    "df_ventes"
   ]
  },
  {
   "cell_type": "markdown",
   "id": "89f3a229",
   "metadata": {},
   "source": [
    "<h1> Créer un dataframe à partir d'un fichier CSV </h1>\n",
    "\n",
    "1. Import basique"
   ]
  },
  {
   "cell_type": "code",
   "execution_count": null,
   "id": "59fd2df4",
   "metadata": {},
   "outputs": [
    {
     "ename": "FileNotFoundError",
     "evalue": "[Errno 2] No such file or directory: 'C:\\\\Users\\\\nmako\\\\Documents\\\\Data-Science-Projects-Repository\\\\Pandas_basic\\\\data\\\\raw\\\\data.csv'",
     "output_type": "error",
     "traceback": [
      "\u001b[1;31m---------------------------------------------------------------------------\u001b[0m",
      "\u001b[1;31mFileNotFoundError\u001b[0m                         Traceback (most recent call last)",
      "Cell \u001b[1;32mIn[19], line 4\u001b[0m\n\u001b[0;32m      1\u001b[0m \u001b[38;5;28;01mimport\u001b[39;00m \u001b[38;5;21;01mpandas\u001b[39;00m \u001b[38;5;28;01mas\u001b[39;00m \u001b[38;5;21;01mpd\u001b[39;00m\n\u001b[0;32m      3\u001b[0m path \u001b[38;5;241m=\u001b[39m \u001b[38;5;124mr\u001b[39m\u001b[38;5;124m'\u001b[39m\u001b[38;5;124mC:\u001b[39m\u001b[38;5;124m\\\u001b[39m\u001b[38;5;124mUsers\u001b[39m\u001b[38;5;124m\\\u001b[39m\u001b[38;5;124mnmako\u001b[39m\u001b[38;5;124m\\\u001b[39m\u001b[38;5;124mDocuments\u001b[39m\u001b[38;5;124m\\\u001b[39m\u001b[38;5;124mData-Science-Projects-Repository\u001b[39m\u001b[38;5;124m\\\u001b[39m\u001b[38;5;124mPandas_basic\u001b[39m\u001b[38;5;124m\\\u001b[39m\u001b[38;5;124mdata\u001b[39m\u001b[38;5;124m\\\u001b[39m\u001b[38;5;124mraw\u001b[39m\u001b[38;5;124m\\\u001b[39m\u001b[38;5;124mdata.csv\u001b[39m\u001b[38;5;124m'\u001b[39m\n\u001b[1;32m----> 4\u001b[0m df_employes \u001b[38;5;241m=\u001b[39m pd\u001b[38;5;241m.\u001b[39mread_csv(path)\n\u001b[0;32m      5\u001b[0m df_employes\n",
      "File \u001b[1;32m~\\anaconda3\\Lib\\site-packages\\pandas\\io\\parsers\\readers.py:1026\u001b[0m, in \u001b[0;36mread_csv\u001b[1;34m(filepath_or_buffer, sep, delimiter, header, names, index_col, usecols, dtype, engine, converters, true_values, false_values, skipinitialspace, skiprows, skipfooter, nrows, na_values, keep_default_na, na_filter, verbose, skip_blank_lines, parse_dates, infer_datetime_format, keep_date_col, date_parser, date_format, dayfirst, cache_dates, iterator, chunksize, compression, thousands, decimal, lineterminator, quotechar, quoting, doublequote, escapechar, comment, encoding, encoding_errors, dialect, on_bad_lines, delim_whitespace, low_memory, memory_map, float_precision, storage_options, dtype_backend)\u001b[0m\n\u001b[0;32m   1013\u001b[0m kwds_defaults \u001b[38;5;241m=\u001b[39m _refine_defaults_read(\n\u001b[0;32m   1014\u001b[0m     dialect,\n\u001b[0;32m   1015\u001b[0m     delimiter,\n\u001b[1;32m   (...)\u001b[0m\n\u001b[0;32m   1022\u001b[0m     dtype_backend\u001b[38;5;241m=\u001b[39mdtype_backend,\n\u001b[0;32m   1023\u001b[0m )\n\u001b[0;32m   1024\u001b[0m kwds\u001b[38;5;241m.\u001b[39mupdate(kwds_defaults)\n\u001b[1;32m-> 1026\u001b[0m \u001b[38;5;28;01mreturn\u001b[39;00m _read(filepath_or_buffer, kwds)\n",
      "File \u001b[1;32m~\\anaconda3\\Lib\\site-packages\\pandas\\io\\parsers\\readers.py:620\u001b[0m, in \u001b[0;36m_read\u001b[1;34m(filepath_or_buffer, kwds)\u001b[0m\n\u001b[0;32m    617\u001b[0m _validate_names(kwds\u001b[38;5;241m.\u001b[39mget(\u001b[38;5;124m\"\u001b[39m\u001b[38;5;124mnames\u001b[39m\u001b[38;5;124m\"\u001b[39m, \u001b[38;5;28;01mNone\u001b[39;00m))\n\u001b[0;32m    619\u001b[0m \u001b[38;5;66;03m# Create the parser.\u001b[39;00m\n\u001b[1;32m--> 620\u001b[0m parser \u001b[38;5;241m=\u001b[39m TextFileReader(filepath_or_buffer, \u001b[38;5;241m*\u001b[39m\u001b[38;5;241m*\u001b[39mkwds)\n\u001b[0;32m    622\u001b[0m \u001b[38;5;28;01mif\u001b[39;00m chunksize \u001b[38;5;129;01mor\u001b[39;00m iterator:\n\u001b[0;32m    623\u001b[0m     \u001b[38;5;28;01mreturn\u001b[39;00m parser\n",
      "File \u001b[1;32m~\\anaconda3\\Lib\\site-packages\\pandas\\io\\parsers\\readers.py:1620\u001b[0m, in \u001b[0;36mTextFileReader.__init__\u001b[1;34m(self, f, engine, **kwds)\u001b[0m\n\u001b[0;32m   1617\u001b[0m     \u001b[38;5;28mself\u001b[39m\u001b[38;5;241m.\u001b[39moptions[\u001b[38;5;124m\"\u001b[39m\u001b[38;5;124mhas_index_names\u001b[39m\u001b[38;5;124m\"\u001b[39m] \u001b[38;5;241m=\u001b[39m kwds[\u001b[38;5;124m\"\u001b[39m\u001b[38;5;124mhas_index_names\u001b[39m\u001b[38;5;124m\"\u001b[39m]\n\u001b[0;32m   1619\u001b[0m \u001b[38;5;28mself\u001b[39m\u001b[38;5;241m.\u001b[39mhandles: IOHandles \u001b[38;5;241m|\u001b[39m \u001b[38;5;28;01mNone\u001b[39;00m \u001b[38;5;241m=\u001b[39m \u001b[38;5;28;01mNone\u001b[39;00m\n\u001b[1;32m-> 1620\u001b[0m \u001b[38;5;28mself\u001b[39m\u001b[38;5;241m.\u001b[39m_engine \u001b[38;5;241m=\u001b[39m \u001b[38;5;28mself\u001b[39m\u001b[38;5;241m.\u001b[39m_make_engine(f, \u001b[38;5;28mself\u001b[39m\u001b[38;5;241m.\u001b[39mengine)\n",
      "File \u001b[1;32m~\\anaconda3\\Lib\\site-packages\\pandas\\io\\parsers\\readers.py:1880\u001b[0m, in \u001b[0;36mTextFileReader._make_engine\u001b[1;34m(self, f, engine)\u001b[0m\n\u001b[0;32m   1878\u001b[0m     \u001b[38;5;28;01mif\u001b[39;00m \u001b[38;5;124m\"\u001b[39m\u001b[38;5;124mb\u001b[39m\u001b[38;5;124m\"\u001b[39m \u001b[38;5;129;01mnot\u001b[39;00m \u001b[38;5;129;01min\u001b[39;00m mode:\n\u001b[0;32m   1879\u001b[0m         mode \u001b[38;5;241m+\u001b[39m\u001b[38;5;241m=\u001b[39m \u001b[38;5;124m\"\u001b[39m\u001b[38;5;124mb\u001b[39m\u001b[38;5;124m\"\u001b[39m\n\u001b[1;32m-> 1880\u001b[0m \u001b[38;5;28mself\u001b[39m\u001b[38;5;241m.\u001b[39mhandles \u001b[38;5;241m=\u001b[39m get_handle(\n\u001b[0;32m   1881\u001b[0m     f,\n\u001b[0;32m   1882\u001b[0m     mode,\n\u001b[0;32m   1883\u001b[0m     encoding\u001b[38;5;241m=\u001b[39m\u001b[38;5;28mself\u001b[39m\u001b[38;5;241m.\u001b[39moptions\u001b[38;5;241m.\u001b[39mget(\u001b[38;5;124m\"\u001b[39m\u001b[38;5;124mencoding\u001b[39m\u001b[38;5;124m\"\u001b[39m, \u001b[38;5;28;01mNone\u001b[39;00m),\n\u001b[0;32m   1884\u001b[0m     compression\u001b[38;5;241m=\u001b[39m\u001b[38;5;28mself\u001b[39m\u001b[38;5;241m.\u001b[39moptions\u001b[38;5;241m.\u001b[39mget(\u001b[38;5;124m\"\u001b[39m\u001b[38;5;124mcompression\u001b[39m\u001b[38;5;124m\"\u001b[39m, \u001b[38;5;28;01mNone\u001b[39;00m),\n\u001b[0;32m   1885\u001b[0m     memory_map\u001b[38;5;241m=\u001b[39m\u001b[38;5;28mself\u001b[39m\u001b[38;5;241m.\u001b[39moptions\u001b[38;5;241m.\u001b[39mget(\u001b[38;5;124m\"\u001b[39m\u001b[38;5;124mmemory_map\u001b[39m\u001b[38;5;124m\"\u001b[39m, \u001b[38;5;28;01mFalse\u001b[39;00m),\n\u001b[0;32m   1886\u001b[0m     is_text\u001b[38;5;241m=\u001b[39mis_text,\n\u001b[0;32m   1887\u001b[0m     errors\u001b[38;5;241m=\u001b[39m\u001b[38;5;28mself\u001b[39m\u001b[38;5;241m.\u001b[39moptions\u001b[38;5;241m.\u001b[39mget(\u001b[38;5;124m\"\u001b[39m\u001b[38;5;124mencoding_errors\u001b[39m\u001b[38;5;124m\"\u001b[39m, \u001b[38;5;124m\"\u001b[39m\u001b[38;5;124mstrict\u001b[39m\u001b[38;5;124m\"\u001b[39m),\n\u001b[0;32m   1888\u001b[0m     storage_options\u001b[38;5;241m=\u001b[39m\u001b[38;5;28mself\u001b[39m\u001b[38;5;241m.\u001b[39moptions\u001b[38;5;241m.\u001b[39mget(\u001b[38;5;124m\"\u001b[39m\u001b[38;5;124mstorage_options\u001b[39m\u001b[38;5;124m\"\u001b[39m, \u001b[38;5;28;01mNone\u001b[39;00m),\n\u001b[0;32m   1889\u001b[0m )\n\u001b[0;32m   1890\u001b[0m \u001b[38;5;28;01massert\u001b[39;00m \u001b[38;5;28mself\u001b[39m\u001b[38;5;241m.\u001b[39mhandles \u001b[38;5;129;01mis\u001b[39;00m \u001b[38;5;129;01mnot\u001b[39;00m \u001b[38;5;28;01mNone\u001b[39;00m\n\u001b[0;32m   1891\u001b[0m f \u001b[38;5;241m=\u001b[39m \u001b[38;5;28mself\u001b[39m\u001b[38;5;241m.\u001b[39mhandles\u001b[38;5;241m.\u001b[39mhandle\n",
      "File \u001b[1;32m~\\anaconda3\\Lib\\site-packages\\pandas\\io\\common.py:873\u001b[0m, in \u001b[0;36mget_handle\u001b[1;34m(path_or_buf, mode, encoding, compression, memory_map, is_text, errors, storage_options)\u001b[0m\n\u001b[0;32m    868\u001b[0m \u001b[38;5;28;01melif\u001b[39;00m \u001b[38;5;28misinstance\u001b[39m(handle, \u001b[38;5;28mstr\u001b[39m):\n\u001b[0;32m    869\u001b[0m     \u001b[38;5;66;03m# Check whether the filename is to be opened in binary mode.\u001b[39;00m\n\u001b[0;32m    870\u001b[0m     \u001b[38;5;66;03m# Binary mode does not support 'encoding' and 'newline'.\u001b[39;00m\n\u001b[0;32m    871\u001b[0m     \u001b[38;5;28;01mif\u001b[39;00m ioargs\u001b[38;5;241m.\u001b[39mencoding \u001b[38;5;129;01mand\u001b[39;00m \u001b[38;5;124m\"\u001b[39m\u001b[38;5;124mb\u001b[39m\u001b[38;5;124m\"\u001b[39m \u001b[38;5;129;01mnot\u001b[39;00m \u001b[38;5;129;01min\u001b[39;00m ioargs\u001b[38;5;241m.\u001b[39mmode:\n\u001b[0;32m    872\u001b[0m         \u001b[38;5;66;03m# Encoding\u001b[39;00m\n\u001b[1;32m--> 873\u001b[0m         handle \u001b[38;5;241m=\u001b[39m \u001b[38;5;28mopen\u001b[39m(\n\u001b[0;32m    874\u001b[0m             handle,\n\u001b[0;32m    875\u001b[0m             ioargs\u001b[38;5;241m.\u001b[39mmode,\n\u001b[0;32m    876\u001b[0m             encoding\u001b[38;5;241m=\u001b[39mioargs\u001b[38;5;241m.\u001b[39mencoding,\n\u001b[0;32m    877\u001b[0m             errors\u001b[38;5;241m=\u001b[39merrors,\n\u001b[0;32m    878\u001b[0m             newline\u001b[38;5;241m=\u001b[39m\u001b[38;5;124m\"\u001b[39m\u001b[38;5;124m\"\u001b[39m,\n\u001b[0;32m    879\u001b[0m         )\n\u001b[0;32m    880\u001b[0m     \u001b[38;5;28;01melse\u001b[39;00m:\n\u001b[0;32m    881\u001b[0m         \u001b[38;5;66;03m# Binary mode\u001b[39;00m\n\u001b[0;32m    882\u001b[0m         handle \u001b[38;5;241m=\u001b[39m \u001b[38;5;28mopen\u001b[39m(handle, ioargs\u001b[38;5;241m.\u001b[39mmode)\n",
      "\u001b[1;31mFileNotFoundError\u001b[0m: [Errno 2] No such file or directory: 'C:\\\\Users\\\\nmako\\\\Documents\\\\Data-Science-Projects-Repository\\\\Pandas_basic\\\\data\\\\raw\\\\data.csv'"
     ]
    }
   ],
   "source": [
    "import pandas as pd\n",
    "\n",
    "path = r'C:\\Users\\nmako\\Documents\\Data-Science-Projects-Repository\\Pandas_basic\\data\\raw\\data.csv'\n",
    "df_employes = pd.read_csv(path)\n",
    "df_employes\n"
   ]
  },
  {
   "cell_type": "markdown",
   "id": "206d1689",
   "metadata": {},
   "source": [
    "2. gestion du caractère séparateur"
   ]
  },
  {
   "cell_type": "code",
   "execution_count": null,
   "id": "c0aa7068",
   "metadata": {},
   "outputs": [
    {
     "data": {
      "application/vnd.microsoft.datawrangler.viewer.v0+json": {
       "columns": [
        {
         "name": "index",
         "rawType": "int64",
         "type": "integer"
        },
        {
         "name": "Nom",
         "rawType": "object",
         "type": "string"
        },
        {
         "name": "Poste",
         "rawType": "object",
         "type": "string"
        },
        {
         "name": "Salaire",
         "rawType": "int64",
         "type": "integer"
        }
       ],
       "conversionMethod": "pd.DataFrame",
       "ref": "2315d075-ab3f-4ce9-be70-ed676202bc4d",
       "rows": [
        [
         "0",
         "John Doe",
         "Ingenieur",
         "50000"
        ],
        [
         "1",
         "Jane Smith",
         "Analyste de donnees",
         "60000"
        ],
        [
         "2",
         "Emma Jones",
         "Chef de projet",
         "70000"
        ],
        [
         "3",
         "Alex Brown",
         "Developpeur",
         "55000"
        ]
       ],
       "shape": {
        "columns": 3,
        "rows": 4
       }
      },
      "text/html": [
       "<div>\n",
       "<style scoped>\n",
       "    .dataframe tbody tr th:only-of-type {\n",
       "        vertical-align: middle;\n",
       "    }\n",
       "\n",
       "    .dataframe tbody tr th {\n",
       "        vertical-align: top;\n",
       "    }\n",
       "\n",
       "    .dataframe thead th {\n",
       "        text-align: right;\n",
       "    }\n",
       "</style>\n",
       "<table border=\"1\" class=\"dataframe\">\n",
       "  <thead>\n",
       "    <tr style=\"text-align: right;\">\n",
       "      <th></th>\n",
       "      <th>Nom</th>\n",
       "      <th>Poste</th>\n",
       "      <th>Salaire</th>\n",
       "    </tr>\n",
       "  </thead>\n",
       "  <tbody>\n",
       "    <tr>\n",
       "      <th>0</th>\n",
       "      <td>John Doe</td>\n",
       "      <td>Ingenieur</td>\n",
       "      <td>50000</td>\n",
       "    </tr>\n",
       "    <tr>\n",
       "      <th>1</th>\n",
       "      <td>Jane Smith</td>\n",
       "      <td>Analyste de donnees</td>\n",
       "      <td>60000</td>\n",
       "    </tr>\n",
       "    <tr>\n",
       "      <th>2</th>\n",
       "      <td>Emma Jones</td>\n",
       "      <td>Chef de projet</td>\n",
       "      <td>70000</td>\n",
       "    </tr>\n",
       "    <tr>\n",
       "      <th>3</th>\n",
       "      <td>Alex Brown</td>\n",
       "      <td>Developpeur</td>\n",
       "      <td>55000</td>\n",
       "    </tr>\n",
       "  </tbody>\n",
       "</table>\n",
       "</div>"
      ],
      "text/plain": [
       "          Nom                Poste  Salaire\n",
       "0    John Doe            Ingenieur    50000\n",
       "1  Jane Smith  Analyste de donnees    60000\n",
       "2  Emma Jones       Chef de projet    70000\n",
       "3  Alex Brown          Developpeur    55000"
      ]
     },
     "execution_count": 143,
     "metadata": {},
     "output_type": "execute_result"
    }
   ],
   "source": [
    "df_employes_sep = pd.read_csv(r'C:\\Users\\nmako\\Documents\\Data-Science-Projects-Repository\\Pandas_basic\\data\\raw\\data_sep.csv', sep=';')\n",
    "df_employes_sep\n"
   ]
  },
  {
   "cell_type": "markdown",
   "id": "2bfee865",
   "metadata": {},
   "source": [
    "3. Définir la ligne d'entête des colonnes"
   ]
  },
  {
   "cell_type": "code",
   "execution_count": null,
   "id": "94e2a162",
   "metadata": {},
   "outputs": [
    {
     "data": {
      "application/vnd.microsoft.datawrangler.viewer.v0+json": {
       "columns": [
        {
         "name": "index",
         "rawType": "int64",
         "type": "integer"
        },
        {
         "name": "Nom",
         "rawType": "object",
         "type": "string"
        },
        {
         "name": "Poste",
         "rawType": "object",
         "type": "string"
        },
        {
         "name": "Salaire",
         "rawType": "int64",
         "type": "integer"
        }
       ],
       "conversionMethod": "pd.DataFrame",
       "ref": "8051dc76-44c7-4c55-a016-5aaf8644d6c2",
       "rows": [
        [
         "0",
         "John Doe",
         "Ingenieur",
         "50000"
        ],
        [
         "1",
         "Jane Smith",
         "Analyste de donnees",
         "60000"
        ],
        [
         "2",
         "Emma Jones",
         "Chef de projet",
         "70000"
        ],
        [
         "3",
         "Alex Brown",
         "Developpeur",
         "55000"
        ]
       ],
       "shape": {
        "columns": 3,
        "rows": 4
       }
      },
      "text/html": [
       "<div>\n",
       "<style scoped>\n",
       "    .dataframe tbody tr th:only-of-type {\n",
       "        vertical-align: middle;\n",
       "    }\n",
       "\n",
       "    .dataframe tbody tr th {\n",
       "        vertical-align: top;\n",
       "    }\n",
       "\n",
       "    .dataframe thead th {\n",
       "        text-align: right;\n",
       "    }\n",
       "</style>\n",
       "<table border=\"1\" class=\"dataframe\">\n",
       "  <thead>\n",
       "    <tr style=\"text-align: right;\">\n",
       "      <th></th>\n",
       "      <th>Nom</th>\n",
       "      <th>Poste</th>\n",
       "      <th>Salaire</th>\n",
       "    </tr>\n",
       "  </thead>\n",
       "  <tbody>\n",
       "    <tr>\n",
       "      <th>0</th>\n",
       "      <td>John Doe</td>\n",
       "      <td>Ingenieur</td>\n",
       "      <td>50000</td>\n",
       "    </tr>\n",
       "    <tr>\n",
       "      <th>1</th>\n",
       "      <td>Jane Smith</td>\n",
       "      <td>Analyste de donnees</td>\n",
       "      <td>60000</td>\n",
       "    </tr>\n",
       "    <tr>\n",
       "      <th>2</th>\n",
       "      <td>Emma Jones</td>\n",
       "      <td>Chef de projet</td>\n",
       "      <td>70000</td>\n",
       "    </tr>\n",
       "    <tr>\n",
       "      <th>3</th>\n",
       "      <td>Alex Brown</td>\n",
       "      <td>Developpeur</td>\n",
       "      <td>55000</td>\n",
       "    </tr>\n",
       "  </tbody>\n",
       "</table>\n",
       "</div>"
      ],
      "text/plain": [
       "          Nom                Poste  Salaire\n",
       "0    John Doe            Ingenieur    50000\n",
       "1  Jane Smith  Analyste de donnees    60000\n",
       "2  Emma Jones       Chef de projet    70000\n",
       "3  Alex Brown          Developpeur    55000"
      ]
     },
     "execution_count": 148,
     "metadata": {},
     "output_type": "execute_result"
    }
   ],
   "source": [
    "df_employes_head = pd.read_csv(r'C:\\Users\\nmako\\Documents\\Data-Science-Projects-Repository\\Pandas_basic\\data\\raw\\data_head.csv', header=1, sep=';')\n",
    "df_employes_head"
   ]
  },
  {
   "cell_type": "markdown",
   "id": "eaf5fa49",
   "metadata": {},
   "source": [
    "4. Gestion des csv sans entête"
   ]
  },
  {
   "cell_type": "markdown",
   "id": "e3406db4",
   "metadata": {},
   "source": [
    "df_employes_headless = pd.read_csv('import_csv/data_headless.csv')"
   ]
  },
  {
   "cell_type": "markdown",
   "id": "49e033d0",
   "metadata": {},
   "source": [
    "df_employes_headless = pd.read_csv('import_csv/data_headless.csv')\n"
   ]
  },
  {
   "cell_type": "markdown",
   "id": "5c146730",
   "metadata": {},
   "source": [
    "5. Définir un index personnalisé à l'import"
   ]
  },
  {
   "cell_type": "markdown",
   "id": "248f78e8",
   "metadata": {},
   "source": [
    "df_employes_index = pd.read_csv('import_csv/data.csv')"
   ]
  },
  {
   "cell_type": "markdown",
   "id": "9c449dc6",
   "metadata": {},
   "source": [
    "6. Importer uniquement certaines colonnes"
   ]
  },
  {
   "cell_type": "markdown",
   "id": "d04e08d5",
   "metadata": {},
   "source": [
    "df_employes_columns = pd.read_csv('import_csv/data.csv')"
   ]
  },
  {
   "cell_type": "markdown",
   "id": "1495b7ab",
   "metadata": {},
   "source": [
    "7. Ne pas importer certaines lignes de données"
   ]
  },
  {
   "cell_type": "markdown",
   "id": "2dfa1552",
   "metadata": {},
   "source": [
    "df_employes_head = pd.read_csv('import_csv/data_head.csv')"
   ]
  },
  {
   "cell_type": "markdown",
   "id": "9512e52e",
   "metadata": {},
   "source": [
    "8. spécifier des valeurs supplémentaires à considérer comme NA/NaN"
   ]
  },
  {
   "cell_type": "markdown",
   "id": "caac3974",
   "metadata": {},
   "source": [
    "df_employes_na = pd.read_csv('import_csv/data_na.csv')"
   ]
  },
  {
   "cell_type": "markdown",
   "id": "dc143906",
   "metadata": {},
   "source": [
    "df_employes_na = pd.read_csv('import_csv/data_na.csv')"
   ]
  },
  {
   "cell_type": "markdown",
   "id": "9e1cb66b",
   "metadata": {},
   "source": [
    "<h1> Importer d'autres types de fichiers </h1>\n",
    "\n",
    "<b> Importer un fichier Excel </b>\n",
    "\n",
    "Pour lire ce fichier Excel et le convertir en DataFrame, nous utilisons pd.read_excel()"
   ]
  },
  {
   "cell_type": "markdown",
   "id": "161fa680",
   "metadata": {},
   "source": [
    "df_employes = pd.read_excel('donnees_employes.xlsx', sheet_name='Employés')\n",
    "df_employes"
   ]
  },
  {
   "cell_type": "markdown",
   "id": "a00a4238",
   "metadata": {},
   "source": [
    "df_projets = pd.read_excel('donnees_employes.xlsx', sheet_name='Projets')\n",
    "df_projets"
   ]
  },
  {
   "cell_type": "markdown",
   "id": "08bc06d6",
   "metadata": {},
   "source": [
    "#Vous pouvez également charger tous les onglets en une seule fois en spécifiant sheet_name=None\n",
    "all_sheets = pd.read_excel('donnees_employes.xlsx', sheet_name=None)\n",
    "all_sheets"
   ]
  },
  {
   "cell_type": "markdown",
   "id": "5424b6c2",
   "metadata": {},
   "source": [
    "all_sheets.keys()"
   ]
  },
  {
   "cell_type": "markdown",
   "id": "e61dfa15",
   "metadata": {},
   "source": [
    "all_sheets['Projets']"
   ]
  },
  {
   "cell_type": "markdown",
   "id": "7c66947f",
   "metadata": {},
   "source": [
    "<h1> Importer un fichier Json </h1>\n",
    "\n",
    "Pour lire ce fichier JSON et le convertir en DataFrame, nous utilisons pd.read_json()"
   ]
  },
  {
   "cell_type": "markdown",
   "id": "ae99ab15",
   "metadata": {},
   "source": [
    "df_employes = pd.read_json('fichier_json_classique.json')\n",
    "df_employes"
   ]
  },
  {
   "cell_type": "markdown",
   "id": "53dc99bf",
   "metadata": {},
   "source": [
    "df_employes_a_retravailler = pd.read_json('fichier_json.json')\n",
    "df_employes_a_retravailler"
   ]
  },
  {
   "cell_type": "markdown",
   "id": "902b7a83",
   "metadata": {},
   "source": [
    "df_employes_a_retravailler['employes']"
   ]
  },
  {
   "cell_type": "markdown",
   "id": "cdff5799",
   "metadata": {},
   "source": [
    "pd.DataFrame(list(df_employes_a_retravailler['employes']))"
   ]
  },
  {
   "cell_type": "markdown",
   "id": "811d4c7b",
   "metadata": {},
   "source": [
    "<h1> Exporter son dataframe en différents formats </h1>\n",
    "\n",
    "Une fois vos modifications réalisées sur vos données, vous pouvez enregistrer vos modifications sous différents format"
   ]
  },
  {
   "cell_type": "markdown",
   "id": "45fc4f12",
   "metadata": {},
   "source": [
    "df_employes_na = pd.read_csv('import_csv/data_na.csv', sep=\";\")\n",
    "df_employes_na"
   ]
  },
  {
   "cell_type": "markdown",
   "id": "94c8cc4b",
   "metadata": {},
   "source": [
    "df_employes_na.to_csv('employes_save.csv', index=False)"
   ]
  },
  {
   "cell_type": "markdown",
   "id": "5dbca36e",
   "metadata": {},
   "source": [
    "df_employes_na.to_excel('employes_save.xlsx', index=False)"
   ]
  },
  {
   "cell_type": "markdown",
   "id": "92821a65",
   "metadata": {},
   "source": [
    "df_employes_na.to_json('employes.json')"
   ]
  }
 ],
 "metadata": {
  "kernelspec": {
   "display_name": "Python [conda env:base] *",
   "language": "python",
   "name": "conda-base-py"
  },
  "language_info": {
   "codemirror_mode": {
    "name": "ipython",
    "version": 3
   },
   "file_extension": ".py",
   "mimetype": "text/x-python",
   "name": "python",
   "nbconvert_exporter": "python",
   "pygments_lexer": "ipython3",
   "version": "3.12.7"
  }
 },
 "nbformat": 4,
 "nbformat_minor": 5
}
