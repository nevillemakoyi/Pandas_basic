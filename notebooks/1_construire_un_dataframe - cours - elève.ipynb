{
 "cells": [
  {
   "cell_type": "markdown",
   "id": "c1620952",
   "metadata": {},
   "source": [
    "<h1> Créer et consulter une série Pandas </h1>\n",
    "\n",
    "\n",
    "<b> Qu'est-ce qu'une série Pandas ? </b>\n",
    "\n",
    "Une série Pandas est un tableau unidimensionnel étiqueté capable de contenir des données de tout type (entier, chaîne, flottant, objets Python, etc.). \n",
    "La série est l'une des structures de données de base de Pandas."
   ]
  },
  {
   "cell_type": "code",
   "execution_count": null,
   "id": "08dd8819",
   "metadata": {},
   "outputs": [],
   "source": []
  },
  {
   "cell_type": "markdown",
   "id": "a67bceb5",
   "metadata": {},
   "source": [
    "Créer une série Pandas à partir d'une liste"
   ]
  },
  {
   "cell_type": "code",
   "execution_count": null,
   "id": "587c4bf8",
   "metadata": {},
   "outputs": [],
   "source": [
    "liste_exemple = [10, 20, 30, 40, 50]"
   ]
  },
  {
   "cell_type": "markdown",
   "id": "c3503a2a",
   "metadata": {},
   "source": [
    "Accéder à un élément d'une série Pandas"
   ]
  },
  {
   "cell_type": "code",
   "execution_count": null,
   "id": "64e99768",
   "metadata": {},
   "outputs": [],
   "source": []
  },
  {
   "cell_type": "markdown",
   "id": "e735b21b",
   "metadata": {},
   "source": [
    "Créer une série Pandas avec un index personnalisé"
   ]
  },
  {
   "cell_type": "code",
   "execution_count": null,
   "id": "50d68309",
   "metadata": {},
   "outputs": [],
   "source": [
    "index_personnalise = ['a', 'b', 'c', 'd', 'e']"
   ]
  },
  {
   "cell_type": "markdown",
   "id": "a9f30610",
   "metadata": {},
   "source": [
    "Accéder à un élément d'une série avec un index personnalisé"
   ]
  },
  {
   "cell_type": "code",
   "execution_count": null,
   "id": "e69ff3f7",
   "metadata": {},
   "outputs": [],
   "source": []
  },
  {
   "cell_type": "markdown",
   "id": "8ba7a54e",
   "metadata": {},
   "source": [
    "Exemple avec des données de ventes pour un produit"
   ]
  },
  {
   "cell_type": "code",
   "execution_count": null,
   "id": "fa8a6045",
   "metadata": {},
   "outputs": [],
   "source": [
    "ventes_produit = [150, 200, 250, 300, 350, 400]\n",
    "mois = ['Jan', 'Fev', 'Mar', 'Avr', 'Mai', 'Jun']"
   ]
  },
  {
   "cell_type": "markdown",
   "id": "9ead3e74",
   "metadata": {},
   "source": [
    "<h1> Créer un dataframe pandas à partir de liste ou d'un dictionnaire </h1>\n",
    "\n",
    "<b> Qu'est-ce qu'un dataframe ? </b>\n",
    "\n",
    "Un DataFrame est une structure de données bidimensionnelle, potentiellement hétérogène, avec des axes étiquetés (lignes et colonnes). <br>\n",
    "Pensez à un DataFrame comme à une table SQL, ou à un tableau Excel.\n",
    "\n",
    "<b> Créer un dataframe à partir d'un dictionnaire </b>"
   ]
  },
  {
   "cell_type": "code",
   "execution_count": null,
   "id": "88d40504",
   "metadata": {},
   "outputs": [],
   "source": [
    "import pandas as pd\n",
    "\n",
    "data = {\n",
    "    'Fruit': ['Pommes', 'Oranges', 'Bananes', 'Fraises'],\n",
    "    'Ventes': [100, 150, 200, 250]\n",
    "}\n",
    "df_ventes_dict = "
   ]
  },
  {
   "cell_type": "code",
   "execution_count": null,
   "id": "c4f95d85",
   "metadata": {},
   "outputs": [],
   "source": [
    "data_varie = [\n",
    "    {'Fruit': 'Pommes', 'Ventes': 100},\n",
    "    {'Fruit': 'Oranges', 'Ventes': 150},\n",
    "    {'Fruit': 'Bananes', 'Ventes': 200, 'Stock': 50},\n",
    "    {'Fruit': 'Fraises', 'Ventes': 250}\n",
    "]\n",
    "\n",
    "df_ventes_varie = "
   ]
  },
  {
   "cell_type": "markdown",
   "id": "f68a5d49",
   "metadata": {},
   "source": [
    "<b> Créer un dataFrame à partir de listes </b>"
   ]
  },
  {
   "cell_type": "code",
   "execution_count": null,
   "id": "11d37151",
   "metadata": {},
   "outputs": [],
   "source": [
    "ventes_produit_A = [150, 200, 250, 300, 350, 400]\n",
    "ventes_produit_B = [100, 150, 200, 250, 300, 350]\n",
    "ventes_produit_C = [50, 100, 150, 200, 250, 300]\n",
    "\n",
    "# Création des séries Pandas pour chaque produit\n",
    "mois = ['Jan', 'Fev', 'Mar', 'Avr', 'Mai', 'Jun']"
   ]
  },
  {
   "cell_type": "code",
   "execution_count": null,
   "id": "9eb3d6a8",
   "metadata": {},
   "outputs": [],
   "source": [
    "list(zip(mois,ventes_produit_A,ventes_produit_B,ventes_produit_C))"
   ]
  },
  {
   "cell_type": "code",
   "execution_count": null,
   "id": "641ee977",
   "metadata": {},
   "outputs": [],
   "source": [
    "df_ventes = pd.DataFrame(list(zip(mois,ventes_produit_A,ventes_produit_B,ventes_produit_C)), columns=['mois','produit A','produit B', 'produit C'])\n",
    "df_ventes"
   ]
  },
  {
   "cell_type": "markdown",
   "id": "e4cb658e",
   "metadata": {},
   "source": [
    "<h1> Gestion de l'index dans un dataframe </h1>\n",
    "\n",
    "Imaginons que nous ayons un DataFrame représentant les ventes mensuelles de différents produits"
   ]
  },
  {
   "cell_type": "code",
   "execution_count": null,
   "id": "6f48de1f",
   "metadata": {},
   "outputs": [],
   "source": [
    "import pandas as pd\n",
    "\n",
    "data = {\n",
    "    'Mois': ['Janvier', 'Février', 'Mars', 'Avril'],\n",
    "    'Produit A': [100, 150, 200, 250],\n",
    "    'Produit B': [90, 120, 150, 180]\n",
    "}\n",
    "\n",
    "df_ventes = "
   ]
  },
  {
   "cell_type": "markdown",
   "id": "233c55c7",
   "metadata": {},
   "source": [
    "Lorsque nous créons un DataFrame, Pandas attribue automatiquement un index numérique à chaque ligne."
   ]
  },
  {
   "cell_type": "code",
   "execution_count": null,
   "id": "3a0481d3",
   "metadata": {},
   "outputs": [],
   "source": []
  },
  {
   "cell_type": "code",
   "execution_count": null,
   "id": "6ec96f6e",
   "metadata": {},
   "outputs": [],
   "source": [
    "# Nous reverrons les \"loc\" en détail lors d'une session ultérieure"
   ]
  },
  {
   "cell_type": "code",
   "execution_count": null,
   "id": "e686438a",
   "metadata": {},
   "outputs": [],
   "source": []
  },
  {
   "cell_type": "markdown",
   "id": "abfec51e",
   "metadata": {},
   "source": [
    "Dans notre cas, il serait logique d'utiliser les mois comme index."
   ]
  },
  {
   "cell_type": "code",
   "execution_count": null,
   "id": "7866d7a7",
   "metadata": {},
   "outputs": [],
   "source": [
    "df_ventes_index = "
   ]
  },
  {
   "cell_type": "code",
   "execution_count": null,
   "id": "673853bd",
   "metadata": {},
   "outputs": [],
   "source": []
  },
  {
   "cell_type": "code",
   "execution_count": null,
   "id": "d6564735",
   "metadata": {},
   "outputs": [],
   "source": []
  },
  {
   "cell_type": "markdown",
   "id": "c1d29b5a",
   "metadata": {},
   "source": [
    "Si nécessaire, nous pouvons réinitialiser l'index à sa forme numérique par défaut"
   ]
  },
  {
   "cell_type": "code",
   "execution_count": null,
   "id": "ddd0368c",
   "metadata": {},
   "outputs": [],
   "source": [
    "df_ventes_reset = "
   ]
  },
  {
   "cell_type": "markdown",
   "id": "9dc5ff7d",
   "metadata": {},
   "source": [
    "Il est également possible de spécifier l'index personnalisé dès la création du dataframe"
   ]
  },
  {
   "cell_type": "code",
   "execution_count": null,
   "id": "654de387",
   "metadata": {},
   "outputs": [],
   "source": [
    "data = {\n",
    "    'Produit A': [100, 150, 200, 250],\n",
    "    'Produit B': [90, 120, 150, 180]\n",
    "}\n",
    "\n",
    "mois = ['Janvier', 'Février', 'Mars', 'Avril']\n",
    "\n",
    "df_ventes = "
   ]
  },
  {
   "cell_type": "markdown",
   "id": "89f3a229",
   "metadata": {},
   "source": [
    "<h1> Créer un dataframe à partir d'un fichier CSV </h1>\n",
    "\n",
    "1. Import basique"
   ]
  },
  {
   "cell_type": "code",
   "execution_count": null,
   "id": "59fd2df4",
   "metadata": {},
   "outputs": [],
   "source": [
    "import pandas as pd\n",
    "\n",
    "df_employes = pd.read_csv('import_csv/data.csv')"
   ]
  },
  {
   "cell_type": "markdown",
   "id": "206d1689",
   "metadata": {},
   "source": [
    "2. gestion du caractère séparateur"
   ]
  },
  {
   "cell_type": "code",
   "execution_count": null,
   "id": "c0aa7068",
   "metadata": {},
   "outputs": [],
   "source": [
    "df_employes_sep = pd.read_csv('import_csv/data_sep.csv')"
   ]
  },
  {
   "cell_type": "code",
   "execution_count": null,
   "id": "04ac6e58",
   "metadata": {},
   "outputs": [],
   "source": [
    "df_employes_sep = pd.read_csv('import_csv/data_sep.csv')"
   ]
  },
  {
   "cell_type": "markdown",
   "id": "2bfee865",
   "metadata": {},
   "source": [
    "3. Définir la ligne d'entête des colonnes"
   ]
  },
  {
   "cell_type": "code",
   "execution_count": null,
   "id": "94e2a162",
   "metadata": {},
   "outputs": [],
   "source": [
    "df_employes_head = pd.read_csv('import_csv/data_head.csv')"
   ]
  },
  {
   "cell_type": "code",
   "execution_count": null,
   "id": "0b94a5e4",
   "metadata": {},
   "outputs": [],
   "source": [
    "df_employes_head = pd.read_csv('import_csv/data_head.csv')"
   ]
  },
  {
   "cell_type": "markdown",
   "id": "eaf5fa49",
   "metadata": {},
   "source": [
    "4. Gestion des csv sans entête"
   ]
  },
  {
   "cell_type": "code",
   "execution_count": null,
   "id": "e3406db4",
   "metadata": {},
   "outputs": [],
   "source": [
    "df_employes_headless = pd.read_csv('import_csv/data_headless.csv')"
   ]
  },
  {
   "cell_type": "code",
   "execution_count": null,
   "id": "49e033d0",
   "metadata": {},
   "outputs": [],
   "source": [
    "df_employes_headless = pd.read_csv('import_csv/data_headless.csv')\n"
   ]
  },
  {
   "cell_type": "markdown",
   "id": "5c146730",
   "metadata": {},
   "source": [
    "5. Définir un index personnalisé à l'import"
   ]
  },
  {
   "cell_type": "code",
   "execution_count": null,
   "id": "248f78e8",
   "metadata": {},
   "outputs": [],
   "source": [
    "df_employes_index = pd.read_csv('import_csv/data.csv')"
   ]
  },
  {
   "cell_type": "markdown",
   "id": "9c449dc6",
   "metadata": {},
   "source": [
    "6. Importer uniquement certaines colonnes"
   ]
  },
  {
   "cell_type": "code",
   "execution_count": null,
   "id": "d04e08d5",
   "metadata": {},
   "outputs": [],
   "source": [
    "df_employes_columns = pd.read_csv('import_csv/data.csv')"
   ]
  },
  {
   "cell_type": "markdown",
   "id": "1495b7ab",
   "metadata": {},
   "source": [
    "7. Ne pas importer certaines lignes de données"
   ]
  },
  {
   "cell_type": "code",
   "execution_count": null,
   "id": "2dfa1552",
   "metadata": {},
   "outputs": [],
   "source": [
    "df_employes_head = pd.read_csv('import_csv/data_head.csv')"
   ]
  },
  {
   "cell_type": "markdown",
   "id": "9512e52e",
   "metadata": {},
   "source": [
    "8. spécifier des valeurs supplémentaires à considérer comme NA/NaN"
   ]
  },
  {
   "cell_type": "code",
   "execution_count": null,
   "id": "caac3974",
   "metadata": {},
   "outputs": [],
   "source": [
    "df_employes_na = pd.read_csv('import_csv/data_na.csv')"
   ]
  },
  {
   "cell_type": "code",
   "execution_count": null,
   "id": "dc143906",
   "metadata": {},
   "outputs": [],
   "source": [
    "df_employes_na = pd.read_csv('import_csv/data_na.csv')"
   ]
  },
  {
   "cell_type": "markdown",
   "id": "9e1cb66b",
   "metadata": {},
   "source": [
    "<h1> Importer d'autres types de fichiers </h1>\n",
    "\n",
    "<b> Importer un fichier Excel </b>\n",
    "\n",
    "Pour lire ce fichier Excel et le convertir en DataFrame, nous utilisons pd.read_excel()"
   ]
  },
  {
   "cell_type": "code",
   "execution_count": null,
   "id": "161fa680",
   "metadata": {},
   "outputs": [],
   "source": [
    "df_employes = pd.read_excel('donnees_employes.xlsx', sheet_name='Employés')\n",
    "df_employes"
   ]
  },
  {
   "cell_type": "code",
   "execution_count": null,
   "id": "a00a4238",
   "metadata": {},
   "outputs": [],
   "source": [
    "df_projets = pd.read_excel('donnees_employes.xlsx', sheet_name='Projets')\n",
    "df_projets"
   ]
  },
  {
   "cell_type": "code",
   "execution_count": null,
   "id": "08bc06d6",
   "metadata": {},
   "outputs": [],
   "source": [
    "#Vous pouvez également charger tous les onglets en une seule fois en spécifiant sheet_name=None\n",
    "all_sheets = pd.read_excel('donnees_employes.xlsx', sheet_name=None)\n",
    "all_sheets"
   ]
  },
  {
   "cell_type": "code",
   "execution_count": null,
   "id": "5424b6c2",
   "metadata": {},
   "outputs": [],
   "source": [
    "all_sheets.keys()"
   ]
  },
  {
   "cell_type": "code",
   "execution_count": null,
   "id": "e61dfa15",
   "metadata": {},
   "outputs": [],
   "source": [
    "all_sheets['Projets']"
   ]
  },
  {
   "cell_type": "markdown",
   "id": "7c66947f",
   "metadata": {},
   "source": [
    "<h1> Importer un fichier Json </h1>\n",
    "\n",
    "Pour lire ce fichier JSON et le convertir en DataFrame, nous utilisons pd.read_json()"
   ]
  },
  {
   "cell_type": "code",
   "execution_count": null,
   "id": "ae99ab15",
   "metadata": {},
   "outputs": [],
   "source": [
    "df_employes = pd.read_json('fichier_json_classique.json')\n",
    "df_employes"
   ]
  },
  {
   "cell_type": "code",
   "execution_count": null,
   "id": "53dc99bf",
   "metadata": {},
   "outputs": [],
   "source": [
    "df_employes_a_retravailler = pd.read_json('fichier_json.json')\n",
    "df_employes_a_retravailler"
   ]
  },
  {
   "cell_type": "code",
   "execution_count": null,
   "id": "902b7a83",
   "metadata": {},
   "outputs": [],
   "source": [
    "df_employes_a_retravailler['employes']"
   ]
  },
  {
   "cell_type": "code",
   "execution_count": null,
   "id": "cdff5799",
   "metadata": {},
   "outputs": [],
   "source": [
    "pd.DataFrame(list(df_employes_a_retravailler['employes']))"
   ]
  },
  {
   "cell_type": "markdown",
   "id": "811d4c7b",
   "metadata": {},
   "source": [
    "<h1> Exporter son dataframe en différents formats </h1>\n",
    "\n",
    "Une fois vos modifications réalisées sur vos données, vous pouvez enregistrer vos modifications sous différents format"
   ]
  },
  {
   "cell_type": "code",
   "execution_count": null,
   "id": "45fc4f12",
   "metadata": {},
   "outputs": [],
   "source": [
    "df_employes_na = pd.read_csv('import_csv/data_na.csv', sep=\";\")\n",
    "df_employes_na"
   ]
  },
  {
   "cell_type": "code",
   "execution_count": null,
   "id": "94c8cc4b",
   "metadata": {},
   "outputs": [],
   "source": [
    "df_employes_na.to_csv('employes_save.csv', index=False)"
   ]
  },
  {
   "cell_type": "code",
   "execution_count": null,
   "id": "5dbca36e",
   "metadata": {},
   "outputs": [],
   "source": [
    "df_employes_na.to_excel('employes_save.xlsx', index=False)"
   ]
  },
  {
   "cell_type": "code",
   "execution_count": null,
   "id": "92821a65",
   "metadata": {},
   "outputs": [],
   "source": [
    "df_employes_na.to_json('employes.json')"
   ]
  }
 ],
 "metadata": {
  "kernelspec": {
   "display_name": "Python 3 (ipykernel)",
   "language": "python",
   "name": "python3"
  },
  "language_info": {
   "codemirror_mode": {
    "name": "ipython",
    "version": 3
   },
   "file_extension": ".py",
   "mimetype": "text/x-python",
   "name": "python",
   "nbconvert_exporter": "python",
   "pygments_lexer": "ipython3",
   "version": "3.11.5"
  }
 },
 "nbformat": 4,
 "nbformat_minor": 5
}
