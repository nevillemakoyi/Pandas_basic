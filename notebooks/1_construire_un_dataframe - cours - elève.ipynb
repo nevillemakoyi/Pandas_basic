{
 "cells": [
  {
   "cell_type": "markdown",
   "id": "c1620952",
   "metadata": {},
   "source": [
    "<h1> Créer et consulter une série Pandas </h1>\n",
    "\n",
    "\n",
    "<b> Qu'est-ce qu'une série Pandas ? </b>\n",
    "\n",
    "Une série Pandas est un tableau unidimensionnel étiqueté capable de contenir des données de tout type (entier, chaîne, flottant, objets Python, etc.). \n",
    "La série est l'une des structures de données de base de Pandas."
   ]
  },
  {
   "cell_type": "code",
   "execution_count": 117,
   "id": "08dd8819",
   "metadata": {},
   "outputs": [],
   "source": [
    "import pandas as pd"
   ]
  },
  {
   "cell_type": "markdown",
   "id": "a67bceb5",
   "metadata": {},
   "source": [
    "Créer une série Pandas à partir d'une liste"
   ]
  },
  {
   "cell_type": "code",
   "execution_count": 118,
   "id": "587c4bf8",
   "metadata": {},
   "outputs": [
    {
     "name": "stdout",
     "output_type": "stream",
     "text": [
      "0    10\n",
      "1    20\n",
      "2    30\n",
      "3    40\n",
      "4    50\n",
      "dtype: int64\n"
     ]
    }
   ],
   "source": [
    "liste_exemple = [10, 20, 30, 40, 50]\n",
    "serie_exemple =pd.Series(liste_exemple)\n",
    "print(serie_exemple)"
   ]
  },
  {
   "cell_type": "markdown",
   "id": "c3503a2a",
   "metadata": {},
   "source": [
    "Accéder à un élément d'une série Pandas"
   ]
  },
  {
   "cell_type": "code",
   "execution_count": 119,
   "id": "64e99768",
   "metadata": {},
   "outputs": [
    {
     "data": {
      "text/plain": [
       "10"
      ]
     },
     "execution_count": 119,
     "metadata": {},
     "output_type": "execute_result"
    }
   ],
   "source": [
    "serie_exemple[0]"
   ]
  },
  {
   "cell_type": "markdown",
   "id": "e735b21b",
   "metadata": {},
   "source": [
    "Créer une série Pandas avec un index personnalisé"
   ]
  },
  {
   "cell_type": "code",
   "execution_count": 120,
   "id": "50d68309",
   "metadata": {},
   "outputs": [
    {
     "name": "stdout",
     "output_type": "stream",
     "text": [
      "a    10\n",
      "b    20\n",
      "c    30\n",
      "d    40\n",
      "e    50\n",
      "dtype: int64\n"
     ]
    }
   ],
   "source": [
    "index_personnalise = ['a', 'b', 'c', 'd', 'e']\n",
    "serie_exemple = pd.Series(liste_exemple, index= index_personnalise)\n",
    "print(serie_exemple)"
   ]
  },
  {
   "cell_type": "markdown",
   "id": "a9f30610",
   "metadata": {},
   "source": [
    "Accéder à un élément d'une série avec un index personnalisé"
   ]
  },
  {
   "cell_type": "code",
   "execution_count": 121,
   "id": "e69ff3f7",
   "metadata": {},
   "outputs": [
    {
     "data": {
      "text/plain": [
       "10"
      ]
     },
     "execution_count": 121,
     "metadata": {},
     "output_type": "execute_result"
    }
   ],
   "source": [
    "serie_exemple['a']"
   ]
  },
  {
   "cell_type": "markdown",
   "id": "8ba7a54e",
   "metadata": {},
   "source": [
    "Exemple avec des données de ventes pour un produit"
   ]
  },
  {
   "cell_type": "code",
   "execution_count": 122,
   "id": "fa8a6045",
   "metadata": {},
   "outputs": [
    {
     "name": "stdout",
     "output_type": "stream",
     "text": [
      "     Ventes\n",
      "Jan     150\n",
      "Fev     200\n",
      "Mar     250\n",
      "Avr     300\n",
      "Mai     350\n",
      "Jun     400\n"
     ]
    }
   ],
   "source": [
    "ventes_produit = [150, 200, 250, 300, 350, 400]\n",
    "mois = ['Jan', 'Fev', 'Mar', 'Avr', 'Mai', 'Jun']\n",
    "\n",
    "sales_df = pd.DataFrame(ventes_produit, index=mois, columns=['Ventes'])\n",
    "print(sales_df)"
   ]
  },
  {
   "cell_type": "markdown",
   "id": "9ead3e74",
   "metadata": {},
   "source": [
    "<h1> Créer un dataframe pandas à partir de liste ou d'un dictionnaire </h1>\n",
    "\n",
    "<b> Qu'est-ce qu'un dataframe ? </b>\n",
    "\n",
    "Un DataFrame est une structure de données bidimensionnelle, potentiellement hétérogène, avec des axes étiquetés (lignes et colonnes). <br>\n",
    "Pensez à un DataFrame comme à une table SQL, ou à un tableau Excel.\n",
    "\n",
    "<b> Créer un dataframe à partir d'un dictionnaire </b>"
   ]
  },
  {
   "cell_type": "code",
   "execution_count": 123,
   "id": "88d40504",
   "metadata": {},
   "outputs": [
    {
     "name": "stdout",
     "output_type": "stream",
     "text": [
      "     Fruit  Ventes\n",
      "0   Pommes     100\n",
      "1  Oranges     150\n",
      "2  Bananes     200\n",
      "3  Fraises     250\n"
     ]
    }
   ],
   "source": [
    "import pandas as pd\n",
    "\n",
    "data = {\n",
    "    'Fruit': ['Pommes', 'Oranges', 'Bananes', 'Fraises'],\n",
    "    'Ventes': [100, 150, 200, 250,]\n",
    "}\n",
    "df = pd.DataFrame(data)\n",
    "print(df) "
   ]
  },
  {
   "cell_type": "code",
   "execution_count": 124,
   "id": "c4f95d85",
   "metadata": {},
   "outputs": [
    {
     "name": "stdout",
     "output_type": "stream",
     "text": [
      "     Fruit  Ventes  Stock\n",
      "0   Pommes     100    NaN\n",
      "1  Oranges     150    NaN\n",
      "2  Bananes     200   50.0\n",
      "3  Fraises     250    NaN\n"
     ]
    }
   ],
   "source": [
    "data_varie = [\n",
    "    {'Fruit': 'Pommes', 'Ventes': 100},\n",
    "    {'Fruit': 'Oranges', 'Ventes': 150},\n",
    "    {'Fruit': 'Bananes', 'Ventes': 200, 'Stock': 50},\n",
    "    {'Fruit': 'Fraises', 'Ventes': 250}\n",
    "]\n",
    "\n",
    "df_ventes_varie = pd.DataFrame(data_varie)\n",
    "print(df_ventes_varie)"
   ]
  },
  {
   "cell_type": "markdown",
   "id": "f68a5d49",
   "metadata": {},
   "source": [
    "<b> Créer un dataFrame à partir de listes </b>"
   ]
  },
  {
   "cell_type": "code",
   "execution_count": 125,
   "id": "11d37151",
   "metadata": {},
   "outputs": [],
   "source": [
    "ventes_produit_A = [150, 200, 250, 300, 350, 400]\n",
    "ventes_produit_B = [100, 150, 200, 250, 300, 350]\n",
    "ventes_produit_C = [50, 100, 150, 200, 250, 300]\n",
    "\n",
    "# Création des séries Pandas pour chaque produit\n",
    "mois = ['Jan', 'Fev', 'Mar', 'Avr', 'Mai', 'Jun']"
   ]
  },
  {
   "cell_type": "code",
   "execution_count": 126,
   "id": "9eb3d6a8",
   "metadata": {},
   "outputs": [
    {
     "data": {
      "text/plain": [
       "[('Jan', 150, 100, 50),\n",
       " ('Fev', 200, 150, 100),\n",
       " ('Mar', 250, 200, 150),\n",
       " ('Avr', 300, 250, 200),\n",
       " ('Mai', 350, 300, 250),\n",
       " ('Jun', 400, 350, 300)]"
      ]
     },
     "execution_count": 126,
     "metadata": {},
     "output_type": "execute_result"
    }
   ],
   "source": [
    "list(zip(mois,ventes_produit_A,ventes_produit_B,ventes_produit_C))"
   ]
  },
  {
   "cell_type": "code",
   "execution_count": 127,
   "id": "641ee977",
   "metadata": {},
   "outputs": [
    {
     "data": {
      "application/vnd.microsoft.datawrangler.viewer.v0+json": {
       "columns": [
        {
         "name": "mois",
         "rawType": "object",
         "type": "string"
        },
        {
         "name": "produit A",
         "rawType": "int64",
         "type": "integer"
        },
        {
         "name": "produit B",
         "rawType": "int64",
         "type": "integer"
        },
        {
         "name": "produit C",
         "rawType": "int64",
         "type": "integer"
        }
       ],
       "conversionMethod": "pd.DataFrame",
       "ref": "c39b1a14-2ee1-4e7d-ae87-601d1469424d",
       "rows": [
        [
         "Jan",
         "150",
         "100",
         "50"
        ],
        [
         "Fev",
         "200",
         "150",
         "100"
        ],
        [
         "Mar",
         "250",
         "200",
         "150"
        ],
        [
         "Avr",
         "300",
         "250",
         "200"
        ],
        [
         "Mai",
         "350",
         "300",
         "250"
        ],
        [
         "Jun",
         "400",
         "350",
         "300"
        ]
       ],
       "shape": {
        "columns": 3,
        "rows": 6
       }
      },
      "text/html": [
       "<div>\n",
       "<style scoped>\n",
       "    .dataframe tbody tr th:only-of-type {\n",
       "        vertical-align: middle;\n",
       "    }\n",
       "\n",
       "    .dataframe tbody tr th {\n",
       "        vertical-align: top;\n",
       "    }\n",
       "\n",
       "    .dataframe thead th {\n",
       "        text-align: right;\n",
       "    }\n",
       "</style>\n",
       "<table border=\"1\" class=\"dataframe\">\n",
       "  <thead>\n",
       "    <tr style=\"text-align: right;\">\n",
       "      <th></th>\n",
       "      <th>produit A</th>\n",
       "      <th>produit B</th>\n",
       "      <th>produit C</th>\n",
       "    </tr>\n",
       "    <tr>\n",
       "      <th>mois</th>\n",
       "      <th></th>\n",
       "      <th></th>\n",
       "      <th></th>\n",
       "    </tr>\n",
       "  </thead>\n",
       "  <tbody>\n",
       "    <tr>\n",
       "      <th>Jan</th>\n",
       "      <td>150</td>\n",
       "      <td>100</td>\n",
       "      <td>50</td>\n",
       "    </tr>\n",
       "    <tr>\n",
       "      <th>Fev</th>\n",
       "      <td>200</td>\n",
       "      <td>150</td>\n",
       "      <td>100</td>\n",
       "    </tr>\n",
       "    <tr>\n",
       "      <th>Mar</th>\n",
       "      <td>250</td>\n",
       "      <td>200</td>\n",
       "      <td>150</td>\n",
       "    </tr>\n",
       "    <tr>\n",
       "      <th>Avr</th>\n",
       "      <td>300</td>\n",
       "      <td>250</td>\n",
       "      <td>200</td>\n",
       "    </tr>\n",
       "    <tr>\n",
       "      <th>Mai</th>\n",
       "      <td>350</td>\n",
       "      <td>300</td>\n",
       "      <td>250</td>\n",
       "    </tr>\n",
       "    <tr>\n",
       "      <th>Jun</th>\n",
       "      <td>400</td>\n",
       "      <td>350</td>\n",
       "      <td>300</td>\n",
       "    </tr>\n",
       "  </tbody>\n",
       "</table>\n",
       "</div>"
      ],
      "text/plain": [
       "      produit A  produit B  produit C\n",
       "mois                                 \n",
       "Jan         150        100         50\n",
       "Fev         200        150        100\n",
       "Mar         250        200        150\n",
       "Avr         300        250        200\n",
       "Mai         350        300        250\n",
       "Jun         400        350        300"
      ]
     },
     "execution_count": 127,
     "metadata": {},
     "output_type": "execute_result"
    }
   ],
   "source": [
    "df_ventes = pd.DataFrame(list(zip(mois,ventes_produit_A,ventes_produit_B,ventes_produit_C)), columns=['mois','produit A','produit B', 'produit C'])\n",
    "df_ventes.set_index('mois')"
   ]
  },
  {
   "cell_type": "markdown",
   "id": "e4cb658e",
   "metadata": {},
   "source": [
    "<h1> Gestion de l'index dans un dataframe </h1>\n",
    "\n",
    "Imaginons que nous ayons un DataFrame représentant les ventes mensuelles de différents produits"
   ]
  },
  {
   "cell_type": "code",
   "execution_count": 128,
   "id": "6f48de1f",
   "metadata": {},
   "outputs": [
    {
     "data": {
      "application/vnd.microsoft.datawrangler.viewer.v0+json": {
       "columns": [
        {
         "name": "Mois",
         "rawType": "object",
         "type": "string"
        },
        {
         "name": "Produit A",
         "rawType": "int64",
         "type": "integer"
        },
        {
         "name": "Produit B",
         "rawType": "int64",
         "type": "integer"
        }
       ],
       "conversionMethod": "pd.DataFrame",
       "ref": "671e4737-539d-4273-8a29-1a507a88a822",
       "rows": [
        [
         "Janvier",
         "100",
         "90"
        ],
        [
         "Février",
         "150",
         "120"
        ],
        [
         "Mars",
         "200",
         "150"
        ],
        [
         "Avril",
         "250",
         "180"
        ]
       ],
       "shape": {
        "columns": 2,
        "rows": 4
       }
      },
      "text/html": [
       "<div>\n",
       "<style scoped>\n",
       "    .dataframe tbody tr th:only-of-type {\n",
       "        vertical-align: middle;\n",
       "    }\n",
       "\n",
       "    .dataframe tbody tr th {\n",
       "        vertical-align: top;\n",
       "    }\n",
       "\n",
       "    .dataframe thead th {\n",
       "        text-align: right;\n",
       "    }\n",
       "</style>\n",
       "<table border=\"1\" class=\"dataframe\">\n",
       "  <thead>\n",
       "    <tr style=\"text-align: right;\">\n",
       "      <th></th>\n",
       "      <th>Produit A</th>\n",
       "      <th>Produit B</th>\n",
       "    </tr>\n",
       "    <tr>\n",
       "      <th>Mois</th>\n",
       "      <th></th>\n",
       "      <th></th>\n",
       "    </tr>\n",
       "  </thead>\n",
       "  <tbody>\n",
       "    <tr>\n",
       "      <th>Janvier</th>\n",
       "      <td>100</td>\n",
       "      <td>90</td>\n",
       "    </tr>\n",
       "    <tr>\n",
       "      <th>Février</th>\n",
       "      <td>150</td>\n",
       "      <td>120</td>\n",
       "    </tr>\n",
       "    <tr>\n",
       "      <th>Mars</th>\n",
       "      <td>200</td>\n",
       "      <td>150</td>\n",
       "    </tr>\n",
       "    <tr>\n",
       "      <th>Avril</th>\n",
       "      <td>250</td>\n",
       "      <td>180</td>\n",
       "    </tr>\n",
       "  </tbody>\n",
       "</table>\n",
       "</div>"
      ],
      "text/plain": [
       "         Produit A  Produit B\n",
       "Mois                         \n",
       "Janvier        100         90\n",
       "Février        150        120\n",
       "Mars           200        150\n",
       "Avril          250        180"
      ]
     },
     "execution_count": 128,
     "metadata": {},
     "output_type": "execute_result"
    }
   ],
   "source": [
    "import pandas as pd\n",
    "\n",
    "data = {\n",
    "    'Mois': ['Janvier', 'Février', 'Mars', 'Avril'],\n",
    "    'Produit A': [100, 150, 200, 250],\n",
    "    'Produit B': [90, 120, 150, 180]\n",
    "}\n",
    "\n",
    "df_ventes = pd.DataFrame(data)\n",
    "df_ventes = df_ventes.set_index('Mois')\n",
    "df_ventes\n"
   ]
  },
  {
   "cell_type": "markdown",
   "id": "233c55c7",
   "metadata": {},
   "source": [
    "Lorsque nous créons un DataFrame, Pandas attribue automatiquement un index numérique à chaque ligne."
   ]
  },
  {
   "cell_type": "code",
   "execution_count": 129,
   "id": "6ec96f6e",
   "metadata": {},
   "outputs": [
    {
     "data": {
      "application/vnd.microsoft.datawrangler.viewer.v0+json": {
       "columns": [
        {
         "name": "Mois",
         "rawType": "object",
         "type": "string"
        },
        {
         "name": "Produit A",
         "rawType": "int64",
         "type": "integer"
        },
        {
         "name": "Produit B",
         "rawType": "int64",
         "type": "integer"
        }
       ],
       "conversionMethod": "pd.DataFrame",
       "ref": "190fe424-33dc-4fc5-ae47-440324b49158",
       "rows": [
        [
         "Janvier",
         "100",
         "90"
        ],
        [
         "Février",
         "150",
         "120"
        ],
        [
         "Mars",
         "200",
         "150"
        ],
        [
         "Avril",
         "250",
         "180"
        ]
       ],
       "shape": {
        "columns": 2,
        "rows": 4
       }
      },
      "text/html": [
       "<div>\n",
       "<style scoped>\n",
       "    .dataframe tbody tr th:only-of-type {\n",
       "        vertical-align: middle;\n",
       "    }\n",
       "\n",
       "    .dataframe tbody tr th {\n",
       "        vertical-align: top;\n",
       "    }\n",
       "\n",
       "    .dataframe thead th {\n",
       "        text-align: right;\n",
       "    }\n",
       "</style>\n",
       "<table border=\"1\" class=\"dataframe\">\n",
       "  <thead>\n",
       "    <tr style=\"text-align: right;\">\n",
       "      <th></th>\n",
       "      <th>Produit A</th>\n",
       "      <th>Produit B</th>\n",
       "    </tr>\n",
       "    <tr>\n",
       "      <th>Mois</th>\n",
       "      <th></th>\n",
       "      <th></th>\n",
       "    </tr>\n",
       "  </thead>\n",
       "  <tbody>\n",
       "    <tr>\n",
       "      <th>Janvier</th>\n",
       "      <td>100</td>\n",
       "      <td>90</td>\n",
       "    </tr>\n",
       "    <tr>\n",
       "      <th>Février</th>\n",
       "      <td>150</td>\n",
       "      <td>120</td>\n",
       "    </tr>\n",
       "    <tr>\n",
       "      <th>Mars</th>\n",
       "      <td>200</td>\n",
       "      <td>150</td>\n",
       "    </tr>\n",
       "    <tr>\n",
       "      <th>Avril</th>\n",
       "      <td>250</td>\n",
       "      <td>180</td>\n",
       "    </tr>\n",
       "  </tbody>\n",
       "</table>\n",
       "</div>"
      ],
      "text/plain": [
       "         Produit A  Produit B\n",
       "Mois                         \n",
       "Janvier        100         90\n",
       "Février        150        120\n",
       "Mars           200        150\n",
       "Avril          250        180"
      ]
     },
     "execution_count": 129,
     "metadata": {},
     "output_type": "execute_result"
    }
   ],
   "source": [
    "df_ventes"
   ]
  },
  {
   "cell_type": "code",
   "execution_count": 130,
   "id": "e686438a",
   "metadata": {},
   "outputs": [
    {
     "data": {
      "application/vnd.microsoft.datawrangler.viewer.v0+json": {
       "columns": [
        {
         "name": "Mois",
         "rawType": "object",
         "type": "string"
        },
        {
         "name": "Produit A",
         "rawType": "int64",
         "type": "integer"
        }
       ],
       "conversionMethod": "pd.DataFrame",
       "ref": "8572af3a-9263-4962-a13e-e5bf8adbda17",
       "rows": [
        [
         "Janvier",
         "100"
        ]
       ],
       "shape": {
        "columns": 1,
        "rows": 1
       }
      },
      "text/html": [
       "<div>\n",
       "<style scoped>\n",
       "    .dataframe tbody tr th:only-of-type {\n",
       "        vertical-align: middle;\n",
       "    }\n",
       "\n",
       "    .dataframe tbody tr th {\n",
       "        vertical-align: top;\n",
       "    }\n",
       "\n",
       "    .dataframe thead th {\n",
       "        text-align: right;\n",
       "    }\n",
       "</style>\n",
       "<table border=\"1\" class=\"dataframe\">\n",
       "  <thead>\n",
       "    <tr style=\"text-align: right;\">\n",
       "      <th></th>\n",
       "      <th>Produit A</th>\n",
       "    </tr>\n",
       "    <tr>\n",
       "      <th>Mois</th>\n",
       "      <th></th>\n",
       "    </tr>\n",
       "  </thead>\n",
       "  <tbody>\n",
       "    <tr>\n",
       "      <th>Janvier</th>\n",
       "      <td>100</td>\n",
       "    </tr>\n",
       "  </tbody>\n",
       "</table>\n",
       "</div>"
      ],
      "text/plain": [
       "         Produit A\n",
       "Mois              \n",
       "Janvier        100"
      ]
     },
     "execution_count": 130,
     "metadata": {},
     "output_type": "execute_result"
    }
   ],
   "source": [
    "df_ventes.loc[['Janvier'], ['Produit A']]"
   ]
  },
  {
   "cell_type": "markdown",
   "id": "abfec51e",
   "metadata": {},
   "source": [
    "Dans notre cas, il serait logique d'utiliser les mois comme index."
   ]
  },
  {
   "cell_type": "code",
   "execution_count": 131,
   "id": "7866d7a7",
   "metadata": {},
   "outputs": [
    {
     "data": {
      "application/vnd.microsoft.datawrangler.viewer.v0+json": {
       "columns": [
        {
         "name": "Mois",
         "rawType": "object",
         "type": "string"
        },
        {
         "name": "Produit A",
         "rawType": "int64",
         "type": "integer"
        },
        {
         "name": "Produit B",
         "rawType": "int64",
         "type": "integer"
        }
       ],
       "conversionMethod": "pd.DataFrame",
       "ref": "8a193d15-8952-46be-807d-2cb009c7159a",
       "rows": [
        [
         "Janvier",
         "100",
         "90"
        ],
        [
         "Février",
         "150",
         "120"
        ],
        [
         "Mars",
         "200",
         "150"
        ],
        [
         "Avril",
         "250",
         "180"
        ]
       ],
       "shape": {
        "columns": 2,
        "rows": 4
       }
      },
      "text/html": [
       "<div>\n",
       "<style scoped>\n",
       "    .dataframe tbody tr th:only-of-type {\n",
       "        vertical-align: middle;\n",
       "    }\n",
       "\n",
       "    .dataframe tbody tr th {\n",
       "        vertical-align: top;\n",
       "    }\n",
       "\n",
       "    .dataframe thead th {\n",
       "        text-align: right;\n",
       "    }\n",
       "</style>\n",
       "<table border=\"1\" class=\"dataframe\">\n",
       "  <thead>\n",
       "    <tr style=\"text-align: right;\">\n",
       "      <th></th>\n",
       "      <th>Produit A</th>\n",
       "      <th>Produit B</th>\n",
       "    </tr>\n",
       "    <tr>\n",
       "      <th>Mois</th>\n",
       "      <th></th>\n",
       "      <th></th>\n",
       "    </tr>\n",
       "  </thead>\n",
       "  <tbody>\n",
       "    <tr>\n",
       "      <th>Janvier</th>\n",
       "      <td>100</td>\n",
       "      <td>90</td>\n",
       "    </tr>\n",
       "    <tr>\n",
       "      <th>Février</th>\n",
       "      <td>150</td>\n",
       "      <td>120</td>\n",
       "    </tr>\n",
       "    <tr>\n",
       "      <th>Mars</th>\n",
       "      <td>200</td>\n",
       "      <td>150</td>\n",
       "    </tr>\n",
       "    <tr>\n",
       "      <th>Avril</th>\n",
       "      <td>250</td>\n",
       "      <td>180</td>\n",
       "    </tr>\n",
       "  </tbody>\n",
       "</table>\n",
       "</div>"
      ],
      "text/plain": [
       "         Produit A  Produit B\n",
       "Mois                         \n",
       "Janvier        100         90\n",
       "Février        150        120\n",
       "Mars           200        150\n",
       "Avril          250        180"
      ]
     },
     "execution_count": 131,
     "metadata": {},
     "output_type": "execute_result"
    }
   ],
   "source": [
    "df_ventes"
   ]
  },
  {
   "cell_type": "code",
   "execution_count": null,
   "id": "673853bd",
   "metadata": {},
   "outputs": [],
   "source": []
  },
  {
   "cell_type": "code",
   "execution_count": null,
   "id": "d6564735",
   "metadata": {},
   "outputs": [],
   "source": []
  },
  {
   "cell_type": "markdown",
   "id": "c1d29b5a",
   "metadata": {},
   "source": [
    "Si nécessaire, nous pouvons réinitialiser l'index à sa forme numérique par défaut"
   ]
  },
  {
   "cell_type": "code",
   "execution_count": 132,
   "id": "ddd0368c",
   "metadata": {},
   "outputs": [
    {
     "data": {
      "text/plain": [
       "pandas.core.frame.DataFrame"
      ]
     },
     "execution_count": 132,
     "metadata": {},
     "output_type": "execute_result"
    }
   ],
   "source": [
    "type(df_ventes)"
   ]
  },
  {
   "cell_type": "markdown",
   "id": "9dc5ff7d",
   "metadata": {},
   "source": [
    "Il est également possible de spécifier l'index personnalisé dès la création du dataframe"
   ]
  },
  {
   "cell_type": "code",
   "execution_count": 133,
   "id": "654de387",
   "metadata": {},
   "outputs": [],
   "source": [
    "data = {\n",
    "    'Produit A': [100, 150, 200, 250],\n",
    "    'Produit B': [90, 120, 150, 180]\n",
    "}\n",
    "\n",
    "mois = ['Janvier', 'Février', 'Mars', 'Avril']\n",
    "\n",
    "df_ventes = df_ventes.reset_index()"
   ]
  },
  {
   "cell_type": "code",
   "execution_count": 134,
   "id": "ebbdfc4b",
   "metadata": {},
   "outputs": [
    {
     "data": {
      "application/vnd.microsoft.datawrangler.viewer.v0+json": {
       "columns": [
        {
         "name": "index",
         "rawType": "int64",
         "type": "integer"
        },
        {
         "name": "Mois",
         "rawType": "object",
         "type": "string"
        },
        {
         "name": "Produit A",
         "rawType": "int64",
         "type": "integer"
        },
        {
         "name": "Produit B",
         "rawType": "int64",
         "type": "integer"
        }
       ],
       "conversionMethod": "pd.DataFrame",
       "ref": "17186547-a52c-45da-a466-20ab1e16c6a0",
       "rows": [
        [
         "0",
         "Janvier",
         "100",
         "90"
        ],
        [
         "1",
         "Février",
         "150",
         "120"
        ],
        [
         "2",
         "Mars",
         "200",
         "150"
        ],
        [
         "3",
         "Avril",
         "250",
         "180"
        ]
       ],
       "shape": {
        "columns": 3,
        "rows": 4
       }
      },
      "text/html": [
       "<div>\n",
       "<style scoped>\n",
       "    .dataframe tbody tr th:only-of-type {\n",
       "        vertical-align: middle;\n",
       "    }\n",
       "\n",
       "    .dataframe tbody tr th {\n",
       "        vertical-align: top;\n",
       "    }\n",
       "\n",
       "    .dataframe thead th {\n",
       "        text-align: right;\n",
       "    }\n",
       "</style>\n",
       "<table border=\"1\" class=\"dataframe\">\n",
       "  <thead>\n",
       "    <tr style=\"text-align: right;\">\n",
       "      <th></th>\n",
       "      <th>Mois</th>\n",
       "      <th>Produit A</th>\n",
       "      <th>Produit B</th>\n",
       "    </tr>\n",
       "  </thead>\n",
       "  <tbody>\n",
       "    <tr>\n",
       "      <th>0</th>\n",
       "      <td>Janvier</td>\n",
       "      <td>100</td>\n",
       "      <td>90</td>\n",
       "    </tr>\n",
       "    <tr>\n",
       "      <th>1</th>\n",
       "      <td>Février</td>\n",
       "      <td>150</td>\n",
       "      <td>120</td>\n",
       "    </tr>\n",
       "    <tr>\n",
       "      <th>2</th>\n",
       "      <td>Mars</td>\n",
       "      <td>200</td>\n",
       "      <td>150</td>\n",
       "    </tr>\n",
       "    <tr>\n",
       "      <th>3</th>\n",
       "      <td>Avril</td>\n",
       "      <td>250</td>\n",
       "      <td>180</td>\n",
       "    </tr>\n",
       "  </tbody>\n",
       "</table>\n",
       "</div>"
      ],
      "text/plain": [
       "      Mois  Produit A  Produit B\n",
       "0  Janvier        100         90\n",
       "1  Février        150        120\n",
       "2     Mars        200        150\n",
       "3    Avril        250        180"
      ]
     },
     "execution_count": 134,
     "metadata": {},
     "output_type": "execute_result"
    }
   ],
   "source": [
    "df_ventes"
   ]
  },
  {
   "cell_type": "markdown",
   "id": "89f3a229",
   "metadata": {},
   "source": [
    "<h1> Créer un dataframe à partir d'un fichier CSV </h1>\n",
    "\n",
    "1. Import basique"
   ]
  },
  {
   "cell_type": "code",
   "execution_count": 139,
   "id": "59fd2df4",
   "metadata": {},
   "outputs": [
    {
     "data": {
      "application/vnd.microsoft.datawrangler.viewer.v0+json": {
       "columns": [
        {
         "name": "index",
         "rawType": "int64",
         "type": "integer"
        },
        {
         "name": "Nom",
         "rawType": "object",
         "type": "string"
        },
        {
         "name": "Poste",
         "rawType": "object",
         "type": "string"
        },
        {
         "name": "Salaire",
         "rawType": "int64",
         "type": "integer"
        }
       ],
       "conversionMethod": "pd.DataFrame",
       "ref": "e5821795-c056-4486-9b75-d21bbc2fd703",
       "rows": [
        [
         "0",
         "John Doe",
         "Ingenieur",
         "50000"
        ],
        [
         "1",
         "Jane Smith",
         "Analyste de donnees",
         "60000"
        ],
        [
         "2",
         "Emma Jones",
         "Chef de projet",
         "70000"
        ],
        [
         "3",
         "Alex Brown",
         "Developpeur",
         "55000"
        ]
       ],
       "shape": {
        "columns": 3,
        "rows": 4
       }
      },
      "text/html": [
       "<div>\n",
       "<style scoped>\n",
       "    .dataframe tbody tr th:only-of-type {\n",
       "        vertical-align: middle;\n",
       "    }\n",
       "\n",
       "    .dataframe tbody tr th {\n",
       "        vertical-align: top;\n",
       "    }\n",
       "\n",
       "    .dataframe thead th {\n",
       "        text-align: right;\n",
       "    }\n",
       "</style>\n",
       "<table border=\"1\" class=\"dataframe\">\n",
       "  <thead>\n",
       "    <tr style=\"text-align: right;\">\n",
       "      <th></th>\n",
       "      <th>Nom</th>\n",
       "      <th>Poste</th>\n",
       "      <th>Salaire</th>\n",
       "    </tr>\n",
       "  </thead>\n",
       "  <tbody>\n",
       "    <tr>\n",
       "      <th>0</th>\n",
       "      <td>John Doe</td>\n",
       "      <td>Ingenieur</td>\n",
       "      <td>50000</td>\n",
       "    </tr>\n",
       "    <tr>\n",
       "      <th>1</th>\n",
       "      <td>Jane Smith</td>\n",
       "      <td>Analyste de donnees</td>\n",
       "      <td>60000</td>\n",
       "    </tr>\n",
       "    <tr>\n",
       "      <th>2</th>\n",
       "      <td>Emma Jones</td>\n",
       "      <td>Chef de projet</td>\n",
       "      <td>70000</td>\n",
       "    </tr>\n",
       "    <tr>\n",
       "      <th>3</th>\n",
       "      <td>Alex Brown</td>\n",
       "      <td>Developpeur</td>\n",
       "      <td>55000</td>\n",
       "    </tr>\n",
       "  </tbody>\n",
       "</table>\n",
       "</div>"
      ],
      "text/plain": [
       "          Nom                Poste  Salaire\n",
       "0    John Doe            Ingenieur    50000\n",
       "1  Jane Smith  Analyste de donnees    60000\n",
       "2  Emma Jones       Chef de projet    70000\n",
       "3  Alex Brown          Developpeur    55000"
      ]
     },
     "execution_count": 139,
     "metadata": {},
     "output_type": "execute_result"
    }
   ],
   "source": [
    "import pandas as pd\n",
    "\n",
    "path = r'C:\\Users\\nmako\\Documents\\Data-Science-Projects-Repository\\Pandas_basic\\data\\raw\\data.csv'\n",
    "df_employes = pd.read_csv(path)\n",
    "df_employes\n"
   ]
  },
  {
   "cell_type": "markdown",
   "id": "206d1689",
   "metadata": {},
   "source": [
    "2. gestion du caractère séparateur"
   ]
  },
  {
   "cell_type": "code",
   "execution_count": 143,
   "id": "c0aa7068",
   "metadata": {},
   "outputs": [
    {
     "data": {
      "application/vnd.microsoft.datawrangler.viewer.v0+json": {
       "columns": [
        {
         "name": "index",
         "rawType": "int64",
         "type": "integer"
        },
        {
         "name": "Nom",
         "rawType": "object",
         "type": "string"
        },
        {
         "name": "Poste",
         "rawType": "object",
         "type": "string"
        },
        {
         "name": "Salaire",
         "rawType": "int64",
         "type": "integer"
        }
       ],
       "conversionMethod": "pd.DataFrame",
       "ref": "2315d075-ab3f-4ce9-be70-ed676202bc4d",
       "rows": [
        [
         "0",
         "John Doe",
         "Ingenieur",
         "50000"
        ],
        [
         "1",
         "Jane Smith",
         "Analyste de donnees",
         "60000"
        ],
        [
         "2",
         "Emma Jones",
         "Chef de projet",
         "70000"
        ],
        [
         "3",
         "Alex Brown",
         "Developpeur",
         "55000"
        ]
       ],
       "shape": {
        "columns": 3,
        "rows": 4
       }
      },
      "text/html": [
       "<div>\n",
       "<style scoped>\n",
       "    .dataframe tbody tr th:only-of-type {\n",
       "        vertical-align: middle;\n",
       "    }\n",
       "\n",
       "    .dataframe tbody tr th {\n",
       "        vertical-align: top;\n",
       "    }\n",
       "\n",
       "    .dataframe thead th {\n",
       "        text-align: right;\n",
       "    }\n",
       "</style>\n",
       "<table border=\"1\" class=\"dataframe\">\n",
       "  <thead>\n",
       "    <tr style=\"text-align: right;\">\n",
       "      <th></th>\n",
       "      <th>Nom</th>\n",
       "      <th>Poste</th>\n",
       "      <th>Salaire</th>\n",
       "    </tr>\n",
       "  </thead>\n",
       "  <tbody>\n",
       "    <tr>\n",
       "      <th>0</th>\n",
       "      <td>John Doe</td>\n",
       "      <td>Ingenieur</td>\n",
       "      <td>50000</td>\n",
       "    </tr>\n",
       "    <tr>\n",
       "      <th>1</th>\n",
       "      <td>Jane Smith</td>\n",
       "      <td>Analyste de donnees</td>\n",
       "      <td>60000</td>\n",
       "    </tr>\n",
       "    <tr>\n",
       "      <th>2</th>\n",
       "      <td>Emma Jones</td>\n",
       "      <td>Chef de projet</td>\n",
       "      <td>70000</td>\n",
       "    </tr>\n",
       "    <tr>\n",
       "      <th>3</th>\n",
       "      <td>Alex Brown</td>\n",
       "      <td>Developpeur</td>\n",
       "      <td>55000</td>\n",
       "    </tr>\n",
       "  </tbody>\n",
       "</table>\n",
       "</div>"
      ],
      "text/plain": [
       "          Nom                Poste  Salaire\n",
       "0    John Doe            Ingenieur    50000\n",
       "1  Jane Smith  Analyste de donnees    60000\n",
       "2  Emma Jones       Chef de projet    70000\n",
       "3  Alex Brown          Developpeur    55000"
      ]
     },
     "execution_count": 143,
     "metadata": {},
     "output_type": "execute_result"
    }
   ],
   "source": [
    "df_employes_sep = pd.read_csv(r'C:\\Users\\nmako\\Documents\\Data-Science-Projects-Repository\\Pandas_basic\\data\\raw\\data_sep.csv', sep=';')\n",
    "df_employes_sep\n"
   ]
  },
  {
   "cell_type": "markdown",
   "id": "2bfee865",
   "metadata": {},
   "source": [
    "3. Définir la ligne d'entête des colonnes"
   ]
  },
  {
   "cell_type": "code",
   "execution_count": 148,
   "id": "94e2a162",
   "metadata": {},
   "outputs": [
    {
     "data": {
      "application/vnd.microsoft.datawrangler.viewer.v0+json": {
       "columns": [
        {
         "name": "index",
         "rawType": "int64",
         "type": "integer"
        },
        {
         "name": "Nom",
         "rawType": "object",
         "type": "string"
        },
        {
         "name": "Poste",
         "rawType": "object",
         "type": "string"
        },
        {
         "name": "Salaire",
         "rawType": "int64",
         "type": "integer"
        }
       ],
       "conversionMethod": "pd.DataFrame",
       "ref": "8051dc76-44c7-4c55-a016-5aaf8644d6c2",
       "rows": [
        [
         "0",
         "John Doe",
         "Ingenieur",
         "50000"
        ],
        [
         "1",
         "Jane Smith",
         "Analyste de donnees",
         "60000"
        ],
        [
         "2",
         "Emma Jones",
         "Chef de projet",
         "70000"
        ],
        [
         "3",
         "Alex Brown",
         "Developpeur",
         "55000"
        ]
       ],
       "shape": {
        "columns": 3,
        "rows": 4
       }
      },
      "text/html": [
       "<div>\n",
       "<style scoped>\n",
       "    .dataframe tbody tr th:only-of-type {\n",
       "        vertical-align: middle;\n",
       "    }\n",
       "\n",
       "    .dataframe tbody tr th {\n",
       "        vertical-align: top;\n",
       "    }\n",
       "\n",
       "    .dataframe thead th {\n",
       "        text-align: right;\n",
       "    }\n",
       "</style>\n",
       "<table border=\"1\" class=\"dataframe\">\n",
       "  <thead>\n",
       "    <tr style=\"text-align: right;\">\n",
       "      <th></th>\n",
       "      <th>Nom</th>\n",
       "      <th>Poste</th>\n",
       "      <th>Salaire</th>\n",
       "    </tr>\n",
       "  </thead>\n",
       "  <tbody>\n",
       "    <tr>\n",
       "      <th>0</th>\n",
       "      <td>John Doe</td>\n",
       "      <td>Ingenieur</td>\n",
       "      <td>50000</td>\n",
       "    </tr>\n",
       "    <tr>\n",
       "      <th>1</th>\n",
       "      <td>Jane Smith</td>\n",
       "      <td>Analyste de donnees</td>\n",
       "      <td>60000</td>\n",
       "    </tr>\n",
       "    <tr>\n",
       "      <th>2</th>\n",
       "      <td>Emma Jones</td>\n",
       "      <td>Chef de projet</td>\n",
       "      <td>70000</td>\n",
       "    </tr>\n",
       "    <tr>\n",
       "      <th>3</th>\n",
       "      <td>Alex Brown</td>\n",
       "      <td>Developpeur</td>\n",
       "      <td>55000</td>\n",
       "    </tr>\n",
       "  </tbody>\n",
       "</table>\n",
       "</div>"
      ],
      "text/plain": [
       "          Nom                Poste  Salaire\n",
       "0    John Doe            Ingenieur    50000\n",
       "1  Jane Smith  Analyste de donnees    60000\n",
       "2  Emma Jones       Chef de projet    70000\n",
       "3  Alex Brown          Developpeur    55000"
      ]
     },
     "execution_count": 148,
     "metadata": {},
     "output_type": "execute_result"
    }
   ],
   "source": [
    "df_employes_head = pd.read_csv(r'C:\\Users\\nmako\\Documents\\Data-Science-Projects-Repository\\Pandas_basic\\data\\raw\\data_head.csv', header=1, sep=';')\n",
    "df_employes_head"
   ]
  },
  {
   "cell_type": "markdown",
   "id": "eaf5fa49",
   "metadata": {},
   "source": [
    "4. Gestion des csv sans entête"
   ]
  },
  {
   "cell_type": "markdown",
   "id": "e3406db4",
   "metadata": {},
   "source": [
    "df_employes_headless = pd.read_csv('import_csv/data_headless.csv')"
   ]
  },
  {
   "cell_type": "markdown",
   "id": "49e033d0",
   "metadata": {},
   "source": [
    "df_employes_headless = pd.read_csv('import_csv/data_headless.csv')\n"
   ]
  },
  {
   "cell_type": "markdown",
   "id": "5c146730",
   "metadata": {},
   "source": [
    "5. Définir un index personnalisé à l'import"
   ]
  },
  {
   "cell_type": "markdown",
   "id": "248f78e8",
   "metadata": {},
   "source": [
    "df_employes_index = pd.read_csv('import_csv/data.csv')"
   ]
  },
  {
   "cell_type": "markdown",
   "id": "9c449dc6",
   "metadata": {},
   "source": [
    "6. Importer uniquement certaines colonnes"
   ]
  },
  {
   "cell_type": "markdown",
   "id": "d04e08d5",
   "metadata": {},
   "source": [
    "df_employes_columns = pd.read_csv('import_csv/data.csv')"
   ]
  },
  {
   "cell_type": "markdown",
   "id": "1495b7ab",
   "metadata": {},
   "source": [
    "7. Ne pas importer certaines lignes de données"
   ]
  },
  {
   "cell_type": "markdown",
   "id": "2dfa1552",
   "metadata": {},
   "source": [
    "df_employes_head = pd.read_csv('import_csv/data_head.csv')"
   ]
  },
  {
   "cell_type": "markdown",
   "id": "9512e52e",
   "metadata": {},
   "source": [
    "8. spécifier des valeurs supplémentaires à considérer comme NA/NaN"
   ]
  },
  {
   "cell_type": "markdown",
   "id": "caac3974",
   "metadata": {},
   "source": [
    "df_employes_na = pd.read_csv('import_csv/data_na.csv')"
   ]
  },
  {
   "cell_type": "markdown",
   "id": "dc143906",
   "metadata": {},
   "source": [
    "df_employes_na = pd.read_csv('import_csv/data_na.csv')"
   ]
  },
  {
   "cell_type": "markdown",
   "id": "9e1cb66b",
   "metadata": {},
   "source": [
    "<h1> Importer d'autres types de fichiers </h1>\n",
    "\n",
    "<b> Importer un fichier Excel </b>\n",
    "\n",
    "Pour lire ce fichier Excel et le convertir en DataFrame, nous utilisons pd.read_excel()"
   ]
  },
  {
   "cell_type": "markdown",
   "id": "161fa680",
   "metadata": {},
   "source": [
    "df_employes = pd.read_excel('donnees_employes.xlsx', sheet_name='Employés')\n",
    "df_employes"
   ]
  },
  {
   "cell_type": "markdown",
   "id": "a00a4238",
   "metadata": {},
   "source": [
    "df_projets = pd.read_excel('donnees_employes.xlsx', sheet_name='Projets')\n",
    "df_projets"
   ]
  },
  {
   "cell_type": "markdown",
   "id": "08bc06d6",
   "metadata": {},
   "source": [
    "#Vous pouvez également charger tous les onglets en une seule fois en spécifiant sheet_name=None\n",
    "all_sheets = pd.read_excel('donnees_employes.xlsx', sheet_name=None)\n",
    "all_sheets"
   ]
  },
  {
   "cell_type": "markdown",
   "id": "5424b6c2",
   "metadata": {},
   "source": [
    "all_sheets.keys()"
   ]
  },
  {
   "cell_type": "markdown",
   "id": "e61dfa15",
   "metadata": {},
   "source": [
    "all_sheets['Projets']"
   ]
  },
  {
   "cell_type": "markdown",
   "id": "7c66947f",
   "metadata": {},
   "source": [
    "<h1> Importer un fichier Json </h1>\n",
    "\n",
    "Pour lire ce fichier JSON et le convertir en DataFrame, nous utilisons pd.read_json()"
   ]
  },
  {
   "cell_type": "markdown",
   "id": "ae99ab15",
   "metadata": {},
   "source": [
    "df_employes = pd.read_json('fichier_json_classique.json')\n",
    "df_employes"
   ]
  },
  {
   "cell_type": "markdown",
   "id": "53dc99bf",
   "metadata": {},
   "source": [
    "df_employes_a_retravailler = pd.read_json('fichier_json.json')\n",
    "df_employes_a_retravailler"
   ]
  },
  {
   "cell_type": "markdown",
   "id": "902b7a83",
   "metadata": {},
   "source": [
    "df_employes_a_retravailler['employes']"
   ]
  },
  {
   "cell_type": "markdown",
   "id": "cdff5799",
   "metadata": {},
   "source": [
    "pd.DataFrame(list(df_employes_a_retravailler['employes']))"
   ]
  },
  {
   "cell_type": "markdown",
   "id": "811d4c7b",
   "metadata": {},
   "source": [
    "<h1> Exporter son dataframe en différents formats </h1>\n",
    "\n",
    "Une fois vos modifications réalisées sur vos données, vous pouvez enregistrer vos modifications sous différents format"
   ]
  },
  {
   "cell_type": "markdown",
   "id": "45fc4f12",
   "metadata": {},
   "source": [
    "df_employes_na = pd.read_csv('import_csv/data_na.csv', sep=\";\")\n",
    "df_employes_na"
   ]
  },
  {
   "cell_type": "markdown",
   "id": "94c8cc4b",
   "metadata": {},
   "source": [
    "df_employes_na.to_csv('employes_save.csv', index=False)"
   ]
  },
  {
   "cell_type": "markdown",
   "id": "5dbca36e",
   "metadata": {},
   "source": [
    "df_employes_na.to_excel('employes_save.xlsx', index=False)"
   ]
  },
  {
   "cell_type": "markdown",
   "id": "92821a65",
   "metadata": {},
   "source": [
    "df_employes_na.to_json('employes.json')"
   ]
  }
 ],
 "metadata": {
  "kernelspec": {
   "display_name": "Python [conda env:base] *",
   "language": "python",
   "name": "conda-base-py"
  },
  "language_info": {
   "codemirror_mode": {
    "name": "ipython",
    "version": 3
   },
   "file_extension": ".py",
   "mimetype": "text/x-python",
   "name": "python",
   "nbconvert_exporter": "python",
   "pygments_lexer": "ipython3",
   "version": "3.12.7"
  }
 },
 "nbformat": 4,
 "nbformat_minor": 5
}
