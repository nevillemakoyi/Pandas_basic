{
 "cells": [
  {
   "cell_type": "code",
   "execution_count": 86,
   "id": "28c78cd1",
   "metadata": {},
   "outputs": [
    {
     "data": {
      "application/vnd.microsoft.datawrangler.viewer.v0+json": {
       "columns": [
        {
         "name": "index",
         "rawType": "int64",
         "type": "integer"
        },
        {
         "name": "id magasin",
         "rawType": "int64",
         "type": "integer"
        },
        {
         "name": "opening date",
         "rawType": "object",
         "type": "string"
        },
        {
         "name": "weekly opening hours",
         "rawType": "object",
         "type": "unknown"
        },
        {
         "name": "ouverture le dimanche",
         "rawType": "object",
         "type": "unknown"
        },
        {
         "name": "numero magasin",
         "rawType": "int64",
         "type": "integer"
        },
        {
         "name": "CA",
         "rawType": "object",
         "type": "string"
        },
        {
         "name": "ville",
         "rawType": "object",
         "type": "string"
        },
        {
         "name": "numero de telephone",
         "rawType": "object",
         "type": "string"
        }
       ],
       "conversionMethod": "pd.DataFrame",
       "ref": "9dff7427-da03-47b2-8f84-8b1cd1698567",
       "rows": [
        [
         "0",
         "1",
         "04-01-2015",
         "58 heures",
         "True",
         "1",
         "105981 €",
         "MARSEILLE ",
         "+33-695-17805"
        ],
        [
         "1",
         "2",
         "11-01-2015",
         "48 heures",
         "False",
         "2",
         "473929 €",
         "Paris ",
         "+33-647-30056"
        ],
        [
         "2",
         "3",
         "18-01-2015",
         "34 heures",
         "False",
         "3",
         "50306 €",
         "Paris ",
         "+33-600-13343"
        ],
        [
         "3",
         "4",
         "25-01-2015",
         "27 heures",
         "False",
         "4",
         "167718 €",
         "Nice",
         "+33-660-63222"
        ],
        [
         "4",
         "5",
         "01-02-2015",
         "40 heures",
         "False",
         "5",
         "328987 €",
         "Nice",
         "+33-663-19662"
        ],
        [
         "5",
         "6",
         "08-02-2015",
         "58 heures",
         "False",
         "6",
         "140975 €",
         "Lille ",
         "+33-668-69638"
        ],
        [
         "6",
         "7",
         "15-02-2015",
         "38 heures",
         "False",
         "7",
         "378745 €",
         "Lille ",
         "+33-666-95067"
        ],
        [
         "7",
         "8",
         "22-02-2015",
         null,
         "True",
         "8",
         "127512 €",
         "MARSEILLE ",
         "+33-625-77215"
        ],
        [
         "8",
         "9",
         "01-03-2015",
         "30 heures",
         "False",
         "9",
         "167443 €",
         "Nice",
         "+33-650-23284"
        ],
        [
         "9",
         "10",
         "08-03-2015",
         "30 heures",
         "False",
         "10",
         "490587 €",
         "Paris ",
         "+33-685-94664"
        ],
        [
         "10",
         "11",
         "15-03-2015",
         "43 heures",
         "False",
         "11",
         "393616 €",
         "Lille ",
         "+33-628-71389"
        ],
        [
         "11",
         "12",
         "22-03-2015",
         "55 heures",
         "False",
         "12",
         "153121 €",
         "Lille ",
         "+33-691-64340"
        ],
        [
         "12",
         "13",
         "29-03-2015",
         "59 heures",
         "False",
         "13",
         "182688 €",
         "Paris ",
         "+33-646-88832"
        ],
        [
         "13",
         "14",
         "05-04-2015",
         "43 heures",
         "False",
         "14",
         "385871 €",
         "Lille ",
         "+33-693-88781"
        ],
        [
         "14",
         "14",
         "05-04-2015",
         "43 heures",
         "False",
         "14",
         "385871 €",
         "Lille ",
         "+33-693-88781"
        ],
        [
         "15",
         "15",
         "12-04-2015",
         "22 heures",
         "False",
         "15",
         "395037 €",
         "MARSEILLE ",
         "+33-668-53919"
        ],
        [
         "16",
         "16",
         "19-04-2015",
         "41 heures",
         "True",
         "16",
         "303076 €",
         "Nice",
         "+33-689-45247"
        ],
        [
         "17",
         "17",
         "26-04-2015",
         "21 heures",
         "True",
         "17",
         "137796 €",
         "Paris ",
         "+33-684-72752"
        ],
        [
         "18",
         "18",
         "03-05-2015",
         "43 heures",
         "True",
         "18",
         "311999 €",
         "Nice",
         "+33-693-36646"
        ],
        [
         "19",
         "19",
         "10-05-2015",
         "49 heures",
         "False",
         "19",
         "212506 €",
         "Lille ",
         "+33-609-89605"
        ],
        [
         "20",
         "20",
         "17-05-2015",
         null,
         "False",
         "20",
         "485910 €",
         "Lille ",
         "+33-668-78385"
        ],
        [
         "21",
         "21",
         "24-05-2015",
         "21 heures",
         "False",
         "21",
         "194088 €",
         "Paris ",
         "+33-651-50158"
        ],
        [
         "22",
         "22",
         "31-05-2015",
         "40 heures",
         null,
         "22",
         "289544 €",
         "MARSEILLE ",
         "+33-609-33289"
        ],
        [
         "23",
         "23",
         "07-06-2015",
         "52 heures",
         "True",
         "23",
         "400002 €",
         " lyon",
         "+33-618-19823"
        ],
        [
         "24",
         "24",
         "14-06-2015",
         "31 heures",
         "False",
         "24",
         "193714 €",
         "Paris ",
         "+33-600-51975"
        ],
        [
         "25",
         "25",
         "21-06-2015",
         "41 heures",
         "False",
         "25",
         "35151 €",
         " lyon",
         "+33-668-26364"
        ],
        [
         "26",
         "26",
         "28-06-2015",
         "44 heures",
         "True",
         "26",
         "464623 €",
         " lyon",
         "+33-603-37663"
        ],
        [
         "27",
         "27",
         "05-07-2015",
         "46 heures",
         "True",
         "27",
         "86690 €",
         "MARSEILLE ",
         "+33-623-67679"
        ],
        [
         "28",
         "28",
         "12-07-2015",
         "47 heures",
         "True",
         "28",
         "24499 €",
         " lyon",
         "+33-601-59115"
        ],
        [
         "29",
         "29",
         "19-07-2015",
         "35 heures",
         "True",
         "29",
         "26295 €",
         " lyon",
         "+33-631-70890"
        ],
        [
         "30",
         "30",
         "26-07-2015",
         null,
         null,
         "30",
         "403029 €",
         "MARSEILLE ",
         "+33-683-28071"
        ],
        [
         "31",
         "31",
         "02-08-2015",
         "22 heures",
         "False",
         "31",
         "408215 €",
         " lyon",
         "+33-611-82369"
        ],
        [
         "32",
         "32",
         "09-08-2015",
         "56 heures",
         "False",
         "32",
         "341184 €",
         " lyon",
         "+33-634-45195"
        ],
        [
         "33",
         "33",
         "16-08-2015",
         "26 heures",
         "False",
         "33",
         "294327 €",
         " lyon",
         "+33-632-14000"
        ],
        [
         "34",
         "33",
         "16-08-2015",
         "26 heures",
         "False",
         "33",
         "294327 €",
         " lyon",
         "+33-632-14000"
        ],
        [
         "35",
         "34",
         "23-08-2015",
         null,
         "False",
         "34",
         "442515 €",
         "Paris ",
         "+33-660-48304"
        ],
        [
         "36",
         "35",
         "30-08-2015",
         "28 heures",
         "True",
         "35",
         "163946 €",
         "Paris ",
         "+33-639-79449"
        ],
        [
         "37",
         "36",
         "06-09-2015",
         "58 heures",
         "False",
         "36",
         "398480 €",
         "Paris ",
         "+33-642-99643"
        ],
        [
         "38",
         "37",
         "13-09-2015",
         "37 heures",
         "False",
         "37",
         "52711 €",
         "MARSEILLE ",
         "+33-628-96027"
        ],
        [
         "39",
         "38",
         "20-09-2015",
         "23 heures",
         "False",
         "38",
         "287683 €",
         "Lille ",
         "+33-694-13373"
        ],
        [
         "40",
         "39",
         "27-09-2015",
         "44 heures",
         "False",
         "39",
         "204423 €",
         " lyon",
         "+33-601-37350"
        ],
        [
         "41",
         "40",
         "04-10-2015",
         "33 heures",
         "False",
         "40",
         "474483 €",
         " lyon",
         "+33-680-35351"
        ],
        [
         "42",
         "41",
         "11-10-2015",
         "28 heures",
         "True",
         "41",
         "199426 €",
         "MARSEILLE ",
         "+33-692-25305"
        ],
        [
         "43",
         "42",
         "18-10-2015",
         "45 heures",
         "True",
         "42",
         "408207 €",
         " lyon",
         "+33-689-86797"
        ],
        [
         "44",
         "43",
         "25-10-2015",
         "21 heures",
         "False",
         "43",
         "153629 €",
         "Paris ",
         "+33-633-67458"
        ],
        [
         "45",
         "44",
         "01-11-2015",
         "39 heures",
         "False",
         "44",
         "320504 €",
         "Lille ",
         "+33-606-13267"
        ],
        [
         "46",
         "45",
         "08-11-2015",
         "47 heures",
         "False",
         "45",
         "233090 €",
         "Nice",
         "+33-657-99588"
        ],
        [
         "47",
         "46",
         "15-11-2015",
         "26 heures",
         "True",
         "46",
         "153272 €",
         " lyon",
         "+33-674-10412"
        ],
        [
         "48",
         "47",
         "22-11-2015",
         "27 heures",
         "False",
         "47",
         "263548 €",
         "Paris ",
         "+33-635-43496"
        ],
        [
         "49",
         "48",
         "29-11-2015",
         "54 heures",
         "False",
         "48",
         "481713 €",
         "Nice",
         "+33-620-99084"
        ]
       ],
       "shape": {
        "columns": 8,
        "rows": 104
       }
      },
      "text/html": [
       "<div>\n",
       "<style scoped>\n",
       "    .dataframe tbody tr th:only-of-type {\n",
       "        vertical-align: middle;\n",
       "    }\n",
       "\n",
       "    .dataframe tbody tr th {\n",
       "        vertical-align: top;\n",
       "    }\n",
       "\n",
       "    .dataframe thead th {\n",
       "        text-align: right;\n",
       "    }\n",
       "</style>\n",
       "<table border=\"1\" class=\"dataframe\">\n",
       "  <thead>\n",
       "    <tr style=\"text-align: right;\">\n",
       "      <th></th>\n",
       "      <th>id magasin</th>\n",
       "      <th>opening date</th>\n",
       "      <th>weekly opening hours</th>\n",
       "      <th>ouverture le dimanche</th>\n",
       "      <th>numero magasin</th>\n",
       "      <th>CA</th>\n",
       "      <th>ville</th>\n",
       "      <th>numero de telephone</th>\n",
       "    </tr>\n",
       "  </thead>\n",
       "  <tbody>\n",
       "    <tr>\n",
       "      <th>0</th>\n",
       "      <td>1</td>\n",
       "      <td>04-01-2015</td>\n",
       "      <td>58 heures</td>\n",
       "      <td>True</td>\n",
       "      <td>1</td>\n",
       "      <td>105981 €</td>\n",
       "      <td>MARSEILLE</td>\n",
       "      <td>+33-695-17805</td>\n",
       "    </tr>\n",
       "    <tr>\n",
       "      <th>1</th>\n",
       "      <td>2</td>\n",
       "      <td>11-01-2015</td>\n",
       "      <td>48 heures</td>\n",
       "      <td>False</td>\n",
       "      <td>2</td>\n",
       "      <td>473929 €</td>\n",
       "      <td>Paris</td>\n",
       "      <td>+33-647-30056</td>\n",
       "    </tr>\n",
       "    <tr>\n",
       "      <th>2</th>\n",
       "      <td>3</td>\n",
       "      <td>18-01-2015</td>\n",
       "      <td>34 heures</td>\n",
       "      <td>False</td>\n",
       "      <td>3</td>\n",
       "      <td>50306 €</td>\n",
       "      <td>Paris</td>\n",
       "      <td>+33-600-13343</td>\n",
       "    </tr>\n",
       "    <tr>\n",
       "      <th>3</th>\n",
       "      <td>4</td>\n",
       "      <td>25-01-2015</td>\n",
       "      <td>27 heures</td>\n",
       "      <td>False</td>\n",
       "      <td>4</td>\n",
       "      <td>167718 €</td>\n",
       "      <td>Nice</td>\n",
       "      <td>+33-660-63222</td>\n",
       "    </tr>\n",
       "    <tr>\n",
       "      <th>4</th>\n",
       "      <td>5</td>\n",
       "      <td>01-02-2015</td>\n",
       "      <td>40 heures</td>\n",
       "      <td>False</td>\n",
       "      <td>5</td>\n",
       "      <td>328987 €</td>\n",
       "      <td>Nice</td>\n",
       "      <td>+33-663-19662</td>\n",
       "    </tr>\n",
       "    <tr>\n",
       "      <th>...</th>\n",
       "      <td>...</td>\n",
       "      <td>...</td>\n",
       "      <td>...</td>\n",
       "      <td>...</td>\n",
       "      <td>...</td>\n",
       "      <td>...</td>\n",
       "      <td>...</td>\n",
       "      <td>...</td>\n",
       "    </tr>\n",
       "    <tr>\n",
       "      <th>99</th>\n",
       "      <td>96</td>\n",
       "      <td>30-10-2016</td>\n",
       "      <td>28 heures</td>\n",
       "      <td>NaN</td>\n",
       "      <td>96</td>\n",
       "      <td>375323 €</td>\n",
       "      <td>Paris</td>\n",
       "      <td>+33-630-44578</td>\n",
       "    </tr>\n",
       "    <tr>\n",
       "      <th>100</th>\n",
       "      <td>97</td>\n",
       "      <td>06-11-2016</td>\n",
       "      <td>27 heures</td>\n",
       "      <td>True</td>\n",
       "      <td>97</td>\n",
       "      <td>191836 €</td>\n",
       "      <td>lyon</td>\n",
       "      <td>+33-660-36790</td>\n",
       "    </tr>\n",
       "    <tr>\n",
       "      <th>101</th>\n",
       "      <td>98</td>\n",
       "      <td>13-11-2016</td>\n",
       "      <td>31 heures</td>\n",
       "      <td>False</td>\n",
       "      <td>98</td>\n",
       "      <td>225615 €</td>\n",
       "      <td>lyon</td>\n",
       "      <td>+33-690-35289</td>\n",
       "    </tr>\n",
       "    <tr>\n",
       "      <th>102</th>\n",
       "      <td>99</td>\n",
       "      <td>20-11-2016</td>\n",
       "      <td>53 heures</td>\n",
       "      <td>True</td>\n",
       "      <td>99</td>\n",
       "      <td>65714 €</td>\n",
       "      <td>Paris</td>\n",
       "      <td>+33-689-25485</td>\n",
       "    </tr>\n",
       "    <tr>\n",
       "      <th>103</th>\n",
       "      <td>100</td>\n",
       "      <td>27-11-2016</td>\n",
       "      <td>52 heures</td>\n",
       "      <td>NaN</td>\n",
       "      <td>100</td>\n",
       "      <td>470051 €</td>\n",
       "      <td>lyon</td>\n",
       "      <td>+33-666-96188</td>\n",
       "    </tr>\n",
       "  </tbody>\n",
       "</table>\n",
       "<p>104 rows × 8 columns</p>\n",
       "</div>"
      ],
      "text/plain": [
       "     id magasin opening date weekly opening hours ouverture le dimanche  \\\n",
       "0             1   04-01-2015            58 heures                  True   \n",
       "1             2   11-01-2015            48 heures                 False   \n",
       "2             3   18-01-2015            34 heures                 False   \n",
       "3             4   25-01-2015            27 heures                 False   \n",
       "4             5   01-02-2015            40 heures                 False   \n",
       "..          ...          ...                  ...                   ...   \n",
       "99           96   30-10-2016            28 heures                   NaN   \n",
       "100          97   06-11-2016            27 heures                  True   \n",
       "101          98   13-11-2016            31 heures                 False   \n",
       "102          99   20-11-2016            53 heures                  True   \n",
       "103         100   27-11-2016            52 heures                   NaN   \n",
       "\n",
       "     numero magasin        CA       ville numero de telephone  \n",
       "0                 1  105981 €  MARSEILLE        +33-695-17805  \n",
       "1                 2  473929 €      Paris        +33-647-30056  \n",
       "2                 3   50306 €      Paris        +33-600-13343  \n",
       "3                 4  167718 €        Nice       +33-660-63222  \n",
       "4                 5  328987 €        Nice       +33-663-19662  \n",
       "..              ...       ...         ...                 ...  \n",
       "99               96  375323 €      Paris        +33-630-44578  \n",
       "100              97  191836 €        lyon       +33-660-36790  \n",
       "101              98  225615 €        lyon       +33-690-35289  \n",
       "102              99   65714 €      Paris        +33-689-25485  \n",
       "103             100  470051 €        lyon       +33-666-96188  \n",
       "\n",
       "[104 rows x 8 columns]"
      ]
     },
     "execution_count": 86,
     "metadata": {},
     "output_type": "execute_result"
    }
   ],
   "source": [
    "import pandas as pd\n",
    "\n",
    "data = pd.read_csv(r'C:\\Users\\nmako\\Documents\\Data-Science-Projects-Repository\\Pandas_basic\\data\\raw\\3_cleaning_data\\stores_data.csv')\n",
    "data"
   ]
  },
  {
   "cell_type": "markdown",
   "id": "c0a39667",
   "metadata": {},
   "source": [
    "<h1> Analyse préliminaire du data set avant data cleaning </h1>\n",
    "\n",
    "Avant de se lancer dans le nettoyage des données, il est important d'en faire une première analyse pour estimer la taille du dataset, les colonnes disponibles, les types de données présents.\n",
    "\n",
    "<b> data.head(), data.tail() pour avoir un premier apperçu des données </b>"
   ]
  },
  {
   "cell_type": "code",
   "execution_count": 87,
   "id": "826ecfbc",
   "metadata": {},
   "outputs": [
    {
     "data": {
      "application/vnd.microsoft.datawrangler.viewer.v0+json": {
       "columns": [
        {
         "name": "index",
         "rawType": "int64",
         "type": "integer"
        },
        {
         "name": "id magasin",
         "rawType": "int64",
         "type": "integer"
        },
        {
         "name": "opening date",
         "rawType": "object",
         "type": "string"
        },
        {
         "name": "weekly opening hours",
         "rawType": "object",
         "type": "string"
        },
        {
         "name": "ouverture le dimanche",
         "rawType": "object",
         "type": "unknown"
        },
        {
         "name": "numero magasin",
         "rawType": "int64",
         "type": "integer"
        },
        {
         "name": "CA",
         "rawType": "object",
         "type": "string"
        },
        {
         "name": "ville",
         "rawType": "object",
         "type": "string"
        },
        {
         "name": "numero de telephone",
         "rawType": "object",
         "type": "string"
        }
       ],
       "conversionMethod": "pd.DataFrame",
       "ref": "a9df0d9e-9b1d-493e-931c-80f041db563d",
       "rows": [
        [
         "0",
         "1",
         "04-01-2015",
         "58 heures",
         "True",
         "1",
         "105981 €",
         "MARSEILLE ",
         "+33-695-17805"
        ],
        [
         "1",
         "2",
         "11-01-2015",
         "48 heures",
         "False",
         "2",
         "473929 €",
         "Paris ",
         "+33-647-30056"
        ],
        [
         "2",
         "3",
         "18-01-2015",
         "34 heures",
         "False",
         "3",
         "50306 €",
         "Paris ",
         "+33-600-13343"
        ],
        [
         "3",
         "4",
         "25-01-2015",
         "27 heures",
         "False",
         "4",
         "167718 €",
         "Nice",
         "+33-660-63222"
        ],
        [
         "4",
         "5",
         "01-02-2015",
         "40 heures",
         "False",
         "5",
         "328987 €",
         "Nice",
         "+33-663-19662"
        ]
       ],
       "shape": {
        "columns": 8,
        "rows": 5
       }
      },
      "text/html": [
       "<div>\n",
       "<style scoped>\n",
       "    .dataframe tbody tr th:only-of-type {\n",
       "        vertical-align: middle;\n",
       "    }\n",
       "\n",
       "    .dataframe tbody tr th {\n",
       "        vertical-align: top;\n",
       "    }\n",
       "\n",
       "    .dataframe thead th {\n",
       "        text-align: right;\n",
       "    }\n",
       "</style>\n",
       "<table border=\"1\" class=\"dataframe\">\n",
       "  <thead>\n",
       "    <tr style=\"text-align: right;\">\n",
       "      <th></th>\n",
       "      <th>id magasin</th>\n",
       "      <th>opening date</th>\n",
       "      <th>weekly opening hours</th>\n",
       "      <th>ouverture le dimanche</th>\n",
       "      <th>numero magasin</th>\n",
       "      <th>CA</th>\n",
       "      <th>ville</th>\n",
       "      <th>numero de telephone</th>\n",
       "    </tr>\n",
       "  </thead>\n",
       "  <tbody>\n",
       "    <tr>\n",
       "      <th>0</th>\n",
       "      <td>1</td>\n",
       "      <td>04-01-2015</td>\n",
       "      <td>58 heures</td>\n",
       "      <td>True</td>\n",
       "      <td>1</td>\n",
       "      <td>105981 €</td>\n",
       "      <td>MARSEILLE</td>\n",
       "      <td>+33-695-17805</td>\n",
       "    </tr>\n",
       "    <tr>\n",
       "      <th>1</th>\n",
       "      <td>2</td>\n",
       "      <td>11-01-2015</td>\n",
       "      <td>48 heures</td>\n",
       "      <td>False</td>\n",
       "      <td>2</td>\n",
       "      <td>473929 €</td>\n",
       "      <td>Paris</td>\n",
       "      <td>+33-647-30056</td>\n",
       "    </tr>\n",
       "    <tr>\n",
       "      <th>2</th>\n",
       "      <td>3</td>\n",
       "      <td>18-01-2015</td>\n",
       "      <td>34 heures</td>\n",
       "      <td>False</td>\n",
       "      <td>3</td>\n",
       "      <td>50306 €</td>\n",
       "      <td>Paris</td>\n",
       "      <td>+33-600-13343</td>\n",
       "    </tr>\n",
       "    <tr>\n",
       "      <th>3</th>\n",
       "      <td>4</td>\n",
       "      <td>25-01-2015</td>\n",
       "      <td>27 heures</td>\n",
       "      <td>False</td>\n",
       "      <td>4</td>\n",
       "      <td>167718 €</td>\n",
       "      <td>Nice</td>\n",
       "      <td>+33-660-63222</td>\n",
       "    </tr>\n",
       "    <tr>\n",
       "      <th>4</th>\n",
       "      <td>5</td>\n",
       "      <td>01-02-2015</td>\n",
       "      <td>40 heures</td>\n",
       "      <td>False</td>\n",
       "      <td>5</td>\n",
       "      <td>328987 €</td>\n",
       "      <td>Nice</td>\n",
       "      <td>+33-663-19662</td>\n",
       "    </tr>\n",
       "  </tbody>\n",
       "</table>\n",
       "</div>"
      ],
      "text/plain": [
       "   id magasin opening date weekly opening hours ouverture le dimanche  \\\n",
       "0           1   04-01-2015            58 heures                  True   \n",
       "1           2   11-01-2015            48 heures                 False   \n",
       "2           3   18-01-2015            34 heures                 False   \n",
       "3           4   25-01-2015            27 heures                 False   \n",
       "4           5   01-02-2015            40 heures                 False   \n",
       "\n",
       "   numero magasin        CA       ville numero de telephone  \n",
       "0               1  105981 €  MARSEILLE        +33-695-17805  \n",
       "1               2  473929 €      Paris        +33-647-30056  \n",
       "2               3   50306 €      Paris        +33-600-13343  \n",
       "3               4  167718 €        Nice       +33-660-63222  \n",
       "4               5  328987 €        Nice       +33-663-19662  "
      ]
     },
     "execution_count": 87,
     "metadata": {},
     "output_type": "execute_result"
    }
   ],
   "source": [
    "data.head()"
   ]
  },
  {
   "cell_type": "code",
   "execution_count": 88,
   "id": "02108030",
   "metadata": {},
   "outputs": [
    {
     "data": {
      "application/vnd.microsoft.datawrangler.viewer.v0+json": {
       "columns": [
        {
         "name": "index",
         "rawType": "int64",
         "type": "integer"
        },
        {
         "name": "id magasin",
         "rawType": "int64",
         "type": "integer"
        },
        {
         "name": "opening date",
         "rawType": "object",
         "type": "string"
        },
        {
         "name": "weekly opening hours",
         "rawType": "object",
         "type": "string"
        },
        {
         "name": "ouverture le dimanche",
         "rawType": "object",
         "type": "unknown"
        },
        {
         "name": "numero magasin",
         "rawType": "int64",
         "type": "integer"
        },
        {
         "name": "CA",
         "rawType": "object",
         "type": "string"
        },
        {
         "name": "ville",
         "rawType": "object",
         "type": "string"
        },
        {
         "name": "numero de telephone",
         "rawType": "object",
         "type": "string"
        }
       ],
       "conversionMethod": "pd.DataFrame",
       "ref": "02a17538-4d31-49c0-9bb8-448544a71ea2",
       "rows": [
        [
         "99",
         "96",
         "30-10-2016",
         "28 heures",
         null,
         "96",
         "375323 €",
         "Paris ",
         "+33-630-44578"
        ],
        [
         "100",
         "97",
         "06-11-2016",
         "27 heures",
         "True",
         "97",
         "191836 €",
         " lyon",
         "+33-660-36790"
        ],
        [
         "101",
         "98",
         "13-11-2016",
         "31 heures",
         "False",
         "98",
         "225615 €",
         " lyon",
         "+33-690-35289"
        ],
        [
         "102",
         "99",
         "20-11-2016",
         "53 heures",
         "True",
         "99",
         "65714 €",
         "Paris ",
         "+33-689-25485"
        ],
        [
         "103",
         "100",
         "27-11-2016",
         "52 heures",
         null,
         "100",
         "470051 €",
         " lyon",
         "+33-666-96188"
        ]
       ],
       "shape": {
        "columns": 8,
        "rows": 5
       }
      },
      "text/html": [
       "<div>\n",
       "<style scoped>\n",
       "    .dataframe tbody tr th:only-of-type {\n",
       "        vertical-align: middle;\n",
       "    }\n",
       "\n",
       "    .dataframe tbody tr th {\n",
       "        vertical-align: top;\n",
       "    }\n",
       "\n",
       "    .dataframe thead th {\n",
       "        text-align: right;\n",
       "    }\n",
       "</style>\n",
       "<table border=\"1\" class=\"dataframe\">\n",
       "  <thead>\n",
       "    <tr style=\"text-align: right;\">\n",
       "      <th></th>\n",
       "      <th>id magasin</th>\n",
       "      <th>opening date</th>\n",
       "      <th>weekly opening hours</th>\n",
       "      <th>ouverture le dimanche</th>\n",
       "      <th>numero magasin</th>\n",
       "      <th>CA</th>\n",
       "      <th>ville</th>\n",
       "      <th>numero de telephone</th>\n",
       "    </tr>\n",
       "  </thead>\n",
       "  <tbody>\n",
       "    <tr>\n",
       "      <th>99</th>\n",
       "      <td>96</td>\n",
       "      <td>30-10-2016</td>\n",
       "      <td>28 heures</td>\n",
       "      <td>NaN</td>\n",
       "      <td>96</td>\n",
       "      <td>375323 €</td>\n",
       "      <td>Paris</td>\n",
       "      <td>+33-630-44578</td>\n",
       "    </tr>\n",
       "    <tr>\n",
       "      <th>100</th>\n",
       "      <td>97</td>\n",
       "      <td>06-11-2016</td>\n",
       "      <td>27 heures</td>\n",
       "      <td>True</td>\n",
       "      <td>97</td>\n",
       "      <td>191836 €</td>\n",
       "      <td>lyon</td>\n",
       "      <td>+33-660-36790</td>\n",
       "    </tr>\n",
       "    <tr>\n",
       "      <th>101</th>\n",
       "      <td>98</td>\n",
       "      <td>13-11-2016</td>\n",
       "      <td>31 heures</td>\n",
       "      <td>False</td>\n",
       "      <td>98</td>\n",
       "      <td>225615 €</td>\n",
       "      <td>lyon</td>\n",
       "      <td>+33-690-35289</td>\n",
       "    </tr>\n",
       "    <tr>\n",
       "      <th>102</th>\n",
       "      <td>99</td>\n",
       "      <td>20-11-2016</td>\n",
       "      <td>53 heures</td>\n",
       "      <td>True</td>\n",
       "      <td>99</td>\n",
       "      <td>65714 €</td>\n",
       "      <td>Paris</td>\n",
       "      <td>+33-689-25485</td>\n",
       "    </tr>\n",
       "    <tr>\n",
       "      <th>103</th>\n",
       "      <td>100</td>\n",
       "      <td>27-11-2016</td>\n",
       "      <td>52 heures</td>\n",
       "      <td>NaN</td>\n",
       "      <td>100</td>\n",
       "      <td>470051 €</td>\n",
       "      <td>lyon</td>\n",
       "      <td>+33-666-96188</td>\n",
       "    </tr>\n",
       "  </tbody>\n",
       "</table>\n",
       "</div>"
      ],
      "text/plain": [
       "     id magasin opening date weekly opening hours ouverture le dimanche  \\\n",
       "99           96   30-10-2016            28 heures                   NaN   \n",
       "100          97   06-11-2016            27 heures                  True   \n",
       "101          98   13-11-2016            31 heures                 False   \n",
       "102          99   20-11-2016            53 heures                  True   \n",
       "103         100   27-11-2016            52 heures                   NaN   \n",
       "\n",
       "     numero magasin        CA   ville numero de telephone  \n",
       "99               96  375323 €  Paris        +33-630-44578  \n",
       "100              97  191836 €    lyon       +33-660-36790  \n",
       "101              98  225615 €    lyon       +33-690-35289  \n",
       "102              99   65714 €  Paris        +33-689-25485  \n",
       "103             100  470051 €    lyon       +33-666-96188  "
      ]
     },
     "execution_count": 88,
     "metadata": {},
     "output_type": "execute_result"
    }
   ],
   "source": [
    "data.tail()"
   ]
  },
  {
   "cell_type": "code",
   "execution_count": 89,
   "id": "bc1b954c",
   "metadata": {},
   "outputs": [
    {
     "data": {
      "application/vnd.microsoft.datawrangler.viewer.v0+json": {
       "columns": [
        {
         "name": "index",
         "rawType": "int64",
         "type": "integer"
        },
        {
         "name": "id magasin",
         "rawType": "int64",
         "type": "integer"
        },
        {
         "name": "opening date",
         "rawType": "object",
         "type": "string"
        },
        {
         "name": "weekly opening hours",
         "rawType": "object",
         "type": "unknown"
        },
        {
         "name": "ouverture le dimanche",
         "rawType": "object",
         "type": "unknown"
        },
        {
         "name": "numero magasin",
         "rawType": "int64",
         "type": "integer"
        },
        {
         "name": "CA",
         "rawType": "object",
         "type": "string"
        },
        {
         "name": "ville",
         "rawType": "object",
         "type": "string"
        },
        {
         "name": "numero de telephone",
         "rawType": "object",
         "type": "string"
        }
       ],
       "conversionMethod": "pd.DataFrame",
       "ref": "b1971db8-1d96-4c44-9057-224e730ca93c",
       "rows": [
        [
         "0",
         "1",
         "04-01-2015",
         "58 heures",
         "True",
         "1",
         "105981 €",
         "MARSEILLE ",
         "+33-695-17805"
        ],
        [
         "1",
         "2",
         "11-01-2015",
         "48 heures",
         "False",
         "2",
         "473929 €",
         "Paris ",
         "+33-647-30056"
        ],
        [
         "2",
         "3",
         "18-01-2015",
         "34 heures",
         "False",
         "3",
         "50306 €",
         "Paris ",
         "+33-600-13343"
        ],
        [
         "3",
         "4",
         "25-01-2015",
         "27 heures",
         "False",
         "4",
         "167718 €",
         "Nice",
         "+33-660-63222"
        ],
        [
         "4",
         "5",
         "01-02-2015",
         "40 heures",
         "False",
         "5",
         "328987 €",
         "Nice",
         "+33-663-19662"
        ],
        [
         "5",
         "6",
         "08-02-2015",
         "58 heures",
         "False",
         "6",
         "140975 €",
         "Lille ",
         "+33-668-69638"
        ],
        [
         "6",
         "7",
         "15-02-2015",
         "38 heures",
         "False",
         "7",
         "378745 €",
         "Lille ",
         "+33-666-95067"
        ],
        [
         "7",
         "8",
         "22-02-2015",
         null,
         "True",
         "8",
         "127512 €",
         "MARSEILLE ",
         "+33-625-77215"
        ],
        [
         "8",
         "9",
         "01-03-2015",
         "30 heures",
         "False",
         "9",
         "167443 €",
         "Nice",
         "+33-650-23284"
        ],
        [
         "9",
         "10",
         "08-03-2015",
         "30 heures",
         "False",
         "10",
         "490587 €",
         "Paris ",
         "+33-685-94664"
        ],
        [
         "10",
         "11",
         "15-03-2015",
         "43 heures",
         "False",
         "11",
         "393616 €",
         "Lille ",
         "+33-628-71389"
        ],
        [
         "11",
         "12",
         "22-03-2015",
         "55 heures",
         "False",
         "12",
         "153121 €",
         "Lille ",
         "+33-691-64340"
        ],
        [
         "12",
         "13",
         "29-03-2015",
         "59 heures",
         "False",
         "13",
         "182688 €",
         "Paris ",
         "+33-646-88832"
        ],
        [
         "13",
         "14",
         "05-04-2015",
         "43 heures",
         "False",
         "14",
         "385871 €",
         "Lille ",
         "+33-693-88781"
        ]
       ],
       "shape": {
        "columns": 8,
        "rows": 14
       }
      },
      "text/html": [
       "<div>\n",
       "<style scoped>\n",
       "    .dataframe tbody tr th:only-of-type {\n",
       "        vertical-align: middle;\n",
       "    }\n",
       "\n",
       "    .dataframe tbody tr th {\n",
       "        vertical-align: top;\n",
       "    }\n",
       "\n",
       "    .dataframe thead th {\n",
       "        text-align: right;\n",
       "    }\n",
       "</style>\n",
       "<table border=\"1\" class=\"dataframe\">\n",
       "  <thead>\n",
       "    <tr style=\"text-align: right;\">\n",
       "      <th></th>\n",
       "      <th>id magasin</th>\n",
       "      <th>opening date</th>\n",
       "      <th>weekly opening hours</th>\n",
       "      <th>ouverture le dimanche</th>\n",
       "      <th>numero magasin</th>\n",
       "      <th>CA</th>\n",
       "      <th>ville</th>\n",
       "      <th>numero de telephone</th>\n",
       "    </tr>\n",
       "  </thead>\n",
       "  <tbody>\n",
       "    <tr>\n",
       "      <th>0</th>\n",
       "      <td>1</td>\n",
       "      <td>04-01-2015</td>\n",
       "      <td>58 heures</td>\n",
       "      <td>True</td>\n",
       "      <td>1</td>\n",
       "      <td>105981 €</td>\n",
       "      <td>MARSEILLE</td>\n",
       "      <td>+33-695-17805</td>\n",
       "    </tr>\n",
       "    <tr>\n",
       "      <th>1</th>\n",
       "      <td>2</td>\n",
       "      <td>11-01-2015</td>\n",
       "      <td>48 heures</td>\n",
       "      <td>False</td>\n",
       "      <td>2</td>\n",
       "      <td>473929 €</td>\n",
       "      <td>Paris</td>\n",
       "      <td>+33-647-30056</td>\n",
       "    </tr>\n",
       "    <tr>\n",
       "      <th>2</th>\n",
       "      <td>3</td>\n",
       "      <td>18-01-2015</td>\n",
       "      <td>34 heures</td>\n",
       "      <td>False</td>\n",
       "      <td>3</td>\n",
       "      <td>50306 €</td>\n",
       "      <td>Paris</td>\n",
       "      <td>+33-600-13343</td>\n",
       "    </tr>\n",
       "    <tr>\n",
       "      <th>3</th>\n",
       "      <td>4</td>\n",
       "      <td>25-01-2015</td>\n",
       "      <td>27 heures</td>\n",
       "      <td>False</td>\n",
       "      <td>4</td>\n",
       "      <td>167718 €</td>\n",
       "      <td>Nice</td>\n",
       "      <td>+33-660-63222</td>\n",
       "    </tr>\n",
       "    <tr>\n",
       "      <th>4</th>\n",
       "      <td>5</td>\n",
       "      <td>01-02-2015</td>\n",
       "      <td>40 heures</td>\n",
       "      <td>False</td>\n",
       "      <td>5</td>\n",
       "      <td>328987 €</td>\n",
       "      <td>Nice</td>\n",
       "      <td>+33-663-19662</td>\n",
       "    </tr>\n",
       "    <tr>\n",
       "      <th>5</th>\n",
       "      <td>6</td>\n",
       "      <td>08-02-2015</td>\n",
       "      <td>58 heures</td>\n",
       "      <td>False</td>\n",
       "      <td>6</td>\n",
       "      <td>140975 €</td>\n",
       "      <td>Lille</td>\n",
       "      <td>+33-668-69638</td>\n",
       "    </tr>\n",
       "    <tr>\n",
       "      <th>6</th>\n",
       "      <td>7</td>\n",
       "      <td>15-02-2015</td>\n",
       "      <td>38 heures</td>\n",
       "      <td>False</td>\n",
       "      <td>7</td>\n",
       "      <td>378745 €</td>\n",
       "      <td>Lille</td>\n",
       "      <td>+33-666-95067</td>\n",
       "    </tr>\n",
       "    <tr>\n",
       "      <th>7</th>\n",
       "      <td>8</td>\n",
       "      <td>22-02-2015</td>\n",
       "      <td>NaN</td>\n",
       "      <td>True</td>\n",
       "      <td>8</td>\n",
       "      <td>127512 €</td>\n",
       "      <td>MARSEILLE</td>\n",
       "      <td>+33-625-77215</td>\n",
       "    </tr>\n",
       "    <tr>\n",
       "      <th>8</th>\n",
       "      <td>9</td>\n",
       "      <td>01-03-2015</td>\n",
       "      <td>30 heures</td>\n",
       "      <td>False</td>\n",
       "      <td>9</td>\n",
       "      <td>167443 €</td>\n",
       "      <td>Nice</td>\n",
       "      <td>+33-650-23284</td>\n",
       "    </tr>\n",
       "    <tr>\n",
       "      <th>9</th>\n",
       "      <td>10</td>\n",
       "      <td>08-03-2015</td>\n",
       "      <td>30 heures</td>\n",
       "      <td>False</td>\n",
       "      <td>10</td>\n",
       "      <td>490587 €</td>\n",
       "      <td>Paris</td>\n",
       "      <td>+33-685-94664</td>\n",
       "    </tr>\n",
       "    <tr>\n",
       "      <th>10</th>\n",
       "      <td>11</td>\n",
       "      <td>15-03-2015</td>\n",
       "      <td>43 heures</td>\n",
       "      <td>False</td>\n",
       "      <td>11</td>\n",
       "      <td>393616 €</td>\n",
       "      <td>Lille</td>\n",
       "      <td>+33-628-71389</td>\n",
       "    </tr>\n",
       "    <tr>\n",
       "      <th>11</th>\n",
       "      <td>12</td>\n",
       "      <td>22-03-2015</td>\n",
       "      <td>55 heures</td>\n",
       "      <td>False</td>\n",
       "      <td>12</td>\n",
       "      <td>153121 €</td>\n",
       "      <td>Lille</td>\n",
       "      <td>+33-691-64340</td>\n",
       "    </tr>\n",
       "    <tr>\n",
       "      <th>12</th>\n",
       "      <td>13</td>\n",
       "      <td>29-03-2015</td>\n",
       "      <td>59 heures</td>\n",
       "      <td>False</td>\n",
       "      <td>13</td>\n",
       "      <td>182688 €</td>\n",
       "      <td>Paris</td>\n",
       "      <td>+33-646-88832</td>\n",
       "    </tr>\n",
       "    <tr>\n",
       "      <th>13</th>\n",
       "      <td>14</td>\n",
       "      <td>05-04-2015</td>\n",
       "      <td>43 heures</td>\n",
       "      <td>False</td>\n",
       "      <td>14</td>\n",
       "      <td>385871 €</td>\n",
       "      <td>Lille</td>\n",
       "      <td>+33-693-88781</td>\n",
       "    </tr>\n",
       "  </tbody>\n",
       "</table>\n",
       "</div>"
      ],
      "text/plain": [
       "    id magasin opening date weekly opening hours ouverture le dimanche  \\\n",
       "0            1   04-01-2015            58 heures                  True   \n",
       "1            2   11-01-2015            48 heures                 False   \n",
       "2            3   18-01-2015            34 heures                 False   \n",
       "3            4   25-01-2015            27 heures                 False   \n",
       "4            5   01-02-2015            40 heures                 False   \n",
       "5            6   08-02-2015            58 heures                 False   \n",
       "6            7   15-02-2015            38 heures                 False   \n",
       "7            8   22-02-2015                  NaN                  True   \n",
       "8            9   01-03-2015            30 heures                 False   \n",
       "9           10   08-03-2015            30 heures                 False   \n",
       "10          11   15-03-2015            43 heures                 False   \n",
       "11          12   22-03-2015            55 heures                 False   \n",
       "12          13   29-03-2015            59 heures                 False   \n",
       "13          14   05-04-2015            43 heures                 False   \n",
       "\n",
       "    numero magasin        CA       ville numero de telephone  \n",
       "0                1  105981 €  MARSEILLE        +33-695-17805  \n",
       "1                2  473929 €      Paris        +33-647-30056  \n",
       "2                3   50306 €      Paris        +33-600-13343  \n",
       "3                4  167718 €        Nice       +33-660-63222  \n",
       "4                5  328987 €        Nice       +33-663-19662  \n",
       "5                6  140975 €      Lille        +33-668-69638  \n",
       "6                7  378745 €      Lille        +33-666-95067  \n",
       "7                8  127512 €  MARSEILLE        +33-625-77215  \n",
       "8                9  167443 €        Nice       +33-650-23284  \n",
       "9               10  490587 €      Paris        +33-685-94664  \n",
       "10              11  393616 €      Lille        +33-628-71389  \n",
       "11              12  153121 €      Lille        +33-691-64340  \n",
       "12              13  182688 €      Paris        +33-646-88832  \n",
       "13              14  385871 €      Lille        +33-693-88781  "
      ]
     },
     "execution_count": 89,
     "metadata": {},
     "output_type": "execute_result"
    }
   ],
   "source": [
    "#Retirer les x dernières lignes\n",
    "data.head(-90)"
   ]
  },
  {
   "cell_type": "code",
   "execution_count": 90,
   "id": "b9cbe750",
   "metadata": {},
   "outputs": [
    {
     "data": {
      "application/vnd.microsoft.datawrangler.viewer.v0+json": {
       "columns": [
        {
         "name": "index",
         "rawType": "int64",
         "type": "integer"
        },
        {
         "name": "id magasin",
         "rawType": "int64",
         "type": "integer"
        },
        {
         "name": "opening date",
         "rawType": "object",
         "type": "string"
        },
        {
         "name": "weekly opening hours",
         "rawType": "object",
         "type": "string"
        },
        {
         "name": "ouverture le dimanche",
         "rawType": "object",
         "type": "unknown"
        },
        {
         "name": "numero magasin",
         "rawType": "int64",
         "type": "integer"
        },
        {
         "name": "CA",
         "rawType": "object",
         "type": "string"
        },
        {
         "name": "ville",
         "rawType": "object",
         "type": "string"
        },
        {
         "name": "numero de telephone",
         "rawType": "object",
         "type": "string"
        }
       ],
       "conversionMethod": "pd.DataFrame",
       "ref": "758c8131-f391-4055-b1b0-37a6ddc5eb8c",
       "rows": [
        [
         "101",
         "98",
         "13-11-2016",
         "31 heures",
         "False",
         "98",
         "225615 €",
         " lyon",
         "+33-690-35289"
        ],
        [
         "102",
         "99",
         "20-11-2016",
         "53 heures",
         "True",
         "99",
         "65714 €",
         "Paris ",
         "+33-689-25485"
        ],
        [
         "103",
         "100",
         "27-11-2016",
         "52 heures",
         null,
         "100",
         "470051 €",
         " lyon",
         "+33-666-96188"
        ]
       ],
       "shape": {
        "columns": 8,
        "rows": 3
       }
      },
      "text/html": [
       "<div>\n",
       "<style scoped>\n",
       "    .dataframe tbody tr th:only-of-type {\n",
       "        vertical-align: middle;\n",
       "    }\n",
       "\n",
       "    .dataframe tbody tr th {\n",
       "        vertical-align: top;\n",
       "    }\n",
       "\n",
       "    .dataframe thead th {\n",
       "        text-align: right;\n",
       "    }\n",
       "</style>\n",
       "<table border=\"1\" class=\"dataframe\">\n",
       "  <thead>\n",
       "    <tr style=\"text-align: right;\">\n",
       "      <th></th>\n",
       "      <th>id magasin</th>\n",
       "      <th>opening date</th>\n",
       "      <th>weekly opening hours</th>\n",
       "      <th>ouverture le dimanche</th>\n",
       "      <th>numero magasin</th>\n",
       "      <th>CA</th>\n",
       "      <th>ville</th>\n",
       "      <th>numero de telephone</th>\n",
       "    </tr>\n",
       "  </thead>\n",
       "  <tbody>\n",
       "    <tr>\n",
       "      <th>101</th>\n",
       "      <td>98</td>\n",
       "      <td>13-11-2016</td>\n",
       "      <td>31 heures</td>\n",
       "      <td>False</td>\n",
       "      <td>98</td>\n",
       "      <td>225615 €</td>\n",
       "      <td>lyon</td>\n",
       "      <td>+33-690-35289</td>\n",
       "    </tr>\n",
       "    <tr>\n",
       "      <th>102</th>\n",
       "      <td>99</td>\n",
       "      <td>20-11-2016</td>\n",
       "      <td>53 heures</td>\n",
       "      <td>True</td>\n",
       "      <td>99</td>\n",
       "      <td>65714 €</td>\n",
       "      <td>Paris</td>\n",
       "      <td>+33-689-25485</td>\n",
       "    </tr>\n",
       "    <tr>\n",
       "      <th>103</th>\n",
       "      <td>100</td>\n",
       "      <td>27-11-2016</td>\n",
       "      <td>52 heures</td>\n",
       "      <td>NaN</td>\n",
       "      <td>100</td>\n",
       "      <td>470051 €</td>\n",
       "      <td>lyon</td>\n",
       "      <td>+33-666-96188</td>\n",
       "    </tr>\n",
       "  </tbody>\n",
       "</table>\n",
       "</div>"
      ],
      "text/plain": [
       "     id magasin opening date weekly opening hours ouverture le dimanche  \\\n",
       "101          98   13-11-2016            31 heures                 False   \n",
       "102          99   20-11-2016            53 heures                  True   \n",
       "103         100   27-11-2016            52 heures                   NaN   \n",
       "\n",
       "     numero magasin        CA   ville numero de telephone  \n",
       "101              98  225615 €    lyon       +33-690-35289  \n",
       "102              99   65714 €  Paris        +33-689-25485  \n",
       "103             100  470051 €    lyon       +33-666-96188  "
      ]
     },
     "execution_count": 90,
     "metadata": {},
     "output_type": "execute_result"
    }
   ],
   "source": [
    "data.tail(3)"
   ]
  },
  {
   "cell_type": "code",
   "execution_count": 91,
   "id": "ce7a84ee",
   "metadata": {},
   "outputs": [
    {
     "data": {
      "application/vnd.microsoft.datawrangler.viewer.v0+json": {
       "columns": [
        {
         "name": "index",
         "rawType": "int64",
         "type": "integer"
        },
        {
         "name": "id magasin",
         "rawType": "int64",
         "type": "integer"
        },
        {
         "name": "opening date",
         "rawType": "object",
         "type": "string"
        },
        {
         "name": "weekly opening hours",
         "rawType": "object",
         "type": "string"
        },
        {
         "name": "ouverture le dimanche",
         "rawType": "object",
         "type": "unknown"
        },
        {
         "name": "numero magasin",
         "rawType": "int64",
         "type": "integer"
        },
        {
         "name": "CA",
         "rawType": "object",
         "type": "string"
        },
        {
         "name": "ville",
         "rawType": "object",
         "type": "string"
        },
        {
         "name": "numero de telephone",
         "rawType": "object",
         "type": "string"
        }
       ],
       "conversionMethod": "pd.DataFrame",
       "ref": "aabe4338-571a-4733-b823-ebd6bbd1bad9",
       "rows": [
        [
         "94",
         "91",
         "25-09-2016",
         "52 heures",
         "True",
         "91",
         "380032 €",
         " lyon",
         "+33-682-38295"
        ],
        [
         "95",
         "92",
         "02-10-2016",
         "24 heures",
         "False",
         "92",
         "453006 €",
         "Lille ",
         "+33-664-93285"
        ],
        [
         "96",
         "93",
         "09-10-2016",
         "58 heures",
         "True",
         "93",
         "389599 €",
         "Paris ",
         "+33-616-67854"
        ],
        [
         "97",
         "94",
         "16-10-2016",
         "47 heures",
         "False",
         "94",
         "156672 €",
         "Nice",
         "+33-670-47080"
        ],
        [
         "98",
         "95",
         "23-10-2016",
         "26 heures",
         "False",
         "95",
         "245732 €",
         "Lille ",
         "+33-644-45909"
        ],
        [
         "99",
         "96",
         "30-10-2016",
         "28 heures",
         null,
         "96",
         "375323 €",
         "Paris ",
         "+33-630-44578"
        ],
        [
         "100",
         "97",
         "06-11-2016",
         "27 heures",
         "True",
         "97",
         "191836 €",
         " lyon",
         "+33-660-36790"
        ],
        [
         "101",
         "98",
         "13-11-2016",
         "31 heures",
         "False",
         "98",
         "225615 €",
         " lyon",
         "+33-690-35289"
        ],
        [
         "102",
         "99",
         "20-11-2016",
         "53 heures",
         "True",
         "99",
         "65714 €",
         "Paris ",
         "+33-689-25485"
        ],
        [
         "103",
         "100",
         "27-11-2016",
         "52 heures",
         null,
         "100",
         "470051 €",
         " lyon",
         "+33-666-96188"
        ]
       ],
       "shape": {
        "columns": 8,
        "rows": 10
       }
      },
      "text/html": [
       "<div>\n",
       "<style scoped>\n",
       "    .dataframe tbody tr th:only-of-type {\n",
       "        vertical-align: middle;\n",
       "    }\n",
       "\n",
       "    .dataframe tbody tr th {\n",
       "        vertical-align: top;\n",
       "    }\n",
       "\n",
       "    .dataframe thead th {\n",
       "        text-align: right;\n",
       "    }\n",
       "</style>\n",
       "<table border=\"1\" class=\"dataframe\">\n",
       "  <thead>\n",
       "    <tr style=\"text-align: right;\">\n",
       "      <th></th>\n",
       "      <th>id magasin</th>\n",
       "      <th>opening date</th>\n",
       "      <th>weekly opening hours</th>\n",
       "      <th>ouverture le dimanche</th>\n",
       "      <th>numero magasin</th>\n",
       "      <th>CA</th>\n",
       "      <th>ville</th>\n",
       "      <th>numero de telephone</th>\n",
       "    </tr>\n",
       "  </thead>\n",
       "  <tbody>\n",
       "    <tr>\n",
       "      <th>94</th>\n",
       "      <td>91</td>\n",
       "      <td>25-09-2016</td>\n",
       "      <td>52 heures</td>\n",
       "      <td>True</td>\n",
       "      <td>91</td>\n",
       "      <td>380032 €</td>\n",
       "      <td>lyon</td>\n",
       "      <td>+33-682-38295</td>\n",
       "    </tr>\n",
       "    <tr>\n",
       "      <th>95</th>\n",
       "      <td>92</td>\n",
       "      <td>02-10-2016</td>\n",
       "      <td>24 heures</td>\n",
       "      <td>False</td>\n",
       "      <td>92</td>\n",
       "      <td>453006 €</td>\n",
       "      <td>Lille</td>\n",
       "      <td>+33-664-93285</td>\n",
       "    </tr>\n",
       "    <tr>\n",
       "      <th>96</th>\n",
       "      <td>93</td>\n",
       "      <td>09-10-2016</td>\n",
       "      <td>58 heures</td>\n",
       "      <td>True</td>\n",
       "      <td>93</td>\n",
       "      <td>389599 €</td>\n",
       "      <td>Paris</td>\n",
       "      <td>+33-616-67854</td>\n",
       "    </tr>\n",
       "    <tr>\n",
       "      <th>97</th>\n",
       "      <td>94</td>\n",
       "      <td>16-10-2016</td>\n",
       "      <td>47 heures</td>\n",
       "      <td>False</td>\n",
       "      <td>94</td>\n",
       "      <td>156672 €</td>\n",
       "      <td>Nice</td>\n",
       "      <td>+33-670-47080</td>\n",
       "    </tr>\n",
       "    <tr>\n",
       "      <th>98</th>\n",
       "      <td>95</td>\n",
       "      <td>23-10-2016</td>\n",
       "      <td>26 heures</td>\n",
       "      <td>False</td>\n",
       "      <td>95</td>\n",
       "      <td>245732 €</td>\n",
       "      <td>Lille</td>\n",
       "      <td>+33-644-45909</td>\n",
       "    </tr>\n",
       "    <tr>\n",
       "      <th>99</th>\n",
       "      <td>96</td>\n",
       "      <td>30-10-2016</td>\n",
       "      <td>28 heures</td>\n",
       "      <td>NaN</td>\n",
       "      <td>96</td>\n",
       "      <td>375323 €</td>\n",
       "      <td>Paris</td>\n",
       "      <td>+33-630-44578</td>\n",
       "    </tr>\n",
       "    <tr>\n",
       "      <th>100</th>\n",
       "      <td>97</td>\n",
       "      <td>06-11-2016</td>\n",
       "      <td>27 heures</td>\n",
       "      <td>True</td>\n",
       "      <td>97</td>\n",
       "      <td>191836 €</td>\n",
       "      <td>lyon</td>\n",
       "      <td>+33-660-36790</td>\n",
       "    </tr>\n",
       "    <tr>\n",
       "      <th>101</th>\n",
       "      <td>98</td>\n",
       "      <td>13-11-2016</td>\n",
       "      <td>31 heures</td>\n",
       "      <td>False</td>\n",
       "      <td>98</td>\n",
       "      <td>225615 €</td>\n",
       "      <td>lyon</td>\n",
       "      <td>+33-690-35289</td>\n",
       "    </tr>\n",
       "    <tr>\n",
       "      <th>102</th>\n",
       "      <td>99</td>\n",
       "      <td>20-11-2016</td>\n",
       "      <td>53 heures</td>\n",
       "      <td>True</td>\n",
       "      <td>99</td>\n",
       "      <td>65714 €</td>\n",
       "      <td>Paris</td>\n",
       "      <td>+33-689-25485</td>\n",
       "    </tr>\n",
       "    <tr>\n",
       "      <th>103</th>\n",
       "      <td>100</td>\n",
       "      <td>27-11-2016</td>\n",
       "      <td>52 heures</td>\n",
       "      <td>NaN</td>\n",
       "      <td>100</td>\n",
       "      <td>470051 €</td>\n",
       "      <td>lyon</td>\n",
       "      <td>+33-666-96188</td>\n",
       "    </tr>\n",
       "  </tbody>\n",
       "</table>\n",
       "</div>"
      ],
      "text/plain": [
       "     id magasin opening date weekly opening hours ouverture le dimanche  \\\n",
       "94           91   25-09-2016            52 heures                  True   \n",
       "95           92   02-10-2016            24 heures                 False   \n",
       "96           93   09-10-2016            58 heures                  True   \n",
       "97           94   16-10-2016            47 heures                 False   \n",
       "98           95   23-10-2016            26 heures                 False   \n",
       "99           96   30-10-2016            28 heures                   NaN   \n",
       "100          97   06-11-2016            27 heures                  True   \n",
       "101          98   13-11-2016            31 heures                 False   \n",
       "102          99   20-11-2016            53 heures                  True   \n",
       "103         100   27-11-2016            52 heures                   NaN   \n",
       "\n",
       "     numero magasin        CA   ville numero de telephone  \n",
       "94               91  380032 €    lyon       +33-682-38295  \n",
       "95               92  453006 €  Lille        +33-664-93285  \n",
       "96               93  389599 €  Paris        +33-616-67854  \n",
       "97               94  156672 €    Nice       +33-670-47080  \n",
       "98               95  245732 €  Lille        +33-644-45909  \n",
       "99               96  375323 €  Paris        +33-630-44578  \n",
       "100              97  191836 €    lyon       +33-660-36790  \n",
       "101              98  225615 €    lyon       +33-690-35289  \n",
       "102              99   65714 €  Paris        +33-689-25485  \n",
       "103             100  470051 €    lyon       +33-666-96188  "
      ]
     },
     "execution_count": 91,
     "metadata": {},
     "output_type": "execute_result"
    }
   ],
   "source": [
    "data.tail(10)"
   ]
  },
  {
   "cell_type": "markdown",
   "id": "0997de86",
   "metadata": {},
   "source": [
    "<b> Comprendre les lignes et les colonnes présentes avec len(), columns et size </b>"
   ]
  },
  {
   "cell_type": "code",
   "execution_count": 92,
   "id": "d97c2272",
   "metadata": {},
   "outputs": [
    {
     "data": {
      "text/plain": [
       "104"
      ]
     },
     "execution_count": 92,
     "metadata": {},
     "output_type": "execute_result"
    }
   ],
   "source": [
    "#Longueur du tableau \n",
    "len(data)"
   ]
  },
  {
   "cell_type": "code",
   "execution_count": 93,
   "id": "58a9661b",
   "metadata": {},
   "outputs": [
    {
     "data": {
      "text/plain": [
       "832"
      ]
     },
     "execution_count": 93,
     "metadata": {},
     "output_type": "execute_result"
    }
   ],
   "source": [
    "# nombre total de valeurs\n",
    "data.values.size"
   ]
  },
  {
   "cell_type": "code",
   "execution_count": 94,
   "id": "07965404",
   "metadata": {},
   "outputs": [
    {
     "data": {
      "text/plain": [
       "Index(['id magasin', 'opening date', 'weekly opening hours',\n",
       "       'ouverture le dimanche', 'numero magasin', 'CA', 'ville',\n",
       "       'numero de telephone'],\n",
       "      dtype='object')"
      ]
     },
     "execution_count": 94,
     "metadata": {},
     "output_type": "execute_result"
    }
   ],
   "source": [
    "# colonnes présentes\n",
    "data.columns"
   ]
  },
  {
   "cell_type": "code",
   "execution_count": null,
   "id": "6b28e114",
   "metadata": {},
   "outputs": [],
   "source": []
  },
  {
   "cell_type": "markdown",
   "id": "0acfce08",
   "metadata": {},
   "source": [
    "<b> Faire une première analyse des données présentes dans le tableau, avec info(), describe() </b>\n",
    "\n",
    "<b> .info() retourne </b>\n",
    "- Le nombre total d'entrées et le nombre de colonnes.\n",
    "- Le type de l'index et la plage des valeurs d'index.\n",
    "- Le type de données pour chaque colonne.\n",
    "- Le nombre de valeurs non nulles pour chaque colonne.\n",
    "- L'utilisation de la mémoire."
   ]
  },
  {
   "cell_type": "code",
   "execution_count": 95,
   "id": "1ffbebfc",
   "metadata": {},
   "outputs": [
    {
     "name": "stdout",
     "output_type": "stream",
     "text": [
      "<class 'pandas.core.frame.DataFrame'>\n",
      "RangeIndex: 104 entries, 0 to 103\n",
      "Data columns (total 8 columns):\n",
      " #   Column                 Non-Null Count  Dtype \n",
      "---  ------                 --------------  ----- \n",
      " 0   id magasin             104 non-null    int64 \n",
      " 1   opening date           104 non-null    object\n",
      " 2   weekly opening hours   99 non-null     object\n",
      " 3   ouverture le dimanche  94 non-null     object\n",
      " 4   numero magasin         104 non-null    int64 \n",
      " 5   CA                     104 non-null    object\n",
      " 6   ville                  104 non-null    object\n",
      " 7   numero de telephone    104 non-null    object\n",
      "dtypes: int64(2), object(6)\n",
      "memory usage: 6.6+ KB\n"
     ]
    }
   ],
   "source": [
    "data.info()"
   ]
  },
  {
   "cell_type": "markdown",
   "id": "1efb3087",
   "metadata": {},
   "source": [
    "Types de données courants : \n",
    "\n",
    "- int64 : Entiers (nombre entier positif ou négatif sans décimale)\n",
    "- float64 : Nombres à virgule flottante (nombre réel)\n",
    "- object : Texte ou données mixtes (généralement des chaînes de caractères pour du texte)\n",
    "- bool : Valeurs booléennes (True ou False)\n",
    "- datetime64[ns] : Dates et heures (nanosecondes par défaut, mais d'autres fréquences comme s pour seconde, D pour jour, etc., peuvent être spécifiées)\n",
    "- timedelta[ns] : Différences entre deux datetime64[ns] (représentées en nanosecondes par défaut)\n",
    "\n",
    "<b> .describe() retourne </b>\n",
    "- count : Le nombre de valeurs non manquantes dans chaque colonne.\n",
    "- mean : La moyenne des valeurs.\n",
    "- std : L'écart-type, qui mesure la dispersion des valeurs.\n",
    "- min : La plus petite valeur.\n",
    "- 25% : Le 1er quartile, ou la valeur médiane des premières 50% des données.\n",
    "- 50% (ou median) : La médiane des données.\n",
    "- 75% : Le 3ème quartile, ou la valeur médiane des dernières 50% des données.\n",
    "- max : La plus grande valeur."
   ]
  },
  {
   "cell_type": "code",
   "execution_count": 96,
   "id": "9c230249",
   "metadata": {},
   "outputs": [
    {
     "data": {
      "application/vnd.microsoft.datawrangler.viewer.v0+json": {
       "columns": [
        {
         "name": "index",
         "rawType": "object",
         "type": "string"
        },
        {
         "name": "id magasin",
         "rawType": "float64",
         "type": "float"
        },
        {
         "name": "opening date",
         "rawType": "object",
         "type": "unknown"
        },
        {
         "name": "weekly opening hours",
         "rawType": "object",
         "type": "unknown"
        },
        {
         "name": "ouverture le dimanche",
         "rawType": "object",
         "type": "unknown"
        },
        {
         "name": "numero magasin",
         "rawType": "float64",
         "type": "float"
        },
        {
         "name": "CA",
         "rawType": "object",
         "type": "unknown"
        },
        {
         "name": "ville",
         "rawType": "object",
         "type": "unknown"
        },
        {
         "name": "numero de telephone",
         "rawType": "object",
         "type": "unknown"
        }
       ],
       "conversionMethod": "pd.DataFrame",
       "ref": "228d66e3-ab5a-42a9-b214-7e4c9e7b8960",
       "rows": [
        [
         "count",
         "104.0",
         "104",
         "99",
         "94",
         "104.0",
         "104",
         "104",
         "104"
        ],
        [
         "unique",
         null,
         "100",
         "36",
         "2",
         null,
         "100",
         "5",
         "100"
        ],
        [
         "top",
         null,
         "05-04-2015",
         "27 heures",
         "False",
         null,
         "385871 €",
         " lyon",
         "+33-693-88781"
        ],
        [
         "freq",
         null,
         "2",
         "7",
         "61",
         null,
         "2",
         "28",
         "2"
        ],
        [
         "mean",
         "50.50961538461539",
         null,
         null,
         null,
         "50.50961538461539",
         null,
         null,
         null
        ],
        [
         "std",
         "29.008868812029668",
         null,
         null,
         null,
         "29.008868812029668",
         null,
         null,
         null
        ],
        [
         "min",
         "1.0",
         null,
         null,
         null,
         "1.0",
         null,
         null,
         null
        ],
        [
         "25%",
         "25.75",
         null,
         null,
         null,
         "25.75",
         null,
         null,
         null
        ],
        [
         "50%",
         "50.5",
         null,
         null,
         null,
         "50.5",
         null,
         null,
         null
        ],
        [
         "75%",
         "75.25",
         null,
         null,
         null,
         "75.25",
         null,
         null,
         null
        ],
        [
         "max",
         "100.0",
         null,
         null,
         null,
         "100.0",
         null,
         null,
         null
        ]
       ],
       "shape": {
        "columns": 8,
        "rows": 11
       }
      },
      "text/html": [
       "<div>\n",
       "<style scoped>\n",
       "    .dataframe tbody tr th:only-of-type {\n",
       "        vertical-align: middle;\n",
       "    }\n",
       "\n",
       "    .dataframe tbody tr th {\n",
       "        vertical-align: top;\n",
       "    }\n",
       "\n",
       "    .dataframe thead th {\n",
       "        text-align: right;\n",
       "    }\n",
       "</style>\n",
       "<table border=\"1\" class=\"dataframe\">\n",
       "  <thead>\n",
       "    <tr style=\"text-align: right;\">\n",
       "      <th></th>\n",
       "      <th>id magasin</th>\n",
       "      <th>opening date</th>\n",
       "      <th>weekly opening hours</th>\n",
       "      <th>ouverture le dimanche</th>\n",
       "      <th>numero magasin</th>\n",
       "      <th>CA</th>\n",
       "      <th>ville</th>\n",
       "      <th>numero de telephone</th>\n",
       "    </tr>\n",
       "  </thead>\n",
       "  <tbody>\n",
       "    <tr>\n",
       "      <th>count</th>\n",
       "      <td>104.000000</td>\n",
       "      <td>104</td>\n",
       "      <td>99</td>\n",
       "      <td>94</td>\n",
       "      <td>104.000000</td>\n",
       "      <td>104</td>\n",
       "      <td>104</td>\n",
       "      <td>104</td>\n",
       "    </tr>\n",
       "    <tr>\n",
       "      <th>unique</th>\n",
       "      <td>NaN</td>\n",
       "      <td>100</td>\n",
       "      <td>36</td>\n",
       "      <td>2</td>\n",
       "      <td>NaN</td>\n",
       "      <td>100</td>\n",
       "      <td>5</td>\n",
       "      <td>100</td>\n",
       "    </tr>\n",
       "    <tr>\n",
       "      <th>top</th>\n",
       "      <td>NaN</td>\n",
       "      <td>05-04-2015</td>\n",
       "      <td>27 heures</td>\n",
       "      <td>False</td>\n",
       "      <td>NaN</td>\n",
       "      <td>385871 €</td>\n",
       "      <td>lyon</td>\n",
       "      <td>+33-693-88781</td>\n",
       "    </tr>\n",
       "    <tr>\n",
       "      <th>freq</th>\n",
       "      <td>NaN</td>\n",
       "      <td>2</td>\n",
       "      <td>7</td>\n",
       "      <td>61</td>\n",
       "      <td>NaN</td>\n",
       "      <td>2</td>\n",
       "      <td>28</td>\n",
       "      <td>2</td>\n",
       "    </tr>\n",
       "    <tr>\n",
       "      <th>mean</th>\n",
       "      <td>50.509615</td>\n",
       "      <td>NaN</td>\n",
       "      <td>NaN</td>\n",
       "      <td>NaN</td>\n",
       "      <td>50.509615</td>\n",
       "      <td>NaN</td>\n",
       "      <td>NaN</td>\n",
       "      <td>NaN</td>\n",
       "    </tr>\n",
       "    <tr>\n",
       "      <th>std</th>\n",
       "      <td>29.008869</td>\n",
       "      <td>NaN</td>\n",
       "      <td>NaN</td>\n",
       "      <td>NaN</td>\n",
       "      <td>29.008869</td>\n",
       "      <td>NaN</td>\n",
       "      <td>NaN</td>\n",
       "      <td>NaN</td>\n",
       "    </tr>\n",
       "    <tr>\n",
       "      <th>min</th>\n",
       "      <td>1.000000</td>\n",
       "      <td>NaN</td>\n",
       "      <td>NaN</td>\n",
       "      <td>NaN</td>\n",
       "      <td>1.000000</td>\n",
       "      <td>NaN</td>\n",
       "      <td>NaN</td>\n",
       "      <td>NaN</td>\n",
       "    </tr>\n",
       "    <tr>\n",
       "      <th>25%</th>\n",
       "      <td>25.750000</td>\n",
       "      <td>NaN</td>\n",
       "      <td>NaN</td>\n",
       "      <td>NaN</td>\n",
       "      <td>25.750000</td>\n",
       "      <td>NaN</td>\n",
       "      <td>NaN</td>\n",
       "      <td>NaN</td>\n",
       "    </tr>\n",
       "    <tr>\n",
       "      <th>50%</th>\n",
       "      <td>50.500000</td>\n",
       "      <td>NaN</td>\n",
       "      <td>NaN</td>\n",
       "      <td>NaN</td>\n",
       "      <td>50.500000</td>\n",
       "      <td>NaN</td>\n",
       "      <td>NaN</td>\n",
       "      <td>NaN</td>\n",
       "    </tr>\n",
       "    <tr>\n",
       "      <th>75%</th>\n",
       "      <td>75.250000</td>\n",
       "      <td>NaN</td>\n",
       "      <td>NaN</td>\n",
       "      <td>NaN</td>\n",
       "      <td>75.250000</td>\n",
       "      <td>NaN</td>\n",
       "      <td>NaN</td>\n",
       "      <td>NaN</td>\n",
       "    </tr>\n",
       "    <tr>\n",
       "      <th>max</th>\n",
       "      <td>100.000000</td>\n",
       "      <td>NaN</td>\n",
       "      <td>NaN</td>\n",
       "      <td>NaN</td>\n",
       "      <td>100.000000</td>\n",
       "      <td>NaN</td>\n",
       "      <td>NaN</td>\n",
       "      <td>NaN</td>\n",
       "    </tr>\n",
       "  </tbody>\n",
       "</table>\n",
       "</div>"
      ],
      "text/plain": [
       "        id magasin opening date weekly opening hours ouverture le dimanche  \\\n",
       "count   104.000000          104                   99                    94   \n",
       "unique         NaN          100                   36                     2   \n",
       "top            NaN   05-04-2015            27 heures                 False   \n",
       "freq           NaN            2                    7                    61   \n",
       "mean     50.509615          NaN                  NaN                   NaN   \n",
       "std      29.008869          NaN                  NaN                   NaN   \n",
       "min       1.000000          NaN                  NaN                   NaN   \n",
       "25%      25.750000          NaN                  NaN                   NaN   \n",
       "50%      50.500000          NaN                  NaN                   NaN   \n",
       "75%      75.250000          NaN                  NaN                   NaN   \n",
       "max     100.000000          NaN                  NaN                   NaN   \n",
       "\n",
       "        numero magasin        CA  ville numero de telephone  \n",
       "count       104.000000       104    104                 104  \n",
       "unique             NaN       100      5                 100  \n",
       "top                NaN  385871 €   lyon       +33-693-88781  \n",
       "freq               NaN         2     28                   2  \n",
       "mean         50.509615       NaN    NaN                 NaN  \n",
       "std          29.008869       NaN    NaN                 NaN  \n",
       "min           1.000000       NaN    NaN                 NaN  \n",
       "25%          25.750000       NaN    NaN                 NaN  \n",
       "50%          50.500000       NaN    NaN                 NaN  \n",
       "75%          75.250000       NaN    NaN                 NaN  \n",
       "max         100.000000       NaN    NaN                 NaN  "
      ]
     },
     "execution_count": 96,
     "metadata": {},
     "output_type": "execute_result"
    }
   ],
   "source": [
    "data.describe( include='all')"
   ]
  },
  {
   "cell_type": "code",
   "execution_count": 97,
   "id": "9912bd0f",
   "metadata": {},
   "outputs": [
    {
     "data": {
      "text/plain": [
       "id magasin                int64\n",
       "opening date             object\n",
       "weekly opening hours     object\n",
       "ouverture le dimanche    object\n",
       "numero magasin            int64\n",
       "CA                       object\n",
       "ville                    object\n",
       "numero de telephone      object\n",
       "dtype: object"
      ]
     },
     "execution_count": 97,
     "metadata": {},
     "output_type": "execute_result"
    }
   ],
   "source": [
    "data.dtypes"
   ]
  },
  {
   "cell_type": "markdown",
   "id": "84bee6da",
   "metadata": {},
   "source": [
    "<h1> Reordonner les colonnes que nous allons utiliser </h1>\n",
    "\n",
    "<b> Conserver uniquement les colonnes utiles </b>\n",
    "\n",
    "Dans certains cas, des colonnes peuvent ne pas être à garder (doublon, Id technique inutile, trop de valeurs manquantes)."
   ]
  },
  {
   "cell_type": "code",
   "execution_count": 98,
   "id": "7592f7f9",
   "metadata": {},
   "outputs": [
    {
     "data": {
      "application/vnd.microsoft.datawrangler.viewer.v0+json": {
       "columns": [
        {
         "name": "index",
         "rawType": "int64",
         "type": "integer"
        },
        {
         "name": "id magasin",
         "rawType": "int64",
         "type": "integer"
        },
        {
         "name": "opening date",
         "rawType": "object",
         "type": "string"
        },
        {
         "name": "weekly opening hours",
         "rawType": "object",
         "type": "unknown"
        },
        {
         "name": "ouverture le dimanche",
         "rawType": "object",
         "type": "unknown"
        },
        {
         "name": "numero magasin",
         "rawType": "int64",
         "type": "integer"
        },
        {
         "name": "CA",
         "rawType": "object",
         "type": "string"
        },
        {
         "name": "ville",
         "rawType": "object",
         "type": "string"
        },
        {
         "name": "numero de telephone",
         "rawType": "object",
         "type": "string"
        }
       ],
       "conversionMethod": "pd.DataFrame",
       "ref": "76af394c-840f-4848-87c6-ac8bfcbb8115",
       "rows": [
        [
         "0",
         "1",
         "04-01-2015",
         "58 heures",
         "True",
         "1",
         "105981 €",
         "MARSEILLE ",
         "+33-695-17805"
        ],
        [
         "1",
         "2",
         "11-01-2015",
         "48 heures",
         "False",
         "2",
         "473929 €",
         "Paris ",
         "+33-647-30056"
        ],
        [
         "2",
         "3",
         "18-01-2015",
         "34 heures",
         "False",
         "3",
         "50306 €",
         "Paris ",
         "+33-600-13343"
        ],
        [
         "3",
         "4",
         "25-01-2015",
         "27 heures",
         "False",
         "4",
         "167718 €",
         "Nice",
         "+33-660-63222"
        ],
        [
         "4",
         "5",
         "01-02-2015",
         "40 heures",
         "False",
         "5",
         "328987 €",
         "Nice",
         "+33-663-19662"
        ],
        [
         "5",
         "6",
         "08-02-2015",
         "58 heures",
         "False",
         "6",
         "140975 €",
         "Lille ",
         "+33-668-69638"
        ],
        [
         "6",
         "7",
         "15-02-2015",
         "38 heures",
         "False",
         "7",
         "378745 €",
         "Lille ",
         "+33-666-95067"
        ],
        [
         "7",
         "8",
         "22-02-2015",
         null,
         "True",
         "8",
         "127512 €",
         "MARSEILLE ",
         "+33-625-77215"
        ],
        [
         "8",
         "9",
         "01-03-2015",
         "30 heures",
         "False",
         "9",
         "167443 €",
         "Nice",
         "+33-650-23284"
        ],
        [
         "9",
         "10",
         "08-03-2015",
         "30 heures",
         "False",
         "10",
         "490587 €",
         "Paris ",
         "+33-685-94664"
        ],
        [
         "10",
         "11",
         "15-03-2015",
         "43 heures",
         "False",
         "11",
         "393616 €",
         "Lille ",
         "+33-628-71389"
        ],
        [
         "11",
         "12",
         "22-03-2015",
         "55 heures",
         "False",
         "12",
         "153121 €",
         "Lille ",
         "+33-691-64340"
        ],
        [
         "12",
         "13",
         "29-03-2015",
         "59 heures",
         "False",
         "13",
         "182688 €",
         "Paris ",
         "+33-646-88832"
        ],
        [
         "13",
         "14",
         "05-04-2015",
         "43 heures",
         "False",
         "14",
         "385871 €",
         "Lille ",
         "+33-693-88781"
        ],
        [
         "14",
         "14",
         "05-04-2015",
         "43 heures",
         "False",
         "14",
         "385871 €",
         "Lille ",
         "+33-693-88781"
        ],
        [
         "15",
         "15",
         "12-04-2015",
         "22 heures",
         "False",
         "15",
         "395037 €",
         "MARSEILLE ",
         "+33-668-53919"
        ],
        [
         "16",
         "16",
         "19-04-2015",
         "41 heures",
         "True",
         "16",
         "303076 €",
         "Nice",
         "+33-689-45247"
        ],
        [
         "17",
         "17",
         "26-04-2015",
         "21 heures",
         "True",
         "17",
         "137796 €",
         "Paris ",
         "+33-684-72752"
        ],
        [
         "18",
         "18",
         "03-05-2015",
         "43 heures",
         "True",
         "18",
         "311999 €",
         "Nice",
         "+33-693-36646"
        ],
        [
         "19",
         "19",
         "10-05-2015",
         "49 heures",
         "False",
         "19",
         "212506 €",
         "Lille ",
         "+33-609-89605"
        ],
        [
         "20",
         "20",
         "17-05-2015",
         null,
         "False",
         "20",
         "485910 €",
         "Lille ",
         "+33-668-78385"
        ],
        [
         "21",
         "21",
         "24-05-2015",
         "21 heures",
         "False",
         "21",
         "194088 €",
         "Paris ",
         "+33-651-50158"
        ],
        [
         "22",
         "22",
         "31-05-2015",
         "40 heures",
         null,
         "22",
         "289544 €",
         "MARSEILLE ",
         "+33-609-33289"
        ],
        [
         "23",
         "23",
         "07-06-2015",
         "52 heures",
         "True",
         "23",
         "400002 €",
         " lyon",
         "+33-618-19823"
        ],
        [
         "24",
         "24",
         "14-06-2015",
         "31 heures",
         "False",
         "24",
         "193714 €",
         "Paris ",
         "+33-600-51975"
        ],
        [
         "25",
         "25",
         "21-06-2015",
         "41 heures",
         "False",
         "25",
         "35151 €",
         " lyon",
         "+33-668-26364"
        ],
        [
         "26",
         "26",
         "28-06-2015",
         "44 heures",
         "True",
         "26",
         "464623 €",
         " lyon",
         "+33-603-37663"
        ],
        [
         "27",
         "27",
         "05-07-2015",
         "46 heures",
         "True",
         "27",
         "86690 €",
         "MARSEILLE ",
         "+33-623-67679"
        ],
        [
         "28",
         "28",
         "12-07-2015",
         "47 heures",
         "True",
         "28",
         "24499 €",
         " lyon",
         "+33-601-59115"
        ],
        [
         "29",
         "29",
         "19-07-2015",
         "35 heures",
         "True",
         "29",
         "26295 €",
         " lyon",
         "+33-631-70890"
        ],
        [
         "30",
         "30",
         "26-07-2015",
         null,
         null,
         "30",
         "403029 €",
         "MARSEILLE ",
         "+33-683-28071"
        ],
        [
         "31",
         "31",
         "02-08-2015",
         "22 heures",
         "False",
         "31",
         "408215 €",
         " lyon",
         "+33-611-82369"
        ],
        [
         "32",
         "32",
         "09-08-2015",
         "56 heures",
         "False",
         "32",
         "341184 €",
         " lyon",
         "+33-634-45195"
        ],
        [
         "33",
         "33",
         "16-08-2015",
         "26 heures",
         "False",
         "33",
         "294327 €",
         " lyon",
         "+33-632-14000"
        ],
        [
         "34",
         "33",
         "16-08-2015",
         "26 heures",
         "False",
         "33",
         "294327 €",
         " lyon",
         "+33-632-14000"
        ],
        [
         "35",
         "34",
         "23-08-2015",
         null,
         "False",
         "34",
         "442515 €",
         "Paris ",
         "+33-660-48304"
        ],
        [
         "36",
         "35",
         "30-08-2015",
         "28 heures",
         "True",
         "35",
         "163946 €",
         "Paris ",
         "+33-639-79449"
        ],
        [
         "37",
         "36",
         "06-09-2015",
         "58 heures",
         "False",
         "36",
         "398480 €",
         "Paris ",
         "+33-642-99643"
        ],
        [
         "38",
         "37",
         "13-09-2015",
         "37 heures",
         "False",
         "37",
         "52711 €",
         "MARSEILLE ",
         "+33-628-96027"
        ],
        [
         "39",
         "38",
         "20-09-2015",
         "23 heures",
         "False",
         "38",
         "287683 €",
         "Lille ",
         "+33-694-13373"
        ],
        [
         "40",
         "39",
         "27-09-2015",
         "44 heures",
         "False",
         "39",
         "204423 €",
         " lyon",
         "+33-601-37350"
        ],
        [
         "41",
         "40",
         "04-10-2015",
         "33 heures",
         "False",
         "40",
         "474483 €",
         " lyon",
         "+33-680-35351"
        ],
        [
         "42",
         "41",
         "11-10-2015",
         "28 heures",
         "True",
         "41",
         "199426 €",
         "MARSEILLE ",
         "+33-692-25305"
        ],
        [
         "43",
         "42",
         "18-10-2015",
         "45 heures",
         "True",
         "42",
         "408207 €",
         " lyon",
         "+33-689-86797"
        ],
        [
         "44",
         "43",
         "25-10-2015",
         "21 heures",
         "False",
         "43",
         "153629 €",
         "Paris ",
         "+33-633-67458"
        ],
        [
         "45",
         "44",
         "01-11-2015",
         "39 heures",
         "False",
         "44",
         "320504 €",
         "Lille ",
         "+33-606-13267"
        ],
        [
         "46",
         "45",
         "08-11-2015",
         "47 heures",
         "False",
         "45",
         "233090 €",
         "Nice",
         "+33-657-99588"
        ],
        [
         "47",
         "46",
         "15-11-2015",
         "26 heures",
         "True",
         "46",
         "153272 €",
         " lyon",
         "+33-674-10412"
        ],
        [
         "48",
         "47",
         "22-11-2015",
         "27 heures",
         "False",
         "47",
         "263548 €",
         "Paris ",
         "+33-635-43496"
        ],
        [
         "49",
         "48",
         "29-11-2015",
         "54 heures",
         "False",
         "48",
         "481713 €",
         "Nice",
         "+33-620-99084"
        ]
       ],
       "shape": {
        "columns": 8,
        "rows": 104
       }
      },
      "text/html": [
       "<div>\n",
       "<style scoped>\n",
       "    .dataframe tbody tr th:only-of-type {\n",
       "        vertical-align: middle;\n",
       "    }\n",
       "\n",
       "    .dataframe tbody tr th {\n",
       "        vertical-align: top;\n",
       "    }\n",
       "\n",
       "    .dataframe thead th {\n",
       "        text-align: right;\n",
       "    }\n",
       "</style>\n",
       "<table border=\"1\" class=\"dataframe\">\n",
       "  <thead>\n",
       "    <tr style=\"text-align: right;\">\n",
       "      <th></th>\n",
       "      <th>id magasin</th>\n",
       "      <th>opening date</th>\n",
       "      <th>weekly opening hours</th>\n",
       "      <th>ouverture le dimanche</th>\n",
       "      <th>numero magasin</th>\n",
       "      <th>CA</th>\n",
       "      <th>ville</th>\n",
       "      <th>numero de telephone</th>\n",
       "    </tr>\n",
       "  </thead>\n",
       "  <tbody>\n",
       "    <tr>\n",
       "      <th>0</th>\n",
       "      <td>1</td>\n",
       "      <td>04-01-2015</td>\n",
       "      <td>58 heures</td>\n",
       "      <td>True</td>\n",
       "      <td>1</td>\n",
       "      <td>105981 €</td>\n",
       "      <td>MARSEILLE</td>\n",
       "      <td>+33-695-17805</td>\n",
       "    </tr>\n",
       "    <tr>\n",
       "      <th>1</th>\n",
       "      <td>2</td>\n",
       "      <td>11-01-2015</td>\n",
       "      <td>48 heures</td>\n",
       "      <td>False</td>\n",
       "      <td>2</td>\n",
       "      <td>473929 €</td>\n",
       "      <td>Paris</td>\n",
       "      <td>+33-647-30056</td>\n",
       "    </tr>\n",
       "    <tr>\n",
       "      <th>2</th>\n",
       "      <td>3</td>\n",
       "      <td>18-01-2015</td>\n",
       "      <td>34 heures</td>\n",
       "      <td>False</td>\n",
       "      <td>3</td>\n",
       "      <td>50306 €</td>\n",
       "      <td>Paris</td>\n",
       "      <td>+33-600-13343</td>\n",
       "    </tr>\n",
       "    <tr>\n",
       "      <th>3</th>\n",
       "      <td>4</td>\n",
       "      <td>25-01-2015</td>\n",
       "      <td>27 heures</td>\n",
       "      <td>False</td>\n",
       "      <td>4</td>\n",
       "      <td>167718 €</td>\n",
       "      <td>Nice</td>\n",
       "      <td>+33-660-63222</td>\n",
       "    </tr>\n",
       "    <tr>\n",
       "      <th>4</th>\n",
       "      <td>5</td>\n",
       "      <td>01-02-2015</td>\n",
       "      <td>40 heures</td>\n",
       "      <td>False</td>\n",
       "      <td>5</td>\n",
       "      <td>328987 €</td>\n",
       "      <td>Nice</td>\n",
       "      <td>+33-663-19662</td>\n",
       "    </tr>\n",
       "    <tr>\n",
       "      <th>...</th>\n",
       "      <td>...</td>\n",
       "      <td>...</td>\n",
       "      <td>...</td>\n",
       "      <td>...</td>\n",
       "      <td>...</td>\n",
       "      <td>...</td>\n",
       "      <td>...</td>\n",
       "      <td>...</td>\n",
       "    </tr>\n",
       "    <tr>\n",
       "      <th>99</th>\n",
       "      <td>96</td>\n",
       "      <td>30-10-2016</td>\n",
       "      <td>28 heures</td>\n",
       "      <td>NaN</td>\n",
       "      <td>96</td>\n",
       "      <td>375323 €</td>\n",
       "      <td>Paris</td>\n",
       "      <td>+33-630-44578</td>\n",
       "    </tr>\n",
       "    <tr>\n",
       "      <th>100</th>\n",
       "      <td>97</td>\n",
       "      <td>06-11-2016</td>\n",
       "      <td>27 heures</td>\n",
       "      <td>True</td>\n",
       "      <td>97</td>\n",
       "      <td>191836 €</td>\n",
       "      <td>lyon</td>\n",
       "      <td>+33-660-36790</td>\n",
       "    </tr>\n",
       "    <tr>\n",
       "      <th>101</th>\n",
       "      <td>98</td>\n",
       "      <td>13-11-2016</td>\n",
       "      <td>31 heures</td>\n",
       "      <td>False</td>\n",
       "      <td>98</td>\n",
       "      <td>225615 €</td>\n",
       "      <td>lyon</td>\n",
       "      <td>+33-690-35289</td>\n",
       "    </tr>\n",
       "    <tr>\n",
       "      <th>102</th>\n",
       "      <td>99</td>\n",
       "      <td>20-11-2016</td>\n",
       "      <td>53 heures</td>\n",
       "      <td>True</td>\n",
       "      <td>99</td>\n",
       "      <td>65714 €</td>\n",
       "      <td>Paris</td>\n",
       "      <td>+33-689-25485</td>\n",
       "    </tr>\n",
       "    <tr>\n",
       "      <th>103</th>\n",
       "      <td>100</td>\n",
       "      <td>27-11-2016</td>\n",
       "      <td>52 heures</td>\n",
       "      <td>NaN</td>\n",
       "      <td>100</td>\n",
       "      <td>470051 €</td>\n",
       "      <td>lyon</td>\n",
       "      <td>+33-666-96188</td>\n",
       "    </tr>\n",
       "  </tbody>\n",
       "</table>\n",
       "<p>104 rows × 8 columns</p>\n",
       "</div>"
      ],
      "text/plain": [
       "     id magasin opening date weekly opening hours ouverture le dimanche  \\\n",
       "0             1   04-01-2015            58 heures                  True   \n",
       "1             2   11-01-2015            48 heures                 False   \n",
       "2             3   18-01-2015            34 heures                 False   \n",
       "3             4   25-01-2015            27 heures                 False   \n",
       "4             5   01-02-2015            40 heures                 False   \n",
       "..          ...          ...                  ...                   ...   \n",
       "99           96   30-10-2016            28 heures                   NaN   \n",
       "100          97   06-11-2016            27 heures                  True   \n",
       "101          98   13-11-2016            31 heures                 False   \n",
       "102          99   20-11-2016            53 heures                  True   \n",
       "103         100   27-11-2016            52 heures                   NaN   \n",
       "\n",
       "     numero magasin        CA       ville numero de telephone  \n",
       "0                 1  105981 €  MARSEILLE        +33-695-17805  \n",
       "1                 2  473929 €      Paris        +33-647-30056  \n",
       "2                 3   50306 €      Paris        +33-600-13343  \n",
       "3                 4  167718 €        Nice       +33-660-63222  \n",
       "4                 5  328987 €        Nice       +33-663-19662  \n",
       "..              ...       ...         ...                 ...  \n",
       "99               96  375323 €      Paris        +33-630-44578  \n",
       "100              97  191836 €        lyon       +33-660-36790  \n",
       "101              98  225615 €        lyon       +33-690-35289  \n",
       "102              99   65714 €      Paris        +33-689-25485  \n",
       "103             100  470051 €        lyon       +33-666-96188  \n",
       "\n",
       "[104 rows x 8 columns]"
      ]
     },
     "execution_count": 98,
     "metadata": {},
     "output_type": "execute_result"
    }
   ],
   "source": [
    "data"
   ]
  },
  {
   "cell_type": "code",
   "execution_count": 99,
   "id": "9cc509d5",
   "metadata": {},
   "outputs": [
    {
     "data": {
      "application/vnd.microsoft.datawrangler.viewer.v0+json": {
       "columns": [
        {
         "name": "index",
         "rawType": "int64",
         "type": "integer"
        },
        {
         "name": "id magasin",
         "rawType": "int64",
         "type": "integer"
        },
        {
         "name": "numero magasin",
         "rawType": "int64",
         "type": "integer"
        }
       ],
       "conversionMethod": "pd.DataFrame",
       "ref": "64aafb1a-3720-4efc-ad4d-84921f681f50",
       "rows": [
        [
         "0",
         "1",
         "1"
        ],
        [
         "1",
         "2",
         "2"
        ],
        [
         "2",
         "3",
         "3"
        ],
        [
         "3",
         "4",
         "4"
        ],
        [
         "4",
         "5",
         "5"
        ],
        [
         "5",
         "6",
         "6"
        ],
        [
         "6",
         "7",
         "7"
        ],
        [
         "7",
         "8",
         "8"
        ],
        [
         "8",
         "9",
         "9"
        ],
        [
         "9",
         "10",
         "10"
        ],
        [
         "10",
         "11",
         "11"
        ],
        [
         "11",
         "12",
         "12"
        ],
        [
         "12",
         "13",
         "13"
        ],
        [
         "13",
         "14",
         "14"
        ],
        [
         "14",
         "14",
         "14"
        ],
        [
         "15",
         "15",
         "15"
        ],
        [
         "16",
         "16",
         "16"
        ],
        [
         "17",
         "17",
         "17"
        ],
        [
         "18",
         "18",
         "18"
        ],
        [
         "19",
         "19",
         "19"
        ],
        [
         "20",
         "20",
         "20"
        ],
        [
         "21",
         "21",
         "21"
        ],
        [
         "22",
         "22",
         "22"
        ],
        [
         "23",
         "23",
         "23"
        ],
        [
         "24",
         "24",
         "24"
        ],
        [
         "25",
         "25",
         "25"
        ],
        [
         "26",
         "26",
         "26"
        ],
        [
         "27",
         "27",
         "27"
        ],
        [
         "28",
         "28",
         "28"
        ],
        [
         "29",
         "29",
         "29"
        ],
        [
         "30",
         "30",
         "30"
        ],
        [
         "31",
         "31",
         "31"
        ],
        [
         "32",
         "32",
         "32"
        ],
        [
         "33",
         "33",
         "33"
        ],
        [
         "34",
         "33",
         "33"
        ],
        [
         "35",
         "34",
         "34"
        ],
        [
         "36",
         "35",
         "35"
        ],
        [
         "37",
         "36",
         "36"
        ],
        [
         "38",
         "37",
         "37"
        ],
        [
         "39",
         "38",
         "38"
        ],
        [
         "40",
         "39",
         "39"
        ],
        [
         "41",
         "40",
         "40"
        ],
        [
         "42",
         "41",
         "41"
        ],
        [
         "43",
         "42",
         "42"
        ],
        [
         "44",
         "43",
         "43"
        ],
        [
         "45",
         "44",
         "44"
        ],
        [
         "46",
         "45",
         "45"
        ],
        [
         "47",
         "46",
         "46"
        ],
        [
         "48",
         "47",
         "47"
        ],
        [
         "49",
         "48",
         "48"
        ]
       ],
       "shape": {
        "columns": 2,
        "rows": 104
       }
      },
      "text/html": [
       "<div>\n",
       "<style scoped>\n",
       "    .dataframe tbody tr th:only-of-type {\n",
       "        vertical-align: middle;\n",
       "    }\n",
       "\n",
       "    .dataframe tbody tr th {\n",
       "        vertical-align: top;\n",
       "    }\n",
       "\n",
       "    .dataframe thead th {\n",
       "        text-align: right;\n",
       "    }\n",
       "</style>\n",
       "<table border=\"1\" class=\"dataframe\">\n",
       "  <thead>\n",
       "    <tr style=\"text-align: right;\">\n",
       "      <th></th>\n",
       "      <th>id magasin</th>\n",
       "      <th>numero magasin</th>\n",
       "    </tr>\n",
       "  </thead>\n",
       "  <tbody>\n",
       "    <tr>\n",
       "      <th>0</th>\n",
       "      <td>1</td>\n",
       "      <td>1</td>\n",
       "    </tr>\n",
       "    <tr>\n",
       "      <th>1</th>\n",
       "      <td>2</td>\n",
       "      <td>2</td>\n",
       "    </tr>\n",
       "    <tr>\n",
       "      <th>2</th>\n",
       "      <td>3</td>\n",
       "      <td>3</td>\n",
       "    </tr>\n",
       "    <tr>\n",
       "      <th>3</th>\n",
       "      <td>4</td>\n",
       "      <td>4</td>\n",
       "    </tr>\n",
       "    <tr>\n",
       "      <th>4</th>\n",
       "      <td>5</td>\n",
       "      <td>5</td>\n",
       "    </tr>\n",
       "    <tr>\n",
       "      <th>...</th>\n",
       "      <td>...</td>\n",
       "      <td>...</td>\n",
       "    </tr>\n",
       "    <tr>\n",
       "      <th>99</th>\n",
       "      <td>96</td>\n",
       "      <td>96</td>\n",
       "    </tr>\n",
       "    <tr>\n",
       "      <th>100</th>\n",
       "      <td>97</td>\n",
       "      <td>97</td>\n",
       "    </tr>\n",
       "    <tr>\n",
       "      <th>101</th>\n",
       "      <td>98</td>\n",
       "      <td>98</td>\n",
       "    </tr>\n",
       "    <tr>\n",
       "      <th>102</th>\n",
       "      <td>99</td>\n",
       "      <td>99</td>\n",
       "    </tr>\n",
       "    <tr>\n",
       "      <th>103</th>\n",
       "      <td>100</td>\n",
       "      <td>100</td>\n",
       "    </tr>\n",
       "  </tbody>\n",
       "</table>\n",
       "<p>104 rows × 2 columns</p>\n",
       "</div>"
      ],
      "text/plain": [
       "     id magasin  numero magasin\n",
       "0             1               1\n",
       "1             2               2\n",
       "2             3               3\n",
       "3             4               4\n",
       "4             5               5\n",
       "..          ...             ...\n",
       "99           96              96\n",
       "100          97              97\n",
       "101          98              98\n",
       "102          99              99\n",
       "103         100             100\n",
       "\n",
       "[104 rows x 2 columns]"
      ]
     },
     "execution_count": 99,
     "metadata": {},
     "output_type": "execute_result"
    }
   ],
   "source": [
    "data[\n",
    "\n",
    "    ['id magasin','numero magasin']\n",
    "]"
   ]
  },
  {
   "cell_type": "code",
   "execution_count": 100,
   "id": "14f5c560",
   "metadata": {},
   "outputs": [],
   "source": [
    "data_wp = data.copy()\n",
    "data_wp.drop(\n",
    "    columns=['numero magasin'], \n",
    "    inplace=True\n",
    "            )"
   ]
  },
  {
   "cell_type": "code",
   "execution_count": 101,
   "id": "d14e3d7f",
   "metadata": {},
   "outputs": [
    {
     "data": {
      "application/vnd.microsoft.datawrangler.viewer.v0+json": {
       "columns": [
        {
         "name": "index",
         "rawType": "int64",
         "type": "integer"
        },
        {
         "name": "id magasin",
         "rawType": "int64",
         "type": "integer"
        },
        {
         "name": "opening date",
         "rawType": "object",
         "type": "string"
        },
        {
         "name": "weekly opening hours",
         "rawType": "object",
         "type": "unknown"
        },
        {
         "name": "ouverture le dimanche",
         "rawType": "object",
         "type": "unknown"
        },
        {
         "name": "CA",
         "rawType": "object",
         "type": "string"
        },
        {
         "name": "ville",
         "rawType": "object",
         "type": "string"
        },
        {
         "name": "numero de telephone",
         "rawType": "object",
         "type": "string"
        }
       ],
       "conversionMethod": "pd.DataFrame",
       "ref": "6e8e5a10-9f66-483d-9b65-4d4843fe737b",
       "rows": [
        [
         "0",
         "1",
         "04-01-2015",
         "58 heures",
         "True",
         "105981 €",
         "MARSEILLE ",
         "+33-695-17805"
        ],
        [
         "1",
         "2",
         "11-01-2015",
         "48 heures",
         "False",
         "473929 €",
         "Paris ",
         "+33-647-30056"
        ],
        [
         "2",
         "3",
         "18-01-2015",
         "34 heures",
         "False",
         "50306 €",
         "Paris ",
         "+33-600-13343"
        ],
        [
         "3",
         "4",
         "25-01-2015",
         "27 heures",
         "False",
         "167718 €",
         "Nice",
         "+33-660-63222"
        ],
        [
         "4",
         "5",
         "01-02-2015",
         "40 heures",
         "False",
         "328987 €",
         "Nice",
         "+33-663-19662"
        ],
        [
         "5",
         "6",
         "08-02-2015",
         "58 heures",
         "False",
         "140975 €",
         "Lille ",
         "+33-668-69638"
        ],
        [
         "6",
         "7",
         "15-02-2015",
         "38 heures",
         "False",
         "378745 €",
         "Lille ",
         "+33-666-95067"
        ],
        [
         "7",
         "8",
         "22-02-2015",
         null,
         "True",
         "127512 €",
         "MARSEILLE ",
         "+33-625-77215"
        ],
        [
         "8",
         "9",
         "01-03-2015",
         "30 heures",
         "False",
         "167443 €",
         "Nice",
         "+33-650-23284"
        ],
        [
         "9",
         "10",
         "08-03-2015",
         "30 heures",
         "False",
         "490587 €",
         "Paris ",
         "+33-685-94664"
        ],
        [
         "10",
         "11",
         "15-03-2015",
         "43 heures",
         "False",
         "393616 €",
         "Lille ",
         "+33-628-71389"
        ],
        [
         "11",
         "12",
         "22-03-2015",
         "55 heures",
         "False",
         "153121 €",
         "Lille ",
         "+33-691-64340"
        ],
        [
         "12",
         "13",
         "29-03-2015",
         "59 heures",
         "False",
         "182688 €",
         "Paris ",
         "+33-646-88832"
        ],
        [
         "13",
         "14",
         "05-04-2015",
         "43 heures",
         "False",
         "385871 €",
         "Lille ",
         "+33-693-88781"
        ],
        [
         "14",
         "14",
         "05-04-2015",
         "43 heures",
         "False",
         "385871 €",
         "Lille ",
         "+33-693-88781"
        ],
        [
         "15",
         "15",
         "12-04-2015",
         "22 heures",
         "False",
         "395037 €",
         "MARSEILLE ",
         "+33-668-53919"
        ],
        [
         "16",
         "16",
         "19-04-2015",
         "41 heures",
         "True",
         "303076 €",
         "Nice",
         "+33-689-45247"
        ],
        [
         "17",
         "17",
         "26-04-2015",
         "21 heures",
         "True",
         "137796 €",
         "Paris ",
         "+33-684-72752"
        ],
        [
         "18",
         "18",
         "03-05-2015",
         "43 heures",
         "True",
         "311999 €",
         "Nice",
         "+33-693-36646"
        ],
        [
         "19",
         "19",
         "10-05-2015",
         "49 heures",
         "False",
         "212506 €",
         "Lille ",
         "+33-609-89605"
        ],
        [
         "20",
         "20",
         "17-05-2015",
         null,
         "False",
         "485910 €",
         "Lille ",
         "+33-668-78385"
        ],
        [
         "21",
         "21",
         "24-05-2015",
         "21 heures",
         "False",
         "194088 €",
         "Paris ",
         "+33-651-50158"
        ],
        [
         "22",
         "22",
         "31-05-2015",
         "40 heures",
         null,
         "289544 €",
         "MARSEILLE ",
         "+33-609-33289"
        ],
        [
         "23",
         "23",
         "07-06-2015",
         "52 heures",
         "True",
         "400002 €",
         " lyon",
         "+33-618-19823"
        ],
        [
         "24",
         "24",
         "14-06-2015",
         "31 heures",
         "False",
         "193714 €",
         "Paris ",
         "+33-600-51975"
        ],
        [
         "25",
         "25",
         "21-06-2015",
         "41 heures",
         "False",
         "35151 €",
         " lyon",
         "+33-668-26364"
        ],
        [
         "26",
         "26",
         "28-06-2015",
         "44 heures",
         "True",
         "464623 €",
         " lyon",
         "+33-603-37663"
        ],
        [
         "27",
         "27",
         "05-07-2015",
         "46 heures",
         "True",
         "86690 €",
         "MARSEILLE ",
         "+33-623-67679"
        ],
        [
         "28",
         "28",
         "12-07-2015",
         "47 heures",
         "True",
         "24499 €",
         " lyon",
         "+33-601-59115"
        ],
        [
         "29",
         "29",
         "19-07-2015",
         "35 heures",
         "True",
         "26295 €",
         " lyon",
         "+33-631-70890"
        ],
        [
         "30",
         "30",
         "26-07-2015",
         null,
         null,
         "403029 €",
         "MARSEILLE ",
         "+33-683-28071"
        ],
        [
         "31",
         "31",
         "02-08-2015",
         "22 heures",
         "False",
         "408215 €",
         " lyon",
         "+33-611-82369"
        ],
        [
         "32",
         "32",
         "09-08-2015",
         "56 heures",
         "False",
         "341184 €",
         " lyon",
         "+33-634-45195"
        ],
        [
         "33",
         "33",
         "16-08-2015",
         "26 heures",
         "False",
         "294327 €",
         " lyon",
         "+33-632-14000"
        ],
        [
         "34",
         "33",
         "16-08-2015",
         "26 heures",
         "False",
         "294327 €",
         " lyon",
         "+33-632-14000"
        ],
        [
         "35",
         "34",
         "23-08-2015",
         null,
         "False",
         "442515 €",
         "Paris ",
         "+33-660-48304"
        ],
        [
         "36",
         "35",
         "30-08-2015",
         "28 heures",
         "True",
         "163946 €",
         "Paris ",
         "+33-639-79449"
        ],
        [
         "37",
         "36",
         "06-09-2015",
         "58 heures",
         "False",
         "398480 €",
         "Paris ",
         "+33-642-99643"
        ],
        [
         "38",
         "37",
         "13-09-2015",
         "37 heures",
         "False",
         "52711 €",
         "MARSEILLE ",
         "+33-628-96027"
        ],
        [
         "39",
         "38",
         "20-09-2015",
         "23 heures",
         "False",
         "287683 €",
         "Lille ",
         "+33-694-13373"
        ],
        [
         "40",
         "39",
         "27-09-2015",
         "44 heures",
         "False",
         "204423 €",
         " lyon",
         "+33-601-37350"
        ],
        [
         "41",
         "40",
         "04-10-2015",
         "33 heures",
         "False",
         "474483 €",
         " lyon",
         "+33-680-35351"
        ],
        [
         "42",
         "41",
         "11-10-2015",
         "28 heures",
         "True",
         "199426 €",
         "MARSEILLE ",
         "+33-692-25305"
        ],
        [
         "43",
         "42",
         "18-10-2015",
         "45 heures",
         "True",
         "408207 €",
         " lyon",
         "+33-689-86797"
        ],
        [
         "44",
         "43",
         "25-10-2015",
         "21 heures",
         "False",
         "153629 €",
         "Paris ",
         "+33-633-67458"
        ],
        [
         "45",
         "44",
         "01-11-2015",
         "39 heures",
         "False",
         "320504 €",
         "Lille ",
         "+33-606-13267"
        ],
        [
         "46",
         "45",
         "08-11-2015",
         "47 heures",
         "False",
         "233090 €",
         "Nice",
         "+33-657-99588"
        ],
        [
         "47",
         "46",
         "15-11-2015",
         "26 heures",
         "True",
         "153272 €",
         " lyon",
         "+33-674-10412"
        ],
        [
         "48",
         "47",
         "22-11-2015",
         "27 heures",
         "False",
         "263548 €",
         "Paris ",
         "+33-635-43496"
        ],
        [
         "49",
         "48",
         "29-11-2015",
         "54 heures",
         "False",
         "481713 €",
         "Nice",
         "+33-620-99084"
        ]
       ],
       "shape": {
        "columns": 7,
        "rows": 104
       }
      },
      "text/html": [
       "<div>\n",
       "<style scoped>\n",
       "    .dataframe tbody tr th:only-of-type {\n",
       "        vertical-align: middle;\n",
       "    }\n",
       "\n",
       "    .dataframe tbody tr th {\n",
       "        vertical-align: top;\n",
       "    }\n",
       "\n",
       "    .dataframe thead th {\n",
       "        text-align: right;\n",
       "    }\n",
       "</style>\n",
       "<table border=\"1\" class=\"dataframe\">\n",
       "  <thead>\n",
       "    <tr style=\"text-align: right;\">\n",
       "      <th></th>\n",
       "      <th>id magasin</th>\n",
       "      <th>opening date</th>\n",
       "      <th>weekly opening hours</th>\n",
       "      <th>ouverture le dimanche</th>\n",
       "      <th>CA</th>\n",
       "      <th>ville</th>\n",
       "      <th>numero de telephone</th>\n",
       "    </tr>\n",
       "  </thead>\n",
       "  <tbody>\n",
       "    <tr>\n",
       "      <th>0</th>\n",
       "      <td>1</td>\n",
       "      <td>04-01-2015</td>\n",
       "      <td>58 heures</td>\n",
       "      <td>True</td>\n",
       "      <td>105981 €</td>\n",
       "      <td>MARSEILLE</td>\n",
       "      <td>+33-695-17805</td>\n",
       "    </tr>\n",
       "    <tr>\n",
       "      <th>1</th>\n",
       "      <td>2</td>\n",
       "      <td>11-01-2015</td>\n",
       "      <td>48 heures</td>\n",
       "      <td>False</td>\n",
       "      <td>473929 €</td>\n",
       "      <td>Paris</td>\n",
       "      <td>+33-647-30056</td>\n",
       "    </tr>\n",
       "    <tr>\n",
       "      <th>2</th>\n",
       "      <td>3</td>\n",
       "      <td>18-01-2015</td>\n",
       "      <td>34 heures</td>\n",
       "      <td>False</td>\n",
       "      <td>50306 €</td>\n",
       "      <td>Paris</td>\n",
       "      <td>+33-600-13343</td>\n",
       "    </tr>\n",
       "    <tr>\n",
       "      <th>3</th>\n",
       "      <td>4</td>\n",
       "      <td>25-01-2015</td>\n",
       "      <td>27 heures</td>\n",
       "      <td>False</td>\n",
       "      <td>167718 €</td>\n",
       "      <td>Nice</td>\n",
       "      <td>+33-660-63222</td>\n",
       "    </tr>\n",
       "    <tr>\n",
       "      <th>4</th>\n",
       "      <td>5</td>\n",
       "      <td>01-02-2015</td>\n",
       "      <td>40 heures</td>\n",
       "      <td>False</td>\n",
       "      <td>328987 €</td>\n",
       "      <td>Nice</td>\n",
       "      <td>+33-663-19662</td>\n",
       "    </tr>\n",
       "    <tr>\n",
       "      <th>...</th>\n",
       "      <td>...</td>\n",
       "      <td>...</td>\n",
       "      <td>...</td>\n",
       "      <td>...</td>\n",
       "      <td>...</td>\n",
       "      <td>...</td>\n",
       "      <td>...</td>\n",
       "    </tr>\n",
       "    <tr>\n",
       "      <th>99</th>\n",
       "      <td>96</td>\n",
       "      <td>30-10-2016</td>\n",
       "      <td>28 heures</td>\n",
       "      <td>NaN</td>\n",
       "      <td>375323 €</td>\n",
       "      <td>Paris</td>\n",
       "      <td>+33-630-44578</td>\n",
       "    </tr>\n",
       "    <tr>\n",
       "      <th>100</th>\n",
       "      <td>97</td>\n",
       "      <td>06-11-2016</td>\n",
       "      <td>27 heures</td>\n",
       "      <td>True</td>\n",
       "      <td>191836 €</td>\n",
       "      <td>lyon</td>\n",
       "      <td>+33-660-36790</td>\n",
       "    </tr>\n",
       "    <tr>\n",
       "      <th>101</th>\n",
       "      <td>98</td>\n",
       "      <td>13-11-2016</td>\n",
       "      <td>31 heures</td>\n",
       "      <td>False</td>\n",
       "      <td>225615 €</td>\n",
       "      <td>lyon</td>\n",
       "      <td>+33-690-35289</td>\n",
       "    </tr>\n",
       "    <tr>\n",
       "      <th>102</th>\n",
       "      <td>99</td>\n",
       "      <td>20-11-2016</td>\n",
       "      <td>53 heures</td>\n",
       "      <td>True</td>\n",
       "      <td>65714 €</td>\n",
       "      <td>Paris</td>\n",
       "      <td>+33-689-25485</td>\n",
       "    </tr>\n",
       "    <tr>\n",
       "      <th>103</th>\n",
       "      <td>100</td>\n",
       "      <td>27-11-2016</td>\n",
       "      <td>52 heures</td>\n",
       "      <td>NaN</td>\n",
       "      <td>470051 €</td>\n",
       "      <td>lyon</td>\n",
       "      <td>+33-666-96188</td>\n",
       "    </tr>\n",
       "  </tbody>\n",
       "</table>\n",
       "<p>104 rows × 7 columns</p>\n",
       "</div>"
      ],
      "text/plain": [
       "     id magasin opening date weekly opening hours ouverture le dimanche  \\\n",
       "0             1   04-01-2015            58 heures                  True   \n",
       "1             2   11-01-2015            48 heures                 False   \n",
       "2             3   18-01-2015            34 heures                 False   \n",
       "3             4   25-01-2015            27 heures                 False   \n",
       "4             5   01-02-2015            40 heures                 False   \n",
       "..          ...          ...                  ...                   ...   \n",
       "99           96   30-10-2016            28 heures                   NaN   \n",
       "100          97   06-11-2016            27 heures                  True   \n",
       "101          98   13-11-2016            31 heures                 False   \n",
       "102          99   20-11-2016            53 heures                  True   \n",
       "103         100   27-11-2016            52 heures                   NaN   \n",
       "\n",
       "           CA       ville numero de telephone  \n",
       "0    105981 €  MARSEILLE        +33-695-17805  \n",
       "1    473929 €      Paris        +33-647-30056  \n",
       "2     50306 €      Paris        +33-600-13343  \n",
       "3    167718 €        Nice       +33-660-63222  \n",
       "4    328987 €        Nice       +33-663-19662  \n",
       "..        ...         ...                 ...  \n",
       "99   375323 €      Paris        +33-630-44578  \n",
       "100  191836 €        lyon       +33-660-36790  \n",
       "101  225615 €        lyon       +33-690-35289  \n",
       "102   65714 €      Paris        +33-689-25485  \n",
       "103  470051 €        lyon       +33-666-96188  \n",
       "\n",
       "[104 rows x 7 columns]"
      ]
     },
     "execution_count": 101,
     "metadata": {},
     "output_type": "execute_result"
    }
   ],
   "source": [
    "data_wp\n"
   ]
  },
  {
   "cell_type": "markdown",
   "id": "3659ec0a",
   "metadata": {},
   "source": [
    "Une fois cette selection réalisée, nous pouvons re-définir la colonne d'index "
   ]
  },
  {
   "cell_type": "code",
   "execution_count": 102,
   "id": "3d2dcfb6",
   "metadata": {},
   "outputs": [
    {
     "data": {
      "application/vnd.microsoft.datawrangler.viewer.v0+json": {
       "columns": [
        {
         "name": "id magasin",
         "rawType": "int64",
         "type": "integer"
        },
        {
         "name": "opening date",
         "rawType": "object",
         "type": "string"
        },
        {
         "name": "weekly opening hours",
         "rawType": "object",
         "type": "unknown"
        },
        {
         "name": "ouverture le dimanche",
         "rawType": "object",
         "type": "unknown"
        },
        {
         "name": "CA",
         "rawType": "object",
         "type": "string"
        },
        {
         "name": "ville",
         "rawType": "object",
         "type": "string"
        },
        {
         "name": "numero de telephone",
         "rawType": "object",
         "type": "string"
        }
       ],
       "conversionMethod": "pd.DataFrame",
       "ref": "392ba2aa-3522-4ec2-8317-f9dafd704808",
       "rows": [
        [
         "1",
         "04-01-2015",
         "58 heures",
         "True",
         "105981 €",
         "MARSEILLE ",
         "+33-695-17805"
        ],
        [
         "2",
         "11-01-2015",
         "48 heures",
         "False",
         "473929 €",
         "Paris ",
         "+33-647-30056"
        ],
        [
         "3",
         "18-01-2015",
         "34 heures",
         "False",
         "50306 €",
         "Paris ",
         "+33-600-13343"
        ],
        [
         "4",
         "25-01-2015",
         "27 heures",
         "False",
         "167718 €",
         "Nice",
         "+33-660-63222"
        ],
        [
         "5",
         "01-02-2015",
         "40 heures",
         "False",
         "328987 €",
         "Nice",
         "+33-663-19662"
        ],
        [
         "6",
         "08-02-2015",
         "58 heures",
         "False",
         "140975 €",
         "Lille ",
         "+33-668-69638"
        ],
        [
         "7",
         "15-02-2015",
         "38 heures",
         "False",
         "378745 €",
         "Lille ",
         "+33-666-95067"
        ],
        [
         "8",
         "22-02-2015",
         null,
         "True",
         "127512 €",
         "MARSEILLE ",
         "+33-625-77215"
        ],
        [
         "9",
         "01-03-2015",
         "30 heures",
         "False",
         "167443 €",
         "Nice",
         "+33-650-23284"
        ],
        [
         "10",
         "08-03-2015",
         "30 heures",
         "False",
         "490587 €",
         "Paris ",
         "+33-685-94664"
        ],
        [
         "11",
         "15-03-2015",
         "43 heures",
         "False",
         "393616 €",
         "Lille ",
         "+33-628-71389"
        ],
        [
         "12",
         "22-03-2015",
         "55 heures",
         "False",
         "153121 €",
         "Lille ",
         "+33-691-64340"
        ],
        [
         "13",
         "29-03-2015",
         "59 heures",
         "False",
         "182688 €",
         "Paris ",
         "+33-646-88832"
        ],
        [
         "14",
         "05-04-2015",
         "43 heures",
         "False",
         "385871 €",
         "Lille ",
         "+33-693-88781"
        ],
        [
         "14",
         "05-04-2015",
         "43 heures",
         "False",
         "385871 €",
         "Lille ",
         "+33-693-88781"
        ],
        [
         "15",
         "12-04-2015",
         "22 heures",
         "False",
         "395037 €",
         "MARSEILLE ",
         "+33-668-53919"
        ],
        [
         "16",
         "19-04-2015",
         "41 heures",
         "True",
         "303076 €",
         "Nice",
         "+33-689-45247"
        ],
        [
         "17",
         "26-04-2015",
         "21 heures",
         "True",
         "137796 €",
         "Paris ",
         "+33-684-72752"
        ],
        [
         "18",
         "03-05-2015",
         "43 heures",
         "True",
         "311999 €",
         "Nice",
         "+33-693-36646"
        ],
        [
         "19",
         "10-05-2015",
         "49 heures",
         "False",
         "212506 €",
         "Lille ",
         "+33-609-89605"
        ],
        [
         "20",
         "17-05-2015",
         null,
         "False",
         "485910 €",
         "Lille ",
         "+33-668-78385"
        ],
        [
         "21",
         "24-05-2015",
         "21 heures",
         "False",
         "194088 €",
         "Paris ",
         "+33-651-50158"
        ],
        [
         "22",
         "31-05-2015",
         "40 heures",
         null,
         "289544 €",
         "MARSEILLE ",
         "+33-609-33289"
        ],
        [
         "23",
         "07-06-2015",
         "52 heures",
         "True",
         "400002 €",
         " lyon",
         "+33-618-19823"
        ],
        [
         "24",
         "14-06-2015",
         "31 heures",
         "False",
         "193714 €",
         "Paris ",
         "+33-600-51975"
        ],
        [
         "25",
         "21-06-2015",
         "41 heures",
         "False",
         "35151 €",
         " lyon",
         "+33-668-26364"
        ],
        [
         "26",
         "28-06-2015",
         "44 heures",
         "True",
         "464623 €",
         " lyon",
         "+33-603-37663"
        ],
        [
         "27",
         "05-07-2015",
         "46 heures",
         "True",
         "86690 €",
         "MARSEILLE ",
         "+33-623-67679"
        ],
        [
         "28",
         "12-07-2015",
         "47 heures",
         "True",
         "24499 €",
         " lyon",
         "+33-601-59115"
        ],
        [
         "29",
         "19-07-2015",
         "35 heures",
         "True",
         "26295 €",
         " lyon",
         "+33-631-70890"
        ],
        [
         "30",
         "26-07-2015",
         null,
         null,
         "403029 €",
         "MARSEILLE ",
         "+33-683-28071"
        ],
        [
         "31",
         "02-08-2015",
         "22 heures",
         "False",
         "408215 €",
         " lyon",
         "+33-611-82369"
        ],
        [
         "32",
         "09-08-2015",
         "56 heures",
         "False",
         "341184 €",
         " lyon",
         "+33-634-45195"
        ],
        [
         "33",
         "16-08-2015",
         "26 heures",
         "False",
         "294327 €",
         " lyon",
         "+33-632-14000"
        ],
        [
         "33",
         "16-08-2015",
         "26 heures",
         "False",
         "294327 €",
         " lyon",
         "+33-632-14000"
        ],
        [
         "34",
         "23-08-2015",
         null,
         "False",
         "442515 €",
         "Paris ",
         "+33-660-48304"
        ],
        [
         "35",
         "30-08-2015",
         "28 heures",
         "True",
         "163946 €",
         "Paris ",
         "+33-639-79449"
        ],
        [
         "36",
         "06-09-2015",
         "58 heures",
         "False",
         "398480 €",
         "Paris ",
         "+33-642-99643"
        ],
        [
         "37",
         "13-09-2015",
         "37 heures",
         "False",
         "52711 €",
         "MARSEILLE ",
         "+33-628-96027"
        ],
        [
         "38",
         "20-09-2015",
         "23 heures",
         "False",
         "287683 €",
         "Lille ",
         "+33-694-13373"
        ],
        [
         "39",
         "27-09-2015",
         "44 heures",
         "False",
         "204423 €",
         " lyon",
         "+33-601-37350"
        ],
        [
         "40",
         "04-10-2015",
         "33 heures",
         "False",
         "474483 €",
         " lyon",
         "+33-680-35351"
        ],
        [
         "41",
         "11-10-2015",
         "28 heures",
         "True",
         "199426 €",
         "MARSEILLE ",
         "+33-692-25305"
        ],
        [
         "42",
         "18-10-2015",
         "45 heures",
         "True",
         "408207 €",
         " lyon",
         "+33-689-86797"
        ],
        [
         "43",
         "25-10-2015",
         "21 heures",
         "False",
         "153629 €",
         "Paris ",
         "+33-633-67458"
        ],
        [
         "44",
         "01-11-2015",
         "39 heures",
         "False",
         "320504 €",
         "Lille ",
         "+33-606-13267"
        ],
        [
         "45",
         "08-11-2015",
         "47 heures",
         "False",
         "233090 €",
         "Nice",
         "+33-657-99588"
        ],
        [
         "46",
         "15-11-2015",
         "26 heures",
         "True",
         "153272 €",
         " lyon",
         "+33-674-10412"
        ],
        [
         "47",
         "22-11-2015",
         "27 heures",
         "False",
         "263548 €",
         "Paris ",
         "+33-635-43496"
        ],
        [
         "48",
         "29-11-2015",
         "54 heures",
         "False",
         "481713 €",
         "Nice",
         "+33-620-99084"
        ]
       ],
       "shape": {
        "columns": 6,
        "rows": 104
       }
      },
      "text/html": [
       "<div>\n",
       "<style scoped>\n",
       "    .dataframe tbody tr th:only-of-type {\n",
       "        vertical-align: middle;\n",
       "    }\n",
       "\n",
       "    .dataframe tbody tr th {\n",
       "        vertical-align: top;\n",
       "    }\n",
       "\n",
       "    .dataframe thead th {\n",
       "        text-align: right;\n",
       "    }\n",
       "</style>\n",
       "<table border=\"1\" class=\"dataframe\">\n",
       "  <thead>\n",
       "    <tr style=\"text-align: right;\">\n",
       "      <th></th>\n",
       "      <th>opening date</th>\n",
       "      <th>weekly opening hours</th>\n",
       "      <th>ouverture le dimanche</th>\n",
       "      <th>CA</th>\n",
       "      <th>ville</th>\n",
       "      <th>numero de telephone</th>\n",
       "    </tr>\n",
       "    <tr>\n",
       "      <th>id magasin</th>\n",
       "      <th></th>\n",
       "      <th></th>\n",
       "      <th></th>\n",
       "      <th></th>\n",
       "      <th></th>\n",
       "      <th></th>\n",
       "    </tr>\n",
       "  </thead>\n",
       "  <tbody>\n",
       "    <tr>\n",
       "      <th>1</th>\n",
       "      <td>04-01-2015</td>\n",
       "      <td>58 heures</td>\n",
       "      <td>True</td>\n",
       "      <td>105981 €</td>\n",
       "      <td>MARSEILLE</td>\n",
       "      <td>+33-695-17805</td>\n",
       "    </tr>\n",
       "    <tr>\n",
       "      <th>2</th>\n",
       "      <td>11-01-2015</td>\n",
       "      <td>48 heures</td>\n",
       "      <td>False</td>\n",
       "      <td>473929 €</td>\n",
       "      <td>Paris</td>\n",
       "      <td>+33-647-30056</td>\n",
       "    </tr>\n",
       "    <tr>\n",
       "      <th>3</th>\n",
       "      <td>18-01-2015</td>\n",
       "      <td>34 heures</td>\n",
       "      <td>False</td>\n",
       "      <td>50306 €</td>\n",
       "      <td>Paris</td>\n",
       "      <td>+33-600-13343</td>\n",
       "    </tr>\n",
       "    <tr>\n",
       "      <th>4</th>\n",
       "      <td>25-01-2015</td>\n",
       "      <td>27 heures</td>\n",
       "      <td>False</td>\n",
       "      <td>167718 €</td>\n",
       "      <td>Nice</td>\n",
       "      <td>+33-660-63222</td>\n",
       "    </tr>\n",
       "    <tr>\n",
       "      <th>5</th>\n",
       "      <td>01-02-2015</td>\n",
       "      <td>40 heures</td>\n",
       "      <td>False</td>\n",
       "      <td>328987 €</td>\n",
       "      <td>Nice</td>\n",
       "      <td>+33-663-19662</td>\n",
       "    </tr>\n",
       "    <tr>\n",
       "      <th>...</th>\n",
       "      <td>...</td>\n",
       "      <td>...</td>\n",
       "      <td>...</td>\n",
       "      <td>...</td>\n",
       "      <td>...</td>\n",
       "      <td>...</td>\n",
       "    </tr>\n",
       "    <tr>\n",
       "      <th>96</th>\n",
       "      <td>30-10-2016</td>\n",
       "      <td>28 heures</td>\n",
       "      <td>NaN</td>\n",
       "      <td>375323 €</td>\n",
       "      <td>Paris</td>\n",
       "      <td>+33-630-44578</td>\n",
       "    </tr>\n",
       "    <tr>\n",
       "      <th>97</th>\n",
       "      <td>06-11-2016</td>\n",
       "      <td>27 heures</td>\n",
       "      <td>True</td>\n",
       "      <td>191836 €</td>\n",
       "      <td>lyon</td>\n",
       "      <td>+33-660-36790</td>\n",
       "    </tr>\n",
       "    <tr>\n",
       "      <th>98</th>\n",
       "      <td>13-11-2016</td>\n",
       "      <td>31 heures</td>\n",
       "      <td>False</td>\n",
       "      <td>225615 €</td>\n",
       "      <td>lyon</td>\n",
       "      <td>+33-690-35289</td>\n",
       "    </tr>\n",
       "    <tr>\n",
       "      <th>99</th>\n",
       "      <td>20-11-2016</td>\n",
       "      <td>53 heures</td>\n",
       "      <td>True</td>\n",
       "      <td>65714 €</td>\n",
       "      <td>Paris</td>\n",
       "      <td>+33-689-25485</td>\n",
       "    </tr>\n",
       "    <tr>\n",
       "      <th>100</th>\n",
       "      <td>27-11-2016</td>\n",
       "      <td>52 heures</td>\n",
       "      <td>NaN</td>\n",
       "      <td>470051 €</td>\n",
       "      <td>lyon</td>\n",
       "      <td>+33-666-96188</td>\n",
       "    </tr>\n",
       "  </tbody>\n",
       "</table>\n",
       "<p>104 rows × 6 columns</p>\n",
       "</div>"
      ],
      "text/plain": [
       "           opening date weekly opening hours ouverture le dimanche        CA  \\\n",
       "id magasin                                                                     \n",
       "1            04-01-2015            58 heures                  True  105981 €   \n",
       "2            11-01-2015            48 heures                 False  473929 €   \n",
       "3            18-01-2015            34 heures                 False   50306 €   \n",
       "4            25-01-2015            27 heures                 False  167718 €   \n",
       "5            01-02-2015            40 heures                 False  328987 €   \n",
       "...                 ...                  ...                   ...       ...   \n",
       "96           30-10-2016            28 heures                   NaN  375323 €   \n",
       "97           06-11-2016            27 heures                  True  191836 €   \n",
       "98           13-11-2016            31 heures                 False  225615 €   \n",
       "99           20-11-2016            53 heures                  True   65714 €   \n",
       "100          27-11-2016            52 heures                   NaN  470051 €   \n",
       "\n",
       "                 ville numero de telephone  \n",
       "id magasin                                  \n",
       "1           MARSEILLE        +33-695-17805  \n",
       "2               Paris        +33-647-30056  \n",
       "3               Paris        +33-600-13343  \n",
       "4                 Nice       +33-660-63222  \n",
       "5                 Nice       +33-663-19662  \n",
       "...                ...                 ...  \n",
       "96              Paris        +33-630-44578  \n",
       "97                lyon       +33-660-36790  \n",
       "98                lyon       +33-690-35289  \n",
       "99              Paris        +33-689-25485  \n",
       "100               lyon       +33-666-96188  \n",
       "\n",
       "[104 rows x 6 columns]"
      ]
     },
     "execution_count": 102,
     "metadata": {},
     "output_type": "execute_result"
    }
   ],
   "source": [
    "data_wp.set_index('id magasin', inplace=True)\n",
    "data_wp"
   ]
  },
  {
   "cell_type": "markdown",
   "id": "f34518ff",
   "metadata": {},
   "source": [
    "Nous pouvons maintenant mettre les colonnes dans l'ordre de notre choix"
   ]
  },
  {
   "cell_type": "code",
   "execution_count": 103,
   "id": "a1c133d9",
   "metadata": {},
   "outputs": [
    {
     "data": {
      "application/vnd.microsoft.datawrangler.viewer.v0+json": {
       "columns": [
        {
         "name": "id magasin",
         "rawType": "int64",
         "type": "integer"
        },
        {
         "name": "CA",
         "rawType": "object",
         "type": "string"
        },
        {
         "name": "opening date",
         "rawType": "object",
         "type": "string"
        },
        {
         "name": "weekly opening hours",
         "rawType": "object",
         "type": "string"
        },
        {
         "name": "ouverture le dimanche",
         "rawType": "object",
         "type": "unknown"
        },
        {
         "name": "ville",
         "rawType": "object",
         "type": "string"
        },
        {
         "name": "numero de telephone",
         "rawType": "object",
         "type": "string"
        }
       ],
       "conversionMethod": "pd.DataFrame",
       "ref": "d456d1eb-f73e-4440-88bb-d2f761c1b072",
       "rows": [
        [
         "1",
         "105981 €",
         "04-01-2015",
         "58 heures",
         "True",
         "MARSEILLE ",
         "+33-695-17805"
        ],
        [
         "2",
         "473929 €",
         "11-01-2015",
         "48 heures",
         "False",
         "Paris ",
         "+33-647-30056"
        ],
        [
         "3",
         "50306 €",
         "18-01-2015",
         "34 heures",
         "False",
         "Paris ",
         "+33-600-13343"
        ]
       ],
       "shape": {
        "columns": 6,
        "rows": 3
       }
      },
      "text/html": [
       "<div>\n",
       "<style scoped>\n",
       "    .dataframe tbody tr th:only-of-type {\n",
       "        vertical-align: middle;\n",
       "    }\n",
       "\n",
       "    .dataframe tbody tr th {\n",
       "        vertical-align: top;\n",
       "    }\n",
       "\n",
       "    .dataframe thead th {\n",
       "        text-align: right;\n",
       "    }\n",
       "</style>\n",
       "<table border=\"1\" class=\"dataframe\">\n",
       "  <thead>\n",
       "    <tr style=\"text-align: right;\">\n",
       "      <th></th>\n",
       "      <th>CA</th>\n",
       "      <th>opening date</th>\n",
       "      <th>weekly opening hours</th>\n",
       "      <th>ouverture le dimanche</th>\n",
       "      <th>ville</th>\n",
       "      <th>numero de telephone</th>\n",
       "    </tr>\n",
       "    <tr>\n",
       "      <th>id magasin</th>\n",
       "      <th></th>\n",
       "      <th></th>\n",
       "      <th></th>\n",
       "      <th></th>\n",
       "      <th></th>\n",
       "      <th></th>\n",
       "    </tr>\n",
       "  </thead>\n",
       "  <tbody>\n",
       "    <tr>\n",
       "      <th>1</th>\n",
       "      <td>105981 €</td>\n",
       "      <td>04-01-2015</td>\n",
       "      <td>58 heures</td>\n",
       "      <td>True</td>\n",
       "      <td>MARSEILLE</td>\n",
       "      <td>+33-695-17805</td>\n",
       "    </tr>\n",
       "    <tr>\n",
       "      <th>2</th>\n",
       "      <td>473929 €</td>\n",
       "      <td>11-01-2015</td>\n",
       "      <td>48 heures</td>\n",
       "      <td>False</td>\n",
       "      <td>Paris</td>\n",
       "      <td>+33-647-30056</td>\n",
       "    </tr>\n",
       "    <tr>\n",
       "      <th>3</th>\n",
       "      <td>50306 €</td>\n",
       "      <td>18-01-2015</td>\n",
       "      <td>34 heures</td>\n",
       "      <td>False</td>\n",
       "      <td>Paris</td>\n",
       "      <td>+33-600-13343</td>\n",
       "    </tr>\n",
       "  </tbody>\n",
       "</table>\n",
       "</div>"
      ],
      "text/plain": [
       "                  CA opening date weekly opening hours ouverture le dimanche  \\\n",
       "id magasin                                                                     \n",
       "1           105981 €   04-01-2015            58 heures                  True   \n",
       "2           473929 €   11-01-2015            48 heures                 False   \n",
       "3            50306 €   18-01-2015            34 heures                 False   \n",
       "\n",
       "                 ville numero de telephone  \n",
       "id magasin                                  \n",
       "1           MARSEILLE        +33-695-17805  \n",
       "2               Paris        +33-647-30056  \n",
       "3               Paris        +33-600-13343  "
      ]
     },
     "execution_count": 103,
     "metadata": {},
     "output_type": "execute_result"
    }
   ],
   "source": [
    "data_wp = data_wp[\n",
    "                        \n",
    "                        ['CA', \n",
    "                         'opening date', \n",
    "                         'weekly opening hours', \n",
    "                         'ouverture le dimanche', \n",
    "                         'ville','numero de telephone'\n",
    "                         ]\n",
    "                    \n",
    "                    ]\n",
    "\n",
    "data_wp.head(3)"
   ]
  },
  {
   "cell_type": "markdown",
   "id": "7eee3420",
   "metadata": {},
   "source": [
    "Et les renommer pour que l'analyse ultérieure soit facilitée "
   ]
  },
  {
   "cell_type": "code",
   "execution_count": 104,
   "id": "af723b48",
   "metadata": {},
   "outputs": [
    {
     "data": {
      "application/vnd.microsoft.datawrangler.viewer.v0+json": {
       "columns": [
        {
         "name": "id magasin",
         "rawType": "int64",
         "type": "integer"
        },
        {
         "name": "chiffre d affaires",
         "rawType": "object",
         "type": "string"
        },
        {
         "name": "date ouverture",
         "rawType": "object",
         "type": "string"
        },
        {
         "name": "temps d ouverture hebdo (h)",
         "rawType": "object",
         "type": "string"
        },
        {
         "name": "ouverture le dimanche",
         "rawType": "object",
         "type": "unknown"
        },
        {
         "name": "ville",
         "rawType": "object",
         "type": "string"
        },
        {
         "name": "numero de telephone",
         "rawType": "object",
         "type": "string"
        }
       ],
       "conversionMethod": "pd.DataFrame",
       "ref": "bc2f4109-f699-480e-b723-ea94d685cdaf",
       "rows": [
        [
         "1",
         "105981 €",
         "04-01-2015",
         "58 heures",
         "True",
         "MARSEILLE ",
         "+33-695-17805"
        ],
        [
         "2",
         "473929 €",
         "11-01-2015",
         "48 heures",
         "False",
         "Paris ",
         "+33-647-30056"
        ],
        [
         "3",
         "50306 €",
         "18-01-2015",
         "34 heures",
         "False",
         "Paris ",
         "+33-600-13343"
        ]
       ],
       "shape": {
        "columns": 6,
        "rows": 3
       }
      },
      "text/html": [
       "<div>\n",
       "<style scoped>\n",
       "    .dataframe tbody tr th:only-of-type {\n",
       "        vertical-align: middle;\n",
       "    }\n",
       "\n",
       "    .dataframe tbody tr th {\n",
       "        vertical-align: top;\n",
       "    }\n",
       "\n",
       "    .dataframe thead th {\n",
       "        text-align: right;\n",
       "    }\n",
       "</style>\n",
       "<table border=\"1\" class=\"dataframe\">\n",
       "  <thead>\n",
       "    <tr style=\"text-align: right;\">\n",
       "      <th></th>\n",
       "      <th>chiffre d affaires</th>\n",
       "      <th>date ouverture</th>\n",
       "      <th>temps d ouverture hebdo (h)</th>\n",
       "      <th>ouverture le dimanche</th>\n",
       "      <th>ville</th>\n",
       "      <th>numero de telephone</th>\n",
       "    </tr>\n",
       "    <tr>\n",
       "      <th>id magasin</th>\n",
       "      <th></th>\n",
       "      <th></th>\n",
       "      <th></th>\n",
       "      <th></th>\n",
       "      <th></th>\n",
       "      <th></th>\n",
       "    </tr>\n",
       "  </thead>\n",
       "  <tbody>\n",
       "    <tr>\n",
       "      <th>1</th>\n",
       "      <td>105981 €</td>\n",
       "      <td>04-01-2015</td>\n",
       "      <td>58 heures</td>\n",
       "      <td>True</td>\n",
       "      <td>MARSEILLE</td>\n",
       "      <td>+33-695-17805</td>\n",
       "    </tr>\n",
       "    <tr>\n",
       "      <th>2</th>\n",
       "      <td>473929 €</td>\n",
       "      <td>11-01-2015</td>\n",
       "      <td>48 heures</td>\n",
       "      <td>False</td>\n",
       "      <td>Paris</td>\n",
       "      <td>+33-647-30056</td>\n",
       "    </tr>\n",
       "    <tr>\n",
       "      <th>3</th>\n",
       "      <td>50306 €</td>\n",
       "      <td>18-01-2015</td>\n",
       "      <td>34 heures</td>\n",
       "      <td>False</td>\n",
       "      <td>Paris</td>\n",
       "      <td>+33-600-13343</td>\n",
       "    </tr>\n",
       "  </tbody>\n",
       "</table>\n",
       "</div>"
      ],
      "text/plain": [
       "           chiffre d affaires date ouverture temps d ouverture hebdo (h)  \\\n",
       "id magasin                                                                 \n",
       "1                    105981 €     04-01-2015                   58 heures   \n",
       "2                    473929 €     11-01-2015                   48 heures   \n",
       "3                     50306 €     18-01-2015                   34 heures   \n",
       "\n",
       "           ouverture le dimanche       ville numero de telephone  \n",
       "id magasin                                                        \n",
       "1                           True  MARSEILLE        +33-695-17805  \n",
       "2                          False      Paris        +33-647-30056  \n",
       "3                          False      Paris        +33-600-13343  "
      ]
     },
     "execution_count": 104,
     "metadata": {},
     "output_type": "execute_result"
    }
   ],
   "source": [
    "data_wp = data_wp.rename(\n",
    "                            columns={\n",
    "                                      \"opening date\": 'date ouverture',\n",
    "                                      \"weekly opening hours\": 'temps d ouverture hebdo (h)',\n",
    "                                      \"CA\": 'chiffre d affaires'\n",
    "                                    } \n",
    "                                      \n",
    "                      )\n",
    "data_wp.head(3)"
   ]
  },
  {
   "cell_type": "markdown",
   "id": "be7ed96f",
   "metadata": {},
   "source": [
    "<h1> Modifier le type des colonnes </h1>\n",
    "\n",
    "<b> Rappel des types de données </b>\n",
    "\n",
    "- int64 : Entiers (nombre entier positif ou négatif sans décimale)\n",
    "- float64 : Nombres à virgule flottante (nombre réel)\n",
    "- object : Texte ou données mixtes (généralement des chaînes de caractères pour du texte)\n",
    "- bool : Valeurs booléennes (True ou False)\n",
    "- datetime64[ns] : Dates et heures (nanosecondes par défaut, mais d'autres fréquences comme s pour seconde, D pour jour, etc., peuvent être spécifiées)\n",
    "- timedelta[ns] : Différences entre deux datetime64[ns] (représentées en nanosecondes par défaut)"
   ]
  },
  {
   "cell_type": "code",
   "execution_count": 105,
   "id": "2c26fbac",
   "metadata": {},
   "outputs": [
    {
     "data": {
      "text/plain": [
       "chiffre d affaires             object\n",
       "date ouverture                 object\n",
       "temps d ouverture hebdo (h)    object\n",
       "ouverture le dimanche          object\n",
       "ville                          object\n",
       "numero de telephone            object\n",
       "dtype: object"
      ]
     },
     "execution_count": 105,
     "metadata": {},
     "output_type": "execute_result"
    }
   ],
   "source": [
    "data_wp.dtypes"
   ]
  },
  {
   "cell_type": "markdown",
   "id": "d81d86d5",
   "metadata": {},
   "source": [
    "<b> Changement simple de format avec astype </b>"
   ]
  },
  {
   "cell_type": "markdown",
   "id": "7d666573",
   "metadata": {},
   "source": [
    "<b> Changement de type avec retraitement intermédiaire </b>"
   ]
  },
  {
   "cell_type": "code",
   "execution_count": 106,
   "id": "233ef24a",
   "metadata": {
    "scrolled": true
   },
   "outputs": [],
   "source": [
    "data_wp['chiffre d affaires'] = data_wp['chiffre d affaires'].str.replace(' €','').astype('float')"
   ]
  },
  {
   "cell_type": "code",
   "execution_count": null,
   "id": "d4a7b1f7",
   "metadata": {},
   "outputs": [],
   "source": []
  },
  {
   "cell_type": "code",
   "execution_count": 107,
   "id": "e6e05184",
   "metadata": {},
   "outputs": [
    {
     "ename": "SyntaxError",
     "evalue": "invalid syntax (3787902829.py, line 1)",
     "output_type": "error",
     "traceback": [
      "\u001b[1;36m  Cell \u001b[1;32mIn[107], line 1\u001b[1;36m\u001b[0m\n\u001b[1;33m    data_wip['chiffre d affaires'] =\u001b[0m\n\u001b[1;37m                                     ^\u001b[0m\n\u001b[1;31mSyntaxError\u001b[0m\u001b[1;31m:\u001b[0m invalid syntax\n"
     ]
    }
   ],
   "source": [
    "data_wip['chiffre d affaires'] = "
   ]
  },
  {
   "cell_type": "code",
   "execution_count": null,
   "id": "c414b1e8",
   "metadata": {},
   "outputs": [],
   "source": [
    "data_wip['temps d ouverture hebdo (h)'] = "
   ]
  },
  {
   "cell_type": "markdown",
   "id": "d6c65fd5",
   "metadata": {},
   "source": [
    "<b> transformation d'une colonne de date </b>"
   ]
  },
  {
   "cell_type": "code",
   "execution_count": null,
   "id": "81fba03b",
   "metadata": {
    "scrolled": true
   },
   "outputs": [],
   "source": [
    "data_wip['date ouverture'] = "
   ]
  },
  {
   "cell_type": "code",
   "execution_count": null,
   "id": "34ef3102",
   "metadata": {},
   "outputs": [],
   "source": [
    "data_wip['date ouverture'] ="
   ]
  },
  {
   "attachments": {
    "image.png": {
     "image/png": "[encoded data removed]"
    }
   },
   "cell_type": "markdown",
   "id": "2e30b194",
   "metadata": {},
   "source": [
    "Rappel sur les formats de date\n",
    "\n",
    "![image.png](attachment:image.png)"
   ]
  },
  {
   "cell_type": "code",
   "execution_count": null,
   "id": "869efc39",
   "metadata": {},
   "outputs": [],
   "source": []
  },
  {
   "cell_type": "markdown",
   "id": "d546a98d",
   "metadata": {},
   "source": [
    "<h1> Gestion des valeurs manquantes </h1>\n",
    "\n",
    "<b> Estimation du volume de valeurs manquantes </b>"
   ]
  },
  {
   "cell_type": "code",
   "execution_count": null,
   "id": "8143746e",
   "metadata": {},
   "outputs": [],
   "source": []
  },
  {
   "cell_type": "code",
   "execution_count": null,
   "id": "01ad6700",
   "metadata": {},
   "outputs": [],
   "source": [
    "#tableau de booléen indiquant si la valeur est nulle ou non"
   ]
  },
  {
   "cell_type": "code",
   "execution_count": null,
   "id": "939de95d",
   "metadata": {},
   "outputs": [],
   "source": [
    "#avoir le nombre de valeurs manquantes par colonne"
   ]
  },
  {
   "cell_type": "code",
   "execution_count": null,
   "id": "e393d26b",
   "metadata": {},
   "outputs": [],
   "source": [
    "#avoir le % de valeurs manquantes par colonne"
   ]
  },
  {
   "cell_type": "markdown",
   "id": "8aa9bdda",
   "metadata": {},
   "source": [
    "<b> Gestion des valeurs manquantes par suppression <b>\n",
    "    \n",
    "Retirer les lignes ou une des valeurs est absente (car indispensable)"
   ]
  },
  {
   "cell_type": "code",
   "execution_count": null,
   "id": "3ce166bd",
   "metadata": {},
   "outputs": [],
   "source": [
    "#Ajouter \"inplace=True\" pour réellement l'appliquer"
   ]
  },
  {
   "cell_type": "markdown",
   "id": "a5ed4f03",
   "metadata": {},
   "source": [
    "Retirer les colonnes contenant trop de valeurs manquantes (généralement au delà de 50% mais il faut gérer le sujet au cas par cas)"
   ]
  },
  {
   "cell_type": "code",
   "execution_count": null,
   "id": "1240ca5c",
   "metadata": {
    "scrolled": true
   },
   "outputs": [],
   "source": []
  },
  {
   "cell_type": "code",
   "execution_count": null,
   "id": "30644c0c",
   "metadata": {},
   "outputs": [],
   "source": [
    "data_filtre = "
   ]
  },
  {
   "cell_type": "markdown",
   "id": "6c7540e8",
   "metadata": {},
   "source": [
    "<b> Gestion des valeurs manquantes par remplacement </b>\n",
    "\n",
    "Remplacer via une valeur fixe"
   ]
  },
  {
   "cell_type": "code",
   "execution_count": null,
   "id": "81128c2e",
   "metadata": {},
   "outputs": [],
   "source": [
    "data_wip.head(3)"
   ]
  },
  {
   "cell_type": "code",
   "execution_count": null,
   "id": "2b367c1f",
   "metadata": {},
   "outputs": [],
   "source": []
  },
  {
   "cell_type": "code",
   "execution_count": null,
   "id": "24816cc0",
   "metadata": {},
   "outputs": [],
   "source": [
    "# Remplacement des valeurs manquantes dans 'ouverture_dimanche' par False (par défaut fermé le dimanche)\n",
    "data_wip['ouverture le dimanche'] = "
   ]
  },
  {
   "cell_type": "markdown",
   "id": "d3a9a4f0",
   "metadata": {},
   "source": [
    "Remplacer via une valeur calculée (moyenne ou médiane)"
   ]
  },
  {
   "cell_type": "code",
   "execution_count": null,
   "id": "7ba793d2",
   "metadata": {},
   "outputs": [],
   "source": []
  },
  {
   "cell_type": "code",
   "execution_count": null,
   "id": "836b42a5",
   "metadata": {},
   "outputs": [],
   "source": []
  },
  {
   "cell_type": "code",
   "execution_count": null,
   "id": "76093cff",
   "metadata": {},
   "outputs": [],
   "source": []
  },
  {
   "cell_type": "code",
   "execution_count": null,
   "id": "7b332547",
   "metadata": {},
   "outputs": [],
   "source": []
  },
  {
   "cell_type": "code",
   "execution_count": null,
   "id": "b987542e",
   "metadata": {},
   "outputs": [],
   "source": []
  },
  {
   "cell_type": "markdown",
   "id": "e2863751",
   "metadata": {},
   "source": [
    "<h1> Gestion des lignes doublonnées </h1>"
   ]
  },
  {
   "cell_type": "code",
   "execution_count": null,
   "id": "9436a18c",
   "metadata": {},
   "outputs": [],
   "source": [
    "# Détection des lignes doublonnées\n",
    "data_wip.duplicated()"
   ]
  },
  {
   "cell_type": "code",
   "execution_count": null,
   "id": "cef52380",
   "metadata": {},
   "outputs": [],
   "source": []
  },
  {
   "cell_type": "code",
   "execution_count": null,
   "id": "027eeeba",
   "metadata": {},
   "outputs": [],
   "source": []
  },
  {
   "cell_type": "code",
   "execution_count": null,
   "id": "6b8a4b5a",
   "metadata": {},
   "outputs": [],
   "source": []
  },
  {
   "cell_type": "code",
   "execution_count": null,
   "id": "3866b009",
   "metadata": {},
   "outputs": [],
   "source": []
  },
  {
   "cell_type": "code",
   "execution_count": null,
   "id": "e518135b",
   "metadata": {},
   "outputs": [],
   "source": []
  },
  {
   "cell_type": "code",
   "execution_count": null,
   "id": "1abf6c2e",
   "metadata": {},
   "outputs": [],
   "source": []
  },
  {
   "cell_type": "code",
   "execution_count": null,
   "id": "02f43081",
   "metadata": {},
   "outputs": [],
   "source": []
  },
  {
   "cell_type": "markdown",
   "id": "2ad55ec3",
   "metadata": {},
   "source": [
    "<h1> transformation plus complexes via les loop et apply </h1>\n",
    "\n",
    "Imaginions que nous voulions : \n",
    "- supprimer le préfixe des numéros de telephone (avant le premier tiret, la valeur peut varier),\n",
    "- supprimer les tiret\n",
    "- Vérifier que les numéros font bien 8 chiffres, sinon il doit devenir null\n",
    "\n",
    "il n'est pas possible de faire tous ces retraitements directement sur la colonne"
   ]
  },
  {
   "cell_type": "code",
   "execution_count": null,
   "id": "ba48e4cb",
   "metadata": {},
   "outputs": [],
   "source": []
  },
  {
   "cell_type": "markdown",
   "id": "2397a35e",
   "metadata": {},
   "source": [
    "<b> Faire une boucle sur un dataframe </b>"
   ]
  },
  {
   "cell_type": "markdown",
   "id": "bd8f8c65",
   "metadata": {},
   "source": [
    "Une première méthode serait de faire une boucle sur la colonne, et d'y faire nos retraitements. Les boucles sur les dataframes ont le même système que sur les array Numpy"
   ]
  },
  {
   "cell_type": "code",
   "execution_count": null,
   "id": "9d778b0e",
   "metadata": {},
   "outputs": [],
   "source": [
    "for index, row in data_wip.head(3).iterrows():\n",
    "    print(index) # retourne l'index \n",
    "    print(row) # retourne toute une ligne\n",
    "    print(row['chiffre d affaires']) # retourne la valeur d'une colonne\n",
    "    print(data_wip.loc[index,'chiffre d affaires'])  # retourne la valeur d'une colonne"
   ]
  },
  {
   "cell_type": "markdown",
   "id": "6a2f21b9",
   "metadata": {},
   "source": [
    "Contruisons notre retraitement"
   ]
  },
  {
   "cell_type": "code",
   "execution_count": null,
   "id": "3fb5f3ce",
   "metadata": {},
   "outputs": [],
   "source": [
    "test_num = '+33-695-17805'\n"
   ]
  },
  {
   "cell_type": "code",
   "execution_count": null,
   "id": "93d3cd25",
   "metadata": {},
   "outputs": [],
   "source": [
    "# on va maintenant plutôt le faire en fonction\n",
    "def clean_num(num):"
   ]
  },
  {
   "cell_type": "code",
   "execution_count": null,
   "id": "77db924c",
   "metadata": {},
   "outputs": [],
   "source": [
    "#Appliquons maintenant notre retraitement dans notre boucle "
   ]
  },
  {
   "cell_type": "code",
   "execution_count": null,
   "id": "787a3ae1",
   "metadata": {},
   "outputs": [],
   "source": []
  },
  {
   "cell_type": "code",
   "execution_count": null,
   "id": "4026789b",
   "metadata": {},
   "outputs": [],
   "source": []
  },
  {
   "cell_type": "markdown",
   "id": "69336b64",
   "metadata": {},
   "source": [
    "<b> faire un retraitement via apply </b>\n",
    "\n",
    ".apply() est souvent plus rapide que les boucles sur de grands ensembles de données car elle utilise des opérations vectorisées internes à pandas.\n",
    "\n",
    "Si on reprend notre cas précédent, voici ce que cela donnerait"
   ]
  },
  {
   "cell_type": "code",
   "execution_count": null,
   "id": "7df0220d",
   "metadata": {},
   "outputs": [],
   "source": []
  },
  {
   "cell_type": "markdown",
   "id": "2f7a7a71",
   "metadata": {},
   "source": [
    "Il est également possible d'appliquer un retraitement sans fonction\n",
    "\n",
    "On voit par exemple qu'il reste des nom en majuscule ou minuscule des noms des villes, et qu'il existe des espaces en trop."
   ]
  },
  {
   "cell_type": "code",
   "execution_count": null,
   "id": "7ee9849e",
   "metadata": {},
   "outputs": [],
   "source": []
  },
  {
   "cell_type": "code",
   "execution_count": null,
   "id": "1a7264da",
   "metadata": {},
   "outputs": [],
   "source": []
  },
  {
   "cell_type": "markdown",
   "id": "1904bf9c",
   "metadata": {},
   "source": [
    "Il est également possible d'appliquer un retraitement impliquant plusieurs colonnes.\n",
    "\n",
    "Imaginons que nous souhaitions corriger l'ouverture le week-end : Si le nombre d'heures d'ouverture est suppérieur à 50, alors le magasin est forcement ouverte le week-end "
   ]
  },
  {
   "cell_type": "code",
   "execution_count": null,
   "id": "cd376b37",
   "metadata": {},
   "outputs": [],
   "source": []
  },
  {
   "cell_type": "code",
   "execution_count": null,
   "id": "ed71cac9",
   "metadata": {},
   "outputs": [],
   "source": []
  },
  {
   "cell_type": "code",
   "execution_count": null,
   "id": "a4d2b858",
   "metadata": {},
   "outputs": [],
   "source": []
  },
  {
   "cell_type": "code",
   "execution_count": null,
   "id": "3cd7c1ba",
   "metadata": {},
   "outputs": [],
   "source": []
  },
  {
   "cell_type": "markdown",
   "id": "0326f955",
   "metadata": {},
   "source": [
    "<h1> Bonus : modifier l'affichage du dataframe </h1> "
   ]
  },
  {
   "cell_type": "code",
   "execution_count": null,
   "id": "58ec3d8e",
   "metadata": {},
   "outputs": [],
   "source": []
  },
  {
   "cell_type": "code",
   "execution_count": null,
   "id": "94815957",
   "metadata": {},
   "outputs": [],
   "source": []
  }
 ],
 "metadata": {
  "kernelspec": {
   "display_name": "Python [conda env:base] *",
   "language": "python",
   "name": "conda-base-py"
  },
  "language_info": {
   "codemirror_mode": {
    "name": "ipython",
    "version": 3
   },
   "file_extension": ".py",
   "mimetype": "text/x-python",
   "name": "python",
   "nbconvert_exporter": "python",
   "pygments_lexer": "ipython3",
   "version": "3.12.7"
  }
 },
 "nbformat": 4,
 "nbformat_minor": 5
}
