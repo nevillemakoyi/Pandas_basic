{
 "cells": [
  {
   "cell_type": "markdown",
   "id": "67a7cd77",
   "metadata": {},
   "source": [
    "<h1> Exercice 1 </h1>\n",
    "\n",
    "\n",
    "Vous travaillez dans une entreprise de vente en ligne. Vous avez reçu des données de ventes journalières pour différents produits, réparties sur plusieurs listes. Votre tâche est de consolider ces données dans un DataFrame pour une analyse ultérieure.\n",
    "\n",
    "1) Créez un DataFrame pandas à partir de ces listes\n",
    "2) Définissez la colonnes products en tant qu'index\n",
    "3) affichez les données de la ligne correspondant au produit \"keyboard\"\n",
    "4) Réinitialisez finalement l'index de votre dataframe"
   ]
  },
  {
   "cell_type": "code",
   "execution_count": 1,
   "id": "cf129da5",
   "metadata": {},
   "outputs": [],
   "source": [
    "dates = ['2023-01-01', '2023-01-01', '2023-01-02', '2023-01-02']\n",
    "products = ['Keyboard', 'Mouse', 'Monitor', 'Mouse']\n",
    "quantities = [3, 5, 2, 3]\n",
    "unit_prices = [79.99, 25.50, 199.99, 25.50]"
   ]
  },
  {
   "cell_type": "code",
   "execution_count": 3,
   "id": "7d23af27",
   "metadata": {},
   "outputs": [
    {
     "data": {
      "text/html": [
       "<div>\n",
       "<style scoped>\n",
       "    .dataframe tbody tr th:only-of-type {\n",
       "        vertical-align: middle;\n",
       "    }\n",
       "\n",
       "    .dataframe tbody tr th {\n",
       "        vertical-align: top;\n",
       "    }\n",
       "\n",
       "    .dataframe thead th {\n",
       "        text-align: right;\n",
       "    }\n",
       "</style>\n",
       "<table border=\"1\" class=\"dataframe\">\n",
       "  <thead>\n",
       "    <tr style=\"text-align: right;\">\n",
       "      <th></th>\n",
       "      <th>Date</th>\n",
       "      <th>Product</th>\n",
       "      <th>Quantity</th>\n",
       "      <th>Unit Price</th>\n",
       "    </tr>\n",
       "  </thead>\n",
       "  <tbody>\n",
       "    <tr>\n",
       "      <th>0</th>\n",
       "      <td>2023-01-01</td>\n",
       "      <td>Keyboard</td>\n",
       "      <td>3</td>\n",
       "      <td>79.99</td>\n",
       "    </tr>\n",
       "    <tr>\n",
       "      <th>1</th>\n",
       "      <td>2023-01-01</td>\n",
       "      <td>Mouse</td>\n",
       "      <td>5</td>\n",
       "      <td>25.50</td>\n",
       "    </tr>\n",
       "    <tr>\n",
       "      <th>2</th>\n",
       "      <td>2023-01-02</td>\n",
       "      <td>Monitor</td>\n",
       "      <td>2</td>\n",
       "      <td>199.99</td>\n",
       "    </tr>\n",
       "    <tr>\n",
       "      <th>3</th>\n",
       "      <td>2023-01-02</td>\n",
       "      <td>Mouse</td>\n",
       "      <td>3</td>\n",
       "      <td>25.50</td>\n",
       "    </tr>\n",
       "  </tbody>\n",
       "</table>\n",
       "</div>"
      ],
      "text/plain": [
       "         Date   Product  Quantity  Unit Price\n",
       "0  2023-01-01  Keyboard         3       79.99\n",
       "1  2023-01-01     Mouse         5       25.50\n",
       "2  2023-01-02   Monitor         2      199.99\n",
       "3  2023-01-02     Mouse         3       25.50"
      ]
     },
     "execution_count": 3,
     "metadata": {},
     "output_type": "execute_result"
    }
   ],
   "source": [
    "#1\n",
    "import pandas as pd\n",
    "\n",
    "df = pd.DataFrame({\n",
    "    'Date': dates,\n",
    "    'Product': products,\n",
    "    'Quantity': quantities,\n",
    "    'Unit Price': unit_prices\n",
    "})\n",
    "df"
   ]
  },
  {
   "cell_type": "code",
   "execution_count": 4,
   "id": "ace00d37",
   "metadata": {},
   "outputs": [
    {
     "data": {
      "text/html": [
       "<div>\n",
       "<style scoped>\n",
       "    .dataframe tbody tr th:only-of-type {\n",
       "        vertical-align: middle;\n",
       "    }\n",
       "\n",
       "    .dataframe tbody tr th {\n",
       "        vertical-align: top;\n",
       "    }\n",
       "\n",
       "    .dataframe thead th {\n",
       "        text-align: right;\n",
       "    }\n",
       "</style>\n",
       "<table border=\"1\" class=\"dataframe\">\n",
       "  <thead>\n",
       "    <tr style=\"text-align: right;\">\n",
       "      <th></th>\n",
       "      <th>Date</th>\n",
       "      <th>Quantity</th>\n",
       "      <th>Unit Price</th>\n",
       "    </tr>\n",
       "    <tr>\n",
       "      <th>Product</th>\n",
       "      <th></th>\n",
       "      <th></th>\n",
       "      <th></th>\n",
       "    </tr>\n",
       "  </thead>\n",
       "  <tbody>\n",
       "    <tr>\n",
       "      <th>Keyboard</th>\n",
       "      <td>2023-01-01</td>\n",
       "      <td>3</td>\n",
       "      <td>79.99</td>\n",
       "    </tr>\n",
       "    <tr>\n",
       "      <th>Mouse</th>\n",
       "      <td>2023-01-01</td>\n",
       "      <td>5</td>\n",
       "      <td>25.50</td>\n",
       "    </tr>\n",
       "    <tr>\n",
       "      <th>Monitor</th>\n",
       "      <td>2023-01-02</td>\n",
       "      <td>2</td>\n",
       "      <td>199.99</td>\n",
       "    </tr>\n",
       "    <tr>\n",
       "      <th>Mouse</th>\n",
       "      <td>2023-01-02</td>\n",
       "      <td>3</td>\n",
       "      <td>25.50</td>\n",
       "    </tr>\n",
       "  </tbody>\n",
       "</table>\n",
       "</div>"
      ],
      "text/plain": [
       "                Date  Quantity  Unit Price\n",
       "Product                                   \n",
       "Keyboard  2023-01-01         3       79.99\n",
       "Mouse     2023-01-01         5       25.50\n",
       "Monitor   2023-01-02         2      199.99\n",
       "Mouse     2023-01-02         3       25.50"
      ]
     },
     "execution_count": 4,
     "metadata": {},
     "output_type": "execute_result"
    }
   ],
   "source": [
    "#2\n",
    "df.set_index('Product', inplace=True)\n",
    "\n",
    "df"
   ]
  },
  {
   "cell_type": "code",
   "execution_count": 5,
   "id": "ce6afdc3",
   "metadata": {},
   "outputs": [
    {
     "data": {
      "text/plain": [
       "Date          2023-01-01\n",
       "Quantity               3\n",
       "Unit Price         79.99\n",
       "Name: Keyboard, dtype: object"
      ]
     },
     "execution_count": 5,
     "metadata": {},
     "output_type": "execute_result"
    }
   ],
   "source": [
    "#3\n",
    "df.loc['Keyboard']"
   ]
  },
  {
   "cell_type": "code",
   "execution_count": 6,
   "id": "90dd4c83",
   "metadata": {},
   "outputs": [
    {
     "data": {
      "text/html": [
       "<div>\n",
       "<style scoped>\n",
       "    .dataframe tbody tr th:only-of-type {\n",
       "        vertical-align: middle;\n",
       "    }\n",
       "\n",
       "    .dataframe tbody tr th {\n",
       "        vertical-align: top;\n",
       "    }\n",
       "\n",
       "    .dataframe thead th {\n",
       "        text-align: right;\n",
       "    }\n",
       "</style>\n",
       "<table border=\"1\" class=\"dataframe\">\n",
       "  <thead>\n",
       "    <tr style=\"text-align: right;\">\n",
       "      <th></th>\n",
       "      <th>Product</th>\n",
       "      <th>Date</th>\n",
       "      <th>Quantity</th>\n",
       "      <th>Unit Price</th>\n",
       "    </tr>\n",
       "  </thead>\n",
       "  <tbody>\n",
       "    <tr>\n",
       "      <th>0</th>\n",
       "      <td>Keyboard</td>\n",
       "      <td>2023-01-01</td>\n",
       "      <td>3</td>\n",
       "      <td>79.99</td>\n",
       "    </tr>\n",
       "    <tr>\n",
       "      <th>1</th>\n",
       "      <td>Mouse</td>\n",
       "      <td>2023-01-01</td>\n",
       "      <td>5</td>\n",
       "      <td>25.50</td>\n",
       "    </tr>\n",
       "    <tr>\n",
       "      <th>2</th>\n",
       "      <td>Monitor</td>\n",
       "      <td>2023-01-02</td>\n",
       "      <td>2</td>\n",
       "      <td>199.99</td>\n",
       "    </tr>\n",
       "    <tr>\n",
       "      <th>3</th>\n",
       "      <td>Mouse</td>\n",
       "      <td>2023-01-02</td>\n",
       "      <td>3</td>\n",
       "      <td>25.50</td>\n",
       "    </tr>\n",
       "  </tbody>\n",
       "</table>\n",
       "</div>"
      ],
      "text/plain": [
       "    Product        Date  Quantity  Unit Price\n",
       "0  Keyboard  2023-01-01         3       79.99\n",
       "1     Mouse  2023-01-01         5       25.50\n",
       "2   Monitor  2023-01-02         2      199.99\n",
       "3     Mouse  2023-01-02         3       25.50"
      ]
     },
     "execution_count": 6,
     "metadata": {},
     "output_type": "execute_result"
    }
   ],
   "source": [
    "#4\n",
    "df.reset_index(inplace=True)\n",
    "df"
   ]
  },
  {
   "cell_type": "markdown",
   "id": "37992060",
   "metadata": {},
   "source": [
    "<h1> Exercice 2 </h1>\n",
    "\n",
    "vous devez importer un fichier CSV \"products_exercices.csv\" contenant des données de produits pour une analyse ultérieure. Le fichier CSV a des spécificités que vous devez prendre en compte lors de l'importation : \n",
    "- Ignorez la première ligne du fichier qui est un commentaire.\n",
    "- Utilisez le caractère séparateur ,.\n",
    "- Les valeurs null sont représentées par la chaîne \"Vide\".\n",
    "- Définissez la colonne product_id comme index du DataFrame.\n",
    "- Importez uniquement les colonnes products, category, et price et ignorez les autres colonnes.\n",
    "\n",
    "Extrait du fichier : \n",
    "\n",
    "//Ceci est un commentaire à ignorer <br>\n",
    "product_id,products,category,price,stock <br>\n",
    "1,Keyboard,Electronics,Vide,45 <br>\n",
    "2,Mouse,Electronics,29.99,150 <br>\n",
    "3,Monitor,Vide,199.99,Vide <br>\n",
    "4,Desk,Furniture,149.99,30"
   ]
  },
  {
   "cell_type": "code",
   "execution_count": 11,
   "id": "289efd41",
   "metadata": {},
   "outputs": [
    {
     "data": {
      "text/html": [
       "<div>\n",
       "<style scoped>\n",
       "    .dataframe tbody tr th:only-of-type {\n",
       "        vertical-align: middle;\n",
       "    }\n",
       "\n",
       "    .dataframe tbody tr th {\n",
       "        vertical-align: top;\n",
       "    }\n",
       "\n",
       "    .dataframe thead th {\n",
       "        text-align: right;\n",
       "    }\n",
       "</style>\n",
       "<table border=\"1\" class=\"dataframe\">\n",
       "  <thead>\n",
       "    <tr style=\"text-align: right;\">\n",
       "      <th></th>\n",
       "      <th>products</th>\n",
       "      <th>category</th>\n",
       "      <th>price</th>\n",
       "    </tr>\n",
       "    <tr>\n",
       "      <th>product_id</th>\n",
       "      <th></th>\n",
       "      <th></th>\n",
       "      <th></th>\n",
       "    </tr>\n",
       "  </thead>\n",
       "  <tbody>\n",
       "    <tr>\n",
       "      <th>1</th>\n",
       "      <td>Keyboard</td>\n",
       "      <td>Electronics</td>\n",
       "      <td>NaN</td>\n",
       "    </tr>\n",
       "    <tr>\n",
       "      <th>2</th>\n",
       "      <td>Mouse</td>\n",
       "      <td>Electronics</td>\n",
       "      <td>29.99</td>\n",
       "    </tr>\n",
       "    <tr>\n",
       "      <th>3</th>\n",
       "      <td>Monitor</td>\n",
       "      <td>NaN</td>\n",
       "      <td>199.99</td>\n",
       "    </tr>\n",
       "    <tr>\n",
       "      <th>4</th>\n",
       "      <td>Desk</td>\n",
       "      <td>Furniture</td>\n",
       "      <td>149.99</td>\n",
       "    </tr>\n",
       "  </tbody>\n",
       "</table>\n",
       "</div>"
      ],
      "text/plain": [
       "            products     category   price\n",
       "product_id                               \n",
       "1           Keyboard  Electronics     NaN\n",
       "2              Mouse  Electronics   29.99\n",
       "3            Monitor          NaN  199.99\n",
       "4               Desk    Furniture  149.99"
      ]
     },
     "execution_count": 11,
     "metadata": {},
     "output_type": "execute_result"
    }
   ],
   "source": [
    "import pandas as pd\n",
    "\n",
    "df = pd.read_csv(\n",
    "    'products_exercices.csv',\n",
    "    skiprows=1,  # Ignorer les lignes qui commencent par '#'\n",
    "    sep=',',  # Définir le séparateur de colonnes\n",
    "    na_values='Vide',  # Définir la représentation des valeurs NaN\n",
    "    usecols=['product_id','products', 'category', 'price'],  # Sélectionner seulement certaines colonnes\n",
    "    index_col='product_id'  # Définir la colonne 'Produit' comme index\n",
    ")\n",
    "\n",
    "df"
   ]
  },
  {
   "cell_type": "markdown",
   "id": "6346b29e",
   "metadata": {},
   "source": [
    "<h1> Exercice 3 </h1>\n",
    "\n",
    "Vous travaillez pour une entreprise qui reçoit régulièrement des données de clients au format JSON. Les données sont structurées avec un objet parent nommé data, contenant une liste d'objets représentant les informations des clients. Votre tâche est d'importer ces données dans un DataFrame pour analyse et de les exporter en format JSON pour une utilisation ultérieure.\n",
    "\n",
    "1) Importez les données JSON dans un DataFrame pandas. Assurez-vous de cibler l'objet data qui contient les informations nécessaires.\n",
    "2) Exportez le DataFrame résultant en un nouveau fichier JSON."
   ]
  },
  {
   "cell_type": "code",
   "execution_count": 8,
   "id": "77e5c9d0",
   "metadata": {},
   "outputs": [
    {
     "data": {
      "text/html": [
       "<div>\n",
       "<style scoped>\n",
       "    .dataframe tbody tr th:only-of-type {\n",
       "        vertical-align: middle;\n",
       "    }\n",
       "\n",
       "    .dataframe tbody tr th {\n",
       "        vertical-align: top;\n",
       "    }\n",
       "\n",
       "    .dataframe thead th {\n",
       "        text-align: right;\n",
       "    }\n",
       "</style>\n",
       "<table border=\"1\" class=\"dataframe\">\n",
       "  <thead>\n",
       "    <tr style=\"text-align: right;\">\n",
       "      <th></th>\n",
       "      <th>data</th>\n",
       "    </tr>\n",
       "  </thead>\n",
       "  <tbody>\n",
       "    <tr>\n",
       "      <th>0</th>\n",
       "      <td>{'client_id': '1', 'name': 'Alice', 'age': 31,...</td>\n",
       "    </tr>\n",
       "    <tr>\n",
       "      <th>1</th>\n",
       "      <td>{'client_id': '2', 'name': 'Bob', 'age': 22, '...</td>\n",
       "    </tr>\n",
       "    <tr>\n",
       "      <th>2</th>\n",
       "      <td>{'client_id': '3', 'name': 'Charlie', 'age': 3...</td>\n",
       "    </tr>\n",
       "  </tbody>\n",
       "</table>\n",
       "</div>"
      ],
      "text/plain": [
       "                                                data\n",
       "0  {'client_id': '1', 'name': 'Alice', 'age': 31,...\n",
       "1  {'client_id': '2', 'name': 'Bob', 'age': 22, '...\n",
       "2  {'client_id': '3', 'name': 'Charlie', 'age': 3..."
      ]
     },
     "execution_count": 8,
     "metadata": {},
     "output_type": "execute_result"
    }
   ],
   "source": [
    "#1\n",
    "df_clients = pd.read_json('clients_exercices.json')\n",
    "df_clients"
   ]
  },
  {
   "cell_type": "code",
   "execution_count": 9,
   "id": "843cfbd8",
   "metadata": {},
   "outputs": [
    {
     "data": {
      "text/html": [
       "<div>\n",
       "<style scoped>\n",
       "    .dataframe tbody tr th:only-of-type {\n",
       "        vertical-align: middle;\n",
       "    }\n",
       "\n",
       "    .dataframe tbody tr th {\n",
       "        vertical-align: top;\n",
       "    }\n",
       "\n",
       "    .dataframe thead th {\n",
       "        text-align: right;\n",
       "    }\n",
       "</style>\n",
       "<table border=\"1\" class=\"dataframe\">\n",
       "  <thead>\n",
       "    <tr style=\"text-align: right;\">\n",
       "      <th></th>\n",
       "      <th>client_id</th>\n",
       "      <th>name</th>\n",
       "      <th>age</th>\n",
       "      <th>email</th>\n",
       "    </tr>\n",
       "  </thead>\n",
       "  <tbody>\n",
       "    <tr>\n",
       "      <th>0</th>\n",
       "      <td>1</td>\n",
       "      <td>Alice</td>\n",
       "      <td>31</td>\n",
       "      <td>alice@example.com</td>\n",
       "    </tr>\n",
       "    <tr>\n",
       "      <th>1</th>\n",
       "      <td>2</td>\n",
       "      <td>Bob</td>\n",
       "      <td>22</td>\n",
       "      <td>bob@example.com</td>\n",
       "    </tr>\n",
       "    <tr>\n",
       "      <th>2</th>\n",
       "      <td>3</td>\n",
       "      <td>Charlie</td>\n",
       "      <td>35</td>\n",
       "      <td>charlie@example.com</td>\n",
       "    </tr>\n",
       "  </tbody>\n",
       "</table>\n",
       "</div>"
      ],
      "text/plain": [
       "  client_id     name  age                email\n",
       "0         1    Alice   31    alice@example.com\n",
       "1         2      Bob   22      bob@example.com\n",
       "2         3  Charlie   35  charlie@example.com"
      ]
     },
     "execution_count": 9,
     "metadata": {},
     "output_type": "execute_result"
    }
   ],
   "source": [
    "cleaned_clients = pd.DataFrame(list(df_clients['data']))\n",
    "cleaned_clients"
   ]
  },
  {
   "cell_type": "code",
   "execution_count": 10,
   "id": "87367b85",
   "metadata": {},
   "outputs": [],
   "source": [
    "#2\n",
    "df.to_json('cleaned_clients.json')"
   ]
  }
 ],
 "metadata": {
  "kernelspec": {
   "display_name": "Python 3 (ipykernel)",
   "language": "python",
   "name": "python3"
  },
  "language_info": {
   "codemirror_mode": {
    "name": "ipython",
    "version": 3
   },
   "file_extension": ".py",
   "mimetype": "text/x-python",
   "name": "python",
   "nbconvert_exporter": "python",
   "pygments_lexer": "ipython3",
   "version": "3.11.5"
  }
 },
 "nbformat": 4,
 "nbformat_minor": 5
}
