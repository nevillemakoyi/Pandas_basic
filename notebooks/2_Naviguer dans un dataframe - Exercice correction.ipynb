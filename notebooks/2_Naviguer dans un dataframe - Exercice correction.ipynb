{
 "cells": [
  {
   "cell_type": "markdown",
   "id": "f6a49e4f",
   "metadata": {},
   "source": [
    "<h1> Exercice </h1>\n",
    "\n",
    "Vous êtes data analyst et avez récupéré un DataFrame movies contenant des informations sur les sorties de films. Les données comprennent des colonnes pour : \n",
    "- le nom du film\n",
    "- les recettes d'ouverture\n",
    "- les recettes totales\n",
    "- le pourcentage des recettes totales\n",
    "- le nombre de cinémas\n",
    "- la recette moyenne par cinéma\n",
    "- la date de sortie et le distributeur\n",
    "\n",
    "Consignes : \n",
    "\n",
    "1) Affichez les cinq premières lignes du DataFrame.\n",
    "2) Affichez le nombre de lignes et de colonnes du DataFrame.\n",
    "3) Sélectionnez la colonne \"Distributor\" et affichez les cinq premières valeurs.\n",
    "4) Sélectionnez les colonnes \"Release\" et \"Total Gross\" et affichez les cinq premières lignes.\n",
    "5) Utilisez la méthode iloc pour sélectionner et afficher les données de la troisième ligne.\n",
    "6) Faites du slicing avec loc pour sélectionner les films de l'index 990 au 999 et affichez les colonnes \"Release\" et \"Opening\".\n",
    "7) Faites du slicing avec iloc pour sélectionner les trois dernières lignes du DataFrame et toutes les colonnes.\n",
    "8) Créez une copie du DataFrame movies et nommez-la movies_copy.\n"
   ]
  },
  {
   "cell_type": "code",
   "execution_count": null,
   "id": "96aa8879",
   "metadata": {},
   "outputs": [],
   "source": [
    "import pandas as pd\n",
    "\n",
    "movies = pd.read_csv('Top_Highest_Openings.csv')\n",
    "movies"
   ]
  },
  {
   "cell_type": "code",
   "execution_count": null,
   "id": "aa687429",
   "metadata": {},
   "outputs": [],
   "source": [
    "#1\n",
    "movies.head()"
   ]
  },
  {
   "cell_type": "code",
   "execution_count": null,
   "id": "ee1fd157",
   "metadata": {},
   "outputs": [],
   "source": [
    "#2\n",
    "movies.shape"
   ]
  },
  {
   "cell_type": "code",
   "execution_count": null,
   "id": "42b602b7",
   "metadata": {},
   "outputs": [],
   "source": [
    "#3\n",
    "movies['Distributor'].head()"
   ]
  },
  {
   "cell_type": "code",
   "execution_count": null,
   "id": "db03a73b",
   "metadata": {},
   "outputs": [],
   "source": [
    "#4\n",
    "movies[['Release', 'Total Gross']].head()"
   ]
  },
  {
   "cell_type": "code",
   "execution_count": null,
   "id": "9b43784e",
   "metadata": {},
   "outputs": [],
   "source": [
    "#5\n",
    "movies.iloc[2]"
   ]
  },
  {
   "cell_type": "code",
   "execution_count": null,
   "id": "f8f16c8f",
   "metadata": {},
   "outputs": [],
   "source": [
    "#6\n",
    "movies.loc[990:999, ['Release', 'Opening']]"
   ]
  },
  {
   "cell_type": "code",
   "execution_count": null,
   "id": "55b1eb4b",
   "metadata": {},
   "outputs": [],
   "source": [
    "#7\n",
    "movies.iloc[-3:]"
   ]
  },
  {
   "cell_type": "code",
   "execution_count": null,
   "id": "672d3ea0",
   "metadata": {},
   "outputs": [],
   "source": [
    "#8\n",
    "movies_copy = movies.copy()\n",
    "movies_copy.head()"
   ]
  }
 ],
 "metadata": {
  "kernelspec": {
   "display_name": "Python 3 (ipykernel)",
   "language": "python",
   "name": "python3"
  },
  "language_info": {
   "codemirror_mode": {
    "name": "ipython",
    "version": 3
   },
   "file_extension": ".py",
   "mimetype": "text/x-python",
   "name": "python",
   "nbconvert_exporter": "python",
   "pygments_lexer": "ipython3",
   "version": "3.11.5"
  }
 },
 "nbformat": 4,
 "nbformat_minor": 5
}
