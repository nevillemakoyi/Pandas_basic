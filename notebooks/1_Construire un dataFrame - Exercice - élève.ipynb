{
 "cells": [
  {
   "cell_type": "markdown",
   "id": "67a7cd77",
   "metadata": {},
   "source": [
    "<h1> Exercice 1 </h1>\n",
    "\n",
    "\n",
    "Vous travaillez dans une entreprise de vente en ligne. Vous avez reçu des données de ventes journalières pour différents produits, réparties sur plusieurs listes. Votre tâche est de consolider ces données dans un DataFrame pour une analyse ultérieure.\n",
    "\n",
    "1) Créez un DataFrame pandas à partir de ces listes\n",
    "2) Définissez la colonnes products en tant qu'index\n",
    "3) affichez les données de la ligne correspondant au prodit \"keyboard\"\n",
    "4) Réinitialisez finalement l'index de votre dataframe"
   ]
  },
  {
   "cell_type": "code",
   "execution_count": null,
   "id": "cf129da5",
   "metadata": {},
   "outputs": [],
   "source": [
    "dates = ['2023-01-01', '2023-01-01', '2023-01-02', '2023-01-02']\n",
    "products = ['Keyboard', 'Mouse', 'Monitor', 'Mouse']\n",
    "quantities = [3, 5, 2, 3]\n",
    "unit_prices = [79.99, 25.50, 199.99, 25.50]"
   ]
  },
  {
   "cell_type": "code",
   "execution_count": 9,
   "id": "dab715dc",
   "metadata": {},
   "outputs": [],
   "source": [
    "import pandas as pd"
   ]
  },
  {
   "cell_type": "code",
   "execution_count": 12,
   "id": "7d23af27",
   "metadata": {},
   "outputs": [
    {
     "data": {
      "application/vnd.microsoft.datawrangler.viewer.v0+json": {
       "columns": [
        {
         "name": "index",
         "rawType": "int64",
         "type": "integer"
        },
        {
         "name": "Date",
         "rawType": "object",
         "type": "string"
        },
        {
         "name": "Product",
         "rawType": "object",
         "type": "string"
        },
        {
         "name": "Quantity",
         "rawType": "int64",
         "type": "integer"
        },
        {
         "name": "Unit Price",
         "rawType": "float64",
         "type": "float"
        }
       ],
       "conversionMethod": "pd.DataFrame",
       "ref": "e7e99095-2b99-49e2-9147-4ac619189e4f",
       "rows": [
        [
         "0",
         "2023-01-01",
         "Keyboard",
         "3",
         "79.99"
        ],
        [
         "1",
         "2023-01-01",
         "Mouse",
         "5",
         "25.5"
        ],
        [
         "2",
         "2023-01-02",
         "Monitor",
         "2",
         "199.99"
        ],
        [
         "3",
         "2023-01-02",
         "Mouse",
         "3",
         "25.5"
        ]
       ],
       "shape": {
        "columns": 4,
        "rows": 4
       }
      },
      "text/html": [
       "<div>\n",
       "<style scoped>\n",
       "    .dataframe tbody tr th:only-of-type {\n",
       "        vertical-align: middle;\n",
       "    }\n",
       "\n",
       "    .dataframe tbody tr th {\n",
       "        vertical-align: top;\n",
       "    }\n",
       "\n",
       "    .dataframe thead th {\n",
       "        text-align: right;\n",
       "    }\n",
       "</style>\n",
       "<table border=\"1\" class=\"dataframe\">\n",
       "  <thead>\n",
       "    <tr style=\"text-align: right;\">\n",
       "      <th></th>\n",
       "      <th>Date</th>\n",
       "      <th>Product</th>\n",
       "      <th>Quantity</th>\n",
       "      <th>Unit Price</th>\n",
       "    </tr>\n",
       "  </thead>\n",
       "  <tbody>\n",
       "    <tr>\n",
       "      <th>0</th>\n",
       "      <td>2023-01-01</td>\n",
       "      <td>Keyboard</td>\n",
       "      <td>3</td>\n",
       "      <td>79.99</td>\n",
       "    </tr>\n",
       "    <tr>\n",
       "      <th>1</th>\n",
       "      <td>2023-01-01</td>\n",
       "      <td>Mouse</td>\n",
       "      <td>5</td>\n",
       "      <td>25.50</td>\n",
       "    </tr>\n",
       "    <tr>\n",
       "      <th>2</th>\n",
       "      <td>2023-01-02</td>\n",
       "      <td>Monitor</td>\n",
       "      <td>2</td>\n",
       "      <td>199.99</td>\n",
       "    </tr>\n",
       "    <tr>\n",
       "      <th>3</th>\n",
       "      <td>2023-01-02</td>\n",
       "      <td>Mouse</td>\n",
       "      <td>3</td>\n",
       "      <td>25.50</td>\n",
       "    </tr>\n",
       "  </tbody>\n",
       "</table>\n",
       "</div>"
      ],
      "text/plain": [
       "         Date   Product  Quantity  Unit Price\n",
       "0  2023-01-01  Keyboard         3       79.99\n",
       "1  2023-01-01     Mouse         5       25.50\n",
       "2  2023-01-02   Monitor         2      199.99\n",
       "3  2023-01-02     Mouse         3       25.50"
      ]
     },
     "execution_count": 12,
     "metadata": {},
     "output_type": "execute_result"
    }
   ],
   "source": [
    "all_lists = list(zip(dates, products, quantities, unit_prices))\n",
    "data = all_lists\n",
    "data = pd.DataFrame(data, columns=['Date', 'Product', 'Quantity', 'Unit Price'])\n",
    "df = data.copy()\n",
    "df"
   ]
  },
  {
   "cell_type": "code",
   "execution_count": 13,
   "id": "ace00d37",
   "metadata": {},
   "outputs": [
    {
     "data": {
      "application/vnd.microsoft.datawrangler.viewer.v0+json": {
       "columns": [
        {
         "name": "Product",
         "rawType": "object",
         "type": "string"
        },
        {
         "name": "Date",
         "rawType": "object",
         "type": "string"
        },
        {
         "name": "Quantity",
         "rawType": "int64",
         "type": "integer"
        },
        {
         "name": "Unit Price",
         "rawType": "float64",
         "type": "float"
        }
       ],
       "conversionMethod": "pd.DataFrame",
       "ref": "8ba45fde-9d86-41e5-a626-dcede96d10ab",
       "rows": [
        [
         "Keyboard",
         "2023-01-01",
         "3",
         "79.99"
        ],
        [
         "Mouse",
         "2023-01-01",
         "5",
         "25.5"
        ],
        [
         "Monitor",
         "2023-01-02",
         "2",
         "199.99"
        ],
        [
         "Mouse",
         "2023-01-02",
         "3",
         "25.5"
        ]
       ],
       "shape": {
        "columns": 3,
        "rows": 4
       }
      },
      "text/html": [
       "<div>\n",
       "<style scoped>\n",
       "    .dataframe tbody tr th:only-of-type {\n",
       "        vertical-align: middle;\n",
       "    }\n",
       "\n",
       "    .dataframe tbody tr th {\n",
       "        vertical-align: top;\n",
       "    }\n",
       "\n",
       "    .dataframe thead th {\n",
       "        text-align: right;\n",
       "    }\n",
       "</style>\n",
       "<table border=\"1\" class=\"dataframe\">\n",
       "  <thead>\n",
       "    <tr style=\"text-align: right;\">\n",
       "      <th></th>\n",
       "      <th>Date</th>\n",
       "      <th>Quantity</th>\n",
       "      <th>Unit Price</th>\n",
       "    </tr>\n",
       "    <tr>\n",
       "      <th>Product</th>\n",
       "      <th></th>\n",
       "      <th></th>\n",
       "      <th></th>\n",
       "    </tr>\n",
       "  </thead>\n",
       "  <tbody>\n",
       "    <tr>\n",
       "      <th>Keyboard</th>\n",
       "      <td>2023-01-01</td>\n",
       "      <td>3</td>\n",
       "      <td>79.99</td>\n",
       "    </tr>\n",
       "    <tr>\n",
       "      <th>Mouse</th>\n",
       "      <td>2023-01-01</td>\n",
       "      <td>5</td>\n",
       "      <td>25.50</td>\n",
       "    </tr>\n",
       "    <tr>\n",
       "      <th>Monitor</th>\n",
       "      <td>2023-01-02</td>\n",
       "      <td>2</td>\n",
       "      <td>199.99</td>\n",
       "    </tr>\n",
       "    <tr>\n",
       "      <th>Mouse</th>\n",
       "      <td>2023-01-02</td>\n",
       "      <td>3</td>\n",
       "      <td>25.50</td>\n",
       "    </tr>\n",
       "  </tbody>\n",
       "</table>\n",
       "</div>"
      ],
      "text/plain": [
       "                Date  Quantity  Unit Price\n",
       "Product                                   \n",
       "Keyboard  2023-01-01         3       79.99\n",
       "Mouse     2023-01-01         5       25.50\n",
       "Monitor   2023-01-02         2      199.99\n",
       "Mouse     2023-01-02         3       25.50"
      ]
     },
     "execution_count": 13,
     "metadata": {},
     "output_type": "execute_result"
    }
   ],
   "source": [
    "df.set_index('Product', inplace=True)\n",
    "df"
   ]
  },
  {
   "cell_type": "code",
   "execution_count": 17,
   "id": "ce6afdc3",
   "metadata": {},
   "outputs": [
    {
     "data": {
      "application/vnd.microsoft.datawrangler.viewer.v0+json": {
       "columns": [
        {
         "name": "Product",
         "rawType": "object",
         "type": "string"
        },
        {
         "name": "Date",
         "rawType": "object",
         "type": "string"
        },
        {
         "name": "Unit Price",
         "rawType": "float64",
         "type": "float"
        }
       ],
       "conversionMethod": "pd.DataFrame",
       "ref": "c5fed894-628b-4696-8bba-5ee4ddbbc73e",
       "rows": [
        [
         "Keyboard",
         "2023-01-01",
         "79.99"
        ],
        [
         "Monitor",
         "2023-01-02",
         "199.99"
        ]
       ],
       "shape": {
        "columns": 2,
        "rows": 2
       }
      },
      "text/html": [
       "<div>\n",
       "<style scoped>\n",
       "    .dataframe tbody tr th:only-of-type {\n",
       "        vertical-align: middle;\n",
       "    }\n",
       "\n",
       "    .dataframe tbody tr th {\n",
       "        vertical-align: top;\n",
       "    }\n",
       "\n",
       "    .dataframe thead th {\n",
       "        text-align: right;\n",
       "    }\n",
       "</style>\n",
       "<table border=\"1\" class=\"dataframe\">\n",
       "  <thead>\n",
       "    <tr style=\"text-align: right;\">\n",
       "      <th></th>\n",
       "      <th>Date</th>\n",
       "      <th>Unit Price</th>\n",
       "    </tr>\n",
       "    <tr>\n",
       "      <th>Product</th>\n",
       "      <th></th>\n",
       "      <th></th>\n",
       "    </tr>\n",
       "  </thead>\n",
       "  <tbody>\n",
       "    <tr>\n",
       "      <th>Keyboard</th>\n",
       "      <td>2023-01-01</td>\n",
       "      <td>79.99</td>\n",
       "    </tr>\n",
       "    <tr>\n",
       "      <th>Monitor</th>\n",
       "      <td>2023-01-02</td>\n",
       "      <td>199.99</td>\n",
       "    </tr>\n",
       "  </tbody>\n",
       "</table>\n",
       "</div>"
      ],
      "text/plain": [
       "                Date  Unit Price\n",
       "Product                         \n",
       "Keyboard  2023-01-01       79.99\n",
       "Monitor   2023-01-02      199.99"
      ]
     },
     "execution_count": 17,
     "metadata": {},
     "output_type": "execute_result"
    }
   ],
   "source": [
    "df.loc[['Keyboard','Monitor'], ['Date','Unit Price']]"
   ]
  },
  {
   "cell_type": "code",
   "execution_count": 20,
   "id": "90dd4c83",
   "metadata": {},
   "outputs": [
    {
     "data": {
      "application/vnd.microsoft.datawrangler.viewer.v0+json": {
       "columns": [
        {
         "name": "index",
         "rawType": "int64",
         "type": "integer"
        },
        {
         "name": "index",
         "rawType": "int64",
         "type": "integer"
        },
        {
         "name": "Product",
         "rawType": "object",
         "type": "string"
        },
        {
         "name": "Date",
         "rawType": "object",
         "type": "string"
        },
        {
         "name": "Quantity",
         "rawType": "int64",
         "type": "integer"
        },
        {
         "name": "Unit Price",
         "rawType": "float64",
         "type": "float"
        }
       ],
       "conversionMethod": "pd.DataFrame",
       "ref": "6ed1de3f-0552-4e21-80cb-2f8a80ee0444",
       "rows": [
        [
         "0",
         "0",
         "Keyboard",
         "2023-01-01",
         "3",
         "79.99"
        ],
        [
         "1",
         "1",
         "Mouse",
         "2023-01-01",
         "5",
         "25.5"
        ],
        [
         "2",
         "2",
         "Monitor",
         "2023-01-02",
         "2",
         "199.99"
        ],
        [
         "3",
         "3",
         "Mouse",
         "2023-01-02",
         "3",
         "25.5"
        ]
       ],
       "shape": {
        "columns": 5,
        "rows": 4
       }
      },
      "text/html": [
       "<div>\n",
       "<style scoped>\n",
       "    .dataframe tbody tr th:only-of-type {\n",
       "        vertical-align: middle;\n",
       "    }\n",
       "\n",
       "    .dataframe tbody tr th {\n",
       "        vertical-align: top;\n",
       "    }\n",
       "\n",
       "    .dataframe thead th {\n",
       "        text-align: right;\n",
       "    }\n",
       "</style>\n",
       "<table border=\"1\" class=\"dataframe\">\n",
       "  <thead>\n",
       "    <tr style=\"text-align: right;\">\n",
       "      <th></th>\n",
       "      <th>index</th>\n",
       "      <th>Product</th>\n",
       "      <th>Date</th>\n",
       "      <th>Quantity</th>\n",
       "      <th>Unit Price</th>\n",
       "    </tr>\n",
       "  </thead>\n",
       "  <tbody>\n",
       "    <tr>\n",
       "      <th>0</th>\n",
       "      <td>0</td>\n",
       "      <td>Keyboard</td>\n",
       "      <td>2023-01-01</td>\n",
       "      <td>3</td>\n",
       "      <td>79.99</td>\n",
       "    </tr>\n",
       "    <tr>\n",
       "      <th>1</th>\n",
       "      <td>1</td>\n",
       "      <td>Mouse</td>\n",
       "      <td>2023-01-01</td>\n",
       "      <td>5</td>\n",
       "      <td>25.50</td>\n",
       "    </tr>\n",
       "    <tr>\n",
       "      <th>2</th>\n",
       "      <td>2</td>\n",
       "      <td>Monitor</td>\n",
       "      <td>2023-01-02</td>\n",
       "      <td>2</td>\n",
       "      <td>199.99</td>\n",
       "    </tr>\n",
       "    <tr>\n",
       "      <th>3</th>\n",
       "      <td>3</td>\n",
       "      <td>Mouse</td>\n",
       "      <td>2023-01-02</td>\n",
       "      <td>3</td>\n",
       "      <td>25.50</td>\n",
       "    </tr>\n",
       "  </tbody>\n",
       "</table>\n",
       "</div>"
      ],
      "text/plain": [
       "   index   Product        Date  Quantity  Unit Price\n",
       "0      0  Keyboard  2023-01-01         3       79.99\n",
       "1      1     Mouse  2023-01-01         5       25.50\n",
       "2      2   Monitor  2023-01-02         2      199.99\n",
       "3      3     Mouse  2023-01-02         3       25.50"
      ]
     },
     "execution_count": 20,
     "metadata": {},
     "output_type": "execute_result"
    }
   ],
   "source": [
    "df.reset_index(inplace=True)\n",
    "df"
   ]
  },
  {
   "cell_type": "markdown",
   "id": "37992060",
   "metadata": {},
   "source": [
    "<h1> Exercice 2 </h1>\n",
    "\n",
    "vous devez importer un fichier CSV \"products_exercices.csv\" contenant des données de produits pour une analyse ultérieure. Le fichier CSV a des spécificités que vous devez prendre en compte lors de l'importation : \n",
    "- Ignorez la première ligne du fichier qui est un commentaire.\n",
    "- Utilisez le caractère séparateur ,.\n",
    "- Les valeurs null sont représentées par la chaîne \"Vide\".\n",
    "- Définissez la colonne product_id comme index du DataFrame.\n",
    "- Importez uniquement les colonnes products, category, et price et ignorez les autres colonnes.\n",
    "\n",
    "Extrait du fichier : \n",
    "\n",
    "//Ceci est un commentaire à ignorer <br>\n",
    "product_id,products,category,price,stock <br>\n",
    "1,Keyboard,Electronics,Vide,45 <br>\n",
    "2,Mouse,Electronics,29.99,150 <br>\n",
    "3,Monitor,Vide,199.99,Vide <br>\n",
    "4,Desk,Furniture,149.99,30"
   ]
  },
  {
   "cell_type": "code",
   "execution_count": 24,
   "id": "289efd41",
   "metadata": {},
   "outputs": [
    {
     "data": {
      "application/vnd.microsoft.datawrangler.viewer.v0+json": {
       "columns": [
        {
         "name": "product_id",
         "rawType": "int64",
         "type": "integer"
        },
        {
         "name": "category",
         "rawType": "object",
         "type": "string"
        },
        {
         "name": "price",
         "rawType": "object",
         "type": "string"
        }
       ],
       "conversionMethod": "pd.DataFrame",
       "ref": "ba7d889b-7ef0-4b01-9b3a-25f0cbca9ede",
       "rows": [
        [
         "1",
         "Electronics",
         "Vide"
        ],
        [
         "2",
         "Electronics",
         "29.99"
        ],
        [
         "3",
         "Vide",
         "199.99"
        ],
        [
         "4",
         "Furniture",
         "149.99"
        ]
       ],
       "shape": {
        "columns": 2,
        "rows": 4
       }
      },
      "text/html": [
       "<div>\n",
       "<style scoped>\n",
       "    .dataframe tbody tr th:only-of-type {\n",
       "        vertical-align: middle;\n",
       "    }\n",
       "\n",
       "    .dataframe tbody tr th {\n",
       "        vertical-align: top;\n",
       "    }\n",
       "\n",
       "    .dataframe thead th {\n",
       "        text-align: right;\n",
       "    }\n",
       "</style>\n",
       "<table border=\"1\" class=\"dataframe\">\n",
       "  <thead>\n",
       "    <tr style=\"text-align: right;\">\n",
       "      <th></th>\n",
       "      <th>category</th>\n",
       "      <th>price</th>\n",
       "    </tr>\n",
       "    <tr>\n",
       "      <th>product_id</th>\n",
       "      <th></th>\n",
       "      <th></th>\n",
       "    </tr>\n",
       "  </thead>\n",
       "  <tbody>\n",
       "    <tr>\n",
       "      <th>1</th>\n",
       "      <td>Electronics</td>\n",
       "      <td>Vide</td>\n",
       "    </tr>\n",
       "    <tr>\n",
       "      <th>2</th>\n",
       "      <td>Electronics</td>\n",
       "      <td>29.99</td>\n",
       "    </tr>\n",
       "    <tr>\n",
       "      <th>3</th>\n",
       "      <td>Vide</td>\n",
       "      <td>199.99</td>\n",
       "    </tr>\n",
       "    <tr>\n",
       "      <th>4</th>\n",
       "      <td>Furniture</td>\n",
       "      <td>149.99</td>\n",
       "    </tr>\n",
       "  </tbody>\n",
       "</table>\n",
       "</div>"
      ],
      "text/plain": [
       "               category   price\n",
       "product_id                     \n",
       "1           Electronics    Vide\n",
       "2           Electronics   29.99\n",
       "3                  Vide  199.99\n",
       "4             Furniture  149.99"
      ]
     },
     "execution_count": 24,
     "metadata": {},
     "output_type": "execute_result"
    }
   ],
   "source": [
    "path = r'C:\\Users\\nmako\\Documents\\Data-Science-Projects-Repository\\Pandas_basic\\data\\raw\\products_exercices.csv' \n",
    "data_csv = pd.read_csv(path, sep=',', header=1, index_col='product_id', usecols=['product_id','category','price'])\n",
    "data_csv"
   ]
  },
  {
   "cell_type": "code",
   "execution_count": 48,
   "id": "f27afa7e",
   "metadata": {},
   "outputs": [
    {
     "data": {
      "application/vnd.microsoft.datawrangler.viewer.v0+json": {
       "columns": [
        {
         "name": "product_id",
         "rawType": "int64",
         "type": "integer"
        },
        {
         "name": "category",
         "rawType": "object",
         "type": "unknown"
        },
        {
         "name": "price",
         "rawType": "float64",
         "type": "float"
        }
       ],
       "conversionMethod": "pd.DataFrame",
       "ref": "7f8b855c-7350-4374-8b03-c505dfe70e79",
       "rows": [
        [
         "1",
         "Electronics",
         null
        ],
        [
         "2",
         "Electronics",
         "29.99"
        ],
        [
         "3",
         null,
         "199.99"
        ],
        [
         "4",
         "Furniture",
         "149.99"
        ]
       ],
       "shape": {
        "columns": 2,
        "rows": 4
       }
      },
      "text/html": [
       "<div>\n",
       "<style scoped>\n",
       "    .dataframe tbody tr th:only-of-type {\n",
       "        vertical-align: middle;\n",
       "    }\n",
       "\n",
       "    .dataframe tbody tr th {\n",
       "        vertical-align: top;\n",
       "    }\n",
       "\n",
       "    .dataframe thead th {\n",
       "        text-align: right;\n",
       "    }\n",
       "</style>\n",
       "<table border=\"1\" class=\"dataframe\">\n",
       "  <thead>\n",
       "    <tr style=\"text-align: right;\">\n",
       "      <th></th>\n",
       "      <th>category</th>\n",
       "      <th>price</th>\n",
       "    </tr>\n",
       "    <tr>\n",
       "      <th>product_id</th>\n",
       "      <th></th>\n",
       "      <th></th>\n",
       "    </tr>\n",
       "  </thead>\n",
       "  <tbody>\n",
       "    <tr>\n",
       "      <th>1</th>\n",
       "      <td>Electronics</td>\n",
       "      <td>NaN</td>\n",
       "    </tr>\n",
       "    <tr>\n",
       "      <th>2</th>\n",
       "      <td>Electronics</td>\n",
       "      <td>29.99</td>\n",
       "    </tr>\n",
       "    <tr>\n",
       "      <th>3</th>\n",
       "      <td>NaN</td>\n",
       "      <td>199.99</td>\n",
       "    </tr>\n",
       "    <tr>\n",
       "      <th>4</th>\n",
       "      <td>Furniture</td>\n",
       "      <td>149.99</td>\n",
       "    </tr>\n",
       "  </tbody>\n",
       "</table>\n",
       "</div>"
      ],
      "text/plain": [
       "               category   price\n",
       "product_id                     \n",
       "1           Electronics     NaN\n",
       "2           Electronics   29.99\n",
       "3                   NaN  199.99\n",
       "4             Furniture  149.99"
      ]
     },
     "execution_count": 48,
     "metadata": {},
     "output_type": "execute_result"
    }
   ],
   "source": [
    "data_csv = pd.read_csv( path, \n",
    "                       sep=',', \n",
    "                       header=1, \n",
    "                       index_col='product_id', \n",
    "                       usecols=['product_id', 'category', 'price'], \n",
    "                       na_values=['Vide']\n",
    "                        \n",
    "                    )\n",
    "data_csv"
   ]
  },
  {
   "cell_type": "code",
   "execution_count": null,
   "id": "4bd98e8b",
   "metadata": {},
   "outputs": [],
   "source": []
  },
  {
   "cell_type": "markdown",
   "id": "6346b29e",
   "metadata": {},
   "source": [
    "<h1> Exercice 3 </h1>\n",
    "\n",
    "Vous travaillez pour une entreprise qui reçoit régulièrement des données de clients au format JSON. Les données sont structurées avec un objet parent nommé data, contenant une liste d'objets représentant les informations des clients. Votre tâche est d'importer ces données dans un DataFrame pour analyse et de les exporter en format JSON pour une utilisation ultérieure.\n",
    "\n",
    "1) Importez les données JSON de clients_exercices.json dans un DataFrame pandas. Assurez-vous de cibler l'objet data qui contient les informations nécessaires.\n",
    "2) Exportez le DataFrame résultant en un nouveau fichier JSON."
   ]
  },
  {
   "cell_type": "code",
   "execution_count": null,
   "id": "77e5c9d0",
   "metadata": {},
   "outputs": [
    {
     "data": {
      "application/vnd.microsoft.datawrangler.viewer.v0+json": {
       "columns": [
        {
         "name": "index",
         "rawType": "int64",
         "type": "integer"
        },
        {
         "name": "data",
         "rawType": "object",
         "type": "unknown"
        }
       ],
       "conversionMethod": "pd.DataFrame",
       "ref": "d2f562a0-ac98-4b4c-a9e8-e5864366b97f",
       "rows": [
        [
         "0",
         "{'client_id': '1', 'name': 'Alice', 'age': 31, 'email': 'alice@example.com'}"
        ],
        [
         "1",
         "{'client_id': '2', 'name': 'Bob', 'age': 22, 'email': 'bob@example.com'}"
        ],
        [
         "2",
         "{'client_id': '3', 'name': 'Charlie', 'age': 35, 'email': 'charlie@example.com'}"
        ]
       ],
       "shape": {
        "columns": 1,
        "rows": 3
       }
      },
      "text/html": [
       "<div>\n",
       "<style scoped>\n",
       "    .dataframe tbody tr th:only-of-type {\n",
       "        vertical-align: middle;\n",
       "    }\n",
       "\n",
       "    .dataframe tbody tr th {\n",
       "        vertical-align: top;\n",
       "    }\n",
       "\n",
       "    .dataframe thead th {\n",
       "        text-align: right;\n",
       "    }\n",
       "</style>\n",
       "<table border=\"1\" class=\"dataframe\">\n",
       "  <thead>\n",
       "    <tr style=\"text-align: right;\">\n",
       "      <th></th>\n",
       "      <th>data</th>\n",
       "    </tr>\n",
       "  </thead>\n",
       "  <tbody>\n",
       "    <tr>\n",
       "      <th>0</th>\n",
       "      <td>{'client_id': '1', 'name': 'Alice', 'age': 31,...</td>\n",
       "    </tr>\n",
       "    <tr>\n",
       "      <th>1</th>\n",
       "      <td>{'client_id': '2', 'name': 'Bob', 'age': 22, '...</td>\n",
       "    </tr>\n",
       "    <tr>\n",
       "      <th>2</th>\n",
       "      <td>{'client_id': '3', 'name': 'Charlie', 'age': 3...</td>\n",
       "    </tr>\n",
       "  </tbody>\n",
       "</table>\n",
       "</div>"
      ],
      "text/plain": [
       "                                                data\n",
       "0  {'client_id': '1', 'name': 'Alice', 'age': 31,...\n",
       "1  {'client_id': '2', 'name': 'Bob', 'age': 22, '...\n",
       "2  {'client_id': '3', 'name': 'Charlie', 'age': 3..."
      ]
     },
     "execution_count": 33,
     "metadata": {},
     "output_type": "execute_result"
    }
   ],
   "source": [
    "path_json = r'C:\\Users\\nmako\\Documents\\Data-Science-Projects-Repository\\Pandas_basic\\data\\raw\\clients_exercices.json'\n",
    "data_json = pd.read_json(path_json)"
   ]
  },
  {
   "cell_type": "code",
   "execution_count": 44,
   "id": "429a61f1",
   "metadata": {},
   "outputs": [
    {
     "data": {
      "application/vnd.microsoft.datawrangler.viewer.v0+json": {
       "columns": [
        {
         "name": "index",
         "rawType": "int64",
         "type": "integer"
        },
        {
         "name": "client_id",
         "rawType": "object",
         "type": "string"
        },
        {
         "name": "name",
         "rawType": "object",
         "type": "string"
        },
        {
         "name": "age",
         "rawType": "int64",
         "type": "integer"
        },
        {
         "name": "email",
         "rawType": "object",
         "type": "string"
        }
       ],
       "conversionMethod": "pd.DataFrame",
       "ref": "d63094e7-a724-4d0f-bcba-194374e09c39",
       "rows": [
        [
         "0",
         "1",
         "Alice",
         "31",
         "alice@example.com"
        ],
        [
         "1",
         "2",
         "Bob",
         "22",
         "bob@example.com"
        ],
        [
         "2",
         "3",
         "Charlie",
         "35",
         "charlie@example.com"
        ]
       ],
       "shape": {
        "columns": 4,
        "rows": 3
       }
      },
      "text/html": [
       "<div>\n",
       "<style scoped>\n",
       "    .dataframe tbody tr th:only-of-type {\n",
       "        vertical-align: middle;\n",
       "    }\n",
       "\n",
       "    .dataframe tbody tr th {\n",
       "        vertical-align: top;\n",
       "    }\n",
       "\n",
       "    .dataframe thead th {\n",
       "        text-align: right;\n",
       "    }\n",
       "</style>\n",
       "<table border=\"1\" class=\"dataframe\">\n",
       "  <thead>\n",
       "    <tr style=\"text-align: right;\">\n",
       "      <th></th>\n",
       "      <th>client_id</th>\n",
       "      <th>name</th>\n",
       "      <th>age</th>\n",
       "      <th>email</th>\n",
       "    </tr>\n",
       "  </thead>\n",
       "  <tbody>\n",
       "    <tr>\n",
       "      <th>0</th>\n",
       "      <td>1</td>\n",
       "      <td>Alice</td>\n",
       "      <td>31</td>\n",
       "      <td>alice@example.com</td>\n",
       "    </tr>\n",
       "    <tr>\n",
       "      <th>1</th>\n",
       "      <td>2</td>\n",
       "      <td>Bob</td>\n",
       "      <td>22</td>\n",
       "      <td>bob@example.com</td>\n",
       "    </tr>\n",
       "    <tr>\n",
       "      <th>2</th>\n",
       "      <td>3</td>\n",
       "      <td>Charlie</td>\n",
       "      <td>35</td>\n",
       "      <td>charlie@example.com</td>\n",
       "    </tr>\n",
       "  </tbody>\n",
       "</table>\n",
       "</div>"
      ],
      "text/plain": [
       "  client_id     name  age                email\n",
       "0         1    Alice   31    alice@example.com\n",
       "1         2      Bob   22      bob@example.com\n",
       "2         3  Charlie   35  charlie@example.com"
      ]
     },
     "execution_count": 44,
     "metadata": {},
     "output_type": "execute_result"
    }
   ],
   "source": [
    "cld = pd.json_normalize(data_json['data'])\n",
    "cld"
   ]
  },
  {
   "cell_type": "code",
   "execution_count": null,
   "id": "fcfb92bc",
   "metadata": {},
   "outputs": [],
   "source": []
  }
 ],
 "metadata": {
  "kernelspec": {
   "display_name": "Python [conda env:base] *",
   "language": "python",
   "name": "conda-base-py"
  },
  "language_info": {
   "codemirror_mode": {
    "name": "ipython",
    "version": 3
   },
   "file_extension": ".py",
   "mimetype": "text/x-python",
   "name": "python",
   "nbconvert_exporter": "python",
   "pygments_lexer": "ipython3",
   "version": "3.12.7"
  }
 },
 "nbformat": 4,
 "nbformat_minor": 5
}
