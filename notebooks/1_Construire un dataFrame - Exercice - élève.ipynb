{
 "cells": [
  {
   "cell_type": "markdown",
   "id": "67a7cd77",
   "metadata": {},
   "source": [
    "<h1> Exercice 1 </h1>\n",
    "\n",
    "\n",
    "Vous travaillez dans une entreprise de vente en ligne. Vous avez reçu des données de ventes journalières pour différents produits, réparties sur plusieurs listes. Votre tâche est de consolider ces données dans un DataFrame pour une analyse ultérieure.\n",
    "\n",
    "1) Créez un DataFrame pandas à partir de ces listes\n",
    "2) Définissez la colonnes products en tant qu'index\n",
    "3) affichez les données de la ligne correspondant au prodit \"keyboard\"\n",
    "4) Réinitialisez finalement l'index de votre dataframe"
   ]
  },
  {
   "cell_type": "code",
   "execution_count": null,
   "id": "cf129da5",
   "metadata": {},
   "outputs": [],
   "source": [
    "dates = ['2023-01-01', '2023-01-01', '2023-01-02', '2023-01-02']\n",
    "products = ['Keyboard', 'Mouse', 'Monitor', 'Mouse']\n",
    "quantities = [3, 5, 2, 3]\n",
    "unit_prices = [79.99, 25.50, 199.99, 25.50]"
   ]
  },
  {
   "cell_type": "code",
   "execution_count": null,
   "id": "7d23af27",
   "metadata": {},
   "outputs": [],
   "source": [
    "#1"
   ]
  },
  {
   "cell_type": "code",
   "execution_count": null,
   "id": "ace00d37",
   "metadata": {},
   "outputs": [],
   "source": [
    "#2"
   ]
  },
  {
   "cell_type": "code",
   "execution_count": null,
   "id": "ce6afdc3",
   "metadata": {},
   "outputs": [],
   "source": [
    "#3"
   ]
  },
  {
   "cell_type": "code",
   "execution_count": null,
   "id": "90dd4c83",
   "metadata": {},
   "outputs": [],
   "source": [
    "#4"
   ]
  },
  {
   "cell_type": "markdown",
   "id": "37992060",
   "metadata": {},
   "source": [
    "<h1> Exercice 2 </h1>\n",
    "\n",
    "vous devez importer un fichier CSV \"products_exercices.csv\" contenant des données de produits pour une analyse ultérieure. Le fichier CSV a des spécificités que vous devez prendre en compte lors de l'importation : \n",
    "- Ignorez la première ligne du fichier qui est un commentaire.\n",
    "- Utilisez le caractère séparateur ,.\n",
    "- Les valeurs null sont représentées par la chaîne \"Vide\".\n",
    "- Définissez la colonne product_id comme index du DataFrame.\n",
    "- Importez uniquement les colonnes products, category, et price et ignorez les autres colonnes.\n",
    "\n",
    "Extrait du fichier : \n",
    "\n",
    "//Ceci est un commentaire à ignorer <br>\n",
    "product_id,products,category,price,stock <br>\n",
    "1,Keyboard,Electronics,Vide,45 <br>\n",
    "2,Mouse,Electronics,29.99,150 <br>\n",
    "3,Monitor,Vide,199.99,Vide <br>\n",
    "4,Desk,Furniture,149.99,30"
   ]
  },
  {
   "cell_type": "code",
   "execution_count": null,
   "id": "289efd41",
   "metadata": {},
   "outputs": [],
   "source": []
  },
  {
   "cell_type": "markdown",
   "id": "6346b29e",
   "metadata": {},
   "source": [
    "<h1> Exercice 3 </h1>\n",
    "\n",
    "Vous travaillez pour une entreprise qui reçoit régulièrement des données de clients au format JSON. Les données sont structurées avec un objet parent nommé data, contenant une liste d'objets représentant les informations des clients. Votre tâche est d'importer ces données dans un DataFrame pour analyse et de les exporter en format JSON pour une utilisation ultérieure.\n",
    "\n",
    "1) Importez les données JSON de clients_exercices.json dans un DataFrame pandas. Assurez-vous de cibler l'objet data qui contient les informations nécessaires.\n",
    "2) Exportez le DataFrame résultant en un nouveau fichier JSON."
   ]
  },
  {
   "cell_type": "code",
   "execution_count": null,
   "id": "77e5c9d0",
   "metadata": {},
   "outputs": [],
   "source": [
    "#1"
   ]
  },
  {
   "cell_type": "code",
   "execution_count": null,
   "id": "87367b85",
   "metadata": {},
   "outputs": [],
   "source": [
    "#2"
   ]
  }
 ],
 "metadata": {
  "kernelspec": {
   "display_name": "Python 3 (ipykernel)",
   "language": "python",
   "name": "python3"
  },
  "language_info": {
   "codemirror_mode": {
    "name": "ipython",
    "version": 3
   },
   "file_extension": ".py",
   "mimetype": "text/x-python",
   "name": "python",
   "nbconvert_exporter": "python",
   "pygments_lexer": "ipython3",
   "version": "3.11.5"
  }
 },
 "nbformat": 4,
 "nbformat_minor": 5
}
