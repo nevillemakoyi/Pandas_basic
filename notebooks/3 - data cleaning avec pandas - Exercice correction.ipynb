{
 "cells": [
  {
   "cell_type": "markdown",
   "id": "7375b115",
   "metadata": {},
   "source": [
    "<h1> Exercice 1 </h1>\n",
    "\n",
    "On vous a donné un ensemble de données nécessitant un nettoyage avant l'analyse. \n",
    "\n",
    "Le DataFrame df contient des informations sur des employés, y compris leur catégorie de travail, leur salaire, leur âge, le nombre de visites et leur évaluation.\n",
    "\n",
    "Avec le DataFrame df fourni, effectuez les tâches suivantes de nettoyage de données :\n",
    "\n",
    "1) Affichez les cinq premières et les cinq dernières lignes du DataFrame.\n",
    "2) Obtenez le nombre total de lignes, la taille totale du DataFrame et sa forme.\n",
    "3) Utilisez describe() pour obtenir un résumé statistique du DataFrame.\n",
    "4) Réordonnez les colonnes en plaçant 'Employee' comme première colonne.\n",
    "5) Renommez la colonne 'Category' en 'Department'.\n",
    "6) Affichez les informations générales du DataFrame avec .info().\n",
    "7) Vérifiez les types de données de chaque colonne avec dtypes et convertissez la colonne 'Salary' en type numérique.\n",
    "8) Gérez les valeurs manquantes : identifiez-les, comptez-les, supprimez les lignes avec des valeurs manquantes dans 'Employee', et remplacez les valeurs manquantes dans 'Age' par la médiane.\n",
    "9) Identifiez et supprimez les lignes en double, en gardant la première occurrence.\n",
    "10) Remplacez toutes les occurrences de 'not available' dans 'Salary' par NaN.\n",
    "11) Séparez la colonne 'Date' en deux colonnes distinctes 'Year' et 'Month' en utilisant .split('-').\n",
    "12) Utilisez .apply() pour créer une nouvelle colonne 'Seniority' basée sur l'âge de l'employé : \"Senior\" pour plus de 40 ans, \"Junior\" pour moins.\n",
    "13) Réinitialisez l'index.\n",
    "14) Affichez le résumé final de .info() pour le DataFrame nettoyé."
   ]
  },
  {
   "cell_type": "code",
   "execution_count": null,
   "id": "b7906b43",
   "metadata": {},
   "outputs": [],
   "source": [
    "import pandas as pd\n",
    "import numpy as np\n",
    "\n",
    "df = pd.read_csv('employes.csv')\n",
    "df"
   ]
  },
  {
   "cell_type": "code",
   "execution_count": null,
   "id": "c13b0a6c",
   "metadata": {},
   "outputs": [],
   "source": [
    "#1. Afficher les premières et dernières lignes\n",
    "df.head()"
   ]
  },
  {
   "cell_type": "code",
   "execution_count": null,
   "id": "9120bdd3",
   "metadata": {},
   "outputs": [],
   "source": [
    "df.tail()"
   ]
  },
  {
   "cell_type": "code",
   "execution_count": null,
   "id": "425aa693",
   "metadata": {},
   "outputs": [],
   "source": [
    "# 2. Nombre de lignes, taille et forme\n",
    "print(len(df))\n",
    "print(df.size)\n",
    "print(df.shape)"
   ]
  },
  {
   "cell_type": "code",
   "execution_count": null,
   "id": "57f5d19a",
   "metadata": {},
   "outputs": [],
   "source": [
    "# 3. Résumé statistique\n",
    "print(df.describe())"
   ]
  },
  {
   "cell_type": "code",
   "execution_count": null,
   "id": "7088c740",
   "metadata": {},
   "outputs": [],
   "source": [
    "# 4. Réordonner les colonnes\n",
    "df = df[['Employee', 'Date', 'Category', 'Salary', 'Age', 'Visits', 'Rating']]\n",
    "df.head(3)"
   ]
  },
  {
   "cell_type": "code",
   "execution_count": null,
   "id": "3b28b41e",
   "metadata": {},
   "outputs": [],
   "source": [
    "# 5. Renommer la colonne\n",
    "df.rename(columns={'Category': 'Department'}, inplace=True)\n",
    "df.head(3)"
   ]
  },
  {
   "cell_type": "code",
   "execution_count": null,
   "id": "8adaf9aa",
   "metadata": {},
   "outputs": [],
   "source": [
    "# 6. Informations générales\n",
    "df.info()"
   ]
  },
  {
   "cell_type": "code",
   "execution_count": null,
   "id": "008c4074",
   "metadata": {},
   "outputs": [],
   "source": [
    "#7 Vérifiez les types de données de chaque colonne avec dtypes et convertissez la colonne 'Salary' en type numérique\n",
    "df['Salary'] = pd.to_numeric(df['Salary'])\n",
    "df.dtypes"
   ]
  },
  {
   "cell_type": "code",
   "execution_count": null,
   "id": "e0e2233b",
   "metadata": {},
   "outputs": [],
   "source": [
    "# 8. Gestion des valeurs manquantes\n",
    "print(df.isnull().sum())\n",
    "df.dropna(subset=['Employee'], inplace=True)\n",
    "df['Age'] = df['Age'].fillna(df['Age'].median())\n",
    "\n",
    "df.head()"
   ]
  },
  {
   "cell_type": "code",
   "execution_count": null,
   "id": "1bb3f44d",
   "metadata": {},
   "outputs": [],
   "source": [
    "# 9. Gestion des doublons\n",
    "df.drop_duplicates(keep='first', inplace=True)"
   ]
  },
  {
   "cell_type": "code",
   "execution_count": null,
   "id": "8b55ddab",
   "metadata": {},
   "outputs": [],
   "source": [
    "# 10. Remplacer 'not available' par NaN\n",
    "df['Salary'] = df['Salary'].replace('not available', np.nan, inplace=True)"
   ]
  },
  {
   "cell_type": "code",
   "execution_count": null,
   "id": "95476357",
   "metadata": {},
   "outputs": [],
   "source": [
    "# 11. Séparer la date\n",
    "\n",
    "def split_date_year(date):\n",
    "    if pd.notnull(date):\n",
    "        split_date = str(date).split('-')\n",
    "        return split_date[0]\n",
    "    else:\n",
    "        return np.nan\n",
    "\n",
    "def split_date_month(date):\n",
    "    if pd.notnull(date):\n",
    "        split_date = str(date).split('-')\n",
    "        return split_date[1]\n",
    "    else:\n",
    "        return np.nan\n",
    "\n",
    "df['Year'] = df['Date'].apply(split_date_year)\n",
    "df['Month'] = df['Date'].apply(split_date_month)\n",
    "df"
   ]
  },
  {
   "cell_type": "code",
   "execution_count": null,
   "id": "73957606",
   "metadata": {},
   "outputs": [],
   "source": [
    "# 12. Appliquer une fonction pour créer une nouvelle colonne\n",
    "df['Seniority'] = df['Age'].apply(lambda x: 'Senior' if x > 40 else 'Junior')\n",
    "df.head(3)"
   ]
  },
  {
   "cell_type": "code",
   "execution_count": null,
   "id": "870c7300",
   "metadata": {},
   "outputs": [],
   "source": [
    "# 13. Réinitialiser l'index\n",
    "df.reset_index(inplace=True)\n",
    "\n",
    "df.head(3)"
   ]
  },
  {
   "cell_type": "code",
   "execution_count": null,
   "id": "c51ce0ed",
   "metadata": {},
   "outputs": [],
   "source": [
    "df.info()"
   ]
  }
 ],
 "metadata": {
  "kernelspec": {
   "display_name": "Python 3 (ipykernel)",
   "language": "python",
   "name": "python3"
  },
  "language_info": {
   "codemirror_mode": {
    "name": "ipython",
    "version": 3
   },
   "file_extension": ".py",
   "mimetype": "text/x-python",
   "name": "python",
   "nbconvert_exporter": "python",
   "pygments_lexer": "ipython3",
   "version": "3.11.5"
  }
 },
 "nbformat": 4,
 "nbformat_minor": 5
}
