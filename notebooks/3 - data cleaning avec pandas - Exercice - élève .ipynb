{
 "cells": [
  {
   "cell_type": "markdown",
   "id": "5ac3774a",
   "metadata": {},
   "source": [
    "<h1> Exercice 1 </h1>\n",
    "\n",
    "On vous a donné un ensemble de données nécessitant un nettoyage avant l'analyse. \n",
    "\n",
    "Le DataFrame df contient des informations sur des employés, y compris leur catégorie de travail, leur salaire, leur âge, le nombre de visites et leur évaluation.\n",
    "\n",
    "Avec le DataFrame df fourni, effectuez les tâches suivantes de nettoyage de données :\n",
    "\n",
    "1) Affichez les cinq premières et les cinq dernières lignes du DataFrame.\n",
    "2) Obtenez le nombre total de lignes, la taille totale du DataFrame et sa forme.\n",
    "3) Utilisez describe() pour obtenir un résumé statistique du DataFrame.\n",
    "4) Réordonnez les colonnes en plaçant 'Employee' comme première colonne.\n",
    "5) Renommez la colonne 'Category' en 'Department'.\n",
    "6) Affichez les informations générales du DataFrame avec .info().\n",
    "7) Vérifiez les types de données de chaque colonne avec dtypes et convertissez la colonne 'Salary' en type numérique.\n",
    "8) Gérez les valeurs manquantes : identifiez-les, comptez-les, supprimez les lignes avec des valeurs manquantes dans 'Employee', et remplacez les valeurs manquantes dans 'Age' par la médiane.\n",
    "9) Identifiez et supprimez les lignes en double, en gardant la première occurrence.\n",
    "10) Remplacez toutes les occurrences de 'not available' dans 'Salary' par NaN.\n",
    "11) Séparez la colonne 'Date' en deux colonnes distinctes 'Year' et 'Month' en utilisant .split('-').\n",
    "12) Utilisez .apply() pour créer une nouvelle colonne 'Seniority' basée sur l'âge de l'employé : \"Senior\" pour plus de 40 ans, \"Junior\" pour moins.\n",
    "13) Réinitialisez l'index.\n",
    "14) Affichez le résumé final de .info() pour le DataFrame nettoyé."
   ]
  },
  {
   "cell_type": "code",
   "execution_count": 1,
   "id": "26852012",
   "metadata": {},
   "outputs": [],
   "source": [
    "import pandas as pd\n",
    "from pathlib import Path\n"
   ]
  },
  {
   "cell_type": "code",
   "execution_count": 2,
   "id": "47601365",
   "metadata": {},
   "outputs": [],
   "source": [
    "file_path = Path(r'C:\\Users\\nmako\\Documents\\Data-Science-Projects-Repository\\Pandas_basic\\data\\raw\\3_cleaning_data\\employes.csv')\n",
    "data = pd.read_csv(file_path)\n",
    "df = data.copy()"
   ]
  },
  {
   "cell_type": "code",
   "execution_count": 3,
   "id": "e1e2c9aa",
   "metadata": {},
   "outputs": [
    {
     "name": "stdout",
     "output_type": "stream",
     "text": [
      "         Date Category Employee     Salary   Age  Visits  Rating\n",
      "0  2023-01-01  Finance    Frank   88416.95  40.0      42    3.69\n",
      "1  2023-01-02   Health      Bob  100063.26  40.0      84    4.89\n",
      "2  2023-01-03  Finance    Frank   92193.44  35.0      75    4.51\n",
      "3  2023-01-04  Finance      NaN   88141.82  45.0      68    3.04\n",
      "4  2023-01-05   Health    Alice   79655.84  35.0       6    1.22\n",
      "\n",
      "          Date Category Employee     Salary   Age  Visits  Rating\n",
      "28  2023-01-29      NaN    Frank   86529.38   NaN       0    3.21\n",
      "29  2023-01-30   Health    Heidi   79026.34  45.0      50    1.66\n",
      "30  2023-01-01  Finance    Frank   88416.95  40.0      42    3.69\n",
      "31  2023-01-02   Health      Bob  100063.26  40.0      84    4.89\n",
      "32         NaN  Finance    Frank   92193.44  35.0      75    4.51\n"
     ]
    }
   ],
   "source": [
    "#1. Afficher les premières et dernières lignes\n",
    "print(df.head())\n",
    "print()\n",
    "print(df.tail())"
   ]
  },
  {
   "cell_type": "code",
   "execution_count": 4,
   "id": "4e22102b",
   "metadata": {},
   "outputs": [
    {
     "name": "stdout",
     "output_type": "stream",
     "text": [
      "(33, 7)\n"
     ]
    }
   ],
   "source": [
    "# 2. Nombre de lignes, taille et forme\n",
    "print(df.shape)"
   ]
  },
  {
   "cell_type": "code",
   "execution_count": 5,
   "id": "d650e21f",
   "metadata": {},
   "outputs": [
    {
     "data": {
      "application/vnd.microsoft.datawrangler.viewer.v0+json": {
       "columns": [
        {
         "name": "index",
         "rawType": "object",
         "type": "string"
        },
        {
         "name": "Age",
         "rawType": "float64",
         "type": "float"
        },
        {
         "name": "Visits",
         "rawType": "float64",
         "type": "float"
        },
        {
         "name": "Rating",
         "rawType": "float64",
         "type": "float"
        }
       ],
       "ref": "f9721183-8571-4897-a495-47d2f37656a3",
       "rows": [
        [
         "count",
         "30.0",
         "33.0",
         "33.0"
        ],
        [
         "mean",
         "35.333333333333336",
         "54.72727272727273",
         "3.2915151515151515"
        ],
        [
         "std",
         "6.814453874610599",
         "28.31880197774167",
         "1.2496827627745202"
        ],
        [
         "min",
         "25.0",
         "0.0",
         "1.04"
        ],
        [
         "25%",
         "30.0",
         "41.0",
         "2.44"
        ],
        [
         "50%",
         "35.0",
         "58.0",
         "3.26"
        ],
        [
         "75%",
         "40.0",
         "76.0",
         "4.51"
        ],
        [
         "max",
         "45.0",
         "99.0",
         "4.92"
        ]
       ],
       "shape": {
        "columns": 3,
        "rows": 8
       }
      },
      "text/html": [
       "<div>\n",
       "<style scoped>\n",
       "    .dataframe tbody tr th:only-of-type {\n",
       "        vertical-align: middle;\n",
       "    }\n",
       "\n",
       "    .dataframe tbody tr th {\n",
       "        vertical-align: top;\n",
       "    }\n",
       "\n",
       "    .dataframe thead th {\n",
       "        text-align: right;\n",
       "    }\n",
       "</style>\n",
       "<table border=\"1\" class=\"dataframe\">\n",
       "  <thead>\n",
       "    <tr style=\"text-align: right;\">\n",
       "      <th></th>\n",
       "      <th>Age</th>\n",
       "      <th>Visits</th>\n",
       "      <th>Rating</th>\n",
       "    </tr>\n",
       "  </thead>\n",
       "  <tbody>\n",
       "    <tr>\n",
       "      <th>count</th>\n",
       "      <td>30.000000</td>\n",
       "      <td>33.000000</td>\n",
       "      <td>33.000000</td>\n",
       "    </tr>\n",
       "    <tr>\n",
       "      <th>mean</th>\n",
       "      <td>35.333333</td>\n",
       "      <td>54.727273</td>\n",
       "      <td>3.291515</td>\n",
       "    </tr>\n",
       "    <tr>\n",
       "      <th>std</th>\n",
       "      <td>6.814454</td>\n",
       "      <td>28.318802</td>\n",
       "      <td>1.249683</td>\n",
       "    </tr>\n",
       "    <tr>\n",
       "      <th>min</th>\n",
       "      <td>25.000000</td>\n",
       "      <td>0.000000</td>\n",
       "      <td>1.040000</td>\n",
       "    </tr>\n",
       "    <tr>\n",
       "      <th>25%</th>\n",
       "      <td>30.000000</td>\n",
       "      <td>41.000000</td>\n",
       "      <td>2.440000</td>\n",
       "    </tr>\n",
       "    <tr>\n",
       "      <th>50%</th>\n",
       "      <td>35.000000</td>\n",
       "      <td>58.000000</td>\n",
       "      <td>3.260000</td>\n",
       "    </tr>\n",
       "    <tr>\n",
       "      <th>75%</th>\n",
       "      <td>40.000000</td>\n",
       "      <td>76.000000</td>\n",
       "      <td>4.510000</td>\n",
       "    </tr>\n",
       "    <tr>\n",
       "      <th>max</th>\n",
       "      <td>45.000000</td>\n",
       "      <td>99.000000</td>\n",
       "      <td>4.920000</td>\n",
       "    </tr>\n",
       "  </tbody>\n",
       "</table>\n",
       "</div>"
      ],
      "text/plain": [
       "             Age     Visits     Rating\n",
       "count  30.000000  33.000000  33.000000\n",
       "mean   35.333333  54.727273   3.291515\n",
       "std     6.814454  28.318802   1.249683\n",
       "min    25.000000   0.000000   1.040000\n",
       "25%    30.000000  41.000000   2.440000\n",
       "50%    35.000000  58.000000   3.260000\n",
       "75%    40.000000  76.000000   4.510000\n",
       "max    45.000000  99.000000   4.920000"
      ]
     },
     "execution_count": 5,
     "metadata": {},
     "output_type": "execute_result"
    }
   ],
   "source": [
    "# 3. Résumé statistique\n",
    "(\n",
    "    df\n",
    "    .describe()\n",
    ")"
   ]
  },
  {
   "cell_type": "code",
   "execution_count": 6,
   "id": "f99422d8",
   "metadata": {},
   "outputs": [
    {
     "data": {
      "application/vnd.microsoft.datawrangler.viewer.v0+json": {
       "columns": [
        {
         "name": "index",
         "rawType": "int64",
         "type": "integer"
        },
        {
         "name": "Employee",
         "rawType": "object",
         "type": "unknown"
        },
        {
         "name": "Date",
         "rawType": "object",
         "type": "unknown"
        },
        {
         "name": "Category",
         "rawType": "object",
         "type": "unknown"
        },
        {
         "name": "Salary",
         "rawType": "object",
         "type": "string"
        },
        {
         "name": "Age",
         "rawType": "float64",
         "type": "float"
        },
        {
         "name": "Visits",
         "rawType": "int64",
         "type": "integer"
        },
        {
         "name": "Rating",
         "rawType": "float64",
         "type": "float"
        }
       ],
       "ref": "fb3faa83-97df-49cd-bf41-1d4dbb3edbae",
       "rows": [
        [
         "0",
         "Frank",
         "2023-01-01",
         "Finance",
         "88416.95",
         "40.0",
         "42",
         "3.69"
        ],
        [
         "1",
         "Bob",
         "2023-01-02",
         "Health",
         "100063.26",
         "40.0",
         "84",
         "4.89"
        ],
        [
         "2",
         "Frank",
         "2023-01-03",
         "Finance",
         "92193.44",
         "35.0",
         "75",
         "4.51"
        ],
        [
         "3",
         null,
         "2023-01-04",
         "Finance",
         "88141.82",
         "45.0",
         "68",
         "3.04"
        ],
        [
         "4",
         "Alice",
         "2023-01-05",
         "Health",
         "79655.84",
         "35.0",
         "6",
         "1.22"
        ],
        [
         "5",
         null,
         "2023-01-06",
         "Education",
         "95212.59",
         "25.0",
         "68",
         "2.8"
        ],
        [
         "6",
         null,
         "2023-01-07",
         "Health",
         "80631.1",
         "25.0",
         "47",
         "1.08"
        ],
        [
         "7",
         null,
         "2023-01-08",
         "Health",
         "112424.11",
         "45.0",
         "3",
         "2.77"
        ],
        [
         "8",
         null,
         "2023-01-09",
         null,
         "117456.39",
         null,
         "76",
         "4.92"
        ],
        [
         "9",
         null,
         "2023-01-10",
         null,
         "76840.91",
         null,
         "52",
         "2.44"
        ],
        [
         "10",
         null,
         "2023-01-11",
         "Finance",
         "105420.75",
         "25.0",
         "78",
         "2.92"
        ],
        [
         "11",
         "Alice",
         "2023-01-12",
         "Finance",
         "not available",
         "45.0",
         "15",
         "3.75"
        ],
        [
         "12",
         "Eve",
         "2023-01-13",
         "Finance",
         "not available",
         "30.0",
         "20",
         "4.52"
        ],
        [
         "13",
         "Bob",
         "2023-01-14",
         "Education",
         "not available",
         "45.0",
         "99",
         "4.67"
        ],
        [
         "14",
         "Grace",
         "2023-01-15",
         "Finance",
         "not available",
         "30.0",
         "58",
         "1.87"
        ],
        [
         "15",
         "Frank",
         "2023-01-16",
         "Health",
         "not available",
         "35.0",
         "23",
         "3.26"
        ],
        [
         "16",
         "Frank",
         "2023-01-17",
         "Health",
         "51415.29",
         "35.0",
         "79",
         "4.46"
        ],
        [
         "17",
         null,
         "2023-01-18",
         "Finance",
         "108283.39",
         "25.0",
         "13",
         "3.04"
        ],
        [
         "18",
         "Bob",
         "2023-01-19",
         null,
         "104470.97",
         "30.0",
         "85",
         "4.67"
        ],
        [
         "19",
         "Alice",
         "2023-01-20",
         "Education",
         "110900.85",
         "30.0",
         "48",
         "4.68"
        ],
        [
         "20",
         "Alice",
         "2023-01-21",
         null,
         "118503.28",
         "30.0",
         "49",
         "1.33"
        ],
        [
         "21",
         "Eve",
         "2023-01-22",
         "Finance",
         "105941.1",
         "30.0",
         "69",
         "2.11"
        ],
        [
         "22",
         null,
         "2023-01-23",
         "Health",
         "82303.56",
         "40.0",
         "41",
         "1.04"
        ],
        [
         "23",
         null,
         "2023-01-24",
         "Finance",
         "104637.04",
         "40.0",
         "35",
         "4.37"
        ],
        [
         "24",
         "Bob",
         "2023-01-25",
         null,
         "58279.21",
         "35.0",
         "64",
         "3.59"
        ],
        [
         "25",
         "Grace",
         "2023-01-26",
         "Education",
         "94794.47",
         "40.0",
         "95",
         "4.37"
        ],
        [
         "26",
         "Frank",
         "2023-01-27",
         "Finance",
         "60034.73",
         "25.0",
         "69",
         "2.06"
        ],
        [
         "27",
         "Heidi",
         "2023-01-28",
         "Education",
         "116126.82",
         "40.0",
         "94",
         "2.59"
        ],
        [
         "28",
         "Frank",
         "2023-01-29",
         null,
         "86529.38",
         null,
         "0",
         "3.21"
        ],
        [
         "29",
         "Heidi",
         "2023-01-30",
         "Health",
         "79026.34",
         "45.0",
         "50",
         "1.66"
        ],
        [
         "30",
         "Frank",
         "2023-01-01",
         "Finance",
         "88416.95",
         "40.0",
         "42",
         "3.69"
        ],
        [
         "31",
         "Bob",
         "2023-01-02",
         "Health",
         "100063.26",
         "40.0",
         "84",
         "4.89"
        ],
        [
         "32",
         "Frank",
         null,
         "Finance",
         "92193.44",
         "35.0",
         "75",
         "4.51"
        ]
       ],
       "shape": {
        "columns": 7,
        "rows": 33
       }
      },
      "text/html": [
       "<div>\n",
       "<style scoped>\n",
       "    .dataframe tbody tr th:only-of-type {\n",
       "        vertical-align: middle;\n",
       "    }\n",
       "\n",
       "    .dataframe tbody tr th {\n",
       "        vertical-align: top;\n",
       "    }\n",
       "\n",
       "    .dataframe thead th {\n",
       "        text-align: right;\n",
       "    }\n",
       "</style>\n",
       "<table border=\"1\" class=\"dataframe\">\n",
       "  <thead>\n",
       "    <tr style=\"text-align: right;\">\n",
       "      <th></th>\n",
       "      <th>Employee</th>\n",
       "      <th>Date</th>\n",
       "      <th>Category</th>\n",
       "      <th>Salary</th>\n",
       "      <th>Age</th>\n",
       "      <th>Visits</th>\n",
       "      <th>Rating</th>\n",
       "    </tr>\n",
       "  </thead>\n",
       "  <tbody>\n",
       "    <tr>\n",
       "      <th>0</th>\n",
       "      <td>Frank</td>\n",
       "      <td>2023-01-01</td>\n",
       "      <td>Finance</td>\n",
       "      <td>88416.95</td>\n",
       "      <td>40.0</td>\n",
       "      <td>42</td>\n",
       "      <td>3.69</td>\n",
       "    </tr>\n",
       "    <tr>\n",
       "      <th>1</th>\n",
       "      <td>Bob</td>\n",
       "      <td>2023-01-02</td>\n",
       "      <td>Health</td>\n",
       "      <td>100063.26</td>\n",
       "      <td>40.0</td>\n",
       "      <td>84</td>\n",
       "      <td>4.89</td>\n",
       "    </tr>\n",
       "    <tr>\n",
       "      <th>2</th>\n",
       "      <td>Frank</td>\n",
       "      <td>2023-01-03</td>\n",
       "      <td>Finance</td>\n",
       "      <td>92193.44</td>\n",
       "      <td>35.0</td>\n",
       "      <td>75</td>\n",
       "      <td>4.51</td>\n",
       "    </tr>\n",
       "    <tr>\n",
       "      <th>3</th>\n",
       "      <td>NaN</td>\n",
       "      <td>2023-01-04</td>\n",
       "      <td>Finance</td>\n",
       "      <td>88141.82</td>\n",
       "      <td>45.0</td>\n",
       "      <td>68</td>\n",
       "      <td>3.04</td>\n",
       "    </tr>\n",
       "    <tr>\n",
       "      <th>4</th>\n",
       "      <td>Alice</td>\n",
       "      <td>2023-01-05</td>\n",
       "      <td>Health</td>\n",
       "      <td>79655.84</td>\n",
       "      <td>35.0</td>\n",
       "      <td>6</td>\n",
       "      <td>1.22</td>\n",
       "    </tr>\n",
       "    <tr>\n",
       "      <th>5</th>\n",
       "      <td>NaN</td>\n",
       "      <td>2023-01-06</td>\n",
       "      <td>Education</td>\n",
       "      <td>95212.59</td>\n",
       "      <td>25.0</td>\n",
       "      <td>68</td>\n",
       "      <td>2.80</td>\n",
       "    </tr>\n",
       "    <tr>\n",
       "      <th>6</th>\n",
       "      <td>NaN</td>\n",
       "      <td>2023-01-07</td>\n",
       "      <td>Health</td>\n",
       "      <td>80631.1</td>\n",
       "      <td>25.0</td>\n",
       "      <td>47</td>\n",
       "      <td>1.08</td>\n",
       "    </tr>\n",
       "    <tr>\n",
       "      <th>7</th>\n",
       "      <td>NaN</td>\n",
       "      <td>2023-01-08</td>\n",
       "      <td>Health</td>\n",
       "      <td>112424.11</td>\n",
       "      <td>45.0</td>\n",
       "      <td>3</td>\n",
       "      <td>2.77</td>\n",
       "    </tr>\n",
       "    <tr>\n",
       "      <th>8</th>\n",
       "      <td>NaN</td>\n",
       "      <td>2023-01-09</td>\n",
       "      <td>NaN</td>\n",
       "      <td>117456.39</td>\n",
       "      <td>NaN</td>\n",
       "      <td>76</td>\n",
       "      <td>4.92</td>\n",
       "    </tr>\n",
       "    <tr>\n",
       "      <th>9</th>\n",
       "      <td>NaN</td>\n",
       "      <td>2023-01-10</td>\n",
       "      <td>NaN</td>\n",
       "      <td>76840.91</td>\n",
       "      <td>NaN</td>\n",
       "      <td>52</td>\n",
       "      <td>2.44</td>\n",
       "    </tr>\n",
       "    <tr>\n",
       "      <th>10</th>\n",
       "      <td>NaN</td>\n",
       "      <td>2023-01-11</td>\n",
       "      <td>Finance</td>\n",
       "      <td>105420.75</td>\n",
       "      <td>25.0</td>\n",
       "      <td>78</td>\n",
       "      <td>2.92</td>\n",
       "    </tr>\n",
       "    <tr>\n",
       "      <th>11</th>\n",
       "      <td>Alice</td>\n",
       "      <td>2023-01-12</td>\n",
       "      <td>Finance</td>\n",
       "      <td>not available</td>\n",
       "      <td>45.0</td>\n",
       "      <td>15</td>\n",
       "      <td>3.75</td>\n",
       "    </tr>\n",
       "    <tr>\n",
       "      <th>12</th>\n",
       "      <td>Eve</td>\n",
       "      <td>2023-01-13</td>\n",
       "      <td>Finance</td>\n",
       "      <td>not available</td>\n",
       "      <td>30.0</td>\n",
       "      <td>20</td>\n",
       "      <td>4.52</td>\n",
       "    </tr>\n",
       "    <tr>\n",
       "      <th>13</th>\n",
       "      <td>Bob</td>\n",
       "      <td>2023-01-14</td>\n",
       "      <td>Education</td>\n",
       "      <td>not available</td>\n",
       "      <td>45.0</td>\n",
       "      <td>99</td>\n",
       "      <td>4.67</td>\n",
       "    </tr>\n",
       "    <tr>\n",
       "      <th>14</th>\n",
       "      <td>Grace</td>\n",
       "      <td>2023-01-15</td>\n",
       "      <td>Finance</td>\n",
       "      <td>not available</td>\n",
       "      <td>30.0</td>\n",
       "      <td>58</td>\n",
       "      <td>1.87</td>\n",
       "    </tr>\n",
       "    <tr>\n",
       "      <th>15</th>\n",
       "      <td>Frank</td>\n",
       "      <td>2023-01-16</td>\n",
       "      <td>Health</td>\n",
       "      <td>not available</td>\n",
       "      <td>35.0</td>\n",
       "      <td>23</td>\n",
       "      <td>3.26</td>\n",
       "    </tr>\n",
       "    <tr>\n",
       "      <th>16</th>\n",
       "      <td>Frank</td>\n",
       "      <td>2023-01-17</td>\n",
       "      <td>Health</td>\n",
       "      <td>51415.29</td>\n",
       "      <td>35.0</td>\n",
       "      <td>79</td>\n",
       "      <td>4.46</td>\n",
       "    </tr>\n",
       "    <tr>\n",
       "      <th>17</th>\n",
       "      <td>NaN</td>\n",
       "      <td>2023-01-18</td>\n",
       "      <td>Finance</td>\n",
       "      <td>108283.39</td>\n",
       "      <td>25.0</td>\n",
       "      <td>13</td>\n",
       "      <td>3.04</td>\n",
       "    </tr>\n",
       "    <tr>\n",
       "      <th>18</th>\n",
       "      <td>Bob</td>\n",
       "      <td>2023-01-19</td>\n",
       "      <td>NaN</td>\n",
       "      <td>104470.97</td>\n",
       "      <td>30.0</td>\n",
       "      <td>85</td>\n",
       "      <td>4.67</td>\n",
       "    </tr>\n",
       "    <tr>\n",
       "      <th>19</th>\n",
       "      <td>Alice</td>\n",
       "      <td>2023-01-20</td>\n",
       "      <td>Education</td>\n",
       "      <td>110900.85</td>\n",
       "      <td>30.0</td>\n",
       "      <td>48</td>\n",
       "      <td>4.68</td>\n",
       "    </tr>\n",
       "    <tr>\n",
       "      <th>20</th>\n",
       "      <td>Alice</td>\n",
       "      <td>2023-01-21</td>\n",
       "      <td>NaN</td>\n",
       "      <td>118503.28</td>\n",
       "      <td>30.0</td>\n",
       "      <td>49</td>\n",
       "      <td>1.33</td>\n",
       "    </tr>\n",
       "    <tr>\n",
       "      <th>21</th>\n",
       "      <td>Eve</td>\n",
       "      <td>2023-01-22</td>\n",
       "      <td>Finance</td>\n",
       "      <td>105941.1</td>\n",
       "      <td>30.0</td>\n",
       "      <td>69</td>\n",
       "      <td>2.11</td>\n",
       "    </tr>\n",
       "    <tr>\n",
       "      <th>22</th>\n",
       "      <td>NaN</td>\n",
       "      <td>2023-01-23</td>\n",
       "      <td>Health</td>\n",
       "      <td>82303.56</td>\n",
       "      <td>40.0</td>\n",
       "      <td>41</td>\n",
       "      <td>1.04</td>\n",
       "    </tr>\n",
       "    <tr>\n",
       "      <th>23</th>\n",
       "      <td>NaN</td>\n",
       "      <td>2023-01-24</td>\n",
       "      <td>Finance</td>\n",
       "      <td>104637.04</td>\n",
       "      <td>40.0</td>\n",
       "      <td>35</td>\n",
       "      <td>4.37</td>\n",
       "    </tr>\n",
       "    <tr>\n",
       "      <th>24</th>\n",
       "      <td>Bob</td>\n",
       "      <td>2023-01-25</td>\n",
       "      <td>NaN</td>\n",
       "      <td>58279.21</td>\n",
       "      <td>35.0</td>\n",
       "      <td>64</td>\n",
       "      <td>3.59</td>\n",
       "    </tr>\n",
       "    <tr>\n",
       "      <th>25</th>\n",
       "      <td>Grace</td>\n",
       "      <td>2023-01-26</td>\n",
       "      <td>Education</td>\n",
       "      <td>94794.47</td>\n",
       "      <td>40.0</td>\n",
       "      <td>95</td>\n",
       "      <td>4.37</td>\n",
       "    </tr>\n",
       "    <tr>\n",
       "      <th>26</th>\n",
       "      <td>Frank</td>\n",
       "      <td>2023-01-27</td>\n",
       "      <td>Finance</td>\n",
       "      <td>60034.73</td>\n",
       "      <td>25.0</td>\n",
       "      <td>69</td>\n",
       "      <td>2.06</td>\n",
       "    </tr>\n",
       "    <tr>\n",
       "      <th>27</th>\n",
       "      <td>Heidi</td>\n",
       "      <td>2023-01-28</td>\n",
       "      <td>Education</td>\n",
       "      <td>116126.82</td>\n",
       "      <td>40.0</td>\n",
       "      <td>94</td>\n",
       "      <td>2.59</td>\n",
       "    </tr>\n",
       "    <tr>\n",
       "      <th>28</th>\n",
       "      <td>Frank</td>\n",
       "      <td>2023-01-29</td>\n",
       "      <td>NaN</td>\n",
       "      <td>86529.38</td>\n",
       "      <td>NaN</td>\n",
       "      <td>0</td>\n",
       "      <td>3.21</td>\n",
       "    </tr>\n",
       "    <tr>\n",
       "      <th>29</th>\n",
       "      <td>Heidi</td>\n",
       "      <td>2023-01-30</td>\n",
       "      <td>Health</td>\n",
       "      <td>79026.34</td>\n",
       "      <td>45.0</td>\n",
       "      <td>50</td>\n",
       "      <td>1.66</td>\n",
       "    </tr>\n",
       "    <tr>\n",
       "      <th>30</th>\n",
       "      <td>Frank</td>\n",
       "      <td>2023-01-01</td>\n",
       "      <td>Finance</td>\n",
       "      <td>88416.95</td>\n",
       "      <td>40.0</td>\n",
       "      <td>42</td>\n",
       "      <td>3.69</td>\n",
       "    </tr>\n",
       "    <tr>\n",
       "      <th>31</th>\n",
       "      <td>Bob</td>\n",
       "      <td>2023-01-02</td>\n",
       "      <td>Health</td>\n",
       "      <td>100063.26</td>\n",
       "      <td>40.0</td>\n",
       "      <td>84</td>\n",
       "      <td>4.89</td>\n",
       "    </tr>\n",
       "    <tr>\n",
       "      <th>32</th>\n",
       "      <td>Frank</td>\n",
       "      <td>NaN</td>\n",
       "      <td>Finance</td>\n",
       "      <td>92193.44</td>\n",
       "      <td>35.0</td>\n",
       "      <td>75</td>\n",
       "      <td>4.51</td>\n",
       "    </tr>\n",
       "  </tbody>\n",
       "</table>\n",
       "</div>"
      ],
      "text/plain": [
       "   Employee        Date   Category         Salary   Age  Visits  Rating\n",
       "0     Frank  2023-01-01    Finance       88416.95  40.0      42    3.69\n",
       "1       Bob  2023-01-02     Health      100063.26  40.0      84    4.89\n",
       "2     Frank  2023-01-03    Finance       92193.44  35.0      75    4.51\n",
       "3       NaN  2023-01-04    Finance       88141.82  45.0      68    3.04\n",
       "4     Alice  2023-01-05     Health       79655.84  35.0       6    1.22\n",
       "5       NaN  2023-01-06  Education       95212.59  25.0      68    2.80\n",
       "6       NaN  2023-01-07     Health        80631.1  25.0      47    1.08\n",
       "7       NaN  2023-01-08     Health      112424.11  45.0       3    2.77\n",
       "8       NaN  2023-01-09        NaN      117456.39   NaN      76    4.92\n",
       "9       NaN  2023-01-10        NaN       76840.91   NaN      52    2.44\n",
       "10      NaN  2023-01-11    Finance      105420.75  25.0      78    2.92\n",
       "11    Alice  2023-01-12    Finance  not available  45.0      15    3.75\n",
       "12      Eve  2023-01-13    Finance  not available  30.0      20    4.52\n",
       "13      Bob  2023-01-14  Education  not available  45.0      99    4.67\n",
       "14    Grace  2023-01-15    Finance  not available  30.0      58    1.87\n",
       "15    Frank  2023-01-16     Health  not available  35.0      23    3.26\n",
       "16    Frank  2023-01-17     Health       51415.29  35.0      79    4.46\n",
       "17      NaN  2023-01-18    Finance      108283.39  25.0      13    3.04\n",
       "18      Bob  2023-01-19        NaN      104470.97  30.0      85    4.67\n",
       "19    Alice  2023-01-20  Education      110900.85  30.0      48    4.68\n",
       "20    Alice  2023-01-21        NaN      118503.28  30.0      49    1.33\n",
       "21      Eve  2023-01-22    Finance       105941.1  30.0      69    2.11\n",
       "22      NaN  2023-01-23     Health       82303.56  40.0      41    1.04\n",
       "23      NaN  2023-01-24    Finance      104637.04  40.0      35    4.37\n",
       "24      Bob  2023-01-25        NaN       58279.21  35.0      64    3.59\n",
       "25    Grace  2023-01-26  Education       94794.47  40.0      95    4.37\n",
       "26    Frank  2023-01-27    Finance       60034.73  25.0      69    2.06\n",
       "27    Heidi  2023-01-28  Education      116126.82  40.0      94    2.59\n",
       "28    Frank  2023-01-29        NaN       86529.38   NaN       0    3.21\n",
       "29    Heidi  2023-01-30     Health       79026.34  45.0      50    1.66\n",
       "30    Frank  2023-01-01    Finance       88416.95  40.0      42    3.69\n",
       "31      Bob  2023-01-02     Health      100063.26  40.0      84    4.89\n",
       "32    Frank         NaN    Finance       92193.44  35.0      75    4.51"
      ]
     },
     "execution_count": 6,
     "metadata": {},
     "output_type": "execute_result"
    }
   ],
   "source": [
    "# 4. Réordonner les colonnes\n",
    "df = df[['Employee','Date', 'Category', 'Salary', 'Age', 'Visits', 'Rating']]\n",
    "df"
   ]
  },
  {
   "cell_type": "code",
   "execution_count": 7,
   "id": "b31c5998",
   "metadata": {},
   "outputs": [
    {
     "data": {
      "application/vnd.microsoft.datawrangler.viewer.v0+json": {
       "columns": [
        {
         "name": "index",
         "rawType": "int64",
         "type": "integer"
        },
        {
         "name": "Employee",
         "rawType": "object",
         "type": "unknown"
        },
        {
         "name": "Date",
         "rawType": "object",
         "type": "unknown"
        },
        {
         "name": "Departement",
         "rawType": "object",
         "type": "unknown"
        },
        {
         "name": "Salary",
         "rawType": "object",
         "type": "string"
        },
        {
         "name": "Age",
         "rawType": "float64",
         "type": "float"
        },
        {
         "name": "Visits",
         "rawType": "int64",
         "type": "integer"
        },
        {
         "name": "Rating",
         "rawType": "float64",
         "type": "float"
        }
       ],
       "ref": "c3f7062b-9525-4065-8a27-084919c3066a",
       "rows": [
        [
         "0",
         "Frank",
         "2023-01-01",
         "Finance",
         "88416.95",
         "40.0",
         "42",
         "3.69"
        ],
        [
         "1",
         "Bob",
         "2023-01-02",
         "Health",
         "100063.26",
         "40.0",
         "84",
         "4.89"
        ],
        [
         "2",
         "Frank",
         "2023-01-03",
         "Finance",
         "92193.44",
         "35.0",
         "75",
         "4.51"
        ],
        [
         "3",
         null,
         "2023-01-04",
         "Finance",
         "88141.82",
         "45.0",
         "68",
         "3.04"
        ],
        [
         "4",
         "Alice",
         "2023-01-05",
         "Health",
         "79655.84",
         "35.0",
         "6",
         "1.22"
        ],
        [
         "5",
         null,
         "2023-01-06",
         "Education",
         "95212.59",
         "25.0",
         "68",
         "2.8"
        ],
        [
         "6",
         null,
         "2023-01-07",
         "Health",
         "80631.1",
         "25.0",
         "47",
         "1.08"
        ],
        [
         "7",
         null,
         "2023-01-08",
         "Health",
         "112424.11",
         "45.0",
         "3",
         "2.77"
        ],
        [
         "8",
         null,
         "2023-01-09",
         null,
         "117456.39",
         null,
         "76",
         "4.92"
        ],
        [
         "9",
         null,
         "2023-01-10",
         null,
         "76840.91",
         null,
         "52",
         "2.44"
        ],
        [
         "10",
         null,
         "2023-01-11",
         "Finance",
         "105420.75",
         "25.0",
         "78",
         "2.92"
        ],
        [
         "11",
         "Alice",
         "2023-01-12",
         "Finance",
         "not available",
         "45.0",
         "15",
         "3.75"
        ],
        [
         "12",
         "Eve",
         "2023-01-13",
         "Finance",
         "not available",
         "30.0",
         "20",
         "4.52"
        ],
        [
         "13",
         "Bob",
         "2023-01-14",
         "Education",
         "not available",
         "45.0",
         "99",
         "4.67"
        ],
        [
         "14",
         "Grace",
         "2023-01-15",
         "Finance",
         "not available",
         "30.0",
         "58",
         "1.87"
        ],
        [
         "15",
         "Frank",
         "2023-01-16",
         "Health",
         "not available",
         "35.0",
         "23",
         "3.26"
        ],
        [
         "16",
         "Frank",
         "2023-01-17",
         "Health",
         "51415.29",
         "35.0",
         "79",
         "4.46"
        ],
        [
         "17",
         null,
         "2023-01-18",
         "Finance",
         "108283.39",
         "25.0",
         "13",
         "3.04"
        ],
        [
         "18",
         "Bob",
         "2023-01-19",
         null,
         "104470.97",
         "30.0",
         "85",
         "4.67"
        ],
        [
         "19",
         "Alice",
         "2023-01-20",
         "Education",
         "110900.85",
         "30.0",
         "48",
         "4.68"
        ],
        [
         "20",
         "Alice",
         "2023-01-21",
         null,
         "118503.28",
         "30.0",
         "49",
         "1.33"
        ],
        [
         "21",
         "Eve",
         "2023-01-22",
         "Finance",
         "105941.1",
         "30.0",
         "69",
         "2.11"
        ],
        [
         "22",
         null,
         "2023-01-23",
         "Health",
         "82303.56",
         "40.0",
         "41",
         "1.04"
        ],
        [
         "23",
         null,
         "2023-01-24",
         "Finance",
         "104637.04",
         "40.0",
         "35",
         "4.37"
        ],
        [
         "24",
         "Bob",
         "2023-01-25",
         null,
         "58279.21",
         "35.0",
         "64",
         "3.59"
        ],
        [
         "25",
         "Grace",
         "2023-01-26",
         "Education",
         "94794.47",
         "40.0",
         "95",
         "4.37"
        ],
        [
         "26",
         "Frank",
         "2023-01-27",
         "Finance",
         "60034.73",
         "25.0",
         "69",
         "2.06"
        ],
        [
         "27",
         "Heidi",
         "2023-01-28",
         "Education",
         "116126.82",
         "40.0",
         "94",
         "2.59"
        ],
        [
         "28",
         "Frank",
         "2023-01-29",
         null,
         "86529.38",
         null,
         "0",
         "3.21"
        ],
        [
         "29",
         "Heidi",
         "2023-01-30",
         "Health",
         "79026.34",
         "45.0",
         "50",
         "1.66"
        ],
        [
         "30",
         "Frank",
         "2023-01-01",
         "Finance",
         "88416.95",
         "40.0",
         "42",
         "3.69"
        ],
        [
         "31",
         "Bob",
         "2023-01-02",
         "Health",
         "100063.26",
         "40.0",
         "84",
         "4.89"
        ],
        [
         "32",
         "Frank",
         null,
         "Finance",
         "92193.44",
         "35.0",
         "75",
         "4.51"
        ]
       ],
       "shape": {
        "columns": 7,
        "rows": 33
       }
      },
      "text/html": [
       "<div>\n",
       "<style scoped>\n",
       "    .dataframe tbody tr th:only-of-type {\n",
       "        vertical-align: middle;\n",
       "    }\n",
       "\n",
       "    .dataframe tbody tr th {\n",
       "        vertical-align: top;\n",
       "    }\n",
       "\n",
       "    .dataframe thead th {\n",
       "        text-align: right;\n",
       "    }\n",
       "</style>\n",
       "<table border=\"1\" class=\"dataframe\">\n",
       "  <thead>\n",
       "    <tr style=\"text-align: right;\">\n",
       "      <th></th>\n",
       "      <th>Employee</th>\n",
       "      <th>Date</th>\n",
       "      <th>Departement</th>\n",
       "      <th>Salary</th>\n",
       "      <th>Age</th>\n",
       "      <th>Visits</th>\n",
       "      <th>Rating</th>\n",
       "    </tr>\n",
       "  </thead>\n",
       "  <tbody>\n",
       "    <tr>\n",
       "      <th>0</th>\n",
       "      <td>Frank</td>\n",
       "      <td>2023-01-01</td>\n",
       "      <td>Finance</td>\n",
       "      <td>88416.95</td>\n",
       "      <td>40.0</td>\n",
       "      <td>42</td>\n",
       "      <td>3.69</td>\n",
       "    </tr>\n",
       "    <tr>\n",
       "      <th>1</th>\n",
       "      <td>Bob</td>\n",
       "      <td>2023-01-02</td>\n",
       "      <td>Health</td>\n",
       "      <td>100063.26</td>\n",
       "      <td>40.0</td>\n",
       "      <td>84</td>\n",
       "      <td>4.89</td>\n",
       "    </tr>\n",
       "    <tr>\n",
       "      <th>2</th>\n",
       "      <td>Frank</td>\n",
       "      <td>2023-01-03</td>\n",
       "      <td>Finance</td>\n",
       "      <td>92193.44</td>\n",
       "      <td>35.0</td>\n",
       "      <td>75</td>\n",
       "      <td>4.51</td>\n",
       "    </tr>\n",
       "    <tr>\n",
       "      <th>3</th>\n",
       "      <td>NaN</td>\n",
       "      <td>2023-01-04</td>\n",
       "      <td>Finance</td>\n",
       "      <td>88141.82</td>\n",
       "      <td>45.0</td>\n",
       "      <td>68</td>\n",
       "      <td>3.04</td>\n",
       "    </tr>\n",
       "    <tr>\n",
       "      <th>4</th>\n",
       "      <td>Alice</td>\n",
       "      <td>2023-01-05</td>\n",
       "      <td>Health</td>\n",
       "      <td>79655.84</td>\n",
       "      <td>35.0</td>\n",
       "      <td>6</td>\n",
       "      <td>1.22</td>\n",
       "    </tr>\n",
       "    <tr>\n",
       "      <th>5</th>\n",
       "      <td>NaN</td>\n",
       "      <td>2023-01-06</td>\n",
       "      <td>Education</td>\n",
       "      <td>95212.59</td>\n",
       "      <td>25.0</td>\n",
       "      <td>68</td>\n",
       "      <td>2.80</td>\n",
       "    </tr>\n",
       "    <tr>\n",
       "      <th>6</th>\n",
       "      <td>NaN</td>\n",
       "      <td>2023-01-07</td>\n",
       "      <td>Health</td>\n",
       "      <td>80631.1</td>\n",
       "      <td>25.0</td>\n",
       "      <td>47</td>\n",
       "      <td>1.08</td>\n",
       "    </tr>\n",
       "    <tr>\n",
       "      <th>7</th>\n",
       "      <td>NaN</td>\n",
       "      <td>2023-01-08</td>\n",
       "      <td>Health</td>\n",
       "      <td>112424.11</td>\n",
       "      <td>45.0</td>\n",
       "      <td>3</td>\n",
       "      <td>2.77</td>\n",
       "    </tr>\n",
       "    <tr>\n",
       "      <th>8</th>\n",
       "      <td>NaN</td>\n",
       "      <td>2023-01-09</td>\n",
       "      <td>NaN</td>\n",
       "      <td>117456.39</td>\n",
       "      <td>NaN</td>\n",
       "      <td>76</td>\n",
       "      <td>4.92</td>\n",
       "    </tr>\n",
       "    <tr>\n",
       "      <th>9</th>\n",
       "      <td>NaN</td>\n",
       "      <td>2023-01-10</td>\n",
       "      <td>NaN</td>\n",
       "      <td>76840.91</td>\n",
       "      <td>NaN</td>\n",
       "      <td>52</td>\n",
       "      <td>2.44</td>\n",
       "    </tr>\n",
       "    <tr>\n",
       "      <th>10</th>\n",
       "      <td>NaN</td>\n",
       "      <td>2023-01-11</td>\n",
       "      <td>Finance</td>\n",
       "      <td>105420.75</td>\n",
       "      <td>25.0</td>\n",
       "      <td>78</td>\n",
       "      <td>2.92</td>\n",
       "    </tr>\n",
       "    <tr>\n",
       "      <th>11</th>\n",
       "      <td>Alice</td>\n",
       "      <td>2023-01-12</td>\n",
       "      <td>Finance</td>\n",
       "      <td>not available</td>\n",
       "      <td>45.0</td>\n",
       "      <td>15</td>\n",
       "      <td>3.75</td>\n",
       "    </tr>\n",
       "    <tr>\n",
       "      <th>12</th>\n",
       "      <td>Eve</td>\n",
       "      <td>2023-01-13</td>\n",
       "      <td>Finance</td>\n",
       "      <td>not available</td>\n",
       "      <td>30.0</td>\n",
       "      <td>20</td>\n",
       "      <td>4.52</td>\n",
       "    </tr>\n",
       "    <tr>\n",
       "      <th>13</th>\n",
       "      <td>Bob</td>\n",
       "      <td>2023-01-14</td>\n",
       "      <td>Education</td>\n",
       "      <td>not available</td>\n",
       "      <td>45.0</td>\n",
       "      <td>99</td>\n",
       "      <td>4.67</td>\n",
       "    </tr>\n",
       "    <tr>\n",
       "      <th>14</th>\n",
       "      <td>Grace</td>\n",
       "      <td>2023-01-15</td>\n",
       "      <td>Finance</td>\n",
       "      <td>not available</td>\n",
       "      <td>30.0</td>\n",
       "      <td>58</td>\n",
       "      <td>1.87</td>\n",
       "    </tr>\n",
       "    <tr>\n",
       "      <th>15</th>\n",
       "      <td>Frank</td>\n",
       "      <td>2023-01-16</td>\n",
       "      <td>Health</td>\n",
       "      <td>not available</td>\n",
       "      <td>35.0</td>\n",
       "      <td>23</td>\n",
       "      <td>3.26</td>\n",
       "    </tr>\n",
       "    <tr>\n",
       "      <th>16</th>\n",
       "      <td>Frank</td>\n",
       "      <td>2023-01-17</td>\n",
       "      <td>Health</td>\n",
       "      <td>51415.29</td>\n",
       "      <td>35.0</td>\n",
       "      <td>79</td>\n",
       "      <td>4.46</td>\n",
       "    </tr>\n",
       "    <tr>\n",
       "      <th>17</th>\n",
       "      <td>NaN</td>\n",
       "      <td>2023-01-18</td>\n",
       "      <td>Finance</td>\n",
       "      <td>108283.39</td>\n",
       "      <td>25.0</td>\n",
       "      <td>13</td>\n",
       "      <td>3.04</td>\n",
       "    </tr>\n",
       "    <tr>\n",
       "      <th>18</th>\n",
       "      <td>Bob</td>\n",
       "      <td>2023-01-19</td>\n",
       "      <td>NaN</td>\n",
       "      <td>104470.97</td>\n",
       "      <td>30.0</td>\n",
       "      <td>85</td>\n",
       "      <td>4.67</td>\n",
       "    </tr>\n",
       "    <tr>\n",
       "      <th>19</th>\n",
       "      <td>Alice</td>\n",
       "      <td>2023-01-20</td>\n",
       "      <td>Education</td>\n",
       "      <td>110900.85</td>\n",
       "      <td>30.0</td>\n",
       "      <td>48</td>\n",
       "      <td>4.68</td>\n",
       "    </tr>\n",
       "    <tr>\n",
       "      <th>20</th>\n",
       "      <td>Alice</td>\n",
       "      <td>2023-01-21</td>\n",
       "      <td>NaN</td>\n",
       "      <td>118503.28</td>\n",
       "      <td>30.0</td>\n",
       "      <td>49</td>\n",
       "      <td>1.33</td>\n",
       "    </tr>\n",
       "    <tr>\n",
       "      <th>21</th>\n",
       "      <td>Eve</td>\n",
       "      <td>2023-01-22</td>\n",
       "      <td>Finance</td>\n",
       "      <td>105941.1</td>\n",
       "      <td>30.0</td>\n",
       "      <td>69</td>\n",
       "      <td>2.11</td>\n",
       "    </tr>\n",
       "    <tr>\n",
       "      <th>22</th>\n",
       "      <td>NaN</td>\n",
       "      <td>2023-01-23</td>\n",
       "      <td>Health</td>\n",
       "      <td>82303.56</td>\n",
       "      <td>40.0</td>\n",
       "      <td>41</td>\n",
       "      <td>1.04</td>\n",
       "    </tr>\n",
       "    <tr>\n",
       "      <th>23</th>\n",
       "      <td>NaN</td>\n",
       "      <td>2023-01-24</td>\n",
       "      <td>Finance</td>\n",
       "      <td>104637.04</td>\n",
       "      <td>40.0</td>\n",
       "      <td>35</td>\n",
       "      <td>4.37</td>\n",
       "    </tr>\n",
       "    <tr>\n",
       "      <th>24</th>\n",
       "      <td>Bob</td>\n",
       "      <td>2023-01-25</td>\n",
       "      <td>NaN</td>\n",
       "      <td>58279.21</td>\n",
       "      <td>35.0</td>\n",
       "      <td>64</td>\n",
       "      <td>3.59</td>\n",
       "    </tr>\n",
       "    <tr>\n",
       "      <th>25</th>\n",
       "      <td>Grace</td>\n",
       "      <td>2023-01-26</td>\n",
       "      <td>Education</td>\n",
       "      <td>94794.47</td>\n",
       "      <td>40.0</td>\n",
       "      <td>95</td>\n",
       "      <td>4.37</td>\n",
       "    </tr>\n",
       "    <tr>\n",
       "      <th>26</th>\n",
       "      <td>Frank</td>\n",
       "      <td>2023-01-27</td>\n",
       "      <td>Finance</td>\n",
       "      <td>60034.73</td>\n",
       "      <td>25.0</td>\n",
       "      <td>69</td>\n",
       "      <td>2.06</td>\n",
       "    </tr>\n",
       "    <tr>\n",
       "      <th>27</th>\n",
       "      <td>Heidi</td>\n",
       "      <td>2023-01-28</td>\n",
       "      <td>Education</td>\n",
       "      <td>116126.82</td>\n",
       "      <td>40.0</td>\n",
       "      <td>94</td>\n",
       "      <td>2.59</td>\n",
       "    </tr>\n",
       "    <tr>\n",
       "      <th>28</th>\n",
       "      <td>Frank</td>\n",
       "      <td>2023-01-29</td>\n",
       "      <td>NaN</td>\n",
       "      <td>86529.38</td>\n",
       "      <td>NaN</td>\n",
       "      <td>0</td>\n",
       "      <td>3.21</td>\n",
       "    </tr>\n",
       "    <tr>\n",
       "      <th>29</th>\n",
       "      <td>Heidi</td>\n",
       "      <td>2023-01-30</td>\n",
       "      <td>Health</td>\n",
       "      <td>79026.34</td>\n",
       "      <td>45.0</td>\n",
       "      <td>50</td>\n",
       "      <td>1.66</td>\n",
       "    </tr>\n",
       "    <tr>\n",
       "      <th>30</th>\n",
       "      <td>Frank</td>\n",
       "      <td>2023-01-01</td>\n",
       "      <td>Finance</td>\n",
       "      <td>88416.95</td>\n",
       "      <td>40.0</td>\n",
       "      <td>42</td>\n",
       "      <td>3.69</td>\n",
       "    </tr>\n",
       "    <tr>\n",
       "      <th>31</th>\n",
       "      <td>Bob</td>\n",
       "      <td>2023-01-02</td>\n",
       "      <td>Health</td>\n",
       "      <td>100063.26</td>\n",
       "      <td>40.0</td>\n",
       "      <td>84</td>\n",
       "      <td>4.89</td>\n",
       "    </tr>\n",
       "    <tr>\n",
       "      <th>32</th>\n",
       "      <td>Frank</td>\n",
       "      <td>NaN</td>\n",
       "      <td>Finance</td>\n",
       "      <td>92193.44</td>\n",
       "      <td>35.0</td>\n",
       "      <td>75</td>\n",
       "      <td>4.51</td>\n",
       "    </tr>\n",
       "  </tbody>\n",
       "</table>\n",
       "</div>"
      ],
      "text/plain": [
       "   Employee        Date Departement         Salary   Age  Visits  Rating\n",
       "0     Frank  2023-01-01     Finance       88416.95  40.0      42    3.69\n",
       "1       Bob  2023-01-02      Health      100063.26  40.0      84    4.89\n",
       "2     Frank  2023-01-03     Finance       92193.44  35.0      75    4.51\n",
       "3       NaN  2023-01-04     Finance       88141.82  45.0      68    3.04\n",
       "4     Alice  2023-01-05      Health       79655.84  35.0       6    1.22\n",
       "5       NaN  2023-01-06   Education       95212.59  25.0      68    2.80\n",
       "6       NaN  2023-01-07      Health        80631.1  25.0      47    1.08\n",
       "7       NaN  2023-01-08      Health      112424.11  45.0       3    2.77\n",
       "8       NaN  2023-01-09         NaN      117456.39   NaN      76    4.92\n",
       "9       NaN  2023-01-10         NaN       76840.91   NaN      52    2.44\n",
       "10      NaN  2023-01-11     Finance      105420.75  25.0      78    2.92\n",
       "11    Alice  2023-01-12     Finance  not available  45.0      15    3.75\n",
       "12      Eve  2023-01-13     Finance  not available  30.0      20    4.52\n",
       "13      Bob  2023-01-14   Education  not available  45.0      99    4.67\n",
       "14    Grace  2023-01-15     Finance  not available  30.0      58    1.87\n",
       "15    Frank  2023-01-16      Health  not available  35.0      23    3.26\n",
       "16    Frank  2023-01-17      Health       51415.29  35.0      79    4.46\n",
       "17      NaN  2023-01-18     Finance      108283.39  25.0      13    3.04\n",
       "18      Bob  2023-01-19         NaN      104470.97  30.0      85    4.67\n",
       "19    Alice  2023-01-20   Education      110900.85  30.0      48    4.68\n",
       "20    Alice  2023-01-21         NaN      118503.28  30.0      49    1.33\n",
       "21      Eve  2023-01-22     Finance       105941.1  30.0      69    2.11\n",
       "22      NaN  2023-01-23      Health       82303.56  40.0      41    1.04\n",
       "23      NaN  2023-01-24     Finance      104637.04  40.0      35    4.37\n",
       "24      Bob  2023-01-25         NaN       58279.21  35.0      64    3.59\n",
       "25    Grace  2023-01-26   Education       94794.47  40.0      95    4.37\n",
       "26    Frank  2023-01-27     Finance       60034.73  25.0      69    2.06\n",
       "27    Heidi  2023-01-28   Education      116126.82  40.0      94    2.59\n",
       "28    Frank  2023-01-29         NaN       86529.38   NaN       0    3.21\n",
       "29    Heidi  2023-01-30      Health       79026.34  45.0      50    1.66\n",
       "30    Frank  2023-01-01     Finance       88416.95  40.0      42    3.69\n",
       "31      Bob  2023-01-02      Health      100063.26  40.0      84    4.89\n",
       "32    Frank         NaN     Finance       92193.44  35.0      75    4.51"
      ]
     },
     "execution_count": 7,
     "metadata": {},
     "output_type": "execute_result"
    }
   ],
   "source": [
    "# 5. Renommer la colonne\n",
    "col_name = {\n",
    "    'Category' : 'Departement'\n",
    "}\n",
    "(\n",
    "    df.rename(columns=col_name, inplace=True)\n",
    "    \n",
    ")\n",
    "df"
   ]
  },
  {
   "cell_type": "code",
   "execution_count": 8,
   "id": "452cbd67",
   "metadata": {},
   "outputs": [
    {
     "name": "stdout",
     "output_type": "stream",
     "text": [
      "<class 'pandas.core.frame.DataFrame'>\n",
      "RangeIndex: 33 entries, 0 to 32\n",
      "Data columns (total 7 columns):\n",
      " #   Column       Non-Null Count  Dtype  \n",
      "---  ------       --------------  -----  \n",
      " 0   Employee     23 non-null     object \n",
      " 1   Date         32 non-null     object \n",
      " 2   Departement  27 non-null     object \n",
      " 3   Salary       33 non-null     object \n",
      " 4   Age          30 non-null     float64\n",
      " 5   Visits       33 non-null     int64  \n",
      " 6   Rating       33 non-null     float64\n",
      "dtypes: float64(2), int64(1), object(4)\n",
      "memory usage: 1.9+ KB\n"
     ]
    }
   ],
   "source": [
    "# 6. Informations générales\n",
    "df.info()"
   ]
  },
  {
   "cell_type": "code",
   "execution_count": 12,
   "id": "4725a1bc",
   "metadata": {},
   "outputs": [],
   "source": [
    "# 11. Séparer la date"
   ]
  },
  {
   "cell_type": "code",
   "execution_count": 13,
   "id": "dbcaa738",
   "metadata": {},
   "outputs": [],
   "source": [
    "# 12. Appliquer une fonction pour créer une nouvelle colonne"
   ]
  },
  {
   "cell_type": "code",
   "execution_count": 14,
   "id": "f111c46d",
   "metadata": {},
   "outputs": [],
   "source": [
    "# 13. Réinitialiser l'index"
   ]
  },
  {
   "cell_type": "code",
   "execution_count": 15,
   "id": "177752b7",
   "metadata": {},
   "outputs": [],
   "source": [
    "#14 info"
   ]
  },
  {
   "cell_type": "code",
   "execution_count": 16,
   "id": "81ac1ae4",
   "metadata": {},
   "outputs": [
    {
     "data": {
      "application/vnd.microsoft.datawrangler.viewer.v0+json": {
       "columns": [
        {
         "name": "index",
         "rawType": "int64",
         "type": "integer"
        },
        {
         "name": "Employee",
         "rawType": "object",
         "type": "unknown"
        },
        {
         "name": "Date",
         "rawType": "object",
         "type": "unknown"
        },
        {
         "name": "Departement",
         "rawType": "object",
         "type": "unknown"
        },
        {
         "name": "Salary",
         "rawType": "object",
         "type": "string"
        },
        {
         "name": "Age",
         "rawType": "float64",
         "type": "float"
        },
        {
         "name": "Visits",
         "rawType": "int64",
         "type": "integer"
        },
        {
         "name": "Rating",
         "rawType": "float64",
         "type": "float"
        }
       ],
       "ref": "3800b514-22ac-4dfc-88a9-35df5c59eece",
       "rows": [
        [
         "0",
         "Frank",
         "2023-01-01",
         "Finance",
         "88416.95",
         "40.0",
         "42",
         "3.69"
        ],
        [
         "1",
         "Bob",
         "2023-01-02",
         "Health",
         "100063.26",
         "40.0",
         "84",
         "4.89"
        ],
        [
         "2",
         "Frank",
         "2023-01-03",
         "Finance",
         "92193.44",
         "35.0",
         "75",
         "4.51"
        ],
        [
         "3",
         null,
         "2023-01-04",
         "Finance",
         "88141.82",
         "45.0",
         "68",
         "3.04"
        ],
        [
         "4",
         "Alice",
         "2023-01-05",
         "Health",
         "79655.84",
         "35.0",
         "6",
         "1.22"
        ],
        [
         "5",
         null,
         "2023-01-06",
         "Education",
         "95212.59",
         "25.0",
         "68",
         "2.8"
        ],
        [
         "6",
         null,
         "2023-01-07",
         "Health",
         "80631.1",
         "25.0",
         "47",
         "1.08"
        ],
        [
         "7",
         null,
         "2023-01-08",
         "Health",
         "112424.11",
         "45.0",
         "3",
         "2.77"
        ],
        [
         "8",
         null,
         "2023-01-09",
         null,
         "117456.39",
         null,
         "76",
         "4.92"
        ],
        [
         "9",
         null,
         "2023-01-10",
         null,
         "76840.91",
         null,
         "52",
         "2.44"
        ],
        [
         "10",
         null,
         "2023-01-11",
         "Finance",
         "105420.75",
         "25.0",
         "78",
         "2.92"
        ],
        [
         "11",
         "Alice",
         "2023-01-12",
         "Finance",
         "not available",
         "45.0",
         "15",
         "3.75"
        ],
        [
         "12",
         "Eve",
         "2023-01-13",
         "Finance",
         "not available",
         "30.0",
         "20",
         "4.52"
        ],
        [
         "13",
         "Bob",
         "2023-01-14",
         "Education",
         "not available",
         "45.0",
         "99",
         "4.67"
        ],
        [
         "14",
         "Grace",
         "2023-01-15",
         "Finance",
         "not available",
         "30.0",
         "58",
         "1.87"
        ],
        [
         "15",
         "Frank",
         "2023-01-16",
         "Health",
         "not available",
         "35.0",
         "23",
         "3.26"
        ],
        [
         "16",
         "Frank",
         "2023-01-17",
         "Health",
         "51415.29",
         "35.0",
         "79",
         "4.46"
        ],
        [
         "17",
         null,
         "2023-01-18",
         "Finance",
         "108283.39",
         "25.0",
         "13",
         "3.04"
        ],
        [
         "18",
         "Bob",
         "2023-01-19",
         null,
         "104470.97",
         "30.0",
         "85",
         "4.67"
        ],
        [
         "19",
         "Alice",
         "2023-01-20",
         "Education",
         "110900.85",
         "30.0",
         "48",
         "4.68"
        ],
        [
         "20",
         "Alice",
         "2023-01-21",
         null,
         "118503.28",
         "30.0",
         "49",
         "1.33"
        ],
        [
         "21",
         "Eve",
         "2023-01-22",
         "Finance",
         "105941.1",
         "30.0",
         "69",
         "2.11"
        ],
        [
         "22",
         null,
         "2023-01-23",
         "Health",
         "82303.56",
         "40.0",
         "41",
         "1.04"
        ],
        [
         "23",
         null,
         "2023-01-24",
         "Finance",
         "104637.04",
         "40.0",
         "35",
         "4.37"
        ],
        [
         "24",
         "Bob",
         "2023-01-25",
         null,
         "58279.21",
         "35.0",
         "64",
         "3.59"
        ],
        [
         "25",
         "Grace",
         "2023-01-26",
         "Education",
         "94794.47",
         "40.0",
         "95",
         "4.37"
        ],
        [
         "26",
         "Frank",
         "2023-01-27",
         "Finance",
         "60034.73",
         "25.0",
         "69",
         "2.06"
        ],
        [
         "27",
         "Heidi",
         "2023-01-28",
         "Education",
         "116126.82",
         "40.0",
         "94",
         "2.59"
        ],
        [
         "28",
         "Frank",
         "2023-01-29",
         null,
         "86529.38",
         null,
         "0",
         "3.21"
        ],
        [
         "29",
         "Heidi",
         "2023-01-30",
         "Health",
         "79026.34",
         "45.0",
         "50",
         "1.66"
        ],
        [
         "30",
         "Frank",
         "2023-01-01",
         "Finance",
         "88416.95",
         "40.0",
         "42",
         "3.69"
        ],
        [
         "31",
         "Bob",
         "2023-01-02",
         "Health",
         "100063.26",
         "40.0",
         "84",
         "4.89"
        ],
        [
         "32",
         "Frank",
         null,
         "Finance",
         "92193.44",
         "35.0",
         "75",
         "4.51"
        ]
       ],
       "shape": {
        "columns": 7,
        "rows": 33
       }
      },
      "text/html": [
       "<div>\n",
       "<style scoped>\n",
       "    .dataframe tbody tr th:only-of-type {\n",
       "        vertical-align: middle;\n",
       "    }\n",
       "\n",
       "    .dataframe tbody tr th {\n",
       "        vertical-align: top;\n",
       "    }\n",
       "\n",
       "    .dataframe thead th {\n",
       "        text-align: right;\n",
       "    }\n",
       "</style>\n",
       "<table border=\"1\" class=\"dataframe\">\n",
       "  <thead>\n",
       "    <tr style=\"text-align: right;\">\n",
       "      <th></th>\n",
       "      <th>Employee</th>\n",
       "      <th>Date</th>\n",
       "      <th>Departement</th>\n",
       "      <th>Salary</th>\n",
       "      <th>Age</th>\n",
       "      <th>Visits</th>\n",
       "      <th>Rating</th>\n",
       "    </tr>\n",
       "  </thead>\n",
       "  <tbody>\n",
       "    <tr>\n",
       "      <th>0</th>\n",
       "      <td>Frank</td>\n",
       "      <td>2023-01-01</td>\n",
       "      <td>Finance</td>\n",
       "      <td>88416.95</td>\n",
       "      <td>40.0</td>\n",
       "      <td>42</td>\n",
       "      <td>3.69</td>\n",
       "    </tr>\n",
       "    <tr>\n",
       "      <th>1</th>\n",
       "      <td>Bob</td>\n",
       "      <td>2023-01-02</td>\n",
       "      <td>Health</td>\n",
       "      <td>100063.26</td>\n",
       "      <td>40.0</td>\n",
       "      <td>84</td>\n",
       "      <td>4.89</td>\n",
       "    </tr>\n",
       "    <tr>\n",
       "      <th>2</th>\n",
       "      <td>Frank</td>\n",
       "      <td>2023-01-03</td>\n",
       "      <td>Finance</td>\n",
       "      <td>92193.44</td>\n",
       "      <td>35.0</td>\n",
       "      <td>75</td>\n",
       "      <td>4.51</td>\n",
       "    </tr>\n",
       "    <tr>\n",
       "      <th>3</th>\n",
       "      <td>NaN</td>\n",
       "      <td>2023-01-04</td>\n",
       "      <td>Finance</td>\n",
       "      <td>88141.82</td>\n",
       "      <td>45.0</td>\n",
       "      <td>68</td>\n",
       "      <td>3.04</td>\n",
       "    </tr>\n",
       "    <tr>\n",
       "      <th>4</th>\n",
       "      <td>Alice</td>\n",
       "      <td>2023-01-05</td>\n",
       "      <td>Health</td>\n",
       "      <td>79655.84</td>\n",
       "      <td>35.0</td>\n",
       "      <td>6</td>\n",
       "      <td>1.22</td>\n",
       "    </tr>\n",
       "    <tr>\n",
       "      <th>5</th>\n",
       "      <td>NaN</td>\n",
       "      <td>2023-01-06</td>\n",
       "      <td>Education</td>\n",
       "      <td>95212.59</td>\n",
       "      <td>25.0</td>\n",
       "      <td>68</td>\n",
       "      <td>2.80</td>\n",
       "    </tr>\n",
       "    <tr>\n",
       "      <th>6</th>\n",
       "      <td>NaN</td>\n",
       "      <td>2023-01-07</td>\n",
       "      <td>Health</td>\n",
       "      <td>80631.1</td>\n",
       "      <td>25.0</td>\n",
       "      <td>47</td>\n",
       "      <td>1.08</td>\n",
       "    </tr>\n",
       "    <tr>\n",
       "      <th>7</th>\n",
       "      <td>NaN</td>\n",
       "      <td>2023-01-08</td>\n",
       "      <td>Health</td>\n",
       "      <td>112424.11</td>\n",
       "      <td>45.0</td>\n",
       "      <td>3</td>\n",
       "      <td>2.77</td>\n",
       "    </tr>\n",
       "    <tr>\n",
       "      <th>8</th>\n",
       "      <td>NaN</td>\n",
       "      <td>2023-01-09</td>\n",
       "      <td>NaN</td>\n",
       "      <td>117456.39</td>\n",
       "      <td>NaN</td>\n",
       "      <td>76</td>\n",
       "      <td>4.92</td>\n",
       "    </tr>\n",
       "    <tr>\n",
       "      <th>9</th>\n",
       "      <td>NaN</td>\n",
       "      <td>2023-01-10</td>\n",
       "      <td>NaN</td>\n",
       "      <td>76840.91</td>\n",
       "      <td>NaN</td>\n",
       "      <td>52</td>\n",
       "      <td>2.44</td>\n",
       "    </tr>\n",
       "    <tr>\n",
       "      <th>10</th>\n",
       "      <td>NaN</td>\n",
       "      <td>2023-01-11</td>\n",
       "      <td>Finance</td>\n",
       "      <td>105420.75</td>\n",
       "      <td>25.0</td>\n",
       "      <td>78</td>\n",
       "      <td>2.92</td>\n",
       "    </tr>\n",
       "    <tr>\n",
       "      <th>11</th>\n",
       "      <td>Alice</td>\n",
       "      <td>2023-01-12</td>\n",
       "      <td>Finance</td>\n",
       "      <td>not available</td>\n",
       "      <td>45.0</td>\n",
       "      <td>15</td>\n",
       "      <td>3.75</td>\n",
       "    </tr>\n",
       "    <tr>\n",
       "      <th>12</th>\n",
       "      <td>Eve</td>\n",
       "      <td>2023-01-13</td>\n",
       "      <td>Finance</td>\n",
       "      <td>not available</td>\n",
       "      <td>30.0</td>\n",
       "      <td>20</td>\n",
       "      <td>4.52</td>\n",
       "    </tr>\n",
       "    <tr>\n",
       "      <th>13</th>\n",
       "      <td>Bob</td>\n",
       "      <td>2023-01-14</td>\n",
       "      <td>Education</td>\n",
       "      <td>not available</td>\n",
       "      <td>45.0</td>\n",
       "      <td>99</td>\n",
       "      <td>4.67</td>\n",
       "    </tr>\n",
       "    <tr>\n",
       "      <th>14</th>\n",
       "      <td>Grace</td>\n",
       "      <td>2023-01-15</td>\n",
       "      <td>Finance</td>\n",
       "      <td>not available</td>\n",
       "      <td>30.0</td>\n",
       "      <td>58</td>\n",
       "      <td>1.87</td>\n",
       "    </tr>\n",
       "    <tr>\n",
       "      <th>15</th>\n",
       "      <td>Frank</td>\n",
       "      <td>2023-01-16</td>\n",
       "      <td>Health</td>\n",
       "      <td>not available</td>\n",
       "      <td>35.0</td>\n",
       "      <td>23</td>\n",
       "      <td>3.26</td>\n",
       "    </tr>\n",
       "    <tr>\n",
       "      <th>16</th>\n",
       "      <td>Frank</td>\n",
       "      <td>2023-01-17</td>\n",
       "      <td>Health</td>\n",
       "      <td>51415.29</td>\n",
       "      <td>35.0</td>\n",
       "      <td>79</td>\n",
       "      <td>4.46</td>\n",
       "    </tr>\n",
       "    <tr>\n",
       "      <th>17</th>\n",
       "      <td>NaN</td>\n",
       "      <td>2023-01-18</td>\n",
       "      <td>Finance</td>\n",
       "      <td>108283.39</td>\n",
       "      <td>25.0</td>\n",
       "      <td>13</td>\n",
       "      <td>3.04</td>\n",
       "    </tr>\n",
       "    <tr>\n",
       "      <th>18</th>\n",
       "      <td>Bob</td>\n",
       "      <td>2023-01-19</td>\n",
       "      <td>NaN</td>\n",
       "      <td>104470.97</td>\n",
       "      <td>30.0</td>\n",
       "      <td>85</td>\n",
       "      <td>4.67</td>\n",
       "    </tr>\n",
       "    <tr>\n",
       "      <th>19</th>\n",
       "      <td>Alice</td>\n",
       "      <td>2023-01-20</td>\n",
       "      <td>Education</td>\n",
       "      <td>110900.85</td>\n",
       "      <td>30.0</td>\n",
       "      <td>48</td>\n",
       "      <td>4.68</td>\n",
       "    </tr>\n",
       "    <tr>\n",
       "      <th>20</th>\n",
       "      <td>Alice</td>\n",
       "      <td>2023-01-21</td>\n",
       "      <td>NaN</td>\n",
       "      <td>118503.28</td>\n",
       "      <td>30.0</td>\n",
       "      <td>49</td>\n",
       "      <td>1.33</td>\n",
       "    </tr>\n",
       "    <tr>\n",
       "      <th>21</th>\n",
       "      <td>Eve</td>\n",
       "      <td>2023-01-22</td>\n",
       "      <td>Finance</td>\n",
       "      <td>105941.1</td>\n",
       "      <td>30.0</td>\n",
       "      <td>69</td>\n",
       "      <td>2.11</td>\n",
       "    </tr>\n",
       "    <tr>\n",
       "      <th>22</th>\n",
       "      <td>NaN</td>\n",
       "      <td>2023-01-23</td>\n",
       "      <td>Health</td>\n",
       "      <td>82303.56</td>\n",
       "      <td>40.0</td>\n",
       "      <td>41</td>\n",
       "      <td>1.04</td>\n",
       "    </tr>\n",
       "    <tr>\n",
       "      <th>23</th>\n",
       "      <td>NaN</td>\n",
       "      <td>2023-01-24</td>\n",
       "      <td>Finance</td>\n",
       "      <td>104637.04</td>\n",
       "      <td>40.0</td>\n",
       "      <td>35</td>\n",
       "      <td>4.37</td>\n",
       "    </tr>\n",
       "    <tr>\n",
       "      <th>24</th>\n",
       "      <td>Bob</td>\n",
       "      <td>2023-01-25</td>\n",
       "      <td>NaN</td>\n",
       "      <td>58279.21</td>\n",
       "      <td>35.0</td>\n",
       "      <td>64</td>\n",
       "      <td>3.59</td>\n",
       "    </tr>\n",
       "    <tr>\n",
       "      <th>25</th>\n",
       "      <td>Grace</td>\n",
       "      <td>2023-01-26</td>\n",
       "      <td>Education</td>\n",
       "      <td>94794.47</td>\n",
       "      <td>40.0</td>\n",
       "      <td>95</td>\n",
       "      <td>4.37</td>\n",
       "    </tr>\n",
       "    <tr>\n",
       "      <th>26</th>\n",
       "      <td>Frank</td>\n",
       "      <td>2023-01-27</td>\n",
       "      <td>Finance</td>\n",
       "      <td>60034.73</td>\n",
       "      <td>25.0</td>\n",
       "      <td>69</td>\n",
       "      <td>2.06</td>\n",
       "    </tr>\n",
       "    <tr>\n",
       "      <th>27</th>\n",
       "      <td>Heidi</td>\n",
       "      <td>2023-01-28</td>\n",
       "      <td>Education</td>\n",
       "      <td>116126.82</td>\n",
       "      <td>40.0</td>\n",
       "      <td>94</td>\n",
       "      <td>2.59</td>\n",
       "    </tr>\n",
       "    <tr>\n",
       "      <th>28</th>\n",
       "      <td>Frank</td>\n",
       "      <td>2023-01-29</td>\n",
       "      <td>NaN</td>\n",
       "      <td>86529.38</td>\n",
       "      <td>NaN</td>\n",
       "      <td>0</td>\n",
       "      <td>3.21</td>\n",
       "    </tr>\n",
       "    <tr>\n",
       "      <th>29</th>\n",
       "      <td>Heidi</td>\n",
       "      <td>2023-01-30</td>\n",
       "      <td>Health</td>\n",
       "      <td>79026.34</td>\n",
       "      <td>45.0</td>\n",
       "      <td>50</td>\n",
       "      <td>1.66</td>\n",
       "    </tr>\n",
       "    <tr>\n",
       "      <th>30</th>\n",
       "      <td>Frank</td>\n",
       "      <td>2023-01-01</td>\n",
       "      <td>Finance</td>\n",
       "      <td>88416.95</td>\n",
       "      <td>40.0</td>\n",
       "      <td>42</td>\n",
       "      <td>3.69</td>\n",
       "    </tr>\n",
       "    <tr>\n",
       "      <th>31</th>\n",
       "      <td>Bob</td>\n",
       "      <td>2023-01-02</td>\n",
       "      <td>Health</td>\n",
       "      <td>100063.26</td>\n",
       "      <td>40.0</td>\n",
       "      <td>84</td>\n",
       "      <td>4.89</td>\n",
       "    </tr>\n",
       "    <tr>\n",
       "      <th>32</th>\n",
       "      <td>Frank</td>\n",
       "      <td>NaN</td>\n",
       "      <td>Finance</td>\n",
       "      <td>92193.44</td>\n",
       "      <td>35.0</td>\n",
       "      <td>75</td>\n",
       "      <td>4.51</td>\n",
       "    </tr>\n",
       "  </tbody>\n",
       "</table>\n",
       "</div>"
      ],
      "text/plain": [
       "   Employee        Date Departement         Salary   Age  Visits  Rating\n",
       "0     Frank  2023-01-01     Finance       88416.95  40.0      42    3.69\n",
       "1       Bob  2023-01-02      Health      100063.26  40.0      84    4.89\n",
       "2     Frank  2023-01-03     Finance       92193.44  35.0      75    4.51\n",
       "3       NaN  2023-01-04     Finance       88141.82  45.0      68    3.04\n",
       "4     Alice  2023-01-05      Health       79655.84  35.0       6    1.22\n",
       "5       NaN  2023-01-06   Education       95212.59  25.0      68    2.80\n",
       "6       NaN  2023-01-07      Health        80631.1  25.0      47    1.08\n",
       "7       NaN  2023-01-08      Health      112424.11  45.0       3    2.77\n",
       "8       NaN  2023-01-09         NaN      117456.39   NaN      76    4.92\n",
       "9       NaN  2023-01-10         NaN       76840.91   NaN      52    2.44\n",
       "10      NaN  2023-01-11     Finance      105420.75  25.0      78    2.92\n",
       "11    Alice  2023-01-12     Finance  not available  45.0      15    3.75\n",
       "12      Eve  2023-01-13     Finance  not available  30.0      20    4.52\n",
       "13      Bob  2023-01-14   Education  not available  45.0      99    4.67\n",
       "14    Grace  2023-01-15     Finance  not available  30.0      58    1.87\n",
       "15    Frank  2023-01-16      Health  not available  35.0      23    3.26\n",
       "16    Frank  2023-01-17      Health       51415.29  35.0      79    4.46\n",
       "17      NaN  2023-01-18     Finance      108283.39  25.0      13    3.04\n",
       "18      Bob  2023-01-19         NaN      104470.97  30.0      85    4.67\n",
       "19    Alice  2023-01-20   Education      110900.85  30.0      48    4.68\n",
       "20    Alice  2023-01-21         NaN      118503.28  30.0      49    1.33\n",
       "21      Eve  2023-01-22     Finance       105941.1  30.0      69    2.11\n",
       "22      NaN  2023-01-23      Health       82303.56  40.0      41    1.04\n",
       "23      NaN  2023-01-24     Finance      104637.04  40.0      35    4.37\n",
       "24      Bob  2023-01-25         NaN       58279.21  35.0      64    3.59\n",
       "25    Grace  2023-01-26   Education       94794.47  40.0      95    4.37\n",
       "26    Frank  2023-01-27     Finance       60034.73  25.0      69    2.06\n",
       "27    Heidi  2023-01-28   Education      116126.82  40.0      94    2.59\n",
       "28    Frank  2023-01-29         NaN       86529.38   NaN       0    3.21\n",
       "29    Heidi  2023-01-30      Health       79026.34  45.0      50    1.66\n",
       "30    Frank  2023-01-01     Finance       88416.95  40.0      42    3.69\n",
       "31      Bob  2023-01-02      Health      100063.26  40.0      84    4.89\n",
       "32    Frank         NaN     Finance       92193.44  35.0      75    4.51"
      ]
     },
     "execution_count": 16,
     "metadata": {},
     "output_type": "execute_result"
    }
   ],
   "source": [
    "df"
   ]
  },
  {
   "cell_type": "code",
   "execution_count": 46,
   "id": "3b59fd07",
   "metadata": {},
   "outputs": [
    {
     "data": {
      "application/vnd.microsoft.datawrangler.viewer.v0+json": {
       "columns": [
        {
         "name": "index",
         "rawType": "object",
         "type": "string"
        },
        {
         "name": "0",
         "rawType": "int64",
         "type": "integer"
        }
       ],
       "ref": "48f777ef-797c-4b8d-8c33-8223a5e33e9b",
       "rows": [
        [
         "Employee",
         "10"
        ],
        [
         "Date",
         "1"
        ],
        [
         "Departement",
         "6"
        ],
        [
         "Salary",
         "0"
        ],
        [
         "Age",
         "3"
        ],
        [
         "Visits",
         "0"
        ],
        [
         "Rating",
         "0"
        ]
       ],
       "shape": {
        "columns": 1,
        "rows": 7
       }
      },
      "text/plain": [
       "Employee       10\n",
       "Date            1\n",
       "Departement     6\n",
       "Salary          0\n",
       "Age             3\n",
       "Visits          0\n",
       "Rating          0\n",
       "dtype: int64"
      ]
     },
     "execution_count": 46,
     "metadata": {},
     "output_type": "execute_result"
    }
   ],
   "source": [
    "df.isna().sum()"
   ]
  },
  {
   "cell_type": "code",
   "execution_count": 47,
   "id": "be915d9b",
   "metadata": {},
   "outputs": [
    {
     "data": {
      "application/vnd.microsoft.datawrangler.viewer.v0+json": {
       "columns": [
        {
         "name": "index",
         "rawType": "int64",
         "type": "integer"
        },
        {
         "name": "0",
         "rawType": "int64",
         "type": "integer"
        }
       ],
       "ref": "e74308a5-fc9e-4aa7-9298-8fa556c2c844",
       "rows": [
        [
         "0",
         "0"
        ],
        [
         "1",
         "0"
        ],
        [
         "2",
         "0"
        ],
        [
         "3",
         "1"
        ],
        [
         "4",
         "0"
        ],
        [
         "5",
         "1"
        ],
        [
         "6",
         "1"
        ],
        [
         "7",
         "1"
        ],
        [
         "8",
         "3"
        ],
        [
         "9",
         "3"
        ],
        [
         "10",
         "1"
        ],
        [
         "11",
         "0"
        ],
        [
         "12",
         "0"
        ],
        [
         "13",
         "0"
        ],
        [
         "14",
         "0"
        ],
        [
         "15",
         "0"
        ],
        [
         "16",
         "0"
        ],
        [
         "17",
         "1"
        ],
        [
         "18",
         "1"
        ],
        [
         "19",
         "0"
        ],
        [
         "20",
         "1"
        ],
        [
         "21",
         "0"
        ],
        [
         "22",
         "1"
        ],
        [
         "23",
         "1"
        ],
        [
         "24",
         "1"
        ],
        [
         "25",
         "0"
        ],
        [
         "26",
         "0"
        ],
        [
         "27",
         "0"
        ],
        [
         "28",
         "2"
        ],
        [
         "29",
         "0"
        ],
        [
         "30",
         "0"
        ],
        [
         "31",
         "0"
        ],
        [
         "32",
         "1"
        ]
       ],
       "shape": {
        "columns": 1,
        "rows": 33
       }
      },
      "text/plain": [
       "0     0\n",
       "1     0\n",
       "2     0\n",
       "3     1\n",
       "4     0\n",
       "5     1\n",
       "6     1\n",
       "7     1\n",
       "8     3\n",
       "9     3\n",
       "10    1\n",
       "11    0\n",
       "12    0\n",
       "13    0\n",
       "14    0\n",
       "15    0\n",
       "16    0\n",
       "17    1\n",
       "18    1\n",
       "19    0\n",
       "20    1\n",
       "21    0\n",
       "22    1\n",
       "23    1\n",
       "24    1\n",
       "25    0\n",
       "26    0\n",
       "27    0\n",
       "28    2\n",
       "29    0\n",
       "30    0\n",
       "31    0\n",
       "32    1\n",
       "dtype: int64"
      ]
     },
     "execution_count": 47,
     "metadata": {},
     "output_type": "execute_result"
    }
   ],
   "source": [
    "df.isna().sum(axis=1)"
   ]
  },
  {
   "cell_type": "code",
   "execution_count": 48,
   "id": "43018979",
   "metadata": {},
   "outputs": [
    {
     "data": {
      "application/vnd.microsoft.datawrangler.viewer.v0+json": {
       "columns": [
        {
         "name": "index",
         "rawType": "object",
         "type": "string"
        },
        {
         "name": "0",
         "rawType": "bool",
         "type": "boolean"
        }
       ],
       "ref": "de6cc4cc-d051-4307-820b-8d4924f0e98a",
       "rows": [
        [
         "Employee",
         "True"
        ],
        [
         "Date",
         "True"
        ],
        [
         "Departement",
         "True"
        ],
        [
         "Salary",
         "False"
        ],
        [
         "Age",
         "True"
        ],
        [
         "Visits",
         "False"
        ],
        [
         "Rating",
         "False"
        ]
       ],
       "shape": {
        "columns": 1,
        "rows": 7
       }
      },
      "text/plain": [
       "Employee        True\n",
       "Date            True\n",
       "Departement     True\n",
       "Salary         False\n",
       "Age             True\n",
       "Visits         False\n",
       "Rating         False\n",
       "dtype: bool"
      ]
     },
     "execution_count": 48,
     "metadata": {},
     "output_type": "execute_result"
    }
   ],
   "source": [
    "df.isna().any()"
   ]
  },
  {
   "cell_type": "code",
   "execution_count": 52,
   "id": "6db47480",
   "metadata": {},
   "outputs": [
    {
     "data": {
      "application/vnd.microsoft.datawrangler.viewer.v0+json": {
       "columns": [
        {
         "name": "index",
         "rawType": "int64",
         "type": "integer"
        },
        {
         "name": "0",
         "rawType": "bool",
         "type": "boolean"
        }
       ],
       "ref": "7793a5c0-ebfa-4e49-9926-b56d6ee18f17",
       "rows": [
        [
         "0",
         "False"
        ],
        [
         "1",
         "False"
        ],
        [
         "2",
         "False"
        ],
        [
         "3",
         "False"
        ],
        [
         "4",
         "False"
        ],
        [
         "5",
         "False"
        ],
        [
         "6",
         "False"
        ],
        [
         "7",
         "False"
        ],
        [
         "8",
         "False"
        ],
        [
         "9",
         "False"
        ],
        [
         "10",
         "False"
        ],
        [
         "11",
         "False"
        ],
        [
         "12",
         "False"
        ],
        [
         "13",
         "False"
        ],
        [
         "14",
         "False"
        ],
        [
         "15",
         "False"
        ],
        [
         "16",
         "False"
        ],
        [
         "17",
         "False"
        ],
        [
         "18",
         "False"
        ],
        [
         "19",
         "False"
        ],
        [
         "20",
         "False"
        ],
        [
         "21",
         "False"
        ],
        [
         "22",
         "False"
        ],
        [
         "23",
         "False"
        ],
        [
         "24",
         "False"
        ],
        [
         "25",
         "False"
        ],
        [
         "26",
         "False"
        ],
        [
         "27",
         "False"
        ],
        [
         "28",
         "False"
        ],
        [
         "29",
         "False"
        ],
        [
         "30",
         "False"
        ],
        [
         "31",
         "False"
        ],
        [
         "32",
         "False"
        ]
       ],
       "shape": {
        "columns": 1,
        "rows": 33
       }
      },
      "text/plain": [
       "0     False\n",
       "1     False\n",
       "2     False\n",
       "3     False\n",
       "4     False\n",
       "5     False\n",
       "6     False\n",
       "7     False\n",
       "8     False\n",
       "9     False\n",
       "10    False\n",
       "11    False\n",
       "12    False\n",
       "13    False\n",
       "14    False\n",
       "15    False\n",
       "16    False\n",
       "17    False\n",
       "18    False\n",
       "19    False\n",
       "20    False\n",
       "21    False\n",
       "22    False\n",
       "23    False\n",
       "24    False\n",
       "25    False\n",
       "26    False\n",
       "27    False\n",
       "28    False\n",
       "29    False\n",
       "30    False\n",
       "31    False\n",
       "32    False\n",
       "dtype: bool"
      ]
     },
     "execution_count": 52,
     "metadata": {},
     "output_type": "execute_result"
    }
   ],
   "source": [
    "df.isna().all(axis=1)"
   ]
  },
  {
   "cell_type": "code",
   "execution_count": 63,
   "id": "b83cf885",
   "metadata": {},
   "outputs": [
    {
     "data": {
      "application/vnd.microsoft.datawrangler.viewer.v0+json": {
       "columns": [
        {
         "name": "index",
         "rawType": "int64",
         "type": "integer"
        },
        {
         "name": "Employee",
         "rawType": "object",
         "type": "string"
        },
        {
         "name": "Date",
         "rawType": "object",
         "type": "string"
        },
        {
         "name": "Departement",
         "rawType": "object",
         "type": "string"
        },
        {
         "name": "Salary",
         "rawType": "object",
         "type": "string"
        },
        {
         "name": "Age",
         "rawType": "float64",
         "type": "float"
        },
        {
         "name": "Visits",
         "rawType": "int64",
         "type": "integer"
        },
        {
         "name": "Rating",
         "rawType": "float64",
         "type": "float"
        }
       ],
       "ref": "3cf3a41d-e4be-4ea0-8778-0a0eaa702e0a",
       "rows": [],
       "shape": {
        "columns": 7,
        "rows": 0
       }
      },
      "text/html": [
       "<div>\n",
       "<style scoped>\n",
       "    .dataframe tbody tr th:only-of-type {\n",
       "        vertical-align: middle;\n",
       "    }\n",
       "\n",
       "    .dataframe tbody tr th {\n",
       "        vertical-align: top;\n",
       "    }\n",
       "\n",
       "    .dataframe thead th {\n",
       "        text-align: right;\n",
       "    }\n",
       "</style>\n",
       "<table border=\"1\" class=\"dataframe\">\n",
       "  <thead>\n",
       "    <tr style=\"text-align: right;\">\n",
       "      <th></th>\n",
       "      <th>Employee</th>\n",
       "      <th>Date</th>\n",
       "      <th>Departement</th>\n",
       "      <th>Salary</th>\n",
       "      <th>Age</th>\n",
       "      <th>Visits</th>\n",
       "      <th>Rating</th>\n",
       "    </tr>\n",
       "  </thead>\n",
       "  <tbody>\n",
       "  </tbody>\n",
       "</table>\n",
       "</div>"
      ],
      "text/plain": [
       "Empty DataFrame\n",
       "Columns: [Employee, Date, Departement, Salary, Age, Visits, Rating]\n",
       "Index: []"
      ]
     },
     "execution_count": 63,
     "metadata": {},
     "output_type": "execute_result"
    }
   ],
   "source": [
    "df.loc[ df.index[ df.isna().all(axis=1)]]"
   ]
  },
  {
   "cell_type": "code",
   "execution_count": 64,
   "id": "c26b353b",
   "metadata": {},
   "outputs": [],
   "source": [
    "dfcln = df.copy()"
   ]
  },
  {
   "cell_type": "code",
   "execution_count": 67,
   "id": "8fcb83d2",
   "metadata": {},
   "outputs": [
    {
     "data": {
      "application/vnd.microsoft.datawrangler.viewer.v0+json": {
       "columns": [
        {
         "name": "index",
         "rawType": "int64",
         "type": "integer"
        },
        {
         "name": "Employee",
         "rawType": "object",
         "type": "string"
        },
        {
         "name": "Date",
         "rawType": "object",
         "type": "string"
        },
        {
         "name": "Departement",
         "rawType": "object",
         "type": "string"
        },
        {
         "name": "Salary",
         "rawType": "object",
         "type": "string"
        },
        {
         "name": "Age",
         "rawType": "object",
         "type": "unknown"
        },
        {
         "name": "Visits",
         "rawType": "int64",
         "type": "integer"
        },
        {
         "name": "Rating",
         "rawType": "float64",
         "type": "float"
        }
       ],
       "ref": "f044495c-acf8-4b08-91bd-514955f81af2",
       "rows": [
        [
         "0",
         "Frank",
         "2023-01-01",
         "Finance",
         "88416.95",
         "40.0",
         "42",
         "3.69"
        ],
        [
         "1",
         "Bob",
         "2023-01-02",
         "Health",
         "100063.26",
         "40.0",
         "84",
         "4.89"
        ],
        [
         "2",
         "Frank",
         "2023-01-03",
         "Finance",
         "92193.44",
         "35.0",
         "75",
         "4.51"
        ],
        [
         "3",
         "Neville",
         "2023-01-04",
         "Finance",
         "88141.82",
         "45.0",
         "68",
         "3.04"
        ],
        [
         "4",
         "Alice",
         "2023-01-05",
         "Health",
         "79655.84",
         "35.0",
         "6",
         "1.22"
        ],
        [
         "5",
         "Neville",
         "2023-01-06",
         "Education",
         "95212.59",
         "25.0",
         "68",
         "2.8"
        ],
        [
         "6",
         "Neville",
         "2023-01-07",
         "Health",
         "80631.1",
         "25.0",
         "47",
         "1.08"
        ],
        [
         "7",
         "Neville",
         "2023-01-08",
         "Health",
         "112424.11",
         "45.0",
         "3",
         "2.77"
        ],
        [
         "8",
         "Neville",
         "2023-01-09",
         "Neville",
         "117456.39",
         "Neville",
         "76",
         "4.92"
        ],
        [
         "9",
         "Neville",
         "2023-01-10",
         "Neville",
         "76840.91",
         "Neville",
         "52",
         "2.44"
        ],
        [
         "10",
         "Neville",
         "2023-01-11",
         "Finance",
         "105420.75",
         "25.0",
         "78",
         "2.92"
        ],
        [
         "11",
         "Alice",
         "2023-01-12",
         "Finance",
         "not available",
         "45.0",
         "15",
         "3.75"
        ],
        [
         "12",
         "Eve",
         "2023-01-13",
         "Finance",
         "not available",
         "30.0",
         "20",
         "4.52"
        ],
        [
         "13",
         "Bob",
         "2023-01-14",
         "Education",
         "not available",
         "45.0",
         "99",
         "4.67"
        ],
        [
         "14",
         "Grace",
         "2023-01-15",
         "Finance",
         "not available",
         "30.0",
         "58",
         "1.87"
        ],
        [
         "15",
         "Frank",
         "2023-01-16",
         "Health",
         "not available",
         "35.0",
         "23",
         "3.26"
        ],
        [
         "16",
         "Frank",
         "2023-01-17",
         "Health",
         "51415.29",
         "35.0",
         "79",
         "4.46"
        ],
        [
         "17",
         "Neville",
         "2023-01-18",
         "Finance",
         "108283.39",
         "25.0",
         "13",
         "3.04"
        ],
        [
         "18",
         "Bob",
         "2023-01-19",
         "Neville",
         "104470.97",
         "30.0",
         "85",
         "4.67"
        ],
        [
         "19",
         "Alice",
         "2023-01-20",
         "Education",
         "110900.85",
         "30.0",
         "48",
         "4.68"
        ],
        [
         "20",
         "Alice",
         "2023-01-21",
         "Neville",
         "118503.28",
         "30.0",
         "49",
         "1.33"
        ],
        [
         "21",
         "Eve",
         "2023-01-22",
         "Finance",
         "105941.1",
         "30.0",
         "69",
         "2.11"
        ],
        [
         "22",
         "Neville",
         "2023-01-23",
         "Health",
         "82303.56",
         "40.0",
         "41",
         "1.04"
        ],
        [
         "23",
         "Neville",
         "2023-01-24",
         "Finance",
         "104637.04",
         "40.0",
         "35",
         "4.37"
        ],
        [
         "24",
         "Bob",
         "2023-01-25",
         "Neville",
         "58279.21",
         "35.0",
         "64",
         "3.59"
        ],
        [
         "25",
         "Grace",
         "2023-01-26",
         "Education",
         "94794.47",
         "40.0",
         "95",
         "4.37"
        ],
        [
         "26",
         "Frank",
         "2023-01-27",
         "Finance",
         "60034.73",
         "25.0",
         "69",
         "2.06"
        ],
        [
         "27",
         "Heidi",
         "2023-01-28",
         "Education",
         "116126.82",
         "40.0",
         "94",
         "2.59"
        ],
        [
         "28",
         "Frank",
         "2023-01-29",
         "Neville",
         "86529.38",
         "Neville",
         "0",
         "3.21"
        ],
        [
         "29",
         "Heidi",
         "2023-01-30",
         "Health",
         "79026.34",
         "45.0",
         "50",
         "1.66"
        ],
        [
         "30",
         "Frank",
         "2023-01-01",
         "Finance",
         "88416.95",
         "40.0",
         "42",
         "3.69"
        ],
        [
         "31",
         "Bob",
         "2023-01-02",
         "Health",
         "100063.26",
         "40.0",
         "84",
         "4.89"
        ],
        [
         "32",
         "Frank",
         "Neville",
         "Finance",
         "92193.44",
         "35.0",
         "75",
         "4.51"
        ]
       ],
       "shape": {
        "columns": 7,
        "rows": 33
       }
      },
      "text/html": [
       "<div>\n",
       "<style scoped>\n",
       "    .dataframe tbody tr th:only-of-type {\n",
       "        vertical-align: middle;\n",
       "    }\n",
       "\n",
       "    .dataframe tbody tr th {\n",
       "        vertical-align: top;\n",
       "    }\n",
       "\n",
       "    .dataframe thead th {\n",
       "        text-align: right;\n",
       "    }\n",
       "</style>\n",
       "<table border=\"1\" class=\"dataframe\">\n",
       "  <thead>\n",
       "    <tr style=\"text-align: right;\">\n",
       "      <th></th>\n",
       "      <th>Employee</th>\n",
       "      <th>Date</th>\n",
       "      <th>Departement</th>\n",
       "      <th>Salary</th>\n",
       "      <th>Age</th>\n",
       "      <th>Visits</th>\n",
       "      <th>Rating</th>\n",
       "    </tr>\n",
       "  </thead>\n",
       "  <tbody>\n",
       "    <tr>\n",
       "      <th>0</th>\n",
       "      <td>Frank</td>\n",
       "      <td>2023-01-01</td>\n",
       "      <td>Finance</td>\n",
       "      <td>88416.95</td>\n",
       "      <td>40.0</td>\n",
       "      <td>42</td>\n",
       "      <td>3.69</td>\n",
       "    </tr>\n",
       "    <tr>\n",
       "      <th>1</th>\n",
       "      <td>Bob</td>\n",
       "      <td>2023-01-02</td>\n",
       "      <td>Health</td>\n",
       "      <td>100063.26</td>\n",
       "      <td>40.0</td>\n",
       "      <td>84</td>\n",
       "      <td>4.89</td>\n",
       "    </tr>\n",
       "    <tr>\n",
       "      <th>2</th>\n",
       "      <td>Frank</td>\n",
       "      <td>2023-01-03</td>\n",
       "      <td>Finance</td>\n",
       "      <td>92193.44</td>\n",
       "      <td>35.0</td>\n",
       "      <td>75</td>\n",
       "      <td>4.51</td>\n",
       "    </tr>\n",
       "    <tr>\n",
       "      <th>3</th>\n",
       "      <td>Neville</td>\n",
       "      <td>2023-01-04</td>\n",
       "      <td>Finance</td>\n",
       "      <td>88141.82</td>\n",
       "      <td>45.0</td>\n",
       "      <td>68</td>\n",
       "      <td>3.04</td>\n",
       "    </tr>\n",
       "    <tr>\n",
       "      <th>4</th>\n",
       "      <td>Alice</td>\n",
       "      <td>2023-01-05</td>\n",
       "      <td>Health</td>\n",
       "      <td>79655.84</td>\n",
       "      <td>35.0</td>\n",
       "      <td>6</td>\n",
       "      <td>1.22</td>\n",
       "    </tr>\n",
       "    <tr>\n",
       "      <th>5</th>\n",
       "      <td>Neville</td>\n",
       "      <td>2023-01-06</td>\n",
       "      <td>Education</td>\n",
       "      <td>95212.59</td>\n",
       "      <td>25.0</td>\n",
       "      <td>68</td>\n",
       "      <td>2.80</td>\n",
       "    </tr>\n",
       "    <tr>\n",
       "      <th>6</th>\n",
       "      <td>Neville</td>\n",
       "      <td>2023-01-07</td>\n",
       "      <td>Health</td>\n",
       "      <td>80631.1</td>\n",
       "      <td>25.0</td>\n",
       "      <td>47</td>\n",
       "      <td>1.08</td>\n",
       "    </tr>\n",
       "    <tr>\n",
       "      <th>7</th>\n",
       "      <td>Neville</td>\n",
       "      <td>2023-01-08</td>\n",
       "      <td>Health</td>\n",
       "      <td>112424.11</td>\n",
       "      <td>45.0</td>\n",
       "      <td>3</td>\n",
       "      <td>2.77</td>\n",
       "    </tr>\n",
       "    <tr>\n",
       "      <th>8</th>\n",
       "      <td>Neville</td>\n",
       "      <td>2023-01-09</td>\n",
       "      <td>Neville</td>\n",
       "      <td>117456.39</td>\n",
       "      <td>Neville</td>\n",
       "      <td>76</td>\n",
       "      <td>4.92</td>\n",
       "    </tr>\n",
       "    <tr>\n",
       "      <th>9</th>\n",
       "      <td>Neville</td>\n",
       "      <td>2023-01-10</td>\n",
       "      <td>Neville</td>\n",
       "      <td>76840.91</td>\n",
       "      <td>Neville</td>\n",
       "      <td>52</td>\n",
       "      <td>2.44</td>\n",
       "    </tr>\n",
       "    <tr>\n",
       "      <th>10</th>\n",
       "      <td>Neville</td>\n",
       "      <td>2023-01-11</td>\n",
       "      <td>Finance</td>\n",
       "      <td>105420.75</td>\n",
       "      <td>25.0</td>\n",
       "      <td>78</td>\n",
       "      <td>2.92</td>\n",
       "    </tr>\n",
       "    <tr>\n",
       "      <th>11</th>\n",
       "      <td>Alice</td>\n",
       "      <td>2023-01-12</td>\n",
       "      <td>Finance</td>\n",
       "      <td>not available</td>\n",
       "      <td>45.0</td>\n",
       "      <td>15</td>\n",
       "      <td>3.75</td>\n",
       "    </tr>\n",
       "    <tr>\n",
       "      <th>12</th>\n",
       "      <td>Eve</td>\n",
       "      <td>2023-01-13</td>\n",
       "      <td>Finance</td>\n",
       "      <td>not available</td>\n",
       "      <td>30.0</td>\n",
       "      <td>20</td>\n",
       "      <td>4.52</td>\n",
       "    </tr>\n",
       "    <tr>\n",
       "      <th>13</th>\n",
       "      <td>Bob</td>\n",
       "      <td>2023-01-14</td>\n",
       "      <td>Education</td>\n",
       "      <td>not available</td>\n",
       "      <td>45.0</td>\n",
       "      <td>99</td>\n",
       "      <td>4.67</td>\n",
       "    </tr>\n",
       "    <tr>\n",
       "      <th>14</th>\n",
       "      <td>Grace</td>\n",
       "      <td>2023-01-15</td>\n",
       "      <td>Finance</td>\n",
       "      <td>not available</td>\n",
       "      <td>30.0</td>\n",
       "      <td>58</td>\n",
       "      <td>1.87</td>\n",
       "    </tr>\n",
       "    <tr>\n",
       "      <th>15</th>\n",
       "      <td>Frank</td>\n",
       "      <td>2023-01-16</td>\n",
       "      <td>Health</td>\n",
       "      <td>not available</td>\n",
       "      <td>35.0</td>\n",
       "      <td>23</td>\n",
       "      <td>3.26</td>\n",
       "    </tr>\n",
       "    <tr>\n",
       "      <th>16</th>\n",
       "      <td>Frank</td>\n",
       "      <td>2023-01-17</td>\n",
       "      <td>Health</td>\n",
       "      <td>51415.29</td>\n",
       "      <td>35.0</td>\n",
       "      <td>79</td>\n",
       "      <td>4.46</td>\n",
       "    </tr>\n",
       "    <tr>\n",
       "      <th>17</th>\n",
       "      <td>Neville</td>\n",
       "      <td>2023-01-18</td>\n",
       "      <td>Finance</td>\n",
       "      <td>108283.39</td>\n",
       "      <td>25.0</td>\n",
       "      <td>13</td>\n",
       "      <td>3.04</td>\n",
       "    </tr>\n",
       "    <tr>\n",
       "      <th>18</th>\n",
       "      <td>Bob</td>\n",
       "      <td>2023-01-19</td>\n",
       "      <td>Neville</td>\n",
       "      <td>104470.97</td>\n",
       "      <td>30.0</td>\n",
       "      <td>85</td>\n",
       "      <td>4.67</td>\n",
       "    </tr>\n",
       "    <tr>\n",
       "      <th>19</th>\n",
       "      <td>Alice</td>\n",
       "      <td>2023-01-20</td>\n",
       "      <td>Education</td>\n",
       "      <td>110900.85</td>\n",
       "      <td>30.0</td>\n",
       "      <td>48</td>\n",
       "      <td>4.68</td>\n",
       "    </tr>\n",
       "    <tr>\n",
       "      <th>20</th>\n",
       "      <td>Alice</td>\n",
       "      <td>2023-01-21</td>\n",
       "      <td>Neville</td>\n",
       "      <td>118503.28</td>\n",
       "      <td>30.0</td>\n",
       "      <td>49</td>\n",
       "      <td>1.33</td>\n",
       "    </tr>\n",
       "    <tr>\n",
       "      <th>21</th>\n",
       "      <td>Eve</td>\n",
       "      <td>2023-01-22</td>\n",
       "      <td>Finance</td>\n",
       "      <td>105941.1</td>\n",
       "      <td>30.0</td>\n",
       "      <td>69</td>\n",
       "      <td>2.11</td>\n",
       "    </tr>\n",
       "    <tr>\n",
       "      <th>22</th>\n",
       "      <td>Neville</td>\n",
       "      <td>2023-01-23</td>\n",
       "      <td>Health</td>\n",
       "      <td>82303.56</td>\n",
       "      <td>40.0</td>\n",
       "      <td>41</td>\n",
       "      <td>1.04</td>\n",
       "    </tr>\n",
       "    <tr>\n",
       "      <th>23</th>\n",
       "      <td>Neville</td>\n",
       "      <td>2023-01-24</td>\n",
       "      <td>Finance</td>\n",
       "      <td>104637.04</td>\n",
       "      <td>40.0</td>\n",
       "      <td>35</td>\n",
       "      <td>4.37</td>\n",
       "    </tr>\n",
       "    <tr>\n",
       "      <th>24</th>\n",
       "      <td>Bob</td>\n",
       "      <td>2023-01-25</td>\n",
       "      <td>Neville</td>\n",
       "      <td>58279.21</td>\n",
       "      <td>35.0</td>\n",
       "      <td>64</td>\n",
       "      <td>3.59</td>\n",
       "    </tr>\n",
       "    <tr>\n",
       "      <th>25</th>\n",
       "      <td>Grace</td>\n",
       "      <td>2023-01-26</td>\n",
       "      <td>Education</td>\n",
       "      <td>94794.47</td>\n",
       "      <td>40.0</td>\n",
       "      <td>95</td>\n",
       "      <td>4.37</td>\n",
       "    </tr>\n",
       "    <tr>\n",
       "      <th>26</th>\n",
       "      <td>Frank</td>\n",
       "      <td>2023-01-27</td>\n",
       "      <td>Finance</td>\n",
       "      <td>60034.73</td>\n",
       "      <td>25.0</td>\n",
       "      <td>69</td>\n",
       "      <td>2.06</td>\n",
       "    </tr>\n",
       "    <tr>\n",
       "      <th>27</th>\n",
       "      <td>Heidi</td>\n",
       "      <td>2023-01-28</td>\n",
       "      <td>Education</td>\n",
       "      <td>116126.82</td>\n",
       "      <td>40.0</td>\n",
       "      <td>94</td>\n",
       "      <td>2.59</td>\n",
       "    </tr>\n",
       "    <tr>\n",
       "      <th>28</th>\n",
       "      <td>Frank</td>\n",
       "      <td>2023-01-29</td>\n",
       "      <td>Neville</td>\n",
       "      <td>86529.38</td>\n",
       "      <td>Neville</td>\n",
       "      <td>0</td>\n",
       "      <td>3.21</td>\n",
       "    </tr>\n",
       "    <tr>\n",
       "      <th>29</th>\n",
       "      <td>Heidi</td>\n",
       "      <td>2023-01-30</td>\n",
       "      <td>Health</td>\n",
       "      <td>79026.34</td>\n",
       "      <td>45.0</td>\n",
       "      <td>50</td>\n",
       "      <td>1.66</td>\n",
       "    </tr>\n",
       "    <tr>\n",
       "      <th>30</th>\n",
       "      <td>Frank</td>\n",
       "      <td>2023-01-01</td>\n",
       "      <td>Finance</td>\n",
       "      <td>88416.95</td>\n",
       "      <td>40.0</td>\n",
       "      <td>42</td>\n",
       "      <td>3.69</td>\n",
       "    </tr>\n",
       "    <tr>\n",
       "      <th>31</th>\n",
       "      <td>Bob</td>\n",
       "      <td>2023-01-02</td>\n",
       "      <td>Health</td>\n",
       "      <td>100063.26</td>\n",
       "      <td>40.0</td>\n",
       "      <td>84</td>\n",
       "      <td>4.89</td>\n",
       "    </tr>\n",
       "    <tr>\n",
       "      <th>32</th>\n",
       "      <td>Frank</td>\n",
       "      <td>Neville</td>\n",
       "      <td>Finance</td>\n",
       "      <td>92193.44</td>\n",
       "      <td>35.0</td>\n",
       "      <td>75</td>\n",
       "      <td>4.51</td>\n",
       "    </tr>\n",
       "  </tbody>\n",
       "</table>\n",
       "</div>"
      ],
      "text/plain": [
       "   Employee        Date Departement         Salary      Age  Visits  Rating\n",
       "0     Frank  2023-01-01     Finance       88416.95     40.0      42    3.69\n",
       "1       Bob  2023-01-02      Health      100063.26     40.0      84    4.89\n",
       "2     Frank  2023-01-03     Finance       92193.44     35.0      75    4.51\n",
       "3   Neville  2023-01-04     Finance       88141.82     45.0      68    3.04\n",
       "4     Alice  2023-01-05      Health       79655.84     35.0       6    1.22\n",
       "5   Neville  2023-01-06   Education       95212.59     25.0      68    2.80\n",
       "6   Neville  2023-01-07      Health        80631.1     25.0      47    1.08\n",
       "7   Neville  2023-01-08      Health      112424.11     45.0       3    2.77\n",
       "8   Neville  2023-01-09     Neville      117456.39  Neville      76    4.92\n",
       "9   Neville  2023-01-10     Neville       76840.91  Neville      52    2.44\n",
       "10  Neville  2023-01-11     Finance      105420.75     25.0      78    2.92\n",
       "11    Alice  2023-01-12     Finance  not available     45.0      15    3.75\n",
       "12      Eve  2023-01-13     Finance  not available     30.0      20    4.52\n",
       "13      Bob  2023-01-14   Education  not available     45.0      99    4.67\n",
       "14    Grace  2023-01-15     Finance  not available     30.0      58    1.87\n",
       "15    Frank  2023-01-16      Health  not available     35.0      23    3.26\n",
       "16    Frank  2023-01-17      Health       51415.29     35.0      79    4.46\n",
       "17  Neville  2023-01-18     Finance      108283.39     25.0      13    3.04\n",
       "18      Bob  2023-01-19     Neville      104470.97     30.0      85    4.67\n",
       "19    Alice  2023-01-20   Education      110900.85     30.0      48    4.68\n",
       "20    Alice  2023-01-21     Neville      118503.28     30.0      49    1.33\n",
       "21      Eve  2023-01-22     Finance       105941.1     30.0      69    2.11\n",
       "22  Neville  2023-01-23      Health       82303.56     40.0      41    1.04\n",
       "23  Neville  2023-01-24     Finance      104637.04     40.0      35    4.37\n",
       "24      Bob  2023-01-25     Neville       58279.21     35.0      64    3.59\n",
       "25    Grace  2023-01-26   Education       94794.47     40.0      95    4.37\n",
       "26    Frank  2023-01-27     Finance       60034.73     25.0      69    2.06\n",
       "27    Heidi  2023-01-28   Education      116126.82     40.0      94    2.59\n",
       "28    Frank  2023-01-29     Neville       86529.38  Neville       0    3.21\n",
       "29    Heidi  2023-01-30      Health       79026.34     45.0      50    1.66\n",
       "30    Frank  2023-01-01     Finance       88416.95     40.0      42    3.69\n",
       "31      Bob  2023-01-02      Health      100063.26     40.0      84    4.89\n",
       "32    Frank     Neville     Finance       92193.44     35.0      75    4.51"
      ]
     },
     "execution_count": 67,
     "metadata": {},
     "output_type": "execute_result"
    }
   ],
   "source": [
    "dfcln.fillna('Neville')"
   ]
  },
  {
   "cell_type": "code",
   "execution_count": 70,
   "id": "f33c0aa1",
   "metadata": {},
   "outputs": [],
   "source": [
    "dfcln['Age'] = dfcln['Age'].fillna(dfcln['Age'].mean()) "
   ]
  },
  {
   "cell_type": "code",
   "execution_count": null,
   "id": "6d95e226",
   "metadata": {},
   "outputs": [
    {
     "data": {
      "application/vnd.microsoft.datawrangler.viewer.v0+json": {
       "columns": [
        {
         "name": "index",
         "rawType": "int64",
         "type": "integer"
        },
        {
         "name": "Salary",
         "rawType": "bool",
         "type": "boolean"
        }
       ],
       "ref": "9b18baf2-3980-4678-90d3-d960f22d3e57",
       "rows": [
        [
         "0",
         "False"
        ],
        [
         "1",
         "False"
        ],
        [
         "2",
         "False"
        ],
        [
         "3",
         "False"
        ],
        [
         "4",
         "False"
        ],
        [
         "5",
         "False"
        ],
        [
         "6",
         "False"
        ],
        [
         "7",
         "False"
        ],
        [
         "8",
         "False"
        ],
        [
         "9",
         "False"
        ],
        [
         "10",
         "False"
        ],
        [
         "11",
         "False"
        ],
        [
         "12",
         "False"
        ],
        [
         "13",
         "False"
        ],
        [
         "14",
         "False"
        ],
        [
         "15",
         "False"
        ],
        [
         "16",
         "False"
        ],
        [
         "17",
         "False"
        ],
        [
         "18",
         "False"
        ],
        [
         "19",
         "False"
        ],
        [
         "20",
         "False"
        ],
        [
         "21",
         "False"
        ],
        [
         "22",
         "False"
        ],
        [
         "23",
         "False"
        ],
        [
         "24",
         "False"
        ],
        [
         "25",
         "False"
        ],
        [
         "26",
         "False"
        ],
        [
         "27",
         "False"
        ],
        [
         "28",
         "False"
        ],
        [
         "29",
         "False"
        ],
        [
         "30",
         "False"
        ],
        [
         "31",
         "False"
        ],
        [
         "32",
         "False"
        ]
       ],
       "shape": {
        "columns": 1,
        "rows": 33
       }
      },
      "text/plain": [
       "0     False\n",
       "1     False\n",
       "2     False\n",
       "3     False\n",
       "4     False\n",
       "5     False\n",
       "6     False\n",
       "7     False\n",
       "8     False\n",
       "9     False\n",
       "10    False\n",
       "11    False\n",
       "12    False\n",
       "13    False\n",
       "14    False\n",
       "15    False\n",
       "16    False\n",
       "17    False\n",
       "18    False\n",
       "19    False\n",
       "20    False\n",
       "21    False\n",
       "22    False\n",
       "23    False\n",
       "24    False\n",
       "25    False\n",
       "26    False\n",
       "27    False\n",
       "28    False\n",
       "29    False\n",
       "30    False\n",
       "31    False\n",
       "32    False\n",
       "Name: Salary, dtype: bool"
      ]
     },
     "execution_count": 72,
     "metadata": {},
     "output_type": "execute_result"
    }
   ],
   "source": [
    "dfcln['Departement'] = dfcln['Departement'].fillna('Inconnu')"
   ]
  },
  {
   "cell_type": "code",
   "execution_count": null,
   "id": "9534148a",
   "metadata": {},
   "outputs": [],
   "source": []
  }
 ],
 "metadata": {
  "kernelspec": {
   "display_name": "Python [conda env:base] *",
   "language": "python",
   "name": "conda-base-py"
  },
  "language_info": {
   "codemirror_mode": {
    "name": "ipython",
    "version": 3
   },
   "file_extension": ".py",
   "mimetype": "text/x-python",
   "name": "python",
   "nbconvert_exporter": "python",
   "pygments_lexer": "ipython3",
   "version": "3.12.7"
  }
 },
 "nbformat": 4,
 "nbformat_minor": 5
}
