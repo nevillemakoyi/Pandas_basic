{
 "cells": [
  {
   "cell_type": "markdown",
   "id": "5ac3774a",
   "metadata": {},
   "source": [
    "<h1> Exercice 1 </h1>\n",
    "\n",
    "On vous a donné un ensemble de données nécessitant un nettoyage avant l'analyse. \n",
    "\n",
    "Le DataFrame df contient des informations sur des employés, y compris leur catégorie de travail, leur salaire, leur âge, le nombre de visites et leur évaluation.\n",
    "\n",
    "Avec le DataFrame df fourni, effectuez les tâches suivantes de nettoyage de données :\n",
    "\n",
    "1) Affichez les cinq premières et les cinq dernières lignes du DataFrame.\n",
    "2) Obtenez le nombre total de lignes, la taille totale du DataFrame et sa forme.\n",
    "3) Utilisez describe() pour obtenir un résumé statistique du DataFrame.\n",
    "4) Réordonnez les colonnes en plaçant 'Employee' comme première colonne.\n",
    "5) Renommez la colonne 'Category' en 'Department'.\n",
    "6) Affichez les informations générales du DataFrame avec .info().\n",
    "7) Vérifiez les types de données de chaque colonne avec dtypes et convertissez la colonne 'Salary' en type numérique.\n",
    "8) Gérez les valeurs manquantes : identifiez-les, comptez-les, supprimez les lignes avec des valeurs manquantes dans 'Employee', et remplacez les valeurs manquantes dans 'Age' par la médiane.\n",
    "9) Identifiez et supprimez les lignes en double, en gardant la première occurrence.\n",
    "10) Remplacez toutes les occurrences de 'not available' dans 'Salary' par NaN.\n",
    "11) Séparez la colonne 'Date' en deux colonnes distinctes 'Year' et 'Month' en utilisant .split('-').\n",
    "12) Utilisez .apply() pour créer une nouvelle colonne 'Seniority' basée sur l'âge de l'employé : \"Senior\" pour plus de 40 ans, \"Junior\" pour moins.\n",
    "13) Réinitialisez l'index.\n",
    "14) Affichez le résumé final de .info() pour le DataFrame nettoyé."
   ]
  },
  {
   "cell_type": "code",
   "execution_count": 2,
   "id": "26852012",
   "metadata": {},
   "outputs": [],
   "source": [
    "import pandas as pd\n",
    "from pathlib import Path\n"
   ]
  },
  {
   "cell_type": "code",
   "execution_count": 4,
   "id": "47601365",
   "metadata": {},
   "outputs": [],
   "source": [
    "file_path = Path(r'C:\\Users\\nmako\\Documents\\Data-Science-Projects-Repository\\Pandas_basic\\data\\raw\\3_cleaning_data\\employes.csv')\n",
    "data = pd.read_csv(file_path)\n",
    "df = data.copy()"
   ]
  },
  {
   "cell_type": "code",
   "execution_count": 7,
   "id": "e1e2c9aa",
   "metadata": {},
   "outputs": [
    {
     "name": "stdout",
     "output_type": "stream",
     "text": [
      "         Date Category Employee     Salary   Age  Visits  Rating\n",
      "0  2023-01-01  Finance    Frank   88416.95  40.0      42    3.69\n",
      "1  2023-01-02   Health      Bob  100063.26  40.0      84    4.89\n",
      "2  2023-01-03  Finance    Frank   92193.44  35.0      75    4.51\n",
      "3  2023-01-04  Finance      NaN   88141.82  45.0      68    3.04\n",
      "4  2023-01-05   Health    Alice   79655.84  35.0       6    1.22\n",
      "\n",
      "          Date Category Employee     Salary   Age  Visits  Rating\n",
      "28  2023-01-29      NaN    Frank   86529.38   NaN       0    3.21\n",
      "29  2023-01-30   Health    Heidi   79026.34  45.0      50    1.66\n",
      "30  2023-01-01  Finance    Frank   88416.95  40.0      42    3.69\n",
      "31  2023-01-02   Health      Bob  100063.26  40.0      84    4.89\n",
      "32         NaN  Finance    Frank   92193.44  35.0      75    4.51\n"
     ]
    }
   ],
   "source": [
    "#1. Afficher les premières et dernières lignes\n",
    "print(df.head())\n",
    "print()\n",
    "print(df.tail())"
   ]
  },
  {
   "cell_type": "code",
   "execution_count": 11,
   "id": "4e22102b",
   "metadata": {},
   "outputs": [
    {
     "name": "stdout",
     "output_type": "stream",
     "text": [
      "(33, 7)\n"
     ]
    }
   ],
   "source": [
    "# 2. Nombre de lignes, taille et forme\n",
    "print(df.shape)"
   ]
  },
  {
   "cell_type": "code",
   "execution_count": 18,
   "id": "d650e21f",
   "metadata": {},
   "outputs": [
    {
     "data": {
      "application/vnd.microsoft.datawrangler.viewer.v0+json": {
       "columns": [
        {
         "name": "index",
         "rawType": "object",
         "type": "string"
        },
        {
         "name": "Age",
         "rawType": "float64",
         "type": "float"
        },
        {
         "name": "Visits",
         "rawType": "float64",
         "type": "float"
        },
        {
         "name": "Rating",
         "rawType": "float64",
         "type": "float"
        }
       ],
       "ref": "3e42f4a7-8d43-42cd-9819-376f9783e3d1",
       "rows": [
        [
         "count",
         "30.0",
         "33.0",
         "33.0"
        ],
        [
         "mean",
         "35.333333333333336",
         "54.72727272727273",
         "3.2915151515151515"
        ],
        [
         "std",
         "6.814453874610599",
         "28.31880197774167",
         "1.2496827627745202"
        ],
        [
         "min",
         "25.0",
         "0.0",
         "1.04"
        ],
        [
         "25%",
         "30.0",
         "41.0",
         "2.44"
        ],
        [
         "50%",
         "35.0",
         "58.0",
         "3.26"
        ],
        [
         "75%",
         "40.0",
         "76.0",
         "4.51"
        ],
        [
         "max",
         "45.0",
         "99.0",
         "4.92"
        ]
       ],
       "shape": {
        "columns": 3,
        "rows": 8
       }
      },
      "text/html": [
       "<div>\n",
       "<style scoped>\n",
       "    .dataframe tbody tr th:only-of-type {\n",
       "        vertical-align: middle;\n",
       "    }\n",
       "\n",
       "    .dataframe tbody tr th {\n",
       "        vertical-align: top;\n",
       "    }\n",
       "\n",
       "    .dataframe thead th {\n",
       "        text-align: right;\n",
       "    }\n",
       "</style>\n",
       "<table border=\"1\" class=\"dataframe\">\n",
       "  <thead>\n",
       "    <tr style=\"text-align: right;\">\n",
       "      <th></th>\n",
       "      <th>Age</th>\n",
       "      <th>Visits</th>\n",
       "      <th>Rating</th>\n",
       "    </tr>\n",
       "  </thead>\n",
       "  <tbody>\n",
       "    <tr>\n",
       "      <th>count</th>\n",
       "      <td>30.000000</td>\n",
       "      <td>33.000000</td>\n",
       "      <td>33.000000</td>\n",
       "    </tr>\n",
       "    <tr>\n",
       "      <th>mean</th>\n",
       "      <td>35.333333</td>\n",
       "      <td>54.727273</td>\n",
       "      <td>3.291515</td>\n",
       "    </tr>\n",
       "    <tr>\n",
       "      <th>std</th>\n",
       "      <td>6.814454</td>\n",
       "      <td>28.318802</td>\n",
       "      <td>1.249683</td>\n",
       "    </tr>\n",
       "    <tr>\n",
       "      <th>min</th>\n",
       "      <td>25.000000</td>\n",
       "      <td>0.000000</td>\n",
       "      <td>1.040000</td>\n",
       "    </tr>\n",
       "    <tr>\n",
       "      <th>25%</th>\n",
       "      <td>30.000000</td>\n",
       "      <td>41.000000</td>\n",
       "      <td>2.440000</td>\n",
       "    </tr>\n",
       "    <tr>\n",
       "      <th>50%</th>\n",
       "      <td>35.000000</td>\n",
       "      <td>58.000000</td>\n",
       "      <td>3.260000</td>\n",
       "    </tr>\n",
       "    <tr>\n",
       "      <th>75%</th>\n",
       "      <td>40.000000</td>\n",
       "      <td>76.000000</td>\n",
       "      <td>4.510000</td>\n",
       "    </tr>\n",
       "    <tr>\n",
       "      <th>max</th>\n",
       "      <td>45.000000</td>\n",
       "      <td>99.000000</td>\n",
       "      <td>4.920000</td>\n",
       "    </tr>\n",
       "  </tbody>\n",
       "</table>\n",
       "</div>"
      ],
      "text/plain": [
       "             Age     Visits     Rating\n",
       "count  30.000000  33.000000  33.000000\n",
       "mean   35.333333  54.727273   3.291515\n",
       "std     6.814454  28.318802   1.249683\n",
       "min    25.000000   0.000000   1.040000\n",
       "25%    30.000000  41.000000   2.440000\n",
       "50%    35.000000  58.000000   3.260000\n",
       "75%    40.000000  76.000000   4.510000\n",
       "max    45.000000  99.000000   4.920000"
      ]
     },
     "execution_count": 18,
     "metadata": {},
     "output_type": "execute_result"
    }
   ],
   "source": [
    "# 3. Résumé statistique\n",
    "(\n",
    "    df\n",
    "    .describe()\n",
    ")"
   ]
  },
  {
   "cell_type": "code",
   "execution_count": null,
   "id": "f99422d8",
   "metadata": {},
   "outputs": [],
   "source": [
    "# 4. Réordonner les colonnes"
   ]
  },
  {
   "cell_type": "code",
   "execution_count": null,
   "id": "b31c5998",
   "metadata": {},
   "outputs": [],
   "source": [
    "# 5. Renommer la colonne"
   ]
  },
  {
   "cell_type": "code",
   "execution_count": null,
   "id": "452cbd67",
   "metadata": {},
   "outputs": [],
   "source": [
    "# 6. Informations générales"
   ]
  },
  {
   "cell_type": "code",
   "execution_count": null,
   "id": "a5612e4c",
   "metadata": {},
   "outputs": [],
   "source": [
    "#7 Vérifiez les types de données de chaque colonne avec dtypes et convertissez la colonne 'Salary' en type numérique"
   ]
  },
  {
   "cell_type": "code",
   "execution_count": null,
   "id": "9a8bdeea",
   "metadata": {},
   "outputs": [],
   "source": [
    "# 8. Gestion des valeurs manquantes"
   ]
  },
  {
   "cell_type": "code",
   "execution_count": null,
   "id": "5556999a",
   "metadata": {},
   "outputs": [],
   "source": [
    "# 9. Gestion des doublons"
   ]
  },
  {
   "cell_type": "code",
   "execution_count": null,
   "id": "dd34286c",
   "metadata": {},
   "outputs": [],
   "source": [
    "# 10. Remplacer 'not available' par NaN"
   ]
  },
  {
   "cell_type": "code",
   "execution_count": null,
   "id": "4725a1bc",
   "metadata": {},
   "outputs": [],
   "source": [
    "# 11. Séparer la date"
   ]
  },
  {
   "cell_type": "code",
   "execution_count": null,
   "id": "dbcaa738",
   "metadata": {},
   "outputs": [],
   "source": [
    "# 12. Appliquer une fonction pour créer une nouvelle colonne"
   ]
  },
  {
   "cell_type": "code",
   "execution_count": null,
   "id": "f111c46d",
   "metadata": {},
   "outputs": [],
   "source": [
    "# 13. Réinitialiser l'index"
   ]
  },
  {
   "cell_type": "code",
   "execution_count": null,
   "id": "177752b7",
   "metadata": {},
   "outputs": [],
   "source": [
    "#14 info"
   ]
  }
 ],
 "metadata": {
  "kernelspec": {
   "display_name": "Python [conda env:base] *",
   "language": "python",
   "name": "conda-base-py"
  },
  "language_info": {
   "codemirror_mode": {
    "name": "ipython",
    "version": 3
   },
   "file_extension": ".py",
   "mimetype": "text/x-python",
   "name": "python",
   "nbconvert_exporter": "python",
   "pygments_lexer": "ipython3",
   "version": "3.12.7"
  }
 },
 "nbformat": 4,
 "nbformat_minor": 5
}
