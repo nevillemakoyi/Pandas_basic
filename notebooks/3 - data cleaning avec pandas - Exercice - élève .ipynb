{
 "cells": [
  {
   "cell_type": "markdown",
   "id": "5ac3774a",
   "metadata": {},
   "source": [
    "<h1> Exercice 1 </h1>\n",
    "\n",
    "On vous a donné un ensemble de données nécessitant un nettoyage avant l'analyse. \n",
    "\n",
    "Le DataFrame df contient des informations sur des employés, y compris leur catégorie de travail, leur salaire, leur âge, le nombre de visites et leur évaluation.\n",
    "\n",
    "Avec le DataFrame df fourni, effectuez les tâches suivantes de nettoyage de données :\n",
    "\n",
    "1) Affichez les cinq premières et les cinq dernières lignes du DataFrame.\n",
    "2) Obtenez le nombre total de lignes, la taille totale du DataFrame et sa forme.\n",
    "3) Utilisez describe() pour obtenir un résumé statistique du DataFrame.\n",
    "4) Réordonnez les colonnes en plaçant 'Employee' comme première colonne.\n",
    "5) Renommez la colonne 'Category' en 'Department'.\n",
    "6) Affichez les informations générales du DataFrame avec .info().\n",
    "7) Vérifiez les types de données de chaque colonne avec dtypes et convertissez la colonne 'Salary' en type numérique.\n",
    "8) Gérez les valeurs manquantes : identifiez-les, comptez-les, supprimez les lignes avec des valeurs manquantes dans 'Employee', et remplacez les valeurs manquantes dans 'Age' par la médiane.\n",
    "9) Identifiez et supprimez les lignes en double, en gardant la première occurrence.\n",
    "10) Remplacez toutes les occurrences de 'not available' dans 'Salary' par NaN.\n",
    "11) Séparez la colonne 'Date' en deux colonnes distinctes 'Year' et 'Month' en utilisant .split('-').\n",
    "12) Utilisez .apply() pour créer une nouvelle colonne 'Seniority' basée sur l'âge de l'employé : \"Senior\" pour plus de 40 ans, \"Junior\" pour moins.\n",
    "13) Réinitialisez l'index.\n",
    "14) Affichez le résumé final de .info() pour le DataFrame nettoyé."
   ]
  },
  {
   "cell_type": "code",
   "execution_count": null,
   "id": "26852012",
   "metadata": {},
   "outputs": [],
   "source": [
    "import pandas as pd\n",
    "\n",
    "df = pd.read_csv('employes.csv')"
   ]
  },
  {
   "cell_type": "code",
   "execution_count": null,
   "id": "e1e2c9aa",
   "metadata": {},
   "outputs": [],
   "source": [
    "#1. Afficher les premières et dernières lignes"
   ]
  },
  {
   "cell_type": "code",
   "execution_count": null,
   "id": "d228ed47",
   "metadata": {},
   "outputs": [],
   "source": []
  },
  {
   "cell_type": "code",
   "execution_count": null,
   "id": "4e22102b",
   "metadata": {},
   "outputs": [],
   "source": [
    "# 2. Nombre de lignes, taille et forme"
   ]
  },
  {
   "cell_type": "code",
   "execution_count": null,
   "id": "d650e21f",
   "metadata": {},
   "outputs": [],
   "source": [
    "# 3. Résumé statistique"
   ]
  },
  {
   "cell_type": "code",
   "execution_count": null,
   "id": "f99422d8",
   "metadata": {},
   "outputs": [],
   "source": [
    "# 4. Réordonner les colonnes"
   ]
  },
  {
   "cell_type": "code",
   "execution_count": null,
   "id": "b31c5998",
   "metadata": {},
   "outputs": [],
   "source": [
    "# 5. Renommer la colonne"
   ]
  },
  {
   "cell_type": "code",
   "execution_count": null,
   "id": "452cbd67",
   "metadata": {},
   "outputs": [],
   "source": [
    "# 6. Informations générales"
   ]
  },
  {
   "cell_type": "code",
   "execution_count": null,
   "id": "a5612e4c",
   "metadata": {},
   "outputs": [],
   "source": [
    "#7 Vérifiez les types de données de chaque colonne avec dtypes et convertissez la colonne 'Salary' en type numérique"
   ]
  },
  {
   "cell_type": "code",
   "execution_count": null,
   "id": "9a8bdeea",
   "metadata": {},
   "outputs": [],
   "source": [
    "# 8. Gestion des valeurs manquantes"
   ]
  },
  {
   "cell_type": "code",
   "execution_count": null,
   "id": "5556999a",
   "metadata": {},
   "outputs": [],
   "source": [
    "# 9. Gestion des doublons"
   ]
  },
  {
   "cell_type": "code",
   "execution_count": null,
   "id": "dd34286c",
   "metadata": {},
   "outputs": [],
   "source": [
    "# 10. Remplacer 'not available' par NaN"
   ]
  },
  {
   "cell_type": "code",
   "execution_count": null,
   "id": "4725a1bc",
   "metadata": {},
   "outputs": [],
   "source": [
    "# 11. Séparer la date"
   ]
  },
  {
   "cell_type": "code",
   "execution_count": null,
   "id": "dbcaa738",
   "metadata": {},
   "outputs": [],
   "source": [
    "# 12. Appliquer une fonction pour créer une nouvelle colonne"
   ]
  },
  {
   "cell_type": "code",
   "execution_count": null,
   "id": "f111c46d",
   "metadata": {},
   "outputs": [],
   "source": [
    "# 13. Réinitialiser l'index"
   ]
  },
  {
   "cell_type": "code",
   "execution_count": null,
   "id": "177752b7",
   "metadata": {},
   "outputs": [],
   "source": [
    "#14 info"
   ]
  }
 ],
 "metadata": {
  "kernelspec": {
   "display_name": "Python 3 (ipykernel)",
   "language": "python",
   "name": "python3"
  },
  "language_info": {
   "codemirror_mode": {
    "name": "ipython",
    "version": 3
   },
   "file_extension": ".py",
   "mimetype": "text/x-python",
   "name": "python",
   "nbconvert_exporter": "python",
   "pygments_lexer": "ipython3",
   "version": "3.11.5"
  }
 },
 "nbformat": 4,
 "nbformat_minor": 5
}
