{
 "cells": [
  {
   "cell_type": "markdown",
   "id": "389a89e0",
   "metadata": {},
   "source": [
    "<h1>Exercice</h1>\n",
    "\n",
    "Vous travaillez pour une société de distribution de films. Vous avez un DataFrame movies qui contient des données sur les sorties de films les plus rentables. Vous devez filtrer, trier et transformer ces données pour préparer votre analyse.\n",
    "\n",
    "<b>Énoncé de l'Exercice</b>\n",
    "\n",
    "Avec le DataFrame movies, réalisez les opérations suivantes en utilisant pandas :\n",
    "1) Filtrez et affichez les films dont le total des recettes (Total Gross) dépasse 800 millions de dollars.\n",
    "2) Filtrez et affichez les films dont le nom contient le mot \"Star\".\n",
    "3) Filtrez et affichez les films qui appartiennent aux distributeurs 'Warner Bros.' ou 'Universal Pictures'.\n",
    "4) Utilisez une combinaison de filtres pour sélectionner les films sortis après le 01-01-2015 avec une note (% of Total) supérieure à 30%.\n",
    "5) Filtrez les films par leur note en utilisant .query() pour ceux ayant une note entre 25% et 35% inclus.\n",
    "6) Identifiez les films sortis après 2010 qui ont une recette moyenne par salle supérieure à la médiane de tous les films.\n",
    "7) Triez les films par leur Total Gross en ordre décroissant.\n",
    "8) Triez les films par leur Date de sortie en ordre ascendant, en gérant correctement les valeurs manquantes.\n",
    "9) Effectuez un tri multicritères : d'abord par Distributor (ordre alphabétique) puis par Opening en ordre décroissant.\n",
    "10) Trier les films par la longueur de leur nom (Release) en utilisant une fonction de clé personnalisée qui trie les films par le nombre de caractères, en ordre décroissant. \n",
    "11) Créez une nouvelle colonne 'Revenue per Theater' en divisant Total Gross par Theaters.\n",
    "12) créez une nouvelle colonne 'Is Blockbuster' qui marque 'Yes' pour les films avec plus de 40% de Total Gross et 'No' pour les autres.\n",
    "13) Ajoutez une colonne 'Profitability' calculée comme le rapport (division) entre le Total Gross et Opening. Cela peut servir à évaluer l'endurance du film au box-office après le week-end d'ouverture.\n",
    "14) Créez une nouvelle colonne 'Genre' en utilisant la méthode .map() avec une fonction qui assigne 'Action' aux films avec le mot 'War' ou 'Battle' dans leur titre, 'Adventure' pour les films avec 'Star' ou 'Journey', et 'Other' pour tous les autres films.\n",
    "15) Enregristrez le dataframe dans un csv 'Top_Highest_Openings_Modeled.csv'"
   ]
  },
  {
   "cell_type": "code",
   "execution_count": null,
   "id": "e984989e",
   "metadata": {},
   "outputs": [],
   "source": [
    "import pandas as pd\n",
    "\n",
    "movies = pd.read_csv('Top_Highest_Openings.csv')\n",
    "movies['Date'] = pd.to_datetime(movies['Date'], dayfirst=True)\n",
    "\n",
    "movies.head(3)"
   ]
  },
  {
   "cell_type": "code",
   "execution_count": null,
   "id": "0c2e9036",
   "metadata": {},
   "outputs": [],
   "source": [
    "#1. Filtrez par Total Gross > 800M\n",
    "movies[movies['Total Gross'] > 800000000]"
   ]
  },
  {
   "cell_type": "code",
   "execution_count": null,
   "id": "e00bbc6f",
   "metadata": {},
   "outputs": [],
   "source": [
    "#2. Filtrez par nom contenant \"Star\"\n",
    "movies[movies['Release'].str.contains('Star')]"
   ]
  },
  {
   "cell_type": "code",
   "execution_count": null,
   "id": "d96ad663",
   "metadata": {},
   "outputs": [],
   "source": [
    "# 3. Filtrez par distributeur\n",
    "movies[movies['Distributor'].isin(['Warner Bros.', 'Universal Pictures'])]"
   ]
  },
  {
   "cell_type": "code",
   "execution_count": null,
   "id": "11e73df4",
   "metadata": {},
   "outputs": [],
   "source": [
    "# 4. Combinaison de filtres pour % of Total et Date\n",
    "movies[(movies['% of Total'] > 30) & (pd.to_datetime(movies['Date']) > '2015-01-01')]"
   ]
  },
  {
   "cell_type": "code",
   "execution_count": null,
   "id": "5224031e",
   "metadata": {},
   "outputs": [],
   "source": [
    "# 5. Filtrez par note avec .query()\n",
    "movies.query('25 <= `% of Total` <= 35')"
   ]
  },
  {
   "cell_type": "code",
   "execution_count": null,
   "id": "1bff3221",
   "metadata": {},
   "outputs": [],
   "source": [
    "#6. films sortis après 2010 qui ont une recette moyenne par salle supérieure à la médiane de tous les films\n",
    "\n",
    "median_average = movies['Average'].median()\n",
    "movies[(movies['Date']> '31/12/2009') & (movies['Average'] > median_average)]"
   ]
  },
  {
   "cell_type": "code",
   "execution_count": null,
   "id": "04e7ba2d",
   "metadata": {},
   "outputs": [],
   "source": [
    "# 7. Tri par Total Gross\n",
    "movies.sort_values(by='Total Gross', ascending=False)"
   ]
  },
  {
   "cell_type": "code",
   "execution_count": null,
   "id": "69fd0553",
   "metadata": {},
   "outputs": [],
   "source": [
    "# 8. Tri par Date avec gestion des NaN\n",
    "movies.sort_values(by='Date', na_position='first')"
   ]
  },
  {
   "cell_type": "code",
   "execution_count": null,
   "id": "02a42bdd",
   "metadata": {},
   "outputs": [],
   "source": [
    "# 9. Tri multicritères par Distributor et Opening\n",
    "movies.sort_values(by=['Distributor', 'Opening'], ascending=[True, False])"
   ]
  },
  {
   "cell_type": "code",
   "execution_count": null,
   "id": "869f27df",
   "metadata": {
    "scrolled": true
   },
   "outputs": [],
   "source": [
    "#10 Trier les films par la longueur de leur nom (Release)\n",
    "movies.sort_values(by='Release', key=lambda x: x.str.len(), ascending=False)"
   ]
  },
  {
   "cell_type": "code",
   "execution_count": null,
   "id": "a5a4bbec",
   "metadata": {},
   "outputs": [],
   "source": [
    "# 11. Nouvelle colonne Revenue per Theater\n",
    "movies['Revenue per Theater'] = movies['Total Gross'] / movies['Theaters']\n",
    "movies.head(5)"
   ]
  },
  {
   "cell_type": "code",
   "execution_count": null,
   "id": "f10beebb",
   "metadata": {},
   "outputs": [],
   "source": [
    "# 12. Nouvelle colonne Is Blockbuster avec .map()\n",
    "movies['Is Blockbuster'] = movies['% of Total'].map(lambda x: 'Yes' if x > 40 else 'No')\n",
    "movies.head(5)"
   ]
  },
  {
   "cell_type": "code",
   "execution_count": null,
   "id": "25e568b7",
   "metadata": {},
   "outputs": [],
   "source": [
    "# 13. colonne 'Profitability' calculée comme le rapport entre le Total Gross et Opening\n",
    "movies['Profitability'] = movies['Total Gross'] / movies['Opening']\n",
    "movies.head(5)"
   ]
  },
  {
   "cell_type": "code",
   "execution_count": null,
   "id": "3f7ea80d",
   "metadata": {},
   "outputs": [],
   "source": [
    "#14 Créez une nouvelle colonne 'Genre' \n",
    "\n",
    "def assign_genre(title):\n",
    "    if 'War' in title or 'Battle' in title:\n",
    "        return 'Action'\n",
    "    elif 'Star' in title or 'Journey' in title:\n",
    "        return 'Adventure'\n",
    "    else:\n",
    "        return 'Other'\n",
    "\n",
    "movies['Genre'] = movies['Release'].map(assign_genre)\n",
    "movies.head(5)"
   ]
  },
  {
   "cell_type": "code",
   "execution_count": null,
   "id": "55cba737",
   "metadata": {},
   "outputs": [],
   "source": [
    "#15 enregistrement\n",
    "movies.to_csv('Top_Highest_Openings_Modeled.csv')"
   ]
  }
 ],
 "metadata": {
  "kernelspec": {
   "display_name": "Python 3 (ipykernel)",
   "language": "python",
   "name": "python3"
  },
  "language_info": {
   "codemirror_mode": {
    "name": "ipython",
    "version": 3
   },
   "file_extension": ".py",
   "mimetype": "text/x-python",
   "name": "python",
   "nbconvert_exporter": "python",
   "pygments_lexer": "ipython3",
   "version": "3.11.5"
  }
 },
 "nbformat": 4,
 "nbformat_minor": 5
}
