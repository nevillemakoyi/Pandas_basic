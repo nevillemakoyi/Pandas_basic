{
 "cells": [
  {
   "cell_type": "markdown",
   "id": "60df5bc8",
   "metadata": {},
   "source": [
    "<h1> Exercice </h1>\n",
    "\n",
    "Vous êtes data analyst et avez récupéré un DataFrame movies contenant des informations sur les sorties de films. Les données comprennent des colonnes pour : \n",
    "- le nom du film\n",
    "- les recettes d'ouverture\n",
    "- les recettes totales\n",
    "- le pourcentage des recettes totales\n",
    "- le nombre de cinémas\n",
    "- la recette moyenne par cinéma\n",
    "- la date de sortie et le distributeur\n",
    "\n",
    "Consignes : \n",
    "\n",
    "1) Affichez les cinq premières lignes du DataFrame.\n",
    "2) Affichez le nombre de lignes et de colonnes du DataFrame.\n",
    "3) Sélectionnez la colonne \"Distributor\" et affichez les cinq premières valeurs.\n",
    "4) Sélectionnez les colonnes \"Release\" et \"Total Gross\" et affichez les cinq premières lignes.\n",
    "5) Utilisez la méthode iloc pour sélectionner et afficher les données de la troisième ligne.\n",
    "6) Faites du slicing avec loc pour sélectionner les films de l'index 990 au 999 et affichez les colonnes \"Release\" et \"Opening\".\n",
    "7) Faites du slicing avec iloc pour sélectionner les trois dernières lignes du DataFrame et toutes les colonnes.\n",
    "8) Créez une copie du DataFrame movies et nommez-la movies_copy.\n"
   ]
  },
  {
   "cell_type": "code",
   "execution_count": 35,
   "id": "f9e161cb",
   "metadata": {},
   "outputs": [],
   "source": [
    "import pandas as pd\n",
    "\n",
    "movies = pd.read_csv(r'C:\\Users\\nmako\\Documents\\Data-Science-Projects-Repository\\Pandas_basic\\data\\raw\\Top_Highest_Openings.csv')\n",
    "movies\n",
    "df = movies.copy()"
   ]
  },
  {
   "cell_type": "code",
   "execution_count": 36,
   "id": "6b3cc597",
   "metadata": {},
   "outputs": [
    {
     "data": {
      "application/vnd.microsoft.datawrangler.viewer.v0+json": {
       "columns": [
        {
         "name": "index",
         "rawType": "int64",
         "type": "integer"
        },
        {
         "name": "Release",
         "rawType": "object",
         "type": "string"
        },
        {
         "name": "Opening",
         "rawType": "int64",
         "type": "integer"
        },
        {
         "name": "Total Gross",
         "rawType": "int64",
         "type": "integer"
        },
        {
         "name": "% of Total",
         "rawType": "float64",
         "type": "float"
        },
        {
         "name": "Theaters",
         "rawType": "int64",
         "type": "integer"
        },
        {
         "name": "Average",
         "rawType": "int64",
         "type": "integer"
        },
        {
         "name": "Date",
         "rawType": "object",
         "type": "string"
        },
        {
         "name": "Distributor",
         "rawType": "object",
         "type": "string"
        }
       ],
       "conversionMethod": "pd.DataFrame",
       "ref": "54fea474-298d-40f8-864f-35ff929fa16e",
       "rows": [
        [
         "0",
         "Avengers: Endgame",
         "357115007",
         "858373000",
         "41.6",
         "4662",
         "76601",
         "26-04-2019",
         "Walt Disney Studios Motion Pictures"
        ],
        [
         "1",
         "Spider-Man: No Way Home",
         "260138569",
         "804793477",
         "32.3",
         "4336",
         "59995",
         "17-12-2021",
         "Sony Pictures Releasing"
        ],
        [
         "2",
         "Avengers: Infinity War",
         "257698183",
         "678815482",
         "38.0",
         "4474",
         "57599",
         "27-04-2018",
         "Walt Disney Studios Motion Pictures"
        ],
        [
         "3",
         "Star Wars: Episode VII - The Force Awakens",
         "247966675",
         "936662225",
         "26.5",
         "4134",
         "59982",
         "18-12-2015",
         "Walt Disney Studios Motion Pictures"
        ],
        [
         "4",
         "Star Wars: Episode VIII - The Last Jedi",
         "220009584",
         "620181382",
         "35.5",
         "4232",
         "51987",
         "15-12-2017",
         "Walt Disney Studios Motion Pictures"
        ]
       ],
       "shape": {
        "columns": 8,
        "rows": 5
       }
      },
      "text/html": [
       "<div>\n",
       "<style scoped>\n",
       "    .dataframe tbody tr th:only-of-type {\n",
       "        vertical-align: middle;\n",
       "    }\n",
       "\n",
       "    .dataframe tbody tr th {\n",
       "        vertical-align: top;\n",
       "    }\n",
       "\n",
       "    .dataframe thead th {\n",
       "        text-align: right;\n",
       "    }\n",
       "</style>\n",
       "<table border=\"1\" class=\"dataframe\">\n",
       "  <thead>\n",
       "    <tr style=\"text-align: right;\">\n",
       "      <th></th>\n",
       "      <th>Release</th>\n",
       "      <th>Opening</th>\n",
       "      <th>Total Gross</th>\n",
       "      <th>% of Total</th>\n",
       "      <th>Theaters</th>\n",
       "      <th>Average</th>\n",
       "      <th>Date</th>\n",
       "      <th>Distributor</th>\n",
       "    </tr>\n",
       "  </thead>\n",
       "  <tbody>\n",
       "    <tr>\n",
       "      <th>0</th>\n",
       "      <td>Avengers: Endgame</td>\n",
       "      <td>357115007</td>\n",
       "      <td>858373000</td>\n",
       "      <td>41.6</td>\n",
       "      <td>4662</td>\n",
       "      <td>76601</td>\n",
       "      <td>26-04-2019</td>\n",
       "      <td>Walt Disney Studios Motion Pictures</td>\n",
       "    </tr>\n",
       "    <tr>\n",
       "      <th>1</th>\n",
       "      <td>Spider-Man: No Way Home</td>\n",
       "      <td>260138569</td>\n",
       "      <td>804793477</td>\n",
       "      <td>32.3</td>\n",
       "      <td>4336</td>\n",
       "      <td>59995</td>\n",
       "      <td>17-12-2021</td>\n",
       "      <td>Sony Pictures Releasing</td>\n",
       "    </tr>\n",
       "    <tr>\n",
       "      <th>2</th>\n",
       "      <td>Avengers: Infinity War</td>\n",
       "      <td>257698183</td>\n",
       "      <td>678815482</td>\n",
       "      <td>38.0</td>\n",
       "      <td>4474</td>\n",
       "      <td>57599</td>\n",
       "      <td>27-04-2018</td>\n",
       "      <td>Walt Disney Studios Motion Pictures</td>\n",
       "    </tr>\n",
       "    <tr>\n",
       "      <th>3</th>\n",
       "      <td>Star Wars: Episode VII - The Force Awakens</td>\n",
       "      <td>247966675</td>\n",
       "      <td>936662225</td>\n",
       "      <td>26.5</td>\n",
       "      <td>4134</td>\n",
       "      <td>59982</td>\n",
       "      <td>18-12-2015</td>\n",
       "      <td>Walt Disney Studios Motion Pictures</td>\n",
       "    </tr>\n",
       "    <tr>\n",
       "      <th>4</th>\n",
       "      <td>Star Wars: Episode VIII - The Last Jedi</td>\n",
       "      <td>220009584</td>\n",
       "      <td>620181382</td>\n",
       "      <td>35.5</td>\n",
       "      <td>4232</td>\n",
       "      <td>51987</td>\n",
       "      <td>15-12-2017</td>\n",
       "      <td>Walt Disney Studios Motion Pictures</td>\n",
       "    </tr>\n",
       "  </tbody>\n",
       "</table>\n",
       "</div>"
      ],
      "text/plain": [
       "                                      Release    Opening  Total Gross  \\\n",
       "0                           Avengers: Endgame  357115007    858373000   \n",
       "1                     Spider-Man: No Way Home  260138569    804793477   \n",
       "2                      Avengers: Infinity War  257698183    678815482   \n",
       "3  Star Wars: Episode VII - The Force Awakens  247966675    936662225   \n",
       "4     Star Wars: Episode VIII - The Last Jedi  220009584    620181382   \n",
       "\n",
       "   % of Total  Theaters  Average        Date  \\\n",
       "0        41.6      4662    76601  26-04-2019   \n",
       "1        32.3      4336    59995  17-12-2021   \n",
       "2        38.0      4474    57599  27-04-2018   \n",
       "3        26.5      4134    59982  18-12-2015   \n",
       "4        35.5      4232    51987  15-12-2017   \n",
       "\n",
       "                           Distributor  \n",
       "0  Walt Disney Studios Motion Pictures  \n",
       "1              Sony Pictures Releasing  \n",
       "2  Walt Disney Studios Motion Pictures  \n",
       "3  Walt Disney Studios Motion Pictures  \n",
       "4  Walt Disney Studios Motion Pictures  "
      ]
     },
     "execution_count": 36,
     "metadata": {},
     "output_type": "execute_result"
    }
   ],
   "source": [
    "df.head(5)"
   ]
  },
  {
   "cell_type": "code",
   "execution_count": 37,
   "id": "27209a85",
   "metadata": {},
   "outputs": [
    {
     "data": {
      "text/plain": [
       "(1000, 8)"
      ]
     },
     "execution_count": 37,
     "metadata": {},
     "output_type": "execute_result"
    }
   ],
   "source": [
    "df.shape"
   ]
  },
  {
   "cell_type": "code",
   "execution_count": 38,
   "id": "a9296dd6",
   "metadata": {},
   "outputs": [
    {
     "data": {
      "application/vnd.microsoft.datawrangler.viewer.v0+json": {
       "columns": [
        {
         "name": "index",
         "rawType": "int64",
         "type": "integer"
        },
        {
         "name": "Release",
         "rawType": "object",
         "type": "string"
        },
        {
         "name": "Total Gross",
         "rawType": "int64",
         "type": "integer"
        }
       ],
       "conversionMethod": "pd.DataFrame",
       "ref": "4416e36e-327c-4c24-aff1-215459edc400",
       "rows": [
        [
         "0",
         "Avengers: Endgame",
         "858373000"
        ],
        [
         "1",
         "Spider-Man: No Way Home",
         "804793477"
        ],
        [
         "2",
         "Avengers: Infinity War",
         "678815482"
        ],
        [
         "3",
         "Star Wars: Episode VII - The Force Awakens",
         "936662225"
        ],
        [
         "4",
         "Star Wars: Episode VIII - The Last Jedi",
         "620181382"
        ]
       ],
       "shape": {
        "columns": 2,
        "rows": 5
       }
      },
      "text/html": [
       "<div>\n",
       "<style scoped>\n",
       "    .dataframe tbody tr th:only-of-type {\n",
       "        vertical-align: middle;\n",
       "    }\n",
       "\n",
       "    .dataframe tbody tr th {\n",
       "        vertical-align: top;\n",
       "    }\n",
       "\n",
       "    .dataframe thead th {\n",
       "        text-align: right;\n",
       "    }\n",
       "</style>\n",
       "<table border=\"1\" class=\"dataframe\">\n",
       "  <thead>\n",
       "    <tr style=\"text-align: right;\">\n",
       "      <th></th>\n",
       "      <th>Release</th>\n",
       "      <th>Total Gross</th>\n",
       "    </tr>\n",
       "  </thead>\n",
       "  <tbody>\n",
       "    <tr>\n",
       "      <th>0</th>\n",
       "      <td>Avengers: Endgame</td>\n",
       "      <td>858373000</td>\n",
       "    </tr>\n",
       "    <tr>\n",
       "      <th>1</th>\n",
       "      <td>Spider-Man: No Way Home</td>\n",
       "      <td>804793477</td>\n",
       "    </tr>\n",
       "    <tr>\n",
       "      <th>2</th>\n",
       "      <td>Avengers: Infinity War</td>\n",
       "      <td>678815482</td>\n",
       "    </tr>\n",
       "    <tr>\n",
       "      <th>3</th>\n",
       "      <td>Star Wars: Episode VII - The Force Awakens</td>\n",
       "      <td>936662225</td>\n",
       "    </tr>\n",
       "    <tr>\n",
       "      <th>4</th>\n",
       "      <td>Star Wars: Episode VIII - The Last Jedi</td>\n",
       "      <td>620181382</td>\n",
       "    </tr>\n",
       "  </tbody>\n",
       "</table>\n",
       "</div>"
      ],
      "text/plain": [
       "                                      Release  Total Gross\n",
       "0                           Avengers: Endgame    858373000\n",
       "1                     Spider-Man: No Way Home    804793477\n",
       "2                      Avengers: Infinity War    678815482\n",
       "3  Star Wars: Episode VII - The Force Awakens    936662225\n",
       "4     Star Wars: Episode VIII - The Last Jedi    620181382"
      ]
     },
     "execution_count": 38,
     "metadata": {},
     "output_type": "execute_result"
    }
   ],
   "source": [
    "df[['Release','Total Gross']].head(5)\n"
   ]
  },
  {
   "cell_type": "code",
   "execution_count": 46,
   "id": "77345162",
   "metadata": {},
   "outputs": [
    {
     "data": {
      "application/vnd.microsoft.datawrangler.viewer.v0+json": {
       "columns": [
        {
         "name": "index",
         "rawType": "int64",
         "type": "integer"
        },
        {
         "name": "Release",
         "rawType": "object",
         "type": "string"
        },
        {
         "name": "Opening",
         "rawType": "int64",
         "type": "integer"
        },
        {
         "name": "Total Gross",
         "rawType": "int64",
         "type": "integer"
        },
        {
         "name": "% of Total",
         "rawType": "float64",
         "type": "float"
        },
        {
         "name": "Theaters",
         "rawType": "int64",
         "type": "integer"
        },
        {
         "name": "Average",
         "rawType": "int64",
         "type": "integer"
        },
        {
         "name": "Date",
         "rawType": "object",
         "type": "string"
        },
        {
         "name": "Distributor",
         "rawType": "object",
         "type": "string"
        }
       ],
       "conversionMethod": "pd.DataFrame",
       "ref": "9bb6793a-c093-43ba-b763-06e94f0f14a9",
       "rows": [
        [
         "2",
         "Avengers: Infinity War",
         "257698183",
         "678815482",
         "38.0",
         "4474",
         "57599",
         "27-04-2018",
         "Walt Disney Studios Motion Pictures"
        ]
       ],
       "shape": {
        "columns": 8,
        "rows": 1
       }
      },
      "text/html": [
       "<div>\n",
       "<style scoped>\n",
       "    .dataframe tbody tr th:only-of-type {\n",
       "        vertical-align: middle;\n",
       "    }\n",
       "\n",
       "    .dataframe tbody tr th {\n",
       "        vertical-align: top;\n",
       "    }\n",
       "\n",
       "    .dataframe thead th {\n",
       "        text-align: right;\n",
       "    }\n",
       "</style>\n",
       "<table border=\"1\" class=\"dataframe\">\n",
       "  <thead>\n",
       "    <tr style=\"text-align: right;\">\n",
       "      <th></th>\n",
       "      <th>Release</th>\n",
       "      <th>Opening</th>\n",
       "      <th>Total Gross</th>\n",
       "      <th>% of Total</th>\n",
       "      <th>Theaters</th>\n",
       "      <th>Average</th>\n",
       "      <th>Date</th>\n",
       "      <th>Distributor</th>\n",
       "    </tr>\n",
       "  </thead>\n",
       "  <tbody>\n",
       "    <tr>\n",
       "      <th>2</th>\n",
       "      <td>Avengers: Infinity War</td>\n",
       "      <td>257698183</td>\n",
       "      <td>678815482</td>\n",
       "      <td>38.0</td>\n",
       "      <td>4474</td>\n",
       "      <td>57599</td>\n",
       "      <td>27-04-2018</td>\n",
       "      <td>Walt Disney Studios Motion Pictures</td>\n",
       "    </tr>\n",
       "  </tbody>\n",
       "</table>\n",
       "</div>"
      ],
      "text/plain": [
       "                  Release    Opening  Total Gross  % of Total  Theaters  \\\n",
       "2  Avengers: Infinity War  257698183    678815482        38.0      4474   \n",
       "\n",
       "   Average        Date                          Distributor  \n",
       "2    57599  27-04-2018  Walt Disney Studios Motion Pictures  "
      ]
     },
     "execution_count": 46,
     "metadata": {},
     "output_type": "execute_result"
    }
   ],
   "source": [
    "#Utilisez la méthode iloc pour sélectionner et afficher les données de la troisième ligne.\n",
    "df.iloc[[2]] # 3rd row"
   ]
  },
  {
   "cell_type": "code",
   "execution_count": 41,
   "id": "6ab81134",
   "metadata": {},
   "outputs": [
    {
     "data": {
      "application/vnd.microsoft.datawrangler.viewer.v0+json": {
       "columns": [
        {
         "name": "index",
         "rawType": "int64",
         "type": "integer"
        },
        {
         "name": "Release",
         "rawType": "object",
         "type": "string"
        },
        {
         "name": "Opening",
         "rawType": "int64",
         "type": "integer"
        }
       ],
       "conversionMethod": "pd.DataFrame",
       "ref": "0518bad4-a98e-473e-a3b9-2e9ded8daec9",
       "rows": [
        [
         "990",
         "The 40-Year-Old Virgin",
         "21422815"
        ],
        [
         "991",
         "The Stepford Wives",
         "21406781"
        ],
        [
         "992",
         "Good Boys",
         "21402605"
        ],
        [
         "993",
         "Safe Haven",
         "21401594"
        ],
        [
         "994",
         "The Forbidden Kingdom",
         "21401121"
        ],
        [
         "995",
         "The Hitman's Bodyguard",
         "21384504"
        ],
        [
         "996",
         "Angel Has Fallen",
         "21380987"
        ],
        [
         "997",
         "Ice Age: Collision Course",
         "21373064"
        ],
        [
         "998",
         "Why Did I Get Married?",
         "21353789"
        ],
        [
         "999",
         "Turbo",
         "21312625"
        ]
       ],
       "shape": {
        "columns": 2,
        "rows": 10
       }
      },
      "text/html": [
       "<div>\n",
       "<style scoped>\n",
       "    .dataframe tbody tr th:only-of-type {\n",
       "        vertical-align: middle;\n",
       "    }\n",
       "\n",
       "    .dataframe tbody tr th {\n",
       "        vertical-align: top;\n",
       "    }\n",
       "\n",
       "    .dataframe thead th {\n",
       "        text-align: right;\n",
       "    }\n",
       "</style>\n",
       "<table border=\"1\" class=\"dataframe\">\n",
       "  <thead>\n",
       "    <tr style=\"text-align: right;\">\n",
       "      <th></th>\n",
       "      <th>Release</th>\n",
       "      <th>Opening</th>\n",
       "    </tr>\n",
       "  </thead>\n",
       "  <tbody>\n",
       "    <tr>\n",
       "      <th>990</th>\n",
       "      <td>The 40-Year-Old Virgin</td>\n",
       "      <td>21422815</td>\n",
       "    </tr>\n",
       "    <tr>\n",
       "      <th>991</th>\n",
       "      <td>The Stepford Wives</td>\n",
       "      <td>21406781</td>\n",
       "    </tr>\n",
       "    <tr>\n",
       "      <th>992</th>\n",
       "      <td>Good Boys</td>\n",
       "      <td>21402605</td>\n",
       "    </tr>\n",
       "    <tr>\n",
       "      <th>993</th>\n",
       "      <td>Safe Haven</td>\n",
       "      <td>21401594</td>\n",
       "    </tr>\n",
       "    <tr>\n",
       "      <th>994</th>\n",
       "      <td>The Forbidden Kingdom</td>\n",
       "      <td>21401121</td>\n",
       "    </tr>\n",
       "    <tr>\n",
       "      <th>995</th>\n",
       "      <td>The Hitman's Bodyguard</td>\n",
       "      <td>21384504</td>\n",
       "    </tr>\n",
       "    <tr>\n",
       "      <th>996</th>\n",
       "      <td>Angel Has Fallen</td>\n",
       "      <td>21380987</td>\n",
       "    </tr>\n",
       "    <tr>\n",
       "      <th>997</th>\n",
       "      <td>Ice Age: Collision Course</td>\n",
       "      <td>21373064</td>\n",
       "    </tr>\n",
       "    <tr>\n",
       "      <th>998</th>\n",
       "      <td>Why Did I Get Married?</td>\n",
       "      <td>21353789</td>\n",
       "    </tr>\n",
       "    <tr>\n",
       "      <th>999</th>\n",
       "      <td>Turbo</td>\n",
       "      <td>21312625</td>\n",
       "    </tr>\n",
       "  </tbody>\n",
       "</table>\n",
       "</div>"
      ],
      "text/plain": [
       "                       Release   Opening\n",
       "990     The 40-Year-Old Virgin  21422815\n",
       "991         The Stepford Wives  21406781\n",
       "992                  Good Boys  21402605\n",
       "993                 Safe Haven  21401594\n",
       "994      The Forbidden Kingdom  21401121\n",
       "995     The Hitman's Bodyguard  21384504\n",
       "996           Angel Has Fallen  21380987\n",
       "997  Ice Age: Collision Course  21373064\n",
       "998     Why Did I Get Married?  21353789\n",
       "999                      Turbo  21312625"
      ]
     },
     "execution_count": 41,
     "metadata": {},
     "output_type": "execute_result"
    }
   ],
   "source": [
    "df.loc[990:999,['Release','Opening']] # 990 to 999 rows"
   ]
  },
  {
   "cell_type": "code",
   "execution_count": 45,
   "id": "b3683a40",
   "metadata": {},
   "outputs": [
    {
     "data": {
      "application/vnd.microsoft.datawrangler.viewer.v0+json": {
       "columns": [
        {
         "name": "index",
         "rawType": "int64",
         "type": "integer"
        },
        {
         "name": "Release",
         "rawType": "object",
         "type": "string"
        },
        {
         "name": "Opening",
         "rawType": "int64",
         "type": "integer"
        },
        {
         "name": "Total Gross",
         "rawType": "int64",
         "type": "integer"
        },
        {
         "name": "% of Total",
         "rawType": "float64",
         "type": "float"
        },
        {
         "name": "Theaters",
         "rawType": "int64",
         "type": "integer"
        },
        {
         "name": "Average",
         "rawType": "int64",
         "type": "integer"
        },
        {
         "name": "Date",
         "rawType": "object",
         "type": "string"
        },
        {
         "name": "Distributor",
         "rawType": "object",
         "type": "string"
        }
       ],
       "conversionMethod": "pd.DataFrame",
       "ref": "31ddae2c-fe36-4f7c-92bf-0d0e7938d05b",
       "rows": [
        [
         "997",
         "Ice Age: Collision Course",
         "21373064",
         "64063008",
         "33.4",
         "3992",
         "5353",
         "22-07-2016",
         "Twentieth Century Fox"
        ],
        [
         "998",
         "Why Did I Get Married?",
         "21353789",
         "55204525",
         "38.7",
         "2011",
         "10618",
         "12-10-2007",
         "Lionsgate Films"
        ],
        [
         "999",
         "Turbo",
         "21312625",
         "83028128",
         "25.7",
         "3806",
         "5599",
         "17-07-2013",
         "Twentieth Century Fox"
        ]
       ],
       "shape": {
        "columns": 8,
        "rows": 3
       }
      },
      "text/html": [
       "<div>\n",
       "<style scoped>\n",
       "    .dataframe tbody tr th:only-of-type {\n",
       "        vertical-align: middle;\n",
       "    }\n",
       "\n",
       "    .dataframe tbody tr th {\n",
       "        vertical-align: top;\n",
       "    }\n",
       "\n",
       "    .dataframe thead th {\n",
       "        text-align: right;\n",
       "    }\n",
       "</style>\n",
       "<table border=\"1\" class=\"dataframe\">\n",
       "  <thead>\n",
       "    <tr style=\"text-align: right;\">\n",
       "      <th></th>\n",
       "      <th>Release</th>\n",
       "      <th>Opening</th>\n",
       "      <th>Total Gross</th>\n",
       "      <th>% of Total</th>\n",
       "      <th>Theaters</th>\n",
       "      <th>Average</th>\n",
       "      <th>Date</th>\n",
       "      <th>Distributor</th>\n",
       "    </tr>\n",
       "  </thead>\n",
       "  <tbody>\n",
       "    <tr>\n",
       "      <th>997</th>\n",
       "      <td>Ice Age: Collision Course</td>\n",
       "      <td>21373064</td>\n",
       "      <td>64063008</td>\n",
       "      <td>33.4</td>\n",
       "      <td>3992</td>\n",
       "      <td>5353</td>\n",
       "      <td>22-07-2016</td>\n",
       "      <td>Twentieth Century Fox</td>\n",
       "    </tr>\n",
       "    <tr>\n",
       "      <th>998</th>\n",
       "      <td>Why Did I Get Married?</td>\n",
       "      <td>21353789</td>\n",
       "      <td>55204525</td>\n",
       "      <td>38.7</td>\n",
       "      <td>2011</td>\n",
       "      <td>10618</td>\n",
       "      <td>12-10-2007</td>\n",
       "      <td>Lionsgate Films</td>\n",
       "    </tr>\n",
       "    <tr>\n",
       "      <th>999</th>\n",
       "      <td>Turbo</td>\n",
       "      <td>21312625</td>\n",
       "      <td>83028128</td>\n",
       "      <td>25.7</td>\n",
       "      <td>3806</td>\n",
       "      <td>5599</td>\n",
       "      <td>17-07-2013</td>\n",
       "      <td>Twentieth Century Fox</td>\n",
       "    </tr>\n",
       "  </tbody>\n",
       "</table>\n",
       "</div>"
      ],
      "text/plain": [
       "                       Release   Opening  Total Gross  % of Total  Theaters  \\\n",
       "997  Ice Age: Collision Course  21373064     64063008        33.4      3992   \n",
       "998     Why Did I Get Married?  21353789     55204525        38.7      2011   \n",
       "999                      Turbo  21312625     83028128        25.7      3806   \n",
       "\n",
       "     Average        Date            Distributor  \n",
       "997     5353  22-07-2016  Twentieth Century Fox  \n",
       "998    10618  12-10-2007        Lionsgate Films  \n",
       "999     5599  17-07-2013  Twentieth Century Fox  "
      ]
     },
     "execution_count": 45,
     "metadata": {},
     "output_type": "execute_result"
    }
   ],
   "source": [
    "df.iloc[-3:,:] # last 3 rows"
   ]
  },
  {
   "cell_type": "code",
   "execution_count": null,
   "id": "f146f9af",
   "metadata": {},
   "outputs": [],
   "source": []
  },
  {
   "cell_type": "code",
   "execution_count": null,
   "id": "a47aabd8",
   "metadata": {},
   "outputs": [],
   "source": []
  }
 ],
 "metadata": {
  "kernelspec": {
   "display_name": "Python [conda env:base] *",
   "language": "python",
   "name": "conda-base-py"
  },
  "language_info": {
   "codemirror_mode": {
    "name": "ipython",
    "version": 3
   },
   "file_extension": ".py",
   "mimetype": "text/x-python",
   "name": "python",
   "nbconvert_exporter": "python",
   "pygments_lexer": "ipython3",
   "version": "3.12.7"
  }
 },
 "nbformat": 4,
 "nbformat_minor": 5
}
