{
 "cells": [
  {
   "cell_type": "markdown",
   "id": "389a89e0",
   "metadata": {},
   "source": [
    "<h1>Exercice</h1>\n",
    "\n",
    "Vous travaillez pour une société de distribution de films. Vous avez un DataFrame movies qui contient des données sur les sorties de films les plus rentables. Vous devez filtrer, trier et transformer ces données pour préparer votre analyse.\n",
    "\n",
    "<b>Énoncé de l'Exercice</b>\n",
    "\n",
    "Avec le DataFrame movies, réalisez les opérations suivantes en utilisant pandas :\n",
    "1) Filtrez et affichez les films dont le total des recettes (Total Gross) dépasse 800 millions de dollars.\n",
    "2) Filtrez et affichez les films dont le nom contient le mot \"Star\".\n",
    "3) Filtrez et affichez les films qui appartiennent aux distributeurs 'Warner Bros.' ou 'Universal Pictures'.\n",
    "4) Utilisez une combinaison de filtres pour sélectionner les films sortis après le 01-01-2015 (> '2015-01-01') avec une note (% of Total) supérieure à 30%.\n",
    "5) Filtrez les films par leur note en utilisant .query() pour ceux ayant une note entre 25% et 35% inclus.\n",
    "6) Identifiez les films sortis après 2010 qui ont une recette moyenne par salle supérieure à la médiane de tous les films.\n",
    "7) Triez les films par leur Total Gross en ordre décroissant.\n",
    "8) Triez les films par leur Date de sortie en ordre ascendant, en gérant correctement les valeurs manquantes.\n",
    "9) Effectuez un tri multicritères : d'abord par Distributor (ordre alphabétique) puis par Opening en ordre décroissant.\n",
    "10) Trier les films par la longueur de leur nom (Release) en utilisant une fonction de clé personnalisée qui trie les films par le nombre de caractères, en ordre décroissant. \n",
    "11) Créez une nouvelle colonne 'Revenue per Theater' en divisant Total Gross par Theaters.\n",
    "12) créez une nouvelle colonne 'Is Blockbuster' qui marque 'Yes' pour les films avec plus de 40% de Total Gross et 'No' pour les autres.\n",
    "13) Ajoutez une colonne 'Profitability' calculée comme le rapport (division) entre le Total Gross et Opening. Cela peut servir à évaluer l'endurance du film au box-office après le week-end d'ouverture.\n",
    "14) Créez une nouvelle colonne 'Genre' en utilisant la méthode .map() avec une fonction qui assigne 'Action' aux films avec le mot 'War' ou 'Battle' dans leur titre, 'Adventure' pour les films avec 'Star' ou 'Journey', et 'Other' pour tous les autres films.\n",
    "15) Enregristrez le dataframe dans un csv 'Top_Highest_Openings_Modeled.csv'"
   ]
  },
  {
   "cell_type": "code",
   "execution_count": 2,
   "id": "e984989e",
   "metadata": {},
   "outputs": [
    {
     "data": {
      "text/html": [
       "<div>\n",
       "<style scoped>\n",
       "    .dataframe tbody tr th:only-of-type {\n",
       "        vertical-align: middle;\n",
       "    }\n",
       "\n",
       "    .dataframe tbody tr th {\n",
       "        vertical-align: top;\n",
       "    }\n",
       "\n",
       "    .dataframe thead th {\n",
       "        text-align: right;\n",
       "    }\n",
       "</style>\n",
       "<table border=\"1\" class=\"dataframe\">\n",
       "  <thead>\n",
       "    <tr style=\"text-align: right;\">\n",
       "      <th></th>\n",
       "      <th>Release</th>\n",
       "      <th>Opening</th>\n",
       "      <th>Total Gross</th>\n",
       "      <th>% of Total</th>\n",
       "      <th>Theaters</th>\n",
       "      <th>Average</th>\n",
       "      <th>Date</th>\n",
       "      <th>Distributor</th>\n",
       "    </tr>\n",
       "  </thead>\n",
       "  <tbody>\n",
       "    <tr>\n",
       "      <th>0</th>\n",
       "      <td>Avengers: Endgame</td>\n",
       "      <td>357115007</td>\n",
       "      <td>858373000</td>\n",
       "      <td>41.6</td>\n",
       "      <td>4662</td>\n",
       "      <td>76601</td>\n",
       "      <td>2019-04-26</td>\n",
       "      <td>Walt Disney Studios Motion Pictures</td>\n",
       "    </tr>\n",
       "    <tr>\n",
       "      <th>1</th>\n",
       "      <td>Spider-Man: No Way Home</td>\n",
       "      <td>260138569</td>\n",
       "      <td>804793477</td>\n",
       "      <td>32.3</td>\n",
       "      <td>4336</td>\n",
       "      <td>59995</td>\n",
       "      <td>2021-12-17</td>\n",
       "      <td>Sony Pictures Releasing</td>\n",
       "    </tr>\n",
       "    <tr>\n",
       "      <th>2</th>\n",
       "      <td>Avengers: Infinity War</td>\n",
       "      <td>257698183</td>\n",
       "      <td>678815482</td>\n",
       "      <td>38.0</td>\n",
       "      <td>4474</td>\n",
       "      <td>57599</td>\n",
       "      <td>2018-04-27</td>\n",
       "      <td>Walt Disney Studios Motion Pictures</td>\n",
       "    </tr>\n",
       "  </tbody>\n",
       "</table>\n",
       "</div>"
      ],
      "text/plain": [
       "                   Release    Opening  Total Gross  % of Total  Theaters  \\\n",
       "0        Avengers: Endgame  357115007    858373000        41.6      4662   \n",
       "1  Spider-Man: No Way Home  260138569    804793477        32.3      4336   \n",
       "2   Avengers: Infinity War  257698183    678815482        38.0      4474   \n",
       "\n",
       "   Average       Date                          Distributor  \n",
       "0    76601 2019-04-26  Walt Disney Studios Motion Pictures  \n",
       "1    59995 2021-12-17              Sony Pictures Releasing  \n",
       "2    57599 2018-04-27  Walt Disney Studios Motion Pictures  "
      ]
     },
     "execution_count": 2,
     "metadata": {},
     "output_type": "execute_result"
    }
   ],
   "source": [
    "import pandas as pd\n",
    "\n",
    "movies = pd.read_csv('Top_Highest_Openings.csv')\n",
    "movies['Date'] = pd.to_datetime(movies['Date'], dayfirst=True)\n",
    "\n",
    "movies.head(3)"
   ]
  },
  {
   "cell_type": "code",
   "execution_count": null,
   "id": "0c2e9036",
   "metadata": {},
   "outputs": [],
   "source": [
    "# 1. Filtrez par Total Gross > 800M"
   ]
  },
  {
   "cell_type": "code",
   "execution_count": null,
   "id": "e00bbc6f",
   "metadata": {},
   "outputs": [],
   "source": [
    "# 2. Filtrez par nom contenant \"Star\""
   ]
  },
  {
   "cell_type": "code",
   "execution_count": null,
   "id": "d96ad663",
   "metadata": {},
   "outputs": [],
   "source": [
    "# 3. Filtrez par distributeur"
   ]
  },
  {
   "cell_type": "code",
   "execution_count": null,
   "id": "11e73df4",
   "metadata": {},
   "outputs": [],
   "source": [
    "# 4. Combinaison de filtres pour % of Total et Date"
   ]
  },
  {
   "cell_type": "code",
   "execution_count": null,
   "id": "5224031e",
   "metadata": {},
   "outputs": [],
   "source": [
    "# 5. Filtrez par note avec .query()"
   ]
  },
  {
   "cell_type": "code",
   "execution_count": null,
   "id": "1bff3221",
   "metadata": {},
   "outputs": [],
   "source": [
    "# 6. films sortis après 2010 qui ont une recette moyenne par salle supérieure à la médiane de tous les films"
   ]
  },
  {
   "cell_type": "code",
   "execution_count": null,
   "id": "04e7ba2d",
   "metadata": {},
   "outputs": [],
   "source": [
    "# 7. Tri par Total Gross"
   ]
  },
  {
   "cell_type": "code",
   "execution_count": null,
   "id": "69fd0553",
   "metadata": {},
   "outputs": [],
   "source": [
    "# 8. Tri par Date avec gestion des NaN"
   ]
  },
  {
   "cell_type": "code",
   "execution_count": null,
   "id": "02a42bdd",
   "metadata": {},
   "outputs": [],
   "source": [
    "# 9. Tri multicritères par Distributor et Opening"
   ]
  },
  {
   "cell_type": "code",
   "execution_count": null,
   "id": "869f27df",
   "metadata": {
    "scrolled": true
   },
   "outputs": [],
   "source": [
    "# 10. Trier les films par la longueur de leur nom (Release) "
   ]
  },
  {
   "cell_type": "code",
   "execution_count": null,
   "id": "a5a4bbec",
   "metadata": {},
   "outputs": [],
   "source": [
    "# 11. Nouvelle colonne Revenue per Theater"
   ]
  },
  {
   "cell_type": "code",
   "execution_count": null,
   "id": "f10beebb",
   "metadata": {},
   "outputs": [],
   "source": [
    "# 12. Nouvelle colonne Is Blockbuster avec .map()"
   ]
  },
  {
   "cell_type": "code",
   "execution_count": null,
   "id": "25e568b7",
   "metadata": {},
   "outputs": [],
   "source": [
    "# 13. colonne 'Profitability' calculée comme le rapport entre le Total Gross et Opening"
   ]
  },
  {
   "cell_type": "code",
   "execution_count": null,
   "id": "3f7ea80d",
   "metadata": {},
   "outputs": [],
   "source": [
    "# 14. Créez une nouvelle colonne 'Genre' "
   ]
  },
  {
   "cell_type": "code",
   "execution_count": null,
   "id": "55cba737",
   "metadata": {},
   "outputs": [],
   "source": [
    "# 15. enregistrement"
   ]
  }
 ],
 "metadata": {
  "kernelspec": {
   "display_name": "Python 3 (ipykernel)",
   "language": "python",
   "name": "python3"
  },
  "language_info": {
   "codemirror_mode": {
    "name": "ipython",
    "version": 3
   },
   "file_extension": ".py",
   "mimetype": "text/x-python",
   "name": "python",
   "nbconvert_exporter": "python",
   "pygments_lexer": "ipython3",
   "version": "3.11.5"
  }
 },
 "nbformat": 4,
 "nbformat_minor": 5
}
